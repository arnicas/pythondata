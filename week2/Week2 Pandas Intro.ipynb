{
 "cells": [
  {
   "cell_type": "markdown",
   "metadata": {},
   "source": [
    "# Week1: CSV Data Review, Tuples, Pandas Intro"
   ]
  },
  {
   "cell_type": "markdown",
   "metadata": {},
   "source": [
    "Let's start to work with pandas, to make analysis of this data easier.  Our convention is to import as \"pd\":"
   ]
  },
  {
   "cell_type": "code",
   "execution_count": 75,
   "metadata": {
    "collapsed": false
   },
   "outputs": [],
   "source": [
    "import pandas as pd"
   ]
  },
  {
   "cell_type": "code",
   "execution_count": 76,
   "metadata": {
    "collapsed": false
   },
   "outputs": [],
   "source": [
    "# Pandas has built-in tools to read files, including csv and excel.\n",
    "mydf = pd.read_csv(\"data/goog.csv\")"
   ]
  },
  {
   "cell_type": "code",
   "execution_count": 81,
   "metadata": {
    "collapsed": false
   },
   "outputs": [
    {
     "data": {
      "text/html": [
       "<div>\n",
       "<table border=\"1\" class=\"dataframe\">\n",
       "  <thead>\n",
       "    <tr style=\"text-align: right;\">\n",
       "      <th></th>\n",
       "      <th>Date</th>\n",
       "      <th>Open</th>\n",
       "      <th>High</th>\n",
       "      <th>Low</th>\n",
       "      <th>Close</th>\n",
       "      <th>Volume</th>\n",
       "    </tr>\n",
       "  </thead>\n",
       "  <tbody>\n",
       "    <tr>\n",
       "      <th>0</th>\n",
       "      <td>2010-01-04</td>\n",
       "      <td>313.16</td>\n",
       "      <td>314.44</td>\n",
       "      <td>311.81</td>\n",
       "      <td>313.06</td>\n",
       "      <td>NaN</td>\n",
       "    </tr>\n",
       "    <tr>\n",
       "      <th>1</th>\n",
       "      <td>2010-01-05</td>\n",
       "      <td>313.28</td>\n",
       "      <td>313.61</td>\n",
       "      <td>310.46</td>\n",
       "      <td>311.68</td>\n",
       "      <td>NaN</td>\n",
       "    </tr>\n",
       "    <tr>\n",
       "      <th>2</th>\n",
       "      <td>2010-01-06</td>\n",
       "      <td>312.62</td>\n",
       "      <td>312.62</td>\n",
       "      <td>302.88</td>\n",
       "      <td>303.83</td>\n",
       "      <td>NaN</td>\n",
       "    </tr>\n",
       "    <tr>\n",
       "      <th>3</th>\n",
       "      <td>2010-01-07</td>\n",
       "      <td>304.40</td>\n",
       "      <td>304.70</td>\n",
       "      <td>296.03</td>\n",
       "      <td>296.75</td>\n",
       "      <td>NaN</td>\n",
       "    </tr>\n",
       "    <tr>\n",
       "      <th>4</th>\n",
       "      <td>2010-01-08</td>\n",
       "      <td>295.70</td>\n",
       "      <td>301.32</td>\n",
       "      <td>294.26</td>\n",
       "      <td>300.71</td>\n",
       "      <td>NaN</td>\n",
       "    </tr>\n",
       "  </tbody>\n",
       "</table>\n",
       "</div>"
      ],
      "text/plain": [
       "         Date    Open    High     Low   Close  Volume\n",
       "0  2010-01-04  313.16  314.44  311.81  313.06     NaN\n",
       "1  2010-01-05  313.28  313.61  310.46  311.68     NaN\n",
       "2  2010-01-06  312.62  312.62  302.88  303.83     NaN\n",
       "3  2010-01-07  304.40  304.70  296.03  296.75     NaN\n",
       "4  2010-01-08  295.70  301.32  294.26  300.71     NaN"
      ]
     },
     "execution_count": 81,
     "metadata": {},
     "output_type": "execute_result"
    }
   ],
   "source": [
    "mydf.head()  # this command shows us the result of the operation, with the top 5 rows of the table"
   ]
  },
  {
   "cell_type": "code",
   "execution_count": 82,
   "metadata": {
    "collapsed": false
   },
   "outputs": [
    {
     "data": {
      "text/plain": [
       "pandas.core.frame.DataFrame"
      ]
     },
     "execution_count": 82,
     "metadata": {},
     "output_type": "execute_result"
    }
   ],
   "source": [
    "type(mydf)"
   ]
  },
  {
   "cell_type": "markdown",
   "metadata": {},
   "source": [
    "The primary data type in pandas is a DataFrame.  It has a lot of things defined on it, including plotting commands:"
   ]
  },
  {
   "cell_type": "code",
   "execution_count": 83,
   "metadata": {
    "collapsed": false,
    "scrolled": true
   },
   "outputs": [
    {
     "data": {
      "text/plain": [
       "<matplotlib.axes._subplots.AxesSubplot at 0x10c25db38>"
      ]
     },
     "execution_count": 83,
     "metadata": {},
     "output_type": "execute_result"
    },
    {
     "data": {
      "image/png": "[encoded data removed]",
      "text/plain": [
       "<matplotlib.figure.Figure at 0x10c20fb70>"
      ]
     },
     "metadata": {},
     "output_type": "display_data"
    }
   ],
   "source": [
    "# To make a plot from pandas, we use the dataframe object we created, then tell the plot function\n",
    "# what to use as the X column and what to use as the Y column.\n",
    "mydf.plot(\"Date\", \"High\")"
   ]
  },
  {
   "cell_type": "code",
   "execution_count": 84,
   "metadata": {
    "collapsed": false
   },
   "outputs": [
    {
     "data": {
      "text/plain": [
       "0       2010-01-04\n",
       "1       2010-01-05\n",
       "2       2010-01-06\n",
       "3       2010-01-07\n",
       "4       2010-01-08\n",
       "5       2010-01-11\n",
       "6       2010-01-12\n",
       "7       2010-01-13\n",
       "8       2010-01-14\n",
       "9       2010-01-15\n",
       "10      2010-01-19\n",
       "11      2010-01-20\n",
       "12      2010-01-21\n",
       "13      2010-01-22\n",
       "14      2010-01-25\n",
       "15      2010-01-26\n",
       "16      2010-01-27\n",
       "17      2010-01-28\n",
       "18      2010-01-29\n",
       "19      2010-02-01\n",
       "20      2010-02-02\n",
       "21      2010-02-03\n",
       "22      2010-02-04\n",
       "23      2010-02-05\n",
       "24      2010-02-08\n",
       "25      2010-02-09\n",
       "26      2010-02-10\n",
       "27      2010-02-11\n",
       "28      2010-02-12\n",
       "29      2010-02-16\n",
       "           ...    \n",
       "1227    2014-11-18\n",
       "1228    2014-11-19\n",
       "1229    2014-11-20\n",
       "1230    2014-11-21\n",
       "1231    2014-11-24\n",
       "1232    2014-11-25\n",
       "1233    2014-11-26\n",
       "1234    2014-11-28\n",
       "1235    2014-12-01\n",
       "1236    2014-12-02\n",
       "1237    2014-12-03\n",
       "1238    2014-12-04\n",
       "1239    2014-12-05\n",
       "1240    2014-12-08\n",
       "1241    2014-12-09\n",
       "1242    2014-12-10\n",
       "1243    2014-12-11\n",
       "1244    2014-12-12\n",
       "1245    2014-12-15\n",
       "1246    2014-12-16\n",
       "1247    2014-12-17\n",
       "1248    2014-12-18\n",
       "1249    2014-12-19\n",
       "1250    2014-12-22\n",
       "1251    2014-12-23\n",
       "1252    2014-12-24\n",
       "1253    2014-12-26\n",
       "1254    2014-12-29\n",
       "1255    2014-12-30\n",
       "1256    2014-12-31\n",
       "Name: Date, dtype: object"
      ]
     },
     "execution_count": 84,
     "metadata": {},
     "output_type": "execute_result"
    }
   ],
   "source": [
    "mydf[\"Date\"]"
   ]
  },
  {
   "cell_type": "code",
   "execution_count": 85,
   "metadata": {
    "collapsed": false
   },
   "outputs": [
    {
     "data": {
      "text/plain": [
       "<matplotlib.axes._subplots.AxesSubplot at 0x10c4d3518>"
      ]
     },
     "execution_count": 85,
     "metadata": {},
     "output_type": "execute_result"
    },
    {
     "data": {
      "image/png": "[encoded data removed]",
      "text/plain": [
       "<matplotlib.figure.Figure at 0x10c6ae5c0>"
      ]
     },
     "metadata": {},
     "output_type": "display_data"
    }
   ],
   "source": [
    "# If we plot volume, we can see how little data is there with volume, all at the end:\n",
    "mydf.plot(\"Date\", \"Volume\")"
   ]
  },
  {
   "cell_type": "code",
   "execution_count": 87,
   "metadata": {
    "collapsed": false
   },
   "outputs": [
    {
     "data": {
      "text/plain": [
       "<matplotlib.axes._subplots.AxesSubplot at 0x10c5aa278>"
      ]
     },
     "execution_count": 87,
     "metadata": {},
     "output_type": "execute_result"
    },
    {
     "data": {
      "image/png": "[encoded data removed]",
      "text/plain": [
       "<matplotlib.figure.Figure at 0x10c5b2470>"
      ]
     },
     "metadata": {},
     "output_type": "display_data"
    }
   ],
   "source": [
    "# If we plot volume, we can see how little data is there with volume, all at the end:\n",
    "mydf.plot(\"Date\", \"Open\")"
   ]
  },
  {
   "cell_type": "code",
   "execution_count": 88,
   "metadata": {
    "collapsed": false
   },
   "outputs": [
    {
     "data": {
      "text/html": [
       "<div>\n",
       "<table border=\"1\" class=\"dataframe\">\n",
       "  <thead>\n",
       "    <tr style=\"text-align: right;\">\n",
       "      <th></th>\n",
       "      <th>Open</th>\n",
       "      <th>High</th>\n",
       "      <th>Low</th>\n",
       "      <th>Close</th>\n",
       "      <th>Volume</th>\n",
       "    </tr>\n",
       "  </thead>\n",
       "  <tbody>\n",
       "    <tr>\n",
       "      <th>count</th>\n",
       "      <td>1257.000000</td>\n",
       "      <td>1257.000000</td>\n",
       "      <td>1257.000000</td>\n",
       "      <td>1257.000000</td>\n",
       "      <td>1.940000e+02</td>\n",
       "    </tr>\n",
       "    <tr>\n",
       "      <th>mean</th>\n",
       "      <td>375.275593</td>\n",
       "      <td>378.450247</td>\n",
       "      <td>372.132474</td>\n",
       "      <td>375.327064</td>\n",
       "      <td>1.937264e+06</td>\n",
       "    </tr>\n",
       "    <tr>\n",
       "      <th>std</th>\n",
       "      <td>115.684354</td>\n",
       "      <td>116.288827</td>\n",
       "      <td>114.935742</td>\n",
       "      <td>115.664301</td>\n",
       "      <td>9.842775e+05</td>\n",
       "    </tr>\n",
       "    <tr>\n",
       "      <th>min</th>\n",
       "      <td>218.940000</td>\n",
       "      <td>220.920000</td>\n",
       "      <td>216.600000</td>\n",
       "      <td>217.820000</td>\n",
       "      <td>7.040350e+05</td>\n",
       "    </tr>\n",
       "    <tr>\n",
       "      <th>25%</th>\n",
       "      <td>285.790000</td>\n",
       "      <td>288.760000</td>\n",
       "      <td>283.060000</td>\n",
       "      <td>285.450000</td>\n",
       "      <td>1.338451e+06</td>\n",
       "    </tr>\n",
       "    <tr>\n",
       "      <th>50%</th>\n",
       "      <td>318.330000</td>\n",
       "      <td>320.800000</td>\n",
       "      <td>315.180000</td>\n",
       "      <td>317.260000</td>\n",
       "      <td>1.684634e+06</td>\n",
       "    </tr>\n",
       "    <tr>\n",
       "      <th>75%</th>\n",
       "      <td>452.540000</td>\n",
       "      <td>456.020000</td>\n",
       "      <td>449.740000</td>\n",
       "      <td>452.830000</td>\n",
       "      <td>2.164369e+06</td>\n",
       "    </tr>\n",
       "    <tr>\n",
       "      <th>max</th>\n",
       "      <td>612.790000</td>\n",
       "      <td>613.830000</td>\n",
       "      <td>608.690000</td>\n",
       "      <td>609.470000</td>\n",
       "      <td>6.795393e+06</td>\n",
       "    </tr>\n",
       "  </tbody>\n",
       "</table>\n",
       "</div>"
      ],
      "text/plain": [
       "              Open         High          Low        Close        Volume\n",
       "count  1257.000000  1257.000000  1257.000000  1257.000000  1.940000e+02\n",
       "mean    375.275593   378.450247   372.132474   375.327064  1.937264e+06\n",
       "std     115.684354   116.288827   114.935742   115.664301  9.842775e+05\n",
       "min     218.940000   220.920000   216.600000   217.820000  7.040350e+05\n",
       "25%     285.790000   288.760000   283.060000   285.450000  1.338451e+06\n",
       "50%     318.330000   320.800000   315.180000   317.260000  1.684634e+06\n",
       "75%     452.540000   456.020000   449.740000   452.830000  2.164369e+06\n",
       "max     612.790000   613.830000   608.690000   609.470000  6.795393e+06"
      ]
     },
     "execution_count": 88,
     "metadata": {},
     "output_type": "execute_result"
    }
   ],
   "source": [
    "# there are some more useful functions for the new dataframe, which will help us \n",
    "# clean and check that data is valid.  .describe() does simple descriptive stats for the quantitative data.\n",
    "mydf.describe()"
   ]
  },
  {
   "cell_type": "markdown",
   "metadata": {},
   "source": [
    "Now we can see the min and max, and check if we were right!"
   ]
  },
  {
   "cell_type": "code",
   "execution_count": 89,
   "metadata": {
    "collapsed": false
   },
   "outputs": [
    {
     "data": {
      "text/plain": [
       "613.83"
      ]
     },
     "execution_count": 89,
     "metadata": {},
     "output_type": "execute_result"
    }
   ],
   "source": [
    "get_highest(mydata, 2)"
   ]
  },
  {
   "cell_type": "markdown",
   "metadata": {},
   "source": [
    "We can also save out a csv file from pandas in a simple way.  What if we only wanted some of the columns? We can pick which ones to write out.\n"
   ]
  },
  {
   "cell_type": "code",
   "execution_count": 90,
   "metadata": {
    "collapsed": false
   },
   "outputs": [],
   "source": [
    "mydf.to_csv(\"data/saved_goog.csv\")"
   ]
  },
  {
   "cell_type": "code",
   "execution_count": 91,
   "metadata": {
    "collapsed": false
   },
   "outputs": [
    {
     "name": "stdout",
     "output_type": "stream",
     "text": [
      "\u001b[31mgoog.csv\u001b[m\u001b[m*       more_data.csv   saved_goog.csv\r\n"
     ]
    }
   ],
   "source": [
    "ls data"
   ]
  },
  {
   "cell_type": "code",
   "execution_count": 92,
   "metadata": {
    "collapsed": true
   },
   "outputs": [],
   "source": [
    "mydf.to_csv(\"data/saved_goog_highs.csv\", columns=[\"Date\", \"High\"])"
   ]
  },
  {
   "cell_type": "code",
   "execution_count": 93,
   "metadata": {
    "collapsed": false
   },
   "outputs": [
    {
     "name": "stdout",
     "output_type": "stream",
     "text": [
      "\u001b[31mgoog.csv\u001b[m\u001b[m*             saved_goog.csv\r\n",
      "more_data.csv         saved_goog_highs.csv\r\n"
     ]
    }
   ],
   "source": [
    "ls data"
   ]
  },
  {
   "cell_type": "markdown",
   "metadata": {},
   "source": [
    "As is, this results in a file with the contents that start...:\n",
    "\n",
    "````\n",
    ",Date,High\n",
    "0,2010-01-04,314.44\n",
    "1,2010-01-05,313.61\n",
    "2,2010-01-06,312.62\n",
    "3,2010-01-07,304.7\n",
    "4,2010-01-08,301.32\n",
    "5,2010-01-11,301.93\n",
    "6,2010-01-12,298.78\n",
    "7,2010-01-13,293.9\n",
    "8,2010-01-14,296.8\n",
    "9,2010-01-15,296.48\n",
    "````\n",
    "\n",
    "\n",
    "If you don't want the extra index row with the rownumber and no header, you can prevent that from being saved by saying \"index=None\").\n"
   ]
  },
  {
   "cell_type": "code",
   "execution_count": 94,
   "metadata": {
    "collapsed": true
   },
   "outputs": [],
   "source": [
    "mydf.to_csv(\"data/saved_goog_highs.csv\", columns=[\"Date\", \"High\"], index=None)"
   ]
  },
  {
   "cell_type": "markdown",
   "metadata": {},
   "source": [
    "### Homework 5\n",
    "\n",
    "Use pandas to read in the csv file \"more_data.csv\" and show descriptive statistics with .describe().  Then plot the High Values by date as we did above.  Save out the file with just the High values and date, and no index column.\n",
    "\n",
    "Your answer to q5:----------------------"
   ]
  },
  {
   "cell_type": "code",
   "execution_count": null,
   "metadata": {
    "collapsed": true
   },
   "outputs": [],
   "source": []
  },
  {
   "cell_type": "markdown",
   "metadata": {},
   "source": [
    "Moving on....------------------\n",
    "\n",
    "### Your reading for the week is the introductions to Pandas here:\n",
    "    \n",
    "* [Long Link Here](http://nbviewer.jupyter.org/urls/bitbucket.org/hrojas/learn-pandas/raw/master/lessons/01%20-%20Lesson.ipynb)\n",
    "* [Another long link](http://nbviewer.jupyter.org/github/jvns/pandas-cookbook/blob/v0.1/cookbook/Chapter%201%20-%20Reading%20from%20a%20CSV.ipynb)\n",
    "* And feel free to watch anything you want here: http://www.dataschool.io/easier-data-analysis-with-pandas/\n",
    "        \n",
    "Please rename this notebook to YOURNAME_week1.ipynb and save it using the save button on the toolbar, not the file menu.  Upload that file (by navigating to it in your file browser) to the Dropbox."
   ]
  },
  {
   "cell_type": "code",
   "execution_count": null,
   "metadata": {
    "collapsed": true
   },
   "outputs": [],
   "source": []
  }
 ],
 "metadata": {
  "anaconda-cloud": {},
  "kernelspec": {
   "display_name": "Python [conda root]",
   "language": "python",
   "name": "conda-root-py"
  },
  "language_info": {
   "codemirror_mode": {
    "name": "ipython",
    "version": 3
   },
   "file_extension": ".py",
   "mimetype": "text/x-python",
   "name": "python",
   "nbconvert_exporter": "python",
   "pygments_lexer": "ipython3",
   "version": "3.5.2"
  }
 },
 "nbformat": 4,
 "nbformat_minor": 1
}
