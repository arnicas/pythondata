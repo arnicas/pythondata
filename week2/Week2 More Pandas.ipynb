{
 "cells": [
  {
   "cell_type": "code",
   "execution_count": 1,
   "metadata": {
    "collapsed": false
   },
   "outputs": [
    {
     "name": "stdout",
     "output_type": "stream",
     "text": [
      "311-service-requests.csv  test.csv                  train.csv\r\n"
     ]
    }
   ],
   "source": [
    "ls data"
   ]
  },
  {
   "cell_type": "code",
   "execution_count": 2,
   "metadata": {
    "collapsed": true
   },
   "outputs": [],
   "source": [
    "import pandas as pd\n",
    "import matplotlib.pyplot as plt\n",
    "import seaborn as sns"
   ]
  },
  {
   "cell_type": "code",
   "execution_count": 3,
   "metadata": {
    "collapsed": true
   },
   "outputs": [],
   "source": [
    "%matplotlib inline"
   ]
  },
  {
   "cell_type": "code",
   "execution_count": 4,
   "metadata": {
    "collapsed": false
   },
   "outputs": [
    {
     "name": "stderr",
     "output_type": "stream",
     "text": [
      "/Users/cherny/miniconda3/lib/python3.5/site-packages/IPython/core/interactiveshell.py:2717: DtypeWarning: Columns (8) have mixed types. Specify dtype option on import or set low_memory=False.\n",
      "  interactivity=interactivity, compiler=compiler, result=result)\n"
     ]
    }
   ],
   "source": [
    "calls = pd.read_csv('data/311-service-requests.csv')"
   ]
  },
  {
   "cell_type": "code",
   "execution_count": 7,
   "metadata": {
    "collapsed": false
   },
   "outputs": [
    {
     "name": "stdout",
     "output_type": "stream",
     "text": [
      "<class 'pandas.core.frame.DataFrame'>\n",
      "RangeIndex: 111069 entries, 0 to 111068\n",
      "Data columns (total 52 columns):\n",
      "Unique Key                        111069 non-null int64\n",
      "Created Date                      111069 non-null object\n",
      "Closed Date                       60270 non-null object\n",
      "Agency                            111069 non-null object\n",
      "Agency Name                       111069 non-null object\n",
      "Complaint Type                    111069 non-null object\n",
      "Descriptor                        110613 non-null object\n",
      "Location Type                     79022 non-null object\n",
      "Incident Zip                      98807 non-null object\n",
      "Incident Address                  84441 non-null object\n",
      "Street Name                       84432 non-null object\n",
      "Cross Street 1                    84728 non-null object\n",
      "Cross Street 2                    84005 non-null object\n",
      "Intersection Street 1             19364 non-null object\n",
      "Intersection Street 2             19366 non-null object\n",
      "Address Type                      102247 non-null object\n",
      "City                              98854 non-null object\n",
      "Landmark                          95 non-null object\n",
      "Facility Type                     19104 non-null object\n",
      "Status                            111069 non-null object\n",
      "Due Date                          39239 non-null object\n",
      "Resolution Action Updated Date    96507 non-null object\n",
      "Community Board                   111069 non-null object\n",
      "Borough                           111069 non-null object\n",
      "X Coordinate (State Plane)        98143 non-null float64\n",
      "Y Coordinate (State Plane)        98143 non-null float64\n",
      "Park Facility Name                111069 non-null object\n",
      "Park Borough                      111069 non-null object\n",
      "School Name                       111069 non-null object\n",
      "School Number                     111048 non-null object\n",
      "School Region                     110524 non-null object\n",
      "School Code                       110524 non-null object\n",
      "School Phone Number               111069 non-null object\n",
      "School Address                    111069 non-null object\n",
      "School City                       111069 non-null object\n",
      "School State                      111069 non-null object\n",
      "School Zip                        111069 non-null object\n",
      "School Not Found                  38984 non-null object\n",
      "School or Citywide Complaint      0 non-null float64\n",
      "Vehicle Type                      99 non-null object\n",
      "Taxi Company Borough              117 non-null object\n",
      "Taxi Pick Up Location             1059 non-null object\n",
      "Bridge Highway Name               185 non-null object\n",
      "Bridge Highway Direction          185 non-null object\n",
      "Road Ramp                         180 non-null object\n",
      "Bridge Highway Segment            219 non-null object\n",
      "Garage Lot Name                   49 non-null object\n",
      "Ferry Direction                   24 non-null object\n",
      "Ferry Terminal Name               70 non-null object\n",
      "Latitude                          98143 non-null float64\n",
      "Longitude                         98143 non-null float64\n",
      "Location                          98143 non-null object\n",
      "dtypes: float64(5), int64(1), object(46)\n",
      "memory usage: 44.1+ MB\n"
     ]
    }
   ],
   "source": [
    "calls.info()"
   ]
  },
  {
   "cell_type": "code",
   "execution_count": null,
   "metadata": {
    "collapsed": true
   },
   "outputs": [],
   "source": []
  }
 ],
 "metadata": {
  "kernelspec": {
   "display_name": "Python [conda root]",
   "language": "python",
   "name": "conda-root-py"
  },
  "language_info": {
   "codemirror_mode": {
    "name": "ipython",
    "version": 3
   },
   "file_extension": ".py",
   "mimetype": "text/x-python",
   "name": "python",
   "nbconvert_exporter": "python",
   "pygments_lexer": "ipython3",
   "version": "3.5.2"
  }
 },
 "nbformat": 4,
 "nbformat_minor": 1
}
