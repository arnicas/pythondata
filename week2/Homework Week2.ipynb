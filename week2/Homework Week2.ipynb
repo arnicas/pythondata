{
 "cells": [
  {
   "cell_type": "markdown",
   "metadata": {},
   "source": [
    "# HW Week2\n"
   ]
  },
  {
   "cell_type": "code",
   "execution_count": 6,
   "metadata": {
    "collapsed": true
   },
   "outputs": [],
   "source": [
    "# The usual preamble - be sure to execute this cell\n",
    "%matplotlib inline\n",
    "import pandas as pd\n",
    "import numpy as np\n",
    "import matplotlib.pyplot as plt\n",
    "import seaborn as sns"
   ]
  },
  {
   "cell_type": "code",
   "execution_count": 10,
   "metadata": {
    "collapsed": false
   },
   "outputs": [
    {
     "data": {
      "text/plain": [
       "'0.19.2+0.g825876c.dirty'"
      ]
     },
     "execution_count": 10,
     "metadata": {},
     "output_type": "execute_result"
    }
   ],
   "source": [
    "pd.__version__"
   ]
  },
  {
   "cell_type": "markdown",
   "metadata": {},
   "source": [
    "## Part 1: Filtering and Counting Things"
   ]
  },
  {
   "cell_type": "code",
   "execution_count": 7,
   "metadata": {
    "collapsed": false
   },
   "outputs": [],
   "source": [
    "df = pd.read_csv('data/chicago_crimes.csv', parse_dates=['Date-Time'], dayfirst=False,)"
   ]
  },
  {
   "cell_type": "code",
   "execution_count": 8,
   "metadata": {
    "collapsed": false
   },
   "outputs": [
    {
     "data": {
      "text/html": [
       "<div>\n",
       "<table border=\"1\" class=\"dataframe\">\n",
       "  <thead>\n",
       "    <tr style=\"text-align: right;\">\n",
       "      <th></th>\n",
       "      <th>identification</th>\n",
       "      <th>Beat</th>\n",
       "      <th>District</th>\n",
       "      <th>Ward</th>\n",
       "      <th>Community Area</th>\n",
       "      <th>X Coordinate</th>\n",
       "      <th>Y Coordinate</th>\n",
       "      <th>Year</th>\n",
       "      <th>Latitude</th>\n",
       "      <th>Longitude</th>\n",
       "    </tr>\n",
       "  </thead>\n",
       "  <tbody>\n",
       "    <tr>\n",
       "      <th>count</th>\n",
       "      <td>2.000000e+03</td>\n",
       "      <td>2000.000000</td>\n",
       "      <td>1780.000000</td>\n",
       "      <td>2000.000000</td>\n",
       "      <td>2000.000000</td>\n",
       "      <td>1.780000e+03</td>\n",
       "      <td>1.780000e+03</td>\n",
       "      <td>2000.0</td>\n",
       "      <td>1780.000000</td>\n",
       "      <td>1780.000000</td>\n",
       "    </tr>\n",
       "    <tr>\n",
       "      <th>mean</th>\n",
       "      <td>6.267862e+06</td>\n",
       "      <td>1231.581500</td>\n",
       "      <td>11.565730</td>\n",
       "      <td>23.295500</td>\n",
       "      <td>37.269500</td>\n",
       "      <td>1.164729e+06</td>\n",
       "      <td>1.886418e+06</td>\n",
       "      <td>2008.0</td>\n",
       "      <td>41.843926</td>\n",
       "      <td>-87.671010</td>\n",
       "    </tr>\n",
       "    <tr>\n",
       "      <th>std</th>\n",
       "      <td>6.699590e+05</td>\n",
       "      <td>713.767292</td>\n",
       "      <td>7.007958</td>\n",
       "      <td>13.768259</td>\n",
       "      <td>21.817398</td>\n",
       "      <td>1.616071e+04</td>\n",
       "      <td>3.174306e+04</td>\n",
       "      <td>0.0</td>\n",
       "      <td>0.087297</td>\n",
       "      <td>0.058810</td>\n",
       "    </tr>\n",
       "    <tr>\n",
       "      <th>min</th>\n",
       "      <td>4.379000e+03</td>\n",
       "      <td>111.000000</td>\n",
       "      <td>1.000000</td>\n",
       "      <td>1.000000</td>\n",
       "      <td>1.000000</td>\n",
       "      <td>1.100635e+06</td>\n",
       "      <td>1.814278e+06</td>\n",
       "      <td>2008.0</td>\n",
       "      <td>41.645636</td>\n",
       "      <td>-87.905312</td>\n",
       "    </tr>\n",
       "    <tr>\n",
       "      <th>25%</th>\n",
       "      <td>5.994172e+06</td>\n",
       "      <td>631.000000</td>\n",
       "      <td>6.000000</td>\n",
       "      <td>11.000000</td>\n",
       "      <td>22.000000</td>\n",
       "      <td>1.153470e+06</td>\n",
       "      <td>1.859010e+06</td>\n",
       "      <td>2008.0</td>\n",
       "      <td>41.768470</td>\n",
       "      <td>-87.711982</td>\n",
       "    </tr>\n",
       "    <tr>\n",
       "      <th>50%</th>\n",
       "      <td>6.000126e+06</td>\n",
       "      <td>1115.000000</td>\n",
       "      <td>10.000000</td>\n",
       "      <td>24.000000</td>\n",
       "      <td>32.000000</td>\n",
       "      <td>1.165820e+06</td>\n",
       "      <td>1.891388e+06</td>\n",
       "      <td>2008.0</td>\n",
       "      <td>41.857613</td>\n",
       "      <td>-87.666840</td>\n",
       "    </tr>\n",
       "    <tr>\n",
       "      <th>75%</th>\n",
       "      <td>6.142792e+06</td>\n",
       "      <td>1821.250000</td>\n",
       "      <td>17.000000</td>\n",
       "      <td>34.000000</td>\n",
       "      <td>57.000000</td>\n",
       "      <td>1.176344e+06</td>\n",
       "      <td>1.910260e+06</td>\n",
       "      <td>2008.0</td>\n",
       "      <td>41.909694</td>\n",
       "      <td>-87.628180</td>\n",
       "    </tr>\n",
       "    <tr>\n",
       "      <th>max</th>\n",
       "      <td>9.249024e+06</td>\n",
       "      <td>2535.000000</td>\n",
       "      <td>31.000000</td>\n",
       "      <td>50.000000</td>\n",
       "      <td>77.000000</td>\n",
       "      <td>1.204829e+06</td>\n",
       "      <td>1.951407e+06</td>\n",
       "      <td>2008.0</td>\n",
       "      <td>42.022291</td>\n",
       "      <td>-87.525651</td>\n",
       "    </tr>\n",
       "  </tbody>\n",
       "</table>\n",
       "</div>"
      ],
      "text/plain": [
       "       identification         Beat     District         Ward  Community Area  \\\n",
       "count    2.000000e+03  2000.000000  1780.000000  2000.000000     2000.000000   \n",
       "mean     6.267862e+06  1231.581500    11.565730    23.295500       37.269500   \n",
       "std      6.699590e+05   713.767292     7.007958    13.768259       21.817398   \n",
       "min      4.379000e+03   111.000000     1.000000     1.000000        1.000000   \n",
       "25%      5.994172e+06   631.000000     6.000000    11.000000       22.000000   \n",
       "50%      6.000126e+06  1115.000000    10.000000    24.000000       32.000000   \n",
       "75%      6.142792e+06  1821.250000    17.000000    34.000000       57.000000   \n",
       "max      9.249024e+06  2535.000000    31.000000    50.000000       77.000000   \n",
       "\n",
       "       X Coordinate  Y Coordinate    Year     Latitude    Longitude  \n",
       "count  1.780000e+03  1.780000e+03  2000.0  1780.000000  1780.000000  \n",
       "mean   1.164729e+06  1.886418e+06  2008.0    41.843926   -87.671010  \n",
       "std    1.616071e+04  3.174306e+04     0.0     0.087297     0.058810  \n",
       "min    1.100635e+06  1.814278e+06  2008.0    41.645636   -87.905312  \n",
       "25%    1.153470e+06  1.859010e+06  2008.0    41.768470   -87.711982  \n",
       "50%    1.165820e+06  1.891388e+06  2008.0    41.857613   -87.666840  \n",
       "75%    1.176344e+06  1.910260e+06  2008.0    41.909694   -87.628180  \n",
       "max    1.204829e+06  1.951407e+06  2008.0    42.022291   -87.525651  "
      ]
     },
     "execution_count": 8,
     "metadata": {},
     "output_type": "execute_result"
    }
   ],
   "source": [
    "df.describe()"
   ]
  },
  {
   "cell_type": "markdown",
   "metadata": {},
   "source": [
    "The problem above is that some of those columns have numbers, but not measures you can do math on. The Beat, District, Ward, Community Area, and id are codes, so you can't take their mean, avg, max etc...  We should change them to string types, of \"object\" in pandas type notation."
   ]
  },
  {
   "cell_type": "code",
   "execution_count": 9,
   "metadata": {
    "collapsed": false
   },
   "outputs": [],
   "source": [
    "df = df.astype({\"Ward\":\"object\",\"Beat\":\"object\", \"District\":\"object\", \"identification\":\"object\", \"Community Area\": \"object\"}, copy=True)"
   ]
  },
  {
   "cell_type": "code",
   "execution_count": 5,
   "metadata": {
    "collapsed": false
   },
   "outputs": [
    {
     "data": {
      "text/html": [
       "<div>\n",
       "<table border=\"1\" class=\"dataframe\">\n",
       "  <thead>\n",
       "    <tr style=\"text-align: right;\">\n",
       "      <th></th>\n",
       "      <th>X Coordinate</th>\n",
       "      <th>Y Coordinate</th>\n",
       "      <th>Year</th>\n",
       "      <th>Latitude</th>\n",
       "      <th>Longitude</th>\n",
       "    </tr>\n",
       "  </thead>\n",
       "  <tbody>\n",
       "    <tr>\n",
       "      <th>count</th>\n",
       "      <td>1.780000e+03</td>\n",
       "      <td>1.780000e+03</td>\n",
       "      <td>2000.0</td>\n",
       "      <td>1780.000000</td>\n",
       "      <td>1780.000000</td>\n",
       "    </tr>\n",
       "    <tr>\n",
       "      <th>mean</th>\n",
       "      <td>1.164729e+06</td>\n",
       "      <td>1.886418e+06</td>\n",
       "      <td>2008.0</td>\n",
       "      <td>41.843926</td>\n",
       "      <td>-87.671010</td>\n",
       "    </tr>\n",
       "    <tr>\n",
       "      <th>std</th>\n",
       "      <td>1.616071e+04</td>\n",
       "      <td>3.174306e+04</td>\n",
       "      <td>0.0</td>\n",
       "      <td>0.087297</td>\n",
       "      <td>0.058810</td>\n",
       "    </tr>\n",
       "    <tr>\n",
       "      <th>min</th>\n",
       "      <td>1.100635e+06</td>\n",
       "      <td>1.814278e+06</td>\n",
       "      <td>2008.0</td>\n",
       "      <td>41.645636</td>\n",
       "      <td>-87.905312</td>\n",
       "    </tr>\n",
       "    <tr>\n",
       "      <th>25%</th>\n",
       "      <td>1.153470e+06</td>\n",
       "      <td>1.859010e+06</td>\n",
       "      <td>2008.0</td>\n",
       "      <td>41.768470</td>\n",
       "      <td>-87.711982</td>\n",
       "    </tr>\n",
       "    <tr>\n",
       "      <th>50%</th>\n",
       "      <td>1.165820e+06</td>\n",
       "      <td>1.891388e+06</td>\n",
       "      <td>2008.0</td>\n",
       "      <td>41.857613</td>\n",
       "      <td>-87.666840</td>\n",
       "    </tr>\n",
       "    <tr>\n",
       "      <th>75%</th>\n",
       "      <td>1.176344e+06</td>\n",
       "      <td>1.910260e+06</td>\n",
       "      <td>2008.0</td>\n",
       "      <td>41.909694</td>\n",
       "      <td>-87.628180</td>\n",
       "    </tr>\n",
       "    <tr>\n",
       "      <th>max</th>\n",
       "      <td>1.204829e+06</td>\n",
       "      <td>1.951407e+06</td>\n",
       "      <td>2008.0</td>\n",
       "      <td>42.022291</td>\n",
       "      <td>-87.525651</td>\n",
       "    </tr>\n",
       "  </tbody>\n",
       "</table>\n",
       "</div>"
      ],
      "text/plain": [
       "       X Coordinate  Y Coordinate    Year     Latitude    Longitude\n",
       "count  1.780000e+03  1.780000e+03  2000.0  1780.000000  1780.000000\n",
       "mean   1.164729e+06  1.886418e+06  2008.0    41.843926   -87.671010\n",
       "std    1.616071e+04  3.174306e+04     0.0     0.087297     0.058810\n",
       "min    1.100635e+06  1.814278e+06  2008.0    41.645636   -87.905312\n",
       "25%    1.153470e+06  1.859010e+06  2008.0    41.768470   -87.711982\n",
       "50%    1.165820e+06  1.891388e+06  2008.0    41.857613   -87.666840\n",
       "75%    1.176344e+06  1.910260e+06  2008.0    41.909694   -87.628180\n",
       "max    1.204829e+06  1.951407e+06  2008.0    42.022291   -87.525651"
      ]
     },
     "execution_count": 5,
     "metadata": {},
     "output_type": "execute_result"
    }
   ],
   "source": [
    "# we can live with these being numbers\n",
    "df.describe()"
   ]
  },
  {
   "cell_type": "code",
   "execution_count": 28,
   "metadata": {
    "collapsed": false
   },
   "outputs": [
    {
     "data": {
      "text/html": [
       "<div>\n",
       "<table border=\"1\" class=\"dataframe\">\n",
       "  <thead>\n",
       "    <tr style=\"text-align: right;\">\n",
       "      <th></th>\n",
       "      <th>identification</th>\n",
       "      <th>Case Number</th>\n",
       "      <th>Date-Time</th>\n",
       "      <th>Date</th>\n",
       "      <th>Time</th>\n",
       "      <th>Block</th>\n",
       "      <th>Street</th>\n",
       "      <th>IUCR</th>\n",
       "      <th>Primary Type</th>\n",
       "      <th>Description</th>\n",
       "      <th>...</th>\n",
       "      <th>Ward</th>\n",
       "      <th>Community Area</th>\n",
       "      <th>FBI Code</th>\n",
       "      <th>X Coordinate</th>\n",
       "      <th>Y Coordinate</th>\n",
       "      <th>Year</th>\n",
       "      <th>Updated On</th>\n",
       "      <th>Location</th>\n",
       "      <th>Latitude</th>\n",
       "      <th>Longitude</th>\n",
       "    </tr>\n",
       "  </thead>\n",
       "  <tbody>\n",
       "    <tr>\n",
       "      <th>0</th>\n",
       "      <td>7446859</td>\n",
       "      <td>HS247325</td>\n",
       "      <td>2008-01-01 00:01:00</td>\n",
       "      <td>1/1/08</td>\n",
       "      <td>0:01</td>\n",
       "      <td>004XX E 133RD ST</td>\n",
       "      <td>E 133RD ST</td>\n",
       "      <td>841</td>\n",
       "      <td>THEFT</td>\n",
       "      <td>FINANCIAL ID THEFT:$300 &amp;UNDER</td>\n",
       "      <td>...</td>\n",
       "      <td>9</td>\n",
       "      <td>54</td>\n",
       "      <td>6</td>\n",
       "      <td>NaN</td>\n",
       "      <td>NaN</td>\n",
       "      <td>2008</td>\n",
       "      <td>4/30/10 1:15</td>\n",
       "      <td>NaN</td>\n",
       "      <td>NaN</td>\n",
       "      <td>NaN</td>\n",
       "    </tr>\n",
       "    <tr>\n",
       "      <th>1</th>\n",
       "      <td>6236266</td>\n",
       "      <td>HP323693</td>\n",
       "      <td>2008-01-01 00:01:00</td>\n",
       "      <td>1/1/08</td>\n",
       "      <td>0:01</td>\n",
       "      <td>013XX E 49TH ST</td>\n",
       "      <td>E 49TH ST</td>\n",
       "      <td>840</td>\n",
       "      <td>THEFT</td>\n",
       "      <td>FINANCIAL ID THEFT: OVER $300</td>\n",
       "      <td>...</td>\n",
       "      <td>4</td>\n",
       "      <td>39</td>\n",
       "      <td>6</td>\n",
       "      <td>1186146.0</td>\n",
       "      <td>1872823.0</td>\n",
       "      <td>2008</td>\n",
       "      <td>5/24/08 1:05</td>\n",
       "      <td>(41.80615476732223, -87.59280284925518)</td>\n",
       "      <td>41.806155</td>\n",
       "      <td>-87.592803</td>\n",
       "    </tr>\n",
       "    <tr>\n",
       "      <th>2</th>\n",
       "      <td>7514546</td>\n",
       "      <td>HS317259</td>\n",
       "      <td>2008-01-01 00:01:00</td>\n",
       "      <td>1/1/08</td>\n",
       "      <td>0:01</td>\n",
       "      <td>014XX E 59TH ST</td>\n",
       "      <td>E 59TH ST</td>\n",
       "      <td>840</td>\n",
       "      <td>THEFT</td>\n",
       "      <td>FINANCIAL ID THEFT: OVER $300</td>\n",
       "      <td>...</td>\n",
       "      <td>5</td>\n",
       "      <td>41</td>\n",
       "      <td>6</td>\n",
       "      <td>NaN</td>\n",
       "      <td>NaN</td>\n",
       "      <td>2008</td>\n",
       "      <td>5/24/10 1:12</td>\n",
       "      <td>NaN</td>\n",
       "      <td>NaN</td>\n",
       "      <td>NaN</td>\n",
       "    </tr>\n",
       "    <tr>\n",
       "      <th>3</th>\n",
       "      <td>6422569</td>\n",
       "      <td>HP499242</td>\n",
       "      <td>2008-01-01 00:01:00</td>\n",
       "      <td>1/1/08</td>\n",
       "      <td>0:01</td>\n",
       "      <td>014XX E 62ND ST</td>\n",
       "      <td>E 62ND ST</td>\n",
       "      <td>840</td>\n",
       "      <td>THEFT</td>\n",
       "      <td>FINANCIAL ID THEFT: OVER $300</td>\n",
       "      <td>...</td>\n",
       "      <td>20</td>\n",
       "      <td>42</td>\n",
       "      <td>6</td>\n",
       "      <td>1186762.0</td>\n",
       "      <td>1864130.0</td>\n",
       "      <td>2008</td>\n",
       "      <td>8/17/08 1:04</td>\n",
       "      <td>(41.78228592790556, -87.5908189949899)</td>\n",
       "      <td>41.782286</td>\n",
       "      <td>-87.590819</td>\n",
       "    </tr>\n",
       "    <tr>\n",
       "      <th>4</th>\n",
       "      <td>6013347</td>\n",
       "      <td>HP118097</td>\n",
       "      <td>2008-01-01 00:01:00</td>\n",
       "      <td>1/1/08</td>\n",
       "      <td>0:01</td>\n",
       "      <td>014XX E 72ND PL</td>\n",
       "      <td>E 72ND PL</td>\n",
       "      <td>2825</td>\n",
       "      <td>OTHER OFFENSE</td>\n",
       "      <td>HARASSMENT BY TELEPHONE</td>\n",
       "      <td>...</td>\n",
       "      <td>5</td>\n",
       "      <td>43</td>\n",
       "      <td>26</td>\n",
       "      <td>1187119.0</td>\n",
       "      <td>1857171.0</td>\n",
       "      <td>2008</td>\n",
       "      <td>1/16/08 1:05</td>\n",
       "      <td>(41.76318136897587, -87.58973074990949)</td>\n",
       "      <td>41.763181</td>\n",
       "      <td>-87.589731</td>\n",
       "    </tr>\n",
       "  </tbody>\n",
       "</table>\n",
       "<p>5 rows × 25 columns</p>\n",
       "</div>"
      ],
      "text/plain": [
       "  identification Case Number           Date-Time    Date  Time  \\\n",
       "0        7446859    HS247325 2008-01-01 00:01:00  1/1/08  0:01   \n",
       "1        6236266    HP323693 2008-01-01 00:01:00  1/1/08  0:01   \n",
       "2        7514546    HS317259 2008-01-01 00:01:00  1/1/08  0:01   \n",
       "3        6422569    HP499242 2008-01-01 00:01:00  1/1/08  0:01   \n",
       "4        6013347    HP118097 2008-01-01 00:01:00  1/1/08  0:01   \n",
       "\n",
       "              Block      Street  IUCR   Primary Type  \\\n",
       "0  004XX E 133RD ST  E 133RD ST   841          THEFT   \n",
       "1   013XX E 49TH ST   E 49TH ST   840          THEFT   \n",
       "2   014XX E 59TH ST   E 59TH ST   840          THEFT   \n",
       "3   014XX E 62ND ST   E 62ND ST   840          THEFT   \n",
       "4   014XX E 72ND PL   E 72ND PL  2825  OTHER OFFENSE   \n",
       "\n",
       "                      Description    ...     Ward Community Area FBI Code  \\\n",
       "0  FINANCIAL ID THEFT:$300 &UNDER    ...        9             54        6   \n",
       "1   FINANCIAL ID THEFT: OVER $300    ...        4             39        6   \n",
       "2   FINANCIAL ID THEFT: OVER $300    ...        5             41        6   \n",
       "3   FINANCIAL ID THEFT: OVER $300    ...       20             42        6   \n",
       "4         HARASSMENT BY TELEPHONE    ...        5             43       26   \n",
       "\n",
       "  X Coordinate Y Coordinate  Year    Updated On  \\\n",
       "0          NaN          NaN  2008  4/30/10 1:15   \n",
       "1    1186146.0    1872823.0  2008  5/24/08 1:05   \n",
       "2          NaN          NaN  2008  5/24/10 1:12   \n",
       "3    1186762.0    1864130.0  2008  8/17/08 1:04   \n",
       "4    1187119.0    1857171.0  2008  1/16/08 1:05   \n",
       "\n",
       "                                  Location   Latitude  Longitude  \n",
       "0                                      NaN        NaN        NaN  \n",
       "1  (41.80615476732223, -87.59280284925518)  41.806155 -87.592803  \n",
       "2                                      NaN        NaN        NaN  \n",
       "3   (41.78228592790556, -87.5908189949899)  41.782286 -87.590819  \n",
       "4  (41.76318136897587, -87.58973074990949)  41.763181 -87.589731  \n",
       "\n",
       "[5 rows x 25 columns]"
      ]
     },
     "execution_count": 28,
     "metadata": {},
     "output_type": "execute_result"
    }
   ],
   "source": [
    "df.head()"
   ]
  },
  {
   "cell_type": "code",
   "execution_count": 52,
   "metadata": {
    "collapsed": false
   },
   "outputs": [
    {
     "data": {
      "text/plain": [
       "Index(['identification', 'Case Number', 'Date-Time', 'Date', 'Time', 'Block',\n",
       "       'Street', 'IUCR', 'Primary Type', 'Description', 'Location Description',\n",
       "       'Arrest', 'Domestic', 'Beat', 'District', 'Ward', 'Community Area',\n",
       "       'FBI Code', 'X Coordinate', 'Y Coordinate', 'Year', 'Updated On',\n",
       "       'Location', 'Latitude', 'Longitude'],\n",
       "      dtype='object')"
      ]
     },
     "execution_count": 52,
     "metadata": {},
     "output_type": "execute_result"
    }
   ],
   "source": [
    "# What are the columns in this data set?\n",
    "df.columns"
   ]
  },
  {
   "cell_type": "code",
   "execution_count": null,
   "metadata": {
    "collapsed": true
   },
   "outputs": [],
   "source": [
    "# Q1: what are all the Primary Types?  Hint: use unique"
   ]
  },
  {
   "cell_type": "code",
   "execution_count": null,
   "metadata": {
    "collapsed": true
   },
   "outputs": [],
   "source": [
    "# Q2: Find out how many of each type occur."
   ]
  },
  {
   "cell_type": "code",
   "execution_count": null,
   "metadata": {
    "collapsed": true
   },
   "outputs": [],
   "source": [
    "# Q3: Make a bar chart of the top 10"
   ]
  },
  {
   "cell_type": "code",
   "execution_count": null,
   "metadata": {
    "collapsed": true
   },
   "outputs": [],
   "source": [
    "# Q4: Make a new dataframe of just the theft types."
   ]
  },
  {
   "cell_type": "code",
   "execution_count": null,
   "metadata": {
    "collapsed": true
   },
   "outputs": [],
   "source": [
    "# Q5: Get the counts of each Description type inside the Thefts dataframe. "
   ]
  },
  {
   "cell_type": "code",
   "execution_count": null,
   "metadata": {
    "collapsed": true
   },
   "outputs": [],
   "source": [
    "# Q6: Using your answer aboce, make a bar chart of the Description type counts."
   ]
  },
  {
   "cell_type": "code",
   "execution_count": null,
   "metadata": {
    "collapsed": true
   },
   "outputs": [],
   "source": [
    "# Q7: What percentage of all crimes in this data occur in Ward 42? Hint: just find out how many occur in ward 42 and then divide by all crimes."
   ]
  },
  {
   "cell_type": "code",
   "execution_count": null,
   "metadata": {
    "collapsed": true
   },
   "outputs": [],
   "source": [
    "# Q8: What is the most common crime Primary Type that results in an arrest?"
   ]
  },
  {
   "cell_type": "markdown",
   "metadata": {},
   "source": [
    "## Part 2: Stats"
   ]
  },
  {
   "cell_type": "code",
   "execution_count": null,
   "metadata": {
    "collapsed": true
   },
   "outputs": [],
   "source": [
    "# load in the paris rainfall data"
   ]
  },
  {
   "cell_type": "code",
   "execution_count": 16,
   "metadata": {
    "collapsed": false
   },
   "outputs": [],
   "source": [
    "rain = pd.read_csv('data/paris_rain_clean.csv', index_col='Year')  # there is one year per row, it can be our index"
   ]
  },
  {
   "cell_type": "code",
   "execution_count": 17,
   "metadata": {
    "collapsed": false
   },
   "outputs": [
    {
     "data": {
      "text/html": [
       "<div>\n",
       "<table border=\"1\" class=\"dataframe\">\n",
       "  <thead>\n",
       "    <tr style=\"text-align: right;\">\n",
       "      <th></th>\n",
       "      <th>Jan</th>\n",
       "      <th>Feb</th>\n",
       "      <th>Mar</th>\n",
       "      <th>Apr</th>\n",
       "      <th>May</th>\n",
       "      <th>Jun</th>\n",
       "      <th>Jul</th>\n",
       "      <th>Aug</th>\n",
       "      <th>Sep</th>\n",
       "      <th>Oct</th>\n",
       "      <th>Nov</th>\n",
       "      <th>Dec</th>\n",
       "    </tr>\n",
       "  </thead>\n",
       "  <tbody>\n",
       "    <tr>\n",
       "      <th>count</th>\n",
       "      <td>303.000000</td>\n",
       "      <td>304.000000</td>\n",
       "      <td>304.000000</td>\n",
       "      <td>304.000000</td>\n",
       "      <td>303.000000</td>\n",
       "      <td>302.000000</td>\n",
       "      <td>302.000000</td>\n",
       "      <td>302.000000</td>\n",
       "      <td>301.000000</td>\n",
       "      <td>301.000000</td>\n",
       "      <td>301.000000</td>\n",
       "      <td>301.000000</td>\n",
       "    </tr>\n",
       "    <tr>\n",
       "      <th>mean</th>\n",
       "      <td>43.036304</td>\n",
       "      <td>36.490132</td>\n",
       "      <td>38.394737</td>\n",
       "      <td>43.601974</td>\n",
       "      <td>53.782178</td>\n",
       "      <td>52.738411</td>\n",
       "      <td>55.910596</td>\n",
       "      <td>51.205298</td>\n",
       "      <td>48.242525</td>\n",
       "      <td>51.790698</td>\n",
       "      <td>49.102990</td>\n",
       "      <td>47.039867</td>\n",
       "    </tr>\n",
       "    <tr>\n",
       "      <th>std</th>\n",
       "      <td>24.103433</td>\n",
       "      <td>23.937899</td>\n",
       "      <td>23.326541</td>\n",
       "      <td>25.048787</td>\n",
       "      <td>26.600156</td>\n",
       "      <td>29.167538</td>\n",
       "      <td>32.651212</td>\n",
       "      <td>30.321383</td>\n",
       "      <td>27.344792</td>\n",
       "      <td>30.603802</td>\n",
       "      <td>26.572781</td>\n",
       "      <td>26.851041</td>\n",
       "    </tr>\n",
       "    <tr>\n",
       "      <th>min</th>\n",
       "      <td>0.000000</td>\n",
       "      <td>0.000000</td>\n",
       "      <td>0.000000</td>\n",
       "      <td>0.000000</td>\n",
       "      <td>5.000000</td>\n",
       "      <td>1.000000</td>\n",
       "      <td>2.000000</td>\n",
       "      <td>2.000000</td>\n",
       "      <td>0.000000</td>\n",
       "      <td>0.000000</td>\n",
       "      <td>0.000000</td>\n",
       "      <td>0.000000</td>\n",
       "    </tr>\n",
       "    <tr>\n",
       "      <th>25%</th>\n",
       "      <td>25.000000</td>\n",
       "      <td>19.000000</td>\n",
       "      <td>21.000000</td>\n",
       "      <td>24.000000</td>\n",
       "      <td>34.000000</td>\n",
       "      <td>32.000000</td>\n",
       "      <td>34.000000</td>\n",
       "      <td>29.000000</td>\n",
       "      <td>28.000000</td>\n",
       "      <td>29.000000</td>\n",
       "      <td>29.000000</td>\n",
       "      <td>27.000000</td>\n",
       "    </tr>\n",
       "    <tr>\n",
       "      <th>50%</th>\n",
       "      <td>40.000000</td>\n",
       "      <td>32.000000</td>\n",
       "      <td>35.000000</td>\n",
       "      <td>41.000000</td>\n",
       "      <td>50.000000</td>\n",
       "      <td>49.000000</td>\n",
       "      <td>49.000000</td>\n",
       "      <td>47.000000</td>\n",
       "      <td>46.000000</td>\n",
       "      <td>46.000000</td>\n",
       "      <td>46.000000</td>\n",
       "      <td>44.000000</td>\n",
       "    </tr>\n",
       "    <tr>\n",
       "      <th>75%</th>\n",
       "      <td>58.500000</td>\n",
       "      <td>48.250000</td>\n",
       "      <td>52.000000</td>\n",
       "      <td>62.000000</td>\n",
       "      <td>70.500000</td>\n",
       "      <td>70.000000</td>\n",
       "      <td>73.750000</td>\n",
       "      <td>65.000000</td>\n",
       "      <td>66.000000</td>\n",
       "      <td>67.000000</td>\n",
       "      <td>64.000000</td>\n",
       "      <td>65.000000</td>\n",
       "    </tr>\n",
       "    <tr>\n",
       "      <th>max</th>\n",
       "      <td>118.000000</td>\n",
       "      <td>135.000000</td>\n",
       "      <td>128.000000</td>\n",
       "      <td>137.000000</td>\n",
       "      <td>135.000000</td>\n",
       "      <td>195.000000</td>\n",
       "      <td>204.000000</td>\n",
       "      <td>201.000000</td>\n",
       "      <td>149.000000</td>\n",
       "      <td>167.000000</td>\n",
       "      <td>139.000000</td>\n",
       "      <td>146.000000</td>\n",
       "    </tr>\n",
       "  </tbody>\n",
       "</table>\n",
       "</div>"
      ],
      "text/plain": [
       "              Jan         Feb         Mar         Apr         May         Jun  \\\n",
       "count  303.000000  304.000000  304.000000  304.000000  303.000000  302.000000   \n",
       "mean    43.036304   36.490132   38.394737   43.601974   53.782178   52.738411   \n",
       "std     24.103433   23.937899   23.326541   25.048787   26.600156   29.167538   \n",
       "min      0.000000    0.000000    0.000000    0.000000    5.000000    1.000000   \n",
       "25%     25.000000   19.000000   21.000000   24.000000   34.000000   32.000000   \n",
       "50%     40.000000   32.000000   35.000000   41.000000   50.000000   49.000000   \n",
       "75%     58.500000   48.250000   52.000000   62.000000   70.500000   70.000000   \n",
       "max    118.000000  135.000000  128.000000  137.000000  135.000000  195.000000   \n",
       "\n",
       "              Jul         Aug         Sep         Oct         Nov        Dec   \n",
       "count  302.000000  302.000000  301.000000  301.000000  301.000000  301.000000  \n",
       "mean    55.910596   51.205298   48.242525   51.790698   49.102990   47.039867  \n",
       "std     32.651212   30.321383   27.344792   30.603802   26.572781   26.851041  \n",
       "min      2.000000    2.000000    0.000000    0.000000    0.000000    0.000000  \n",
       "25%     34.000000   29.000000   28.000000   29.000000   29.000000   27.000000  \n",
       "50%     49.000000   47.000000   46.000000   46.000000   46.000000   44.000000  \n",
       "75%     73.750000   65.000000   66.000000   67.000000   64.000000   65.000000  \n",
       "max    204.000000  201.000000  149.000000  167.000000  139.000000  146.000000  "
      ]
     },
     "execution_count": 17,
     "metadata": {},
     "output_type": "execute_result"
    }
   ],
   "source": [
    "rain.describe()"
   ]
  },
  {
   "cell_type": "code",
   "execution_count": 19,
   "metadata": {
    "collapsed": false
   },
   "outputs": [
    {
     "data": {
      "text/html": [
       "<div>\n",
       "<table border=\"1\" class=\"dataframe\">\n",
       "  <thead>\n",
       "    <tr style=\"text-align: right;\">\n",
       "      <th></th>\n",
       "      <th>Jan</th>\n",
       "      <th>Feb</th>\n",
       "      <th>Mar</th>\n",
       "      <th>Apr</th>\n",
       "      <th>May</th>\n",
       "      <th>Jun</th>\n",
       "      <th>Jul</th>\n",
       "      <th>Aug</th>\n",
       "      <th>Sep</th>\n",
       "      <th>Oct</th>\n",
       "      <th>Nov</th>\n",
       "      <th>Dec</th>\n",
       "    </tr>\n",
       "    <tr>\n",
       "      <th>Year</th>\n",
       "      <th></th>\n",
       "      <th></th>\n",
       "      <th></th>\n",
       "      <th></th>\n",
       "      <th></th>\n",
       "      <th></th>\n",
       "      <th></th>\n",
       "      <th></th>\n",
       "      <th></th>\n",
       "      <th></th>\n",
       "      <th></th>\n",
       "      <th></th>\n",
       "    </tr>\n",
       "  </thead>\n",
       "  <tbody>\n",
       "    <tr>\n",
       "      <th>2005</th>\n",
       "      <td>44.0</td>\n",
       "      <td>27.0</td>\n",
       "      <td>48.0</td>\n",
       "      <td>57.0</td>\n",
       "      <td>46.0</td>\n",
       "      <td>54.0</td>\n",
       "      <td>34.0</td>\n",
       "      <td>31.0</td>\n",
       "      <td>31.0</td>\n",
       "      <td>21.0</td>\n",
       "      <td>27.0</td>\n",
       "      <td>28.0</td>\n",
       "    </tr>\n",
       "    <tr>\n",
       "      <th>2006</th>\n",
       "      <td>31.0</td>\n",
       "      <td>60.0</td>\n",
       "      <td>73.0</td>\n",
       "      <td>25.0</td>\n",
       "      <td>57.0</td>\n",
       "      <td>24.0</td>\n",
       "      <td>56.0</td>\n",
       "      <td>102.0</td>\n",
       "      <td>42.0</td>\n",
       "      <td>45.0</td>\n",
       "      <td>52.0</td>\n",
       "      <td>67.0</td>\n",
       "    </tr>\n",
       "    <tr>\n",
       "      <th>2007</th>\n",
       "      <td>28.0</td>\n",
       "      <td>79.0</td>\n",
       "      <td>41.0</td>\n",
       "      <td>5.0</td>\n",
       "      <td>102.0</td>\n",
       "      <td>53.0</td>\n",
       "      <td>74.0</td>\n",
       "      <td>159.0</td>\n",
       "      <td>18.0</td>\n",
       "      <td>42.0</td>\n",
       "      <td>29.0</td>\n",
       "      <td>60.0</td>\n",
       "    </tr>\n",
       "    <tr>\n",
       "      <th>2008</th>\n",
       "      <td>49.0</td>\n",
       "      <td>32.0</td>\n",
       "      <td>76.0</td>\n",
       "      <td>51.0</td>\n",
       "      <td>67.0</td>\n",
       "      <td>15.0</td>\n",
       "      <td>40.0</td>\n",
       "      <td>95.0</td>\n",
       "      <td>17.0</td>\n",
       "      <td>61.0</td>\n",
       "      <td>50.0</td>\n",
       "      <td>29.0</td>\n",
       "    </tr>\n",
       "    <tr>\n",
       "      <th>2009</th>\n",
       "      <td>46.0</td>\n",
       "      <td>38.0</td>\n",
       "      <td>31.0</td>\n",
       "      <td>42.0</td>\n",
       "      <td>71.0</td>\n",
       "      <td>NaN</td>\n",
       "      <td>NaN</td>\n",
       "      <td>NaN</td>\n",
       "      <td>NaN</td>\n",
       "      <td>NaN</td>\n",
       "      <td>NaN</td>\n",
       "      <td>NaN</td>\n",
       "    </tr>\n",
       "  </tbody>\n",
       "</table>\n",
       "</div>"
      ],
      "text/plain": [
       "       Jan   Feb   Mar   Apr    May   Jun   Jul    Aug   Sep   Oct   Nov  Dec \n",
       "Year                                                                          \n",
       "2005  44.0  27.0  48.0  57.0   46.0  54.0  34.0   31.0  31.0  21.0  27.0  28.0\n",
       "2006  31.0  60.0  73.0  25.0   57.0  24.0  56.0  102.0  42.0  45.0  52.0  67.0\n",
       "2007  28.0  79.0  41.0   5.0  102.0  53.0  74.0  159.0  18.0  42.0  29.0  60.0\n",
       "2008  49.0  32.0  76.0  51.0   67.0  15.0  40.0   95.0  17.0  61.0  50.0  29.0\n",
       "2009  46.0  38.0  31.0  42.0   71.0   NaN   NaN    NaN   NaN   NaN   NaN   NaN"
      ]
     },
     "execution_count": 19,
     "metadata": {},
     "output_type": "execute_result"
    }
   ],
   "source": [
    "rain.tail()"
   ]
  },
  {
   "cell_type": "code",
   "execution_count": 112,
   "metadata": {
    "collapsed": true
   },
   "outputs": [],
   "source": [
    "# Q8: use .loc to get all the rain values for the year 1700"
   ]
  },
  {
   "cell_type": "code",
   "execution_count": null,
   "metadata": {
    "collapsed": true
   },
   "outputs": [],
   "source": [
    "# Q9: Sort by rain amount in January, ascending=False. Now get the top row. What's the year?"
   ]
  },
  {
   "cell_type": "code",
   "execution_count": 133,
   "metadata": {
    "collapsed": true
   },
   "outputs": [],
   "source": [
    "# Q10: find the values for the month of June. Plot in a bar chart. (It's ok if you can't read the x axis labels.)"
   ]
  },
  {
   "cell_type": "code",
   "execution_count": null,
   "metadata": {
    "collapsed": true
   },
   "outputs": [],
   "source": [
    "# Q11: What are the max and min values for Jun?  What is the median?"
   ]
  },
  {
   "cell_type": "code",
   "execution_count": 207,
   "metadata": {
    "collapsed": false
   },
   "outputs": [],
   "source": [
    "# Q12: Make a histogram for one month's rain."
   ]
  },
  {
   "cell_type": "code",
   "execution_count": 213,
   "metadata": {
    "collapsed": true
   },
   "outputs": [],
   "source": [
    "# Q13: create a column for the total rain each year.  It's okay if you have a NaN for years with columns with missing data, too."
   ]
  },
  {
   "cell_type": "code",
   "execution_count": null,
   "metadata": {
    "collapsed": true
   },
   "outputs": [],
   "source": [
    "# Q14: Plot the proportion or percentage of rain for each January out of the total (hint: jan/total), using a line chart."
   ]
  }
 ],
 "metadata": {
  "anaconda-cloud": {},
  "kernelspec": {
   "display_name": "Python [conda root]",
   "language": "python",
   "name": "conda-root-py"
  },
  "language_info": {
   "codemirror_mode": {
    "name": "ipython",
    "version": 3
   },
   "file_extension": ".py",
   "mimetype": "text/x-python",
   "name": "python",
   "nbconvert_exporter": "python",
   "pygments_lexer": "ipython3",
   "version": "3.5.2"
  }
 },
 "nbformat": 4,
 "nbformat_minor": 1
}
