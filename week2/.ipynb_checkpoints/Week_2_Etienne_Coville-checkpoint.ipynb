{
 "cells": [
  {
   "cell_type": "markdown",
   "metadata": {},
   "source": [
    "Before you turn this problem in, make sure everything runs as expected. First, **restart the kernel** (in the menubar, select Kernel$\\rightarrow$Restart) and then **run all cells** (in the menubar, select Cell$\\rightarrow$Run All). Check your output to make sure it all looks as you expected.\n",
    "\n",
    "Make sure you fill in any place that says `YOUR CODE HERE` or \"YOUR ANSWER HERE\", as well as your name below:"
   ]
  },
  {
   "cell_type": "code",
   "execution_count": 1,
   "metadata": {
    "collapsed": true
   },
   "outputs": [],
   "source": [
    "NAME = \"Etienne COVILLE\""
   ]
  },
  {
   "cell_type": "markdown",
   "metadata": {},
   "source": [
    "---"
   ]
  },
  {
   "cell_type": "markdown",
   "metadata": {},
   "source": [
    "# Week 2, Chapters 5-8 in Python For Everyone\n",
    "[Book Link](https://books.trinket.io/pfe/05-iterations.html)\n",
    "\n",
    "The most important topics of Python appear in this week.  It is a lot of reading and homework, but you really need to master these tools to become good with data analysis in Python.\n",
    "\n",
    "Fill in your work below each assignment, by adding new cells and showing them running correctly.\n",
    "\n",
    "**Note: We will deduct points for unclear variable names, irregular indents and spacing, as we said we would in last week's answer posting.**\n",
    "\n",
    "** Important: Don't use exit() in the notebook, even though the Trinket book uses it. It stops the kernel which you will have to restart.  You don't need exit(); instead use 'return' at the end of a function, or 'break' to exit a loop.**\n",
    "\n"
   ]
  },
  {
   "cell_type": "markdown",
   "metadata": {
    "deletable": false,
    "editable": false,
    "nbgrader": {
     "checksum": "0b4232c50c53156a680bdc157be75aee",
     "grade": false,
     "grade_id": "cell-c854f8039423fc97",
     "locked": true,
     "schema_version": 1,
     "solution": false
    }
   },
   "source": [
    "## Exercises for Chapter 5: \"Iterations\"\n",
    "\n",
    "**Question 1)** Write a function which repeatedly asks for the input of a \"name\" and prints out \"Hi [name]! Good to see you!\" (replace [name] with the name they entered).  If they enter \"Bob\", print out \"oh, not you, Bob!\" and stop the loop asking for input. \n",
    "\n",
    "**Important**: Use ``return`` or ``break``, do not use ``exit()`` as we said above. Exit() will stop your notebook from computing (stop the kernel).\n"
   ]
  },
  {
   "cell_type": "code",
   "execution_count": 4,
   "metadata": {
    "collapsed": true,
    "deletable": false,
    "nbgrader": {
     "checksum": "1256b584d062daf394f9ab18a0f91eca",
     "grade": false,
     "grade_id": "simple_bob",
     "locked": false,
     "schema_version": 1,
     "solution": true
    }
   },
   "outputs": [],
   "source": [
    "def bob_loop_simple():\n",
    "    # the following strings can help you to produce the **exact** expected messages\n",
    "    \n",
    "    while True:\n",
    "        name = input('Enter a name: ')\n",
    "        bob_msg = \"oh, not you, Bob!\"\n",
    "        other_msg = \"Hi %s Good to see you!\" % name  # this is a format string. Use the ``format`` method on it\n",
    "        if name == 'Bob':\n",
    "            break\n",
    "        print(other_msg)\n",
    "    print(bob_msg)"
   ]
  },
  {
   "cell_type": "code",
   "execution_count": 5,
   "metadata": {},
   "outputs": [
    {
     "name": "stdout",
     "output_type": "stream",
     "text": [
      "Enter a name: Etienne\n",
      "Hi Etienne Good to see you!\n",
      "Enter a name: John\n",
      "Hi John Good to see you!\n",
      "Enter a name: Bob\n",
      "oh, not you, Bob!\n"
     ]
    }
   ],
   "source": [
    "# Make sure this works with any input including Bob.\n",
    "bob_loop_simple()"
   ]
  },
  {
   "cell_type": "code",
   "execution_count": null,
   "metadata": {
    "collapsed": true,
    "deletable": false,
    "editable": false,
    "nbgrader": {
     "checksum": "8668fd1b087992f6f03ebed710247df9",
     "grade": true,
     "grade_id": "test_bob_loop_simple",
     "locked": true,
     "points": 2,
     "schema_version": 1,
     "solution": false
    }
   },
   "outputs": [],
   "source": [
    "# A grading test for your code, you can ignore this.  If you want to run it, you must make sure you have mock installed.\n",
    "# See the JupyterNotebookBasics file in week 1 for how to install modules.\n",
    "\n",
    "import mock\n",
    "from io import StringIO\n",
    "import sys\n",
    "\n",
    "with mock.patch('builtins.input', return_value='Bob'):\n",
    "    with mock.patch('sys.stdout', new_callable=StringIO):\n",
    "        bob_loop_simple()\n",
    "        assert \"oh, not you, Bob!\" in sys.stdout.getvalue()\n",
    "\n",
    "# two different inputs - it will exit on Bob if it was done right.\n",
    "with mock.patch('builtins.input', side_effect=['sally', 'Bob']):\n",
    "    with mock.patch('sys.stdout', new_callable=StringIO):\n",
    "        bob_loop_simple()\n",
    "        assert \"Hi sally! Good to see you!\" in sys.stdout.getvalue()\n",
    "        assert \"oh, not you, Bob!\" in sys.stdout.getvalue()"
   ]
  },
  {
   "cell_type": "markdown",
   "metadata": {
    "deletable": false,
    "editable": false,
    "nbgrader": {
     "checksum": "3776532ac4894ab7191d96edc2ace059",
     "grade": false,
     "grade_id": "cell-2c7c0e032d03790b",
     "locked": true,
     "schema_version": 1,
     "solution": false
    }
   },
   "source": [
    "**Question 2)** Update the bob_loop code to save the longest and shortest name encountered (count the letters). When you stop the loop after seeing \"Bob,\" print out the shortest and longest names previously entered.  Use these strings or your code won't pass the tests: \"Longest name was [name]\" then \"Shortest name was [name]\".\n",
    "\n",
    "If the user enters anything other than a string of characters, for instance, numbers, print out an error message, and continue on to ask for a name again.  Your error should start with \"Error:\".\n",
    "\n",
    "You might read chapter 6 on **strings** to see how to handle them in this program.  In particular, there is a ``function .isalpha()`` that you should look up."
   ]
  },
  {
   "cell_type": "markdown",
   "metadata": {
    "deletable": false,
    "editable": false,
    "nbgrader": {
     "checksum": "d00065015d0688ec2f7f140fc7413097",
     "grade": false,
     "grade_id": "cell-5127594c5741d4b1",
     "locked": true,
     "schema_version": 1,
     "solution": false
    }
   },
   "source": [
    "##  Exercise for Chapter 6: \"Strings\"\n",
    "\n",
    "**Question 3)** Write a function which takes a string argument with no spaces in it, searches for vowels (the letters \"a\", \"e\", \"i\", \"o\", \"u\") in the string, replaces them by upper case characters, and prints out the new string with the upper cases as well as returns the new string from the function. You should verify it is a string argument using ``isalpha`` (so no spaces are allowed!) and return with an error if not (the error message should being with \"Error:\"). \n",
    "\n",
    "Reminder:  in ``def myfunction(arg):`` the string arg is the argument position and variable name for the argument.  You will run it like::\n",
    "\n",
    "    myfunction(\"hi there\")\n",
    "\n",
    "For instance, if the string input is \"miscellaneous\", then your program will print out and return \"mIscEllAnEOUs\".  If nothing in the string is a vowel, print \"Nothing to convert!\" and return ``None``.\n",
    "\n",
    "**Hint Note: If you are doing the reading, ``for letter in word`` and ``if letter in vowels`` should be clear to you as a way to go thru a string. You can also add ``print`` statements to show the value of things as you run your code... but comment them out or delete them before you submit your work.**\n"
   ]
  },
  {
   "cell_type": "code",
   "execution_count": 6,
   "metadata": {
    "collapsed": true,
    "deletable": false,
    "nbgrader": {
     "checksum": "662896a1168debaac4d7a5e575d89d1a",
     "grade": false,
     "grade_id": "uppercase",
     "locked": false,
     "schema_version": 1,
     "solution": true
    }
   },
   "outputs": [],
   "source": [
    "def uppercase(word):\n",
    "    vowels = \"aeiou\"\n",
    "    nothing_msg = \"Nothing to convert!\"\n",
    "    count = 0\n",
    "    if word.isalpha() == True:\n",
    "        for letter in vowels :\n",
    "            count = count + 1\n",
    "            word = word.replace(letter,letter.upper())\n",
    "        if count == 0:\n",
    "            print(nothing_msg)\n",
    "            return None\n",
    "        else:\n",
    "            print(word)\n",
    "            return word\n",
    "    else:\n",
    "        print(\"Error: your argument should be a string\")"
   ]
  },
  {
   "cell_type": "code",
   "execution_count": 7,
   "metadata": {},
   "outputs": [
    {
     "name": "stdout",
     "output_type": "stream",
     "text": [
      "Error: your argument should be a string\n"
     ]
    }
   ],
   "source": [
    "# this should print \"Error:\" plus some helpful string if you did it right. Spaces are not allowed.\n",
    "uppercase(\"well hello there\")"
   ]
  },
  {
   "cell_type": "code",
   "execution_count": 8,
   "metadata": {},
   "outputs": [
    {
     "name": "stdout",
     "output_type": "stream",
     "text": [
      "hEllO\n"
     ]
    },
    {
     "data": {
      "text/plain": [
       "'hEllO'"
      ]
     },
     "execution_count": 8,
     "metadata": {},
     "output_type": "execute_result"
    }
   ],
   "source": [
    "# this should print out and return the word with uppercased vowels\n",
    "uppercase(\"hello\")"
   ]
  },
  {
   "cell_type": "code",
   "execution_count": 9,
   "metadata": {},
   "outputs": [
    {
     "name": "stdout",
     "output_type": "stream",
     "text": [
      "HI\n"
     ]
    },
    {
     "data": {
      "text/plain": [
       "'HI'"
      ]
     },
     "execution_count": 9,
     "metadata": {},
     "output_type": "execute_result"
    }
   ],
   "source": [
    "# this should print out \"Nothing to convert!\"  It returns None, the python term for nothing.\n",
    "uppercase(\"HI\")"
   ]
  },
  {
   "cell_type": "code",
   "execution_count": null,
   "metadata": {
    "collapsed": true,
    "deletable": false,
    "editable": false,
    "nbgrader": {
     "checksum": "40dec65a153df47e60f80ad15b302ccc",
     "grade": true,
     "grade_id": "test_uppercase_no_cap",
     "locked": true,
     "points": 2,
     "schema_version": 1,
     "solution": false
    }
   },
   "outputs": [],
   "source": [
    "# Grading tests you can ignore: output from word with all uppercase already.\n",
    "\n",
    "with mock.patch('sys.stdout', new_callable=StringIO):\n",
    "        assert uppercase(\"HI\") is None\n",
    "        assert \"Nothing to convert!\" in sys.stdout.getvalue()"
   ]
  },
  {
   "cell_type": "code",
   "execution_count": 10,
   "metadata": {
    "deletable": false,
    "editable": false,
    "nbgrader": {
     "checksum": "646f90dcad9cb8579e183c5b7a22967d",
     "grade": true,
     "grade_id": "test_uppercase_vowels",
     "locked": true,
     "points": 1,
     "schema_version": 1,
     "solution": false
    }
   },
   "outputs": [
    {
     "name": "stdout",
     "output_type": "stream",
     "text": [
      "hEllO\n"
     ]
    }
   ],
   "source": [
    "assert uppercase(\"hello\") == \"hEllO\""
   ]
  },
  {
   "cell_type": "code",
   "execution_count": null,
   "metadata": {
    "collapsed": true,
    "deletable": false,
    "editable": false,
    "nbgrader": {
     "checksum": "73e6b83be4ba3371079613b6bd4ded7f",
     "grade": true,
     "grade_id": "test_upper_error",
     "locked": true,
     "points": 2,
     "schema_version": 1,
     "solution": false
    }
   },
   "outputs": [],
   "source": [
    "# A grading test for your code, you can ignore this. Returns None and prints error.\n",
    "\n",
    "with mock.patch('sys.stdout', new_callable=StringIO):\n",
    "        assert uppercase(\"H3432e\") is None\n",
    "        assert \"Error\" in sys.stdout.getvalue()"
   ]
  },
  {
   "cell_type": "markdown",
   "metadata": {},
   "source": [
    "**Question 4)** Do Exercise 5 at the end of the chapter.\n",
    "\n",
    "Take the following Python code that stores a string in variable mystring::\n",
    "\n",
    "    mystring = 'X-DSPAM-Confidence:0.8475'\n",
    "\n",
    "Write a function that uses ``find`` and string slicing to extract the portion of the string after the colon character (:) and then use the ``float`` function to convert the extracted string into a floating point number. Print and then return the floating point number from the function.  If no colon character is found, return ``None``.\n"
   ]
  },
  {
   "cell_type": "code",
   "execution_count": 11,
   "metadata": {},
   "outputs": [
    {
     "name": "stdout",
     "output_type": "stream",
     "text": [
      "Help on method_descriptor:\n",
      "\n",
      "find(...)\n",
      "    S.find(sub[, start[, end]]) -> int\n",
      "    \n",
      "    Return the lowest index in S where substring sub is found,\n",
      "    such that sub is contained within S[start:end].  Optional\n",
      "    arguments start and end are interpreted as in slice notation.\n",
      "    \n",
      "    Return -1 on failure.\n",
      "\n"
     ]
    }
   ],
   "source": [
    "help(str.find)  # ask the Python interpreter for more info about the find method of str"
   ]
  },
  {
   "cell_type": "code",
   "execution_count": 15,
   "metadata": {
    "collapsed": true,
    "deletable": false,
    "nbgrader": {
     "checksum": "8c58fc20f467ecc3438cb37a613b7426",
     "grade": false,
     "grade_id": "get_float",
     "locked": false,
     "schema_version": 1,
     "solution": true
    }
   },
   "outputs": [],
   "source": [
    "def get_number(stringinput):\n",
    "    \"\"\" Your stringinput should be a string as described above. Print the float part after the :\n",
    "    and also return it.  Return None if no : is found in the string.\"\"\"\n",
    "    fstart = 0\n",
    "    foutput = 0.0\n",
    "    soutput = \"\"\n",
    "    try:\n",
    "        fstart = stringinput.find(\":\")+1\n",
    "        soutput = stringinput[fstart:]\n",
    "        foutput = float(soutput)\n",
    "        print(soutput)\n",
    "        return foutput\n",
    "    except:\n",
    "        return None"
   ]
  },
  {
   "cell_type": "code",
   "execution_count": 16,
   "metadata": {},
   "outputs": [
    {
     "name": "stdout",
     "output_type": "stream",
     "text": [
      "0.8475\n"
     ]
    },
    {
     "data": {
      "text/plain": [
       "0.8475"
      ]
     },
     "execution_count": 16,
     "metadata": {},
     "output_type": "execute_result"
    }
   ],
   "source": [
    "# Check your code does the right thing. It should print and also return the float.\n",
    "mystring = 'X-DSPAM-Confidence:0.8475'\n",
    "get_number(mystring)"
   ]
  },
  {
   "cell_type": "code",
   "execution_count": 17,
   "metadata": {
    "deletable": false,
    "editable": false,
    "nbgrader": {
     "checksum": "be7737bd9858b33ea12dcc0a6c383ba3",
     "grade": true,
     "grade_id": "test_float",
     "locked": true,
     "points": 2,
     "schema_version": 1,
     "solution": false
    }
   },
   "outputs": [
    {
     "name": "stdout",
     "output_type": "stream",
     "text": [
      "0.8475\n"
     ]
    }
   ],
   "source": [
    "# testing your return value:\n",
    "mystring = 'X-DSPAM-Confidence:0.8475'\n",
    "assert get_number(mystring) == 0.8475\n"
   ]
  },
  {
   "cell_type": "code",
   "execution_count": 18,
   "metadata": {
    "collapsed": true,
    "deletable": false,
    "editable": false,
    "nbgrader": {
     "checksum": "0a3a89a43c0148690cd6c7a5b5d8755b",
     "grade": true,
     "grade_id": "test_no_colon",
     "locked": true,
     "points": 1,
     "schema_version": 1,
     "solution": false
    }
   },
   "outputs": [],
   "source": [
    "# test return from a missing :\n",
    "mystring = \"No colon in this\"\n",
    "assert get_number(mystring) == None"
   ]
  },
  {
   "cell_type": "code",
   "execution_count": 19,
   "metadata": {
    "collapsed": true,
    "deletable": false,
    "editable": false,
    "nbgrader": {
     "checksum": "cd6bb4386594dddd2c0604a55c61adae",
     "grade": true,
     "grade_id": "test_error_float",
     "locked": true,
     "points": 0,
     "schema_version": 1,
     "solution": false
    }
   },
   "outputs": [],
   "source": [
    "## Extra credit test that's hidden :)\n"
   ]
  },
  {
   "cell_type": "markdown",
   "metadata": {},
   "source": [
    "## Exercises for Chapter 7: \"Files\""
   ]
  },
  {
   "cell_type": "markdown",
   "metadata": {},
   "source": [
    "This is a big important chapter.  All data files have to be loaded and parsed into Python before you can do analysis on them.  And you can also write out your results in files after doing this chapter.\n",
    "\n",
    "\n",
    "**Question 5)** Save the file mbox-short.txt from the chapter to your computer. Be sure you understand where it is located so you can read it in. If it is in the same directory as this notebook, you don't need to give a path to the file.  A path is the pwd info + filename from the Unix practice you did in class.  For instance:\n",
    "\n",
    "```\n",
    "myfile = \"/Users/cherny/Documents/PythonTeaching/mbox-short.txt\"\n",
    "```\n",
    "\n",
    "\n",
    "Create a function that reads in the file and looks for lines with \"http\" in them. (Hint: \"http\" can appear inside a longer string like \"https\".) Keep a count of how many URLs appear. Print out the first URL in each line, but nothing else in that line. This means you need to isolate the URL from the rest of the line (you can use space as the delimiter.)\n",
    "\n",
    "At the end, return the total count of lines containing http in the file.\n",
    "\n",
    "** Note: the preferred way to do the file open and read is like this, not as shown in the book.  Please use this model in your code: **"
   ]
  },
  {
   "cell_type": "code",
   "execution_count": null,
   "metadata": {
    "collapsed": true
   },
   "outputs": [],
   "source": [
    "## Example of how to read in the file and do things with it:\n",
    "\n",
    "# you need to give the full path to the file you are opening in the string, or a path relative to where your notebook\n",
    "# A relative path means a folder + filename inside the current folder where the notebook is running.\n",
    "# Here mine is in a folder called text-files.\n",
    "\n",
    "with open('text-files/mbox-short.txt', 'r') as handle:\n",
    "    for line in handle:\n",
    "        # do stuff here with each line.  Try uncommenting the print and removing the 'continue.  \n",
    "        # Think about removing the \\n at the end of the line.\n",
    "        # print(line)\n",
    "        continue"
   ]
  },
  {
   "cell_type": "code",
   "execution_count": 35,
   "metadata": {
    "collapsed": true,
    "deletable": false,
    "nbgrader": {
     "checksum": "30f45ff3080d557c3d586f89eabe8944",
     "grade": false,
     "grade_id": "count_urls",
     "locked": false,
     "schema_version": 1,
     "solution": true
    }
   },
   "outputs": [],
   "source": [
    "def count_urls(filename):\n",
    "    \"\"\"\n",
    "    Pass in the full path to the file you are searching for URLs.\n",
    "    Return the total of lines with urls found.\n",
    "    \"\"\"\n",
    "    with open(filename, 'r') as handle:\n",
    "        count = 0\n",
    "        for row in handle:\n",
    "            if 'http' in row:\n",
    "                row = row.rstrip()\n",
    "                count = count + 1\n",
    "                hpre = row.find('http')\n",
    "                hpos = row.find(' ', hpre)\n",
    "                url = row[hpre:hpos]\n",
    "                print(url)\n",
    "                continue\n",
    "        print('Number of lines containing http in the file: ', count)"
   ]
  },
  {
   "cell_type": "code",
   "execution_count": 36,
   "metadata": {},
   "outputs": [
    {
     "name": "stdout",
     "output_type": "stream",
     "text": [
      "http://source.sakaiproject.org/viewsvn/?view=rev&rev=3977\n",
      "https://collab.sakaiproject.org/portal)\n",
      "http://source.sakaiproject.org/viewsvn/?view=rev&rev=3977\n",
      "https://collab.sakaiproject.org/portal)\n",
      "http://source.sakaiproject.org/viewsvn/?view=rev&rev=3977\n",
      "https://source.sakaiproject.org/svn/site-manage/trunk\n",
      "https://collab.sakaiproject.org/portal)\n",
      "http://source.sakaiproject.org/viewsvn/?view=rev&rev=3976\n",
      "https://collab.sakaiproject.org/portal)\n",
      "http://source.sakaiproject.org/viewsvn/?view=rev&rev=3976\n",
      "https://collab.sakaiproject.org/portal)\n",
      "http://source.sakaiproject.org/viewsvn/?view=rev&rev=3976\n",
      "https://collab.sakaiproject.org/portal)\n",
      "http://source.sakaiproject.org/viewsvn/?view=rev&rev=3976\n",
      "https://source.sakaiproject.org/svn/msgcntr/trun\n",
      "http://jira.sakaiproject.org/jira/browse/SAK-1248\n",
      "https://collab.sakaiproject.org/portal)\n",
      "http://source.sakaiproject.org/viewsvn/?view=rev&rev=3976\n",
      "https://source.sakaiproject.org/svn/msgcntr/trun\n",
      "http://jira.sakaiproject.org/jira/browse/SAK-1248\n",
      "https://collab.sakaiproject.org/portal)\n",
      "http://source.sakaiproject.org/viewsvn/?view=rev&rev=3976\n",
      "http://bugs.sakaiproject.org/jira/browse/SAK-1259\n",
      "https://collab.sakaiproject.org/portal)\n",
      "http://source.sakaiproject.org/viewsvn/?view=rev&rev=3976\n",
      "http://bugs.sakaiproject.org/jira/browse/SAK-1259\n",
      "https://collab.sakaiproject.org/portal)\n",
      "http://source.sakaiproject.org/viewsvn/?view=rev&rev=3976\n",
      "https://collab.sakaiproject.org/portal)\n",
      "http://source.sakaiproject.org/viewsvn/?view=rev&rev=3975\n",
      "http://bugs.sakaiproject.org/jira/browse/SAK-1259\n",
      "https://collab.sakaiproject.org/portal)\n",
      "http://source.sakaiproject.org/viewsvn/?view=rev&rev=3975\n",
      "http://bugs.sakaiproject.org/jira/browse/SAK-1217\n",
      "https://collab.sakaiproject.org/portal)\n",
      "http://source.sakaiproject.org/viewsvn/?view=rev&rev=3975\n",
      "https://collab.sakaiproject.org/portal)\n",
      "http://source.sakaiproject.org/viewsvn/?view=rev&rev=3975\n",
      "https://collab.sakaiproject.org/portal)\n",
      "http://source.sakaiproject.org/viewsvn/?view=rev&rev=3975\n",
      "https://collab.sakaiproject.org/portal)\n",
      "http://source.sakaiproject.org/viewsvn/?view=rev&rev=3975\n",
      "https://source.sakaiproject.org/svn/polls/trun\n",
      "https://source.sakaiproject.org/svn/polls/trunk\n",
      "https://collab.sakaiproject.org/portal)\n",
      "http://source.sakaiproject.org/viewsvn/?view=rev&rev=3975\n",
      "https://collab.sakaiproject.org/portal)\n",
      "http://source.sakaiproject.org/viewsvn/?view=rev&rev=3975\n",
      "https://source.sakaiproject.org/svn/podcasts/trun\n",
      "https://source.sakaiproject.org/svn/podcasts/trunk\n",
      "https://collab.sakaiproject.org/portal)\n",
      "http://source.sakaiproject.org/viewsvn/?view=rev&rev=3975\n",
      "https://source.sakaiproject.org/svn/podcasts/trun\n",
      "https://source.sakaiproject.org/svn/podcasts/trunk\n",
      "https://collab.sakaiproject.org/portal)\n",
      "http://source.sakaiproject.org/viewsvn/?view=rev&rev=3975\n",
      "https://collab.sakaiproject.org/portal)\n",
      "http://source.sakaiproject.org/viewsvn/?view=rev&rev=3974\n",
      "https://collab.sakaiproject.org/portal)\n",
      "http://source.sakaiproject.org/viewsvn/?view=rev&rev=3974\n",
      "https://collab.sakaiproject.org/portal)\n",
      "http://source.sakaiproject.org/viewsvn/?view=rev&rev=3974\n",
      "https://collab.sakaiproject.org/portal)\n",
      "http://source.sakaiproject.org/viewsvn/?view=rev&rev=3974\n",
      "https://collab.sakaiproject.org/portal)\n",
      "http://source.sakaiproject.org/viewsvn/?view=rev&rev=3974\n",
      "https://source.sakaiproject.org/svn/gradebook/trun\n",
      "https://source.sakaiproject.org/svn/gradebook/trun\n",
      "http://jira.sakaiproject.org/jira/browse/SAK-1250\n",
      "https://collab.sakaiproject.org/portal)\n",
      "http://source.sakaiproject.org/viewsvn/?view=rev&rev=3974\n",
      "https://source.sakaiproject.org/svn/gradebook/trun\n",
      "https://source.sakaiproject.org/svn/gradebook/trun\n",
      "http://bugs.sakaiproject.org/jira/browse/SAK-1145\n",
      "https://collab.sakaiproject.org/portal)\n",
      "Number of lines containing http in the file:  75\n"
     ]
    }
   ],
   "source": [
    "# test your code on your function -- put the path to the file in the argument.\n",
    "\n",
    "filepath = '/Users/Etiennie/Documents/emlyon/Cours/Python/Week 2/mbox-short.txt'\n",
    "count_urls(filepath)"
   ]
  },
  {
   "cell_type": "code",
   "execution_count": 38,
   "metadata": {
    "deletable": false,
    "editable": false,
    "nbgrader": {
     "checksum": "bbfb531b76fbbffe10ee06d3da45e030",
     "grade": true,
     "grade_id": "cell-0ec0985671b105ff",
     "locked": true,
     "points": 4,
     "schema_version": 1,
     "solution": false
    }
   },
   "outputs": [
    {
     "ename": "FileNotFoundError",
     "evalue": "[Errno 2] No such file or directory: 'text-files/mbox-short.txt'",
     "output_type": "error",
     "traceback": [
      "\u001b[0;31m---------------------------------------------------------------------------\u001b[0m",
      "\u001b[0;31mFileNotFoundError\u001b[0m                         Traceback (most recent call last)",
      "\u001b[0;32m<ipython-input-38-37f48f921dc7>\u001b[0m in \u001b[0;36m<module>\u001b[0;34m()\u001b[0m\n\u001b[1;32m      1\u001b[0m \u001b[0;31m# Tests for your code. Manually grading the url printing.  Testing the output count is correct.\u001b[0m\u001b[0;34m\u001b[0m\u001b[0;34m\u001b[0m\u001b[0m\n\u001b[1;32m      2\u001b[0m \u001b[0;34m\u001b[0m\u001b[0m\n\u001b[0;32m----> 3\u001b[0;31m \u001b[0;32massert\u001b[0m \u001b[0mcount_urls\u001b[0m\u001b[0;34m(\u001b[0m\u001b[0;34m'text-files/mbox-short.txt'\u001b[0m\u001b[0;34m)\u001b[0m \u001b[0;34m==\u001b[0m \u001b[0;36m75\u001b[0m\u001b[0;34m\u001b[0m\u001b[0m\n\u001b[0m",
      "\u001b[0;32m<ipython-input-35-ade80baa10b0>\u001b[0m in \u001b[0;36mcount_urls\u001b[0;34m(filename)\u001b[0m\n\u001b[1;32m      4\u001b[0m     \u001b[0mReturn\u001b[0m \u001b[0mthe\u001b[0m \u001b[0mtotal\u001b[0m \u001b[0mof\u001b[0m \u001b[0mlines\u001b[0m \u001b[0;32mwith\u001b[0m \u001b[0murls\u001b[0m \u001b[0mfound\u001b[0m\u001b[0;34m.\u001b[0m\u001b[0;34m\u001b[0m\u001b[0m\n\u001b[1;32m      5\u001b[0m     \"\"\"\n\u001b[0;32m----> 6\u001b[0;31m     \u001b[0;32mwith\u001b[0m \u001b[0mopen\u001b[0m\u001b[0;34m(\u001b[0m\u001b[0mfilename\u001b[0m\u001b[0;34m,\u001b[0m \u001b[0;34m'r'\u001b[0m\u001b[0;34m)\u001b[0m \u001b[0;32mas\u001b[0m \u001b[0mhandle\u001b[0m\u001b[0;34m:\u001b[0m\u001b[0;34m\u001b[0m\u001b[0m\n\u001b[0m\u001b[1;32m      7\u001b[0m         \u001b[0mcount\u001b[0m \u001b[0;34m=\u001b[0m \u001b[0;36m0\u001b[0m\u001b[0;34m\u001b[0m\u001b[0m\n\u001b[1;32m      8\u001b[0m         \u001b[0;32mfor\u001b[0m \u001b[0mrow\u001b[0m \u001b[0;32min\u001b[0m \u001b[0mhandle\u001b[0m\u001b[0;34m:\u001b[0m\u001b[0;34m\u001b[0m\u001b[0m\n",
      "\u001b[0;31mFileNotFoundError\u001b[0m: [Errno 2] No such file or directory: 'text-files/mbox-short.txt'"
     ]
    }
   ],
   "source": [
    "# Tests for your code. Manually grading the url printing.  Testing the output count is correct.\n",
    "\n",
    "assert count_urls('text-files/mbox-short.txt') == 75"
   ]
  },
  {
   "cell_type": "markdown",
   "metadata": {
    "deletable": false,
    "editable": false,
    "nbgrader": {
     "checksum": "8a036f5ffb8685714d8d6df3f715c7c3",
     "grade": false,
     "grade_id": "cell-73b126b65fa73fe7",
     "locked": true,
     "schema_version": 1,
     "solution": false
    }
   },
   "source": [
    "## Exercises for Chapter 8: \"Lists\"\n",
    "\n",
    "We know you're tired, but understanding lists in Python is essential.  They are one of the coolest things about the language.\n",
    "\n",
    "**Question 6)** Do exercise (4) from this chapter.\n",
    "\n",
    "Exercise 4: Download a copy of the file from [http://www.pythonlearn.com/code3/romeo.txt](www.pythonlearn.com/code3/romeo.txt) or from the Brightspace folder.\n",
    "\n",
    "Write a function that takes as argument the path to the file romeo.txt and reads it line by line.  Use the same pattern as above, using \"with open\" and everything indented under it!  For each line, split the line into a list of words by the space character, using the ``split`` function.\n",
    "\n",
    "Create a single empty list that will hold all the unique words in the entire file. For each word in each line, check to see if the word is already in that list. If the word is not in that list, add it to the list. (You don't need to lowercase the words.)\n",
    "\n",
    "When the program completes, sort the list and print the resulting words in alphabetical order using a statement like this::\n",
    "\n",
    "    print(' '.join(words))\n",
    "\n",
    "Finally, return the first word of the list from the function!\n"
   ]
  },
  {
   "cell_type": "code",
   "execution_count": 39,
   "metadata": {
    "collapsed": true,
    "deletable": false,
    "nbgrader": {
     "checksum": "e08686973236d0c60342e46a464b2084",
     "grade": false,
     "grade_id": "unique_words",
     "locked": false,
     "schema_version": 1,
     "solution": true
    }
   },
   "outputs": [],
   "source": [
    "\n",
    "def unique_words(filepath):\n",
    "    \"\"\" This function reads in a filepath text file and prints the sorted unique words. \n",
    "    It returns the first unique word.\n",
    "    \"\"\"\n",
    "    unique = []\n",
    "    work = []\n",
    "    words = []\n",
    "    with open(filepath, 'r') as handle:\n",
    "        for line in handle:\n",
    "            line = line.rstrip()\n",
    "            work = line.split(\" \")\n",
    "            for word in work:\n",
    "                if word not in unique:\n",
    "                    unique.append(word)\n",
    "        words = unique\n",
    "        words.sort()\n",
    "        print(\" \".join(words))\n",
    "        return(words[0])"
   ]
  },
  {
   "cell_type": "code",
   "execution_count": 41,
   "metadata": {},
   "outputs": [
    {
     "name": "stdout",
     "output_type": "stream",
     "text": [
      "Arise But It Juliet Who already and breaks east envious fair grief is kill light moon pale sick soft sun the through what window with yonder\n"
     ]
    },
    {
     "data": {
      "text/plain": [
       "'Arise'"
      ]
     },
     "execution_count": 41,
     "metadata": {},
     "output_type": "execute_result"
    }
   ],
   "source": [
    "# show this works.  Set the path to where you file is. If it's the same folder, no / part needed.\n",
    "\n",
    "myfile = '/Users/Etiennie/Documents/emlyon/Cours/Python/Week 2/romeo.txt'\n",
    "unique_words(myfile)"
   ]
  },
  {
   "cell_type": "code",
   "execution_count": null,
   "metadata": {
    "collapsed": true,
    "deletable": false,
    "editable": false,
    "nbgrader": {
     "checksum": "65e24d449a7fb5b894339bf5f6851dcb",
     "grade": true,
     "grade_id": "test_unique_words",
     "locked": true,
     "points": 4,
     "schema_version": 1,
     "solution": false
    }
   },
   "outputs": [],
   "source": [
    "# a grading test for your code, you can ignore this.  We use our copy of the file.\n",
    "\n",
    "localpath = './text-files/romeo.txt'\n",
    "with mock.patch('sys.stdout', new_callable=StringIO):\n",
    "    assert unique_words(localpath) == \"Arise\"\n",
    "    assert \"Arise But It Juliet Who already and breaks east envious fair grief is kill light moon pale sick soft sun the through what window with yonder\" in sys.stdout.getvalue()"
   ]
  },
  {
   "cell_type": "markdown",
   "metadata": {},
   "source": [
    "### Short questions about lists and strings\n",
    "\n",
    "**NOTE:** These were specifically about the reading. You have points removed if your solution wasn't what we were focused on in the text.  Also, we want general purpose functions that work on lists or strings, not hard-coded upper case \"I\" etc."
   ]
  },
  {
   "cell_type": "code",
   "execution_count": 43,
   "metadata": {
    "collapsed": true,
    "deletable": false,
    "editable": false,
    "nbgrader": {
     "checksum": "b61a27515302aa8814f9fa9ea556684e",
     "grade": false,
     "grade_id": "cell-cd549c442468d1e0",
     "locked": true,
     "schema_version": 1,
     "solution": false
    }
   },
   "outputs": [],
   "source": [
    "# a) Write a function that takes a list of words like this and joins it into a single string separated by spaces. Print the result.\n",
    "words = [\"I'm\", \"sorry\", \"Dave\", \"I\", \"can't\", \"do\", \"that.\"]"
   ]
  },
  {
   "cell_type": "code",
   "execution_count": 44,
   "metadata": {
    "collapsed": true,
    "deletable": false,
    "nbgrader": {
     "checksum": "dbe5fa43cc0157e1115efbad0cc51ab8",
     "grade": false,
     "grade_id": "print_strings",
     "locked": false,
     "schema_version": 1,
     "solution": true
    }
   },
   "outputs": [],
   "source": [
    "def print_string(wordlist):\n",
    "    print(\" \".join(wordlist))"
   ]
  },
  {
   "cell_type": "code",
   "execution_count": 45,
   "metadata": {},
   "outputs": [
    {
     "name": "stdout",
     "output_type": "stream",
     "text": [
      "I'm sorry Dave I can't do that.\n"
     ]
    }
   ],
   "source": [
    "# show it works with the list above (words)\n",
    "print_string(words)"
   ]
  },
  {
   "cell_type": "code",
   "execution_count": null,
   "metadata": {
    "collapsed": true,
    "deletable": false,
    "editable": false,
    "nbgrader": {
     "checksum": "92f348f8e0c0f998be03d9b786bbd70d",
     "grade": true,
     "grade_id": "test_print_strings",
     "locked": true,
     "points": 1,
     "schema_version": 1,
     "solution": false
    }
   },
   "outputs": [],
   "source": [
    "# a grading test for your code, you can ignore this.\n",
    "\n",
    "with mock.patch('sys.stdout', new_callable=StringIO):\n",
    "    print_string(words)\n",
    "    assert sys.stdout.getvalue() == \"I'm sorry Dave I can't do that.\\n\""
   ]
  },
  {
   "cell_type": "code",
   "execution_count": 48,
   "metadata": {
    "collapsed": true,
    "deletable": false,
    "editable": false,
    "nbgrader": {
     "checksum": "a180c1d04e4f7d7eac59fafcd5956be9",
     "grade": false,
     "grade_id": "cell-b62284db13ebae20",
     "locked": true,
     "schema_version": 1,
     "solution": false
    }
   },
   "outputs": [],
   "source": [
    "# b) How would you split this into separate data values using the comma? \n",
    "# Write a function that returns the list of strings.\n",
    "csvstring = \"34,fred  ,25,35.5,24,india\""
   ]
  },
  {
   "cell_type": "code",
   "execution_count": 51,
   "metadata": {
    "collapsed": true,
    "deletable": false,
    "nbgrader": {
     "checksum": "548f493bcec96a99549bdcbcc03047e2",
     "grade": false,
     "grade_id": "separate_words",
     "locked": false,
     "schema_version": 1,
     "solution": true
    }
   },
   "outputs": [],
   "source": [
    "def separate_words(string):\n",
    "    result = string.split(\",\")\n",
    "    return(result)"
   ]
  },
  {
   "cell_type": "code",
   "execution_count": 52,
   "metadata": {},
   "outputs": [
    {
     "data": {
      "text/plain": [
       "['34', 'fred  ', '25', '35.5', '24', 'india']"
      ]
     },
     "execution_count": 52,
     "metadata": {},
     "output_type": "execute_result"
    }
   ],
   "source": [
    "# show it works on the csvstring above.\n",
    "separate_words(csvstring)"
   ]
  },
  {
   "cell_type": "code",
   "execution_count": 53,
   "metadata": {
    "collapsed": true,
    "deletable": false,
    "editable": false,
    "nbgrader": {
     "checksum": "2ea0aaef97b79cf9f97f17670ff1c256",
     "grade": true,
     "grade_id": "test_separate_words",
     "locked": true,
     "points": 1,
     "schema_version": 1,
     "solution": false
    }
   },
   "outputs": [],
   "source": [
    "# a grading test for your code, you can ignore this. \n",
    "\n",
    "assert separate_words(csvstring) == ['34', 'fred  ', '25', '35.5', '24', 'india']"
   ]
  },
  {
   "cell_type": "markdown",
   "metadata": {},
   "source": [
    "**NOTE:** Again, use a general function, there are many for helping with string operations."
   ]
  },
  {
   "cell_type": "markdown",
   "metadata": {
    "collapsed": true,
    "deletable": false,
    "editable": false,
    "nbgrader": {
     "checksum": "6fc645c3563e9400a0a12d4dec48ba4e",
     "grade": false,
     "grade_id": "cell-de05546704588f98",
     "locked": true,
     "schema_version": 1,
     "solution": false
    }
   },
   "source": [
    "c) Write a function that uses a for-loop to remove whitespace from around the words using strip, \n",
    "capitalizes the words, and prints the length of each of the strings in your words list above after doing those cleaning operations. Return a clean list of the same words, with caps and no spaces around each one."
   ]
  },
  {
   "cell_type": "code",
   "execution_count": 54,
   "metadata": {
    "collapsed": true,
    "deletable": false,
    "nbgrader": {
     "checksum": "2fe1a8f5df816faeaec4096f4d3bad4b",
     "grade": false,
     "grade_id": "clean_words",
     "locked": false,
     "schema_version": 1,
     "solution": true
    }
   },
   "outputs": [],
   "source": [
    "words = ['34', 'fred  ', '25', '35.5', '24', 'india']\n",
    "\n",
    "def clean_words(wordlist):\n",
    "    \"\"\" Takes a list of strings and capitalizes words, removes blank spaces around any of them.\n",
    "    Returns a cleaned list.\"\"\"\n",
    "    a_wordlist=[]\n",
    "    for word in wordlist:\n",
    "        print(len(word))\n",
    "        word = word.strip()\n",
    "        word = word.capitalize()\n",
    "        print(len(word))\n",
    "        a_wordlist.append(word)\n",
    "    return(a_wordlist)"
   ]
  },
  {
   "cell_type": "code",
   "execution_count": 55,
   "metadata": {},
   "outputs": [
    {
     "name": "stdout",
     "output_type": "stream",
     "text": [
      "2\n",
      "2\n",
      "6\n",
      "4\n",
      "2\n",
      "2\n",
      "4\n",
      "4\n",
      "2\n",
      "2\n",
      "5\n",
      "5\n"
     ]
    },
    {
     "data": {
      "text/plain": [
       "['34', 'Fred', '25', '35.5', '24', 'India']"
      ]
     },
     "execution_count": 55,
     "metadata": {},
     "output_type": "execute_result"
    }
   ],
   "source": [
    "# this should work for you and return the list of cleaned words:\n",
    "clean_words(words)"
   ]
  },
  {
   "cell_type": "code",
   "execution_count": 56,
   "metadata": {
    "deletable": false,
    "editable": false,
    "nbgrader": {
     "checksum": "c02d0fb3b4ea994255ce28d322883471",
     "grade": true,
     "grade_id": "test_clean_words",
     "locked": true,
     "points": 2,
     "schema_version": 1,
     "solution": false
    }
   },
   "outputs": [
    {
     "name": "stdout",
     "output_type": "stream",
     "text": [
      "2\n",
      "2\n",
      "6\n",
      "4\n",
      "2\n",
      "2\n",
      "4\n",
      "4\n",
      "2\n",
      "2\n",
      "5\n",
      "5\n"
     ]
    }
   ],
   "source": [
    "# a grading test for your code, you can ignore this.\n",
    "\n",
    "assert clean_words(words) == ['34', 'Fred', '25', '35.5', '24', 'India']"
   ]
  },
  {
   "cell_type": "markdown",
   "metadata": {
    "collapsed": true
   },
   "source": [
    "d) How do you use index slicing to get the first 4 elements of the \"words\" list above?"
   ]
  },
  {
   "cell_type": "code",
   "execution_count": 57,
   "metadata": {
    "deletable": false,
    "nbgrader": {
     "checksum": "c628ad603e5328ec1b6ff598499f6bfe",
     "grade": true,
     "grade_id": "slicing",
     "locked": false,
     "points": 1,
     "schema_version": 1,
     "solution": true
    }
   },
   "outputs": [
    {
     "data": {
      "text/plain": [
       "'24'"
      ]
     },
     "execution_count": 57,
     "metadata": {},
     "output_type": "execute_result"
    }
   ],
   "source": [
    "words[4]"
   ]
  },
  {
   "cell_type": "code",
   "execution_count": null,
   "metadata": {
    "collapsed": true
   },
   "outputs": [],
   "source": []
  }
 ],
 "metadata": {
  "anaconda-cloud": {},
  "kernelspec": {
   "display_name": "Python 3",
   "language": "python",
   "name": "python3"
  },
  "language_info": {
   "codemirror_mode": {
    "name": "ipython",
    "version": 3
   },
   "file_extension": ".py",
   "mimetype": "text/x-python",
   "name": "python",
   "nbconvert_exporter": "python",
   "pygments_lexer": "ipython3",
   "version": "3.6.3"
  }
 },
 "nbformat": 4,
 "nbformat_minor": 1
}
