{
 "cells": [
  {
   "cell_type": "markdown",
   "metadata": {},
   "source": [
    "# Week1: Pandas Introduction, DataFrame from CSV"
   ]
  },
  {
   "cell_type": "markdown",
   "metadata": {},
   "source": [
    "Let's start to work with pandas, to make analysis of this data easier.  Our convention is to import as \"pd\":"
   ]
  },
  {
   "cell_type": "code",
   "execution_count": null,
   "metadata": {
    "collapsed": true
   },
   "outputs": [],
   "source": [
    "import pandas as pd\n",
    "\n",
    "# numpy is a library very useful in Python for numerical stuff\n",
    "import numpy as np\n",
    "\n",
    "# two librairies for plotting\n",
    "import matplotlib.pyplot as plt\n",
    "import seaborn as sns"
   ]
  },
  {
   "cell_type": "markdown",
   "metadata": {},
   "source": [
    "## 1. Reading/Writing files\n",
    "### 1.1. Reading"
   ]
  },
  {
   "cell_type": "code",
   "execution_count": null,
   "metadata": {},
   "outputs": [],
   "source": [
    "# Pandas has built-in tools to read files, including csv and excel.\n",
    "complaints = pd.read_csv('data/311-service-requests.csv')"
   ]
  },
  {
   "cell_type": "markdown",
   "metadata": {},
   "source": [
    "Depending on your pandas version, you might see an error like \"DtypeWarning: Columns (8) have mixed types\". This means that it's encountered a problem reading in our data. In this case it almost certainly means that it has columns where some of the entries are strings and some are NaN which are recognized as float by the funciton. \n",
    "\n",
    "For now we're going to ignore it and hope we don't run into a problem, but in the long run we'd need to investigate this warning."
   ]
  },
  {
   "cell_type": "code",
   "execution_count": null,
   "metadata": {
    "scrolled": true
   },
   "outputs": [],
   "source": [
    "complaints"
   ]
  },
  {
   "cell_type": "code",
   "execution_count": null,
   "metadata": {},
   "outputs": [],
   "source": [
    "# type of the results\n",
    "type(complaints)"
   ]
  },
  {
   "cell_type": "markdown",
   "metadata": {},
   "source": [
    "** The function returns a DataFrame which is an object with a lot of things defined on it **\n",
    "\n",
    "### 1.2. Writing\n",
    "\n",
    "*We can also save out a csv file from pandas in a simple way*\n"
   ]
  },
  {
   "cell_type": "code",
   "execution_count": null,
   "metadata": {
    "collapsed": true
   },
   "outputs": [],
   "source": [
    "complaints.to_csv(\"data/saved_complaints.csv\")"
   ]
  },
  {
   "cell_type": "markdown",
   "metadata": {},
   "source": [
    "*What if we only wanted some of the columns? We can pick which ones to write out*\n"
   ]
  },
  {
   "cell_type": "code",
   "execution_count": null,
   "metadata": {
    "collapsed": true
   },
   "outputs": [],
   "source": [
    "complaints.to_csv(\"data/saved_complaints2.csv\", columns=[\"Created Date\", \"Closed Date\"])"
   ]
  },
  {
   "cell_type": "markdown",
   "metadata": {},
   "source": [
    "*If you don't want the extra index row with the rownumber and no header, you can prevent that from being saved by saying \"index=None\" and \"header = None)*\n"
   ]
  },
  {
   "cell_type": "code",
   "execution_count": null,
   "metadata": {
    "collapsed": true
   },
   "outputs": [],
   "source": [
    "complaints.to_csv(\"data/saved_complaints3.csv\", columns=[\"Created Date\", \"Closed Date\"], index=None, header=None)"
   ]
  },
  {
   "cell_type": "markdown",
   "metadata": {},
   "source": [
    "## 2. Viewing Data\n",
    "### 2.1. See the top & bottom rows of the frame "
   ]
  },
  {
   "cell_type": "code",
   "execution_count": null,
   "metadata": {},
   "outputs": [],
   "source": [
    "complaints.head()  # this command shows us the result of the operation, with the top 5 rows of the table"
   ]
  },
  {
   "cell_type": "code",
   "execution_count": null,
   "metadata": {},
   "outputs": [],
   "source": [
    "complaints.tail(3)"
   ]
  },
  {
   "cell_type": "markdown",
   "metadata": {},
   "source": [
    "### 2.2. Plotting data\n",
    "*For now, there is nothing to plot in the dataset complaints. Let's use an other dataset to learn some tools about plotting*\n"
   ]
  },
  {
   "cell_type": "code",
   "execution_count": null,
   "metadata": {},
   "outputs": [],
   "source": [
    "df = pd.read_csv('data/goog.csv')\n",
    "df.head()"
   ]
  },
  {
   "cell_type": "code",
   "execution_count": null,
   "metadata": {
    "collapsed": true
   },
   "outputs": [],
   "source": [
    "# To avoid executing the command plt.show() every time we want to show a graph\n",
    "%matplotlib inline"
   ]
  },
  {
   "cell_type": "code",
   "execution_count": null,
   "metadata": {},
   "outputs": [],
   "source": [
    "# To make a plot from pandas, we use the dataframe object we created, then tell the plot function\n",
    "# what to use as the X column and what to use as the Y column.\n",
    "df.plot(\"Date\", \"High\",figsize=(20,10))"
   ]
  },
  {
   "cell_type": "code",
   "execution_count": null,
   "metadata": {},
   "outputs": [],
   "source": [
    "# If we plot volume, we can see how little data is there with volume, all at the end:\n",
    "df.plot(\"Date\", \"Volume\",figsize=(20,10))"
   ]
  },
  {
   "cell_type": "markdown",
   "metadata": {},
   "source": [
    "## 3. Selection\n",
    "*Let's use complaints again*\n",
    "### 3.1. Get a slice from a DataFrame\n",
    "#### Get a column"
   ]
  },
  {
   "cell_type": "code",
   "execution_count": null,
   "metadata": {
    "scrolled": true
   },
   "outputs": [],
   "source": [
    "# comment/uncomment lines\n",
    "complaints[\"Agency\"]\n",
    "#df.Agency\n",
    "#df.loc[:,'Agency'] #selection by label\n",
    "#complaints.iloc[:,3]     #selection by position"
   ]
  },
  {
   "cell_type": "markdown",
   "metadata": {},
   "source": [
    "#### get a line"
   ]
  },
  {
   "cell_type": "code",
   "execution_count": null,
   "metadata": {},
   "outputs": [],
   "source": [
    "# comment/uncomment lines\n",
    "complaints.iloc[1,:]\n",
    "#complaints.iloc[1] #Selection by position\n",
    "#complaints.loc[1,:] #Selection by Label"
   ]
  },
  {
   "cell_type": "code",
   "execution_count": null,
   "metadata": {},
   "outputs": [],
   "source": [
    "print(type(complaints[\"Agency\"]))\n",
    "print(type(complaints.iloc[1,:]))"
   ]
  },
  {
   "cell_type": "markdown",
   "metadata": {},
   "source": [
    "** A Slice of shape (1,) or (,1) is not a DataFrame but a Serie. The associated functions are not exactly the same **"
   ]
  },
  {
   "cell_type": "code",
   "execution_count": null,
   "metadata": {},
   "outputs": [],
   "source": [
    "# Possible to build a DataFrame from a serie\n",
    "pd.DataFrame(complaints[\"Agency\"]).head()"
   ]
  },
  {
   "cell_type": "markdown",
   "metadata": {},
   "source": [
    "#### select multiple rows and columns"
   ]
  },
  {
   "cell_type": "markdown",
   "metadata": {},
   "source": [
    "Sometimes you want to combine your selection to rows and columns.  You can do that with `.loc[]` and `.iloc[]`.\n",
    "\n",
    "`iloc[rows,colums]` is for use with **number selectors** for row and column, and `loc[rows,columns]` is for **label selectors** for row and column (if they exist).\n",
    "\n",
    "The documentation for this is [here](http://pandas.pydata.org/pandas-docs/stable/indexing.html).\n",
    "\n",
    "If you use these, you must put a row selector first, then a column selector:"
   ]
  },
  {
   "cell_type": "code",
   "execution_count": null,
   "metadata": {},
   "outputs": [],
   "source": [
    "#Selecting by integer is done with iloc:\n",
    "# this selects the first 10 rows and the first 3 columns.\n",
    "complaints.iloc[0:10, 0:3]"
   ]
  },
  {
   "cell_type": "code",
   "execution_count": null,
   "metadata": {},
   "outputs": [],
   "source": [
    "# select rows 0:5, but the columns between the named columns here:\n",
    "# Note, this works with row numbers because there is no label for the rows aside from numbers.\n",
    "#  Notice this command loc is \"inclusive\" of the end points on the range.  Meaning it includes them.\n",
    "complaints.loc[0:5, 'Closed Date':'Complaint Type']"
   ]
  },
  {
   "cell_type": "markdown",
   "metadata": {},
   "source": [
    "What if we just want to know the complaint type and the borough, but not the rest of the information? Pandas makes it really easy to select a subset of the columns: just index with list of columns you want, using double square brackets (Or using the `loc[]` method above):"
   ]
  },
  {
   "cell_type": "code",
   "execution_count": null,
   "metadata": {},
   "outputs": [],
   "source": [
    "# Comment/uncomment\n",
    "\n",
    "complaints[['Complaint Type', 'Borough']]\n",
    "#complaints.loc[:,['Complaint Type', 'Borough']]"
   ]
  },
  {
   "cell_type": "markdown",
   "metadata": {},
   "source": [
    "### 3.2. Boolean Indexing"
   ]
  },
  {
   "cell_type": "code",
   "execution_count": null,
   "metadata": {},
   "outputs": [],
   "source": [
    "complaints[complaints['Unique Key'] > 26595140].head()"
   ]
  },
  {
   "cell_type": "markdown",
   "metadata": {},
   "source": [
    "** Fonction isin()**"
   ]
  },
  {
   "cell_type": "code",
   "execution_count": null,
   "metadata": {
    "scrolled": true
   },
   "outputs": [],
   "source": [
    "complaints[complaints['Complaint Type'].isin(['Noise - Vehicle','Noise - Street/Sidewalk'])]"
   ]
  },
  {
   "cell_type": "markdown",
   "metadata": {},
   "source": [
    "**Using list of Booleans**"
   ]
  },
  {
   "cell_type": "code",
   "execution_count": null,
   "metadata": {
    "scrolled": true
   },
   "outputs": [],
   "source": [
    "complaints['Complaint Type'] == 'Noise - Street/Sidewalk'"
   ]
  },
  {
   "cell_type": "markdown",
   "metadata": {},
   "source": [
    "This is a big array of `True`s and `False`s, one for each row in our dataframe. When we index our dataframe with this array, we get just the rows where our boolean array evaluated to `True`.  It's important to note that for row filtering by a boolean array the length of our dataframe's index must be the same length as the boolean array used for filtering."
   ]
  },
  {
   "cell_type": "code",
   "execution_count": null,
   "metadata": {},
   "outputs": [],
   "source": [
    "complaints[complaints['Complaint Type'] == 'Noise - Street/Sidewalk' ]"
   ]
  },
  {
   "cell_type": "markdown",
   "metadata": {},
   "source": [
    "You can also combine more than one condition with the `&` operator like this:"
   ]
  },
  {
   "cell_type": "code",
   "execution_count": null,
   "metadata": {
    "scrolled": true
   },
   "outputs": [],
   "source": [
    "is_noise = complaints['Complaint Type'] == \"Noise - Street/Sidewalk\"\n",
    "in_brooklyn = complaints['Borough'] == \"BROOKLYN\"\n",
    "# now, both must be true since we use & here:\n",
    "complaints[is_noise & in_brooklyn][:10]"
   ]
  },
  {
   "cell_type": "markdown",
   "metadata": {},
   "source": [
    "Or, to limit the columns we return -- we can specify them:"
   ]
  },
  {
   "cell_type": "code",
   "execution_count": null,
   "metadata": {},
   "outputs": [],
   "source": [
    "complaints[is_noise & in_brooklyn][['Complaint Type', 'Borough', 'Created Date', 'Descriptor']][:10]"
   ]
  },
  {
   "cell_type": "markdown",
   "metadata": {},
   "source": [
    "## 4. Get information about data\n",
    "### 4.1. Display the index, columns, and the underlying numpy data"
   ]
  },
  {
   "cell_type": "code",
   "execution_count": null,
   "metadata": {},
   "outputs": [],
   "source": [
    "complaints.index"
   ]
  },
  {
   "cell_type": "code",
   "execution_count": null,
   "metadata": {},
   "outputs": [],
   "source": [
    "complaints.columns"
   ]
  },
  {
   "cell_type": "code",
   "execution_count": null,
   "metadata": {},
   "outputs": [],
   "source": [
    "complaints.values"
   ]
  },
  {
   "cell_type": "code",
   "execution_count": null,
   "metadata": {},
   "outputs": [],
   "source": [
    "complaints.dtypes"
   ]
  },
  {
   "cell_type": "markdown",
   "metadata": {},
   "source": [
    "### 4.2. Describe data"
   ]
  },
  {
   "cell_type": "code",
   "execution_count": null,
   "metadata": {},
   "outputs": [],
   "source": [
    "complaints.describe()\n",
    "# Only the numeric columns"
   ]
  },
  {
   "cell_type": "markdown",
   "metadata": {},
   "source": [
    "*Now we can see the min and max, and check if we were right!*"
   ]
  },
  {
   "cell_type": "code",
   "execution_count": null,
   "metadata": {
    "collapsed": true
   },
   "outputs": [],
   "source": [
    "# We define a new function get_highest for DataFrame\n",
    "def get_highest(data, name_column):\n",
    "    highest = 0\n",
    "    for value in data.loc[:,name_column]:\n",
    "        if float(value) > highest:\n",
    "            highest = float(value)\n",
    "    return highest"
   ]
  },
  {
   "cell_type": "code",
   "execution_count": null,
   "metadata": {},
   "outputs": [],
   "source": [
    "get_highest(complaints, 'Latitude')"
   ]
  },
  {
   "cell_type": "markdown",
   "metadata": {},
   "source": [
    "## 5. Reorganizing data\n",
    "### 5.1. Transposing data "
   ]
  },
  {
   "cell_type": "code",
   "execution_count": null,
   "metadata": {
    "scrolled": true
   },
   "outputs": [],
   "source": [
    "complaints.T"
   ]
  },
  {
   "cell_type": "markdown",
   "metadata": {},
   "source": [
    "### 5.2. Sorting data"
   ]
  },
  {
   "cell_type": "code",
   "execution_count": null,
   "metadata": {},
   "outputs": [],
   "source": [
    "complaints.sort_values(by = 'Unique Key').head()\n",
    "# add arg inplace = True to perform operation in-place"
   ]
  },
  {
   "cell_type": "markdown",
   "metadata": {},
   "source": [
    "## 6. Transforming data\n",
    "### 6.1. Transforming existing data\n",
    "*To avoid transforming df, we first make a copy*"
   ]
  },
  {
   "cell_type": "code",
   "execution_count": null,
   "metadata": {
    "collapsed": true
   },
   "outputs": [],
   "source": [
    "complaints_copy = complaints.copy()\n",
    "# df_copy = df only creates a alias, not a new object !"
   ]
  },
  {
   "cell_type": "markdown",
   "metadata": {},
   "source": [
    "*You just have to assign new values to a selection *"
   ]
  },
  {
   "cell_type": "code",
   "execution_count": null,
   "metadata": {},
   "outputs": [],
   "source": [
    "complaints_copy.loc[0:2,'Unique Key'] = np.array([0,0,0])\n",
    "complaints_copy.head()"
   ]
  },
  {
   "cell_type": "markdown",
   "metadata": {},
   "source": [
    "### 6.2. Adding new data"
   ]
  },
  {
   "cell_type": "code",
   "execution_count": null,
   "metadata": {},
   "outputs": [],
   "source": [
    "# Adding a column\n",
    "complaints_copy['New_column'] = np.array(['new_info']*len(complaints_copy))\n",
    "complaints_copy.head()"
   ]
  },
  {
   "cell_type": "markdown",
   "metadata": {},
   "source": [
    "### 6.3. Reseting Index"
   ]
  },
  {
   "cell_type": "code",
   "execution_count": null,
   "metadata": {},
   "outputs": [],
   "source": [
    "complaints_copy = complaints.sort_values(by = 'Unique Key')\n",
    "complaints_copy.head()"
   ]
  },
  {
   "cell_type": "code",
   "execution_count": null,
   "metadata": {},
   "outputs": [],
   "source": [
    "complaints_copy.reset_index(inplace=True, drop = True)\n",
    "complaints_copy.head()\n",
    "# drop = True means not to keep the old index"
   ]
  },
  {
   "cell_type": "markdown",
   "metadata": {},
   "source": [
    "### 6.4. Dealing with NA"
   ]
  },
  {
   "cell_type": "code",
   "execution_count": null,
   "metadata": {},
   "outputs": [],
   "source": [
    "# To get the boolean mask where values are NaN \n",
    "complaints.isnull().head()"
   ]
  },
  {
   "cell_type": "code",
   "execution_count": null,
   "metadata": {},
   "outputs": [],
   "source": [
    "# Filling missing data\n",
    "complaints_copy = complaints.copy()\n",
    "complaints_copy.fillna(value = 0, inplace=False).head()"
   ]
  },
  {
   "cell_type": "code",
   "execution_count": null,
   "metadata": {},
   "outputs": [],
   "source": [
    "# Also a function for a serie \n",
    "complaints_copy['Bridge Highway Name'].fillna(value='Unknown', inplace= True)\n",
    "complaints_copy.head()"
   ]
  },
  {
   "cell_type": "code",
   "execution_count": null,
   "metadata": {},
   "outputs": [],
   "source": [
    "# Dropping NaN\n",
    "complaints.dropna(axis = 1, how = 'any', inplace = False).head()\n",
    "# axis where missing values are dropped, 0 <=> row and 1 <=> column\n",
    "# how : if 'any' NaN are present, drop that label \n",
    "#       if 'all' labels are NA, drop that label"
   ]
  },
  {
   "cell_type": "markdown",
   "metadata": {},
   "source": [
    "## 7. Counting Values And Filtering<a name=\"_counting values and filtering\"></a>\n",
    "\n",
    "What's the most common complaint type? This is a really easy question to answer! There's a `.value_counts()` method that we can use:"
   ]
  },
  {
   "cell_type": "code",
   "execution_count": null,
   "metadata": {
    "scrolled": true
   },
   "outputs": [],
   "source": [
    "complaints['Complaint Type'].value_counts()"
   ]
  },
  {
   "cell_type": "markdown",
   "metadata": {},
   "source": [
    "If we just wanted the top 10 most common complaints, we can do this:"
   ]
  },
  {
   "cell_type": "code",
   "execution_count": null,
   "metadata": {},
   "outputs": [],
   "source": [
    "complaint_counts = complaints['Complaint Type'].value_counts()\n",
    "complaint_counts[:10]"
   ]
  },
  {
   "cell_type": "markdown",
   "metadata": {},
   "source": [
    "But it gets better! We can plot them!"
   ]
  },
  {
   "cell_type": "code",
   "execution_count": null,
   "metadata": {},
   "outputs": [],
   "source": [
    "complaint_counts[:10].plot(kind='bar')"
   ]
  },
  {
   "cell_type": "markdown",
   "metadata": {},
   "source": [
    "We can also see how many unique types of complaints there are in the column, using `.unique` and len (for length):"
   ]
  },
  {
   "cell_type": "code",
   "execution_count": null,
   "metadata": {},
   "outputs": [],
   "source": [
    "complaints['Agency'].unique()"
   ]
  },
  {
   "cell_type": "code",
   "execution_count": null,
   "metadata": {},
   "outputs": [],
   "source": [
    "# get the number of unique values for a feature\n",
    "len(complaints['Agency'].unique())"
   ]
  },
  {
   "cell_type": "markdown",
   "metadata": {},
   "source": [
    "## 8. Application : Which Borough has the Most Noise Complaints?<a name=\"_ 8. application : which borough has the most noise complaints?\"></a>"
   ]
  },
  {
   "cell_type": "markdown",
   "metadata": {},
   "source": [
    "To get the noise complaints, we first need to find the rows where the \"Complaint Type\" column is \"Noise - Street/Sidewalk\". We use boolean indexing (3.2.)"
   ]
  },
  {
   "cell_type": "code",
   "execution_count": null,
   "metadata": {
    "scrolled": true
   },
   "outputs": [],
   "source": [
    "noise_complaints = complaints[  complaints['Complaint Type'] == \"Noise - Street/Sidewalk\"  ] \n",
    "noise_complaints[0:10]"
   ]
  },
  {
   "cell_type": "code",
   "execution_count": null,
   "metadata": {},
   "outputs": [],
   "source": [
    "noise_complaints['Borough'].value_counts()"
   ]
  },
  {
   "cell_type": "markdown",
   "metadata": {},
   "source": [
    "It's Manhattan! But what if we wanted to divide by the total number of complaints, to make it make a bit more sense? That would be easy too:"
   ]
  },
  {
   "cell_type": "code",
   "execution_count": null,
   "metadata": {},
   "outputs": [],
   "source": [
    "complaints['Borough'].value_counts()"
   ]
  },
  {
   "cell_type": "code",
   "execution_count": null,
   "metadata": {},
   "outputs": [],
   "source": [
    "results = noise_complaints['Borough'].value_counts() / complaints['Borough'].value_counts()\n",
    "results"
   ]
  },
  {
   "cell_type": "markdown",
   "metadata": {},
   "source": [
    "What if we want to graph this?\n",
    "The default is a line graph, which is not the right type for this kind of data.  This data is not timeseries (where the X axis is dates/times).  This data is count data by categories that are not ordered -- \"boroughs.\"  The proper type of chart for this is a bar graph."
   ]
  },
  {
   "cell_type": "code",
   "execution_count": null,
   "metadata": {},
   "outputs": [],
   "source": [
    "results.plot()"
   ]
  },
  {
   "cell_type": "code",
   "execution_count": null,
   "metadata": {},
   "outputs": [],
   "source": [
    "# we can use the keyword argument kind for this:\n",
    "results.plot(kind = 'bar')"
   ]
  },
  {
   "cell_type": "code",
   "execution_count": null,
   "metadata": {
    "collapsed": true
   },
   "outputs": [],
   "source": []
  }
 ],
 "metadata": {
  "anaconda-cloud": {},
  "kernelspec": {
   "display_name": "Python 3",
   "language": "python",
   "name": "python3"
  },
  "language_info": {
   "codemirror_mode": {
    "name": "ipython",
    "version": 3
   },
   "file_extension": ".py",
   "mimetype": "text/x-python",
   "name": "python",
   "nbconvert_exporter": "python",
   "pygments_lexer": "ipython3",
   "version": "3.6.1"
  }
 },
 "nbformat": 4,
 "nbformat_minor": 1
}
