{
 "cells": [
  {
   "cell_type": "code",
   "execution_count": 1,
   "metadata": {
    "ExecuteTime": {
     "end_time": "2016-11-04T22:08:29.668575",
     "start_time": "2016-11-04T22:08:28.965435"
    }
   },
   "outputs": [
    {
     "data": {
      "text/plain": [
       "'setup'"
      ]
     },
     "execution_count": 1,
     "metadata": {},
     "output_type": "execute_result"
    }
   ],
   "source": [
    "\"\"\"setup\"\"\"\n",
    "import pandas as pd\n",
    "import pytest\n",
    "import sys\n",
    "sys.path.append('../..')\n",
    "from altair_widgets import interact_with\n",
    "from altair import load_dataset"
   ]
  },
  {
   "cell_type": "code",
   "execution_count": 2,
   "metadata": {
    "ExecuteTime": {
     "end_time": "2016-11-04T22:08:29.673563",
     "start_time": "2016-11-04T22:08:29.669774"
    },
    "scrolled": true
   },
   "outputs": [
    {
     "data": {
      "text/plain": [
       "'test_input_fail'"
      ]
     },
     "execution_count": 2,
     "metadata": {},
     "output_type": "execute_result"
    }
   ],
   "source": [
    "\"\"\"test_input_fail\"\"\"\n",
    "d = [{'a': 1, 'b': 2, 'c': 4}]*4\n",
    "\n",
    "with pytest.raises(ValueError):\n",
    "    interact_with(d)"
   ]
  },
  {
   "cell_type": "code",
   "execution_count": 3,
   "metadata": {
    "ExecuteTime": {
     "end_time": "2016-11-04T22:08:30.466846",
     "start_time": "2016-11-04T22:08:30.362597"
    }
   },
   "outputs": [
    {
     "data": {
      "text/plain": [
       "'test_input'"
      ]
     },
     "execution_count": 3,
     "metadata": {},
     "output_type": "execute_result"
    },
    {
     "data": {
      "text/plain": [
       "<altair_widgets.widget.Interact at 0x11351e0f0>"
      ]
     },
     "execution_count": 3,
     "metadata": {},
     "output_type": "execute_result"
    }
   ],
   "source": [
    "\"\"\"test_input\"\"\"\n",
    "df = pd.DataFrame(d)\n",
    "interact_with(df, show=False)"
   ]
  },
  {
   "cell_type": "code",
   "execution_count": 4,
   "metadata": {
    "ExecuteTime": {
     "end_time": "2016-11-04T22:08:31.370737",
     "start_time": "2016-11-04T22:08:30.954350"
    }
   },
   "outputs": [
    {
     "data": {
      "text/plain": [
       "'test_basic_config'"
      ]
     },
     "execution_count": 4,
     "metadata": {},
     "output_type": "execute_result"
    },
    {
     "data": {
      "text/html": [
       "<div>\n",
       "<table border=\"1\" class=\"dataframe\">\n",
       "  <thead>\n",
       "    <tr style=\"text-align: right;\">\n",
       "      <th></th>\n",
       "      <th>petalLength</th>\n",
       "      <th>petalWidth</th>\n",
       "      <th>sepalLength</th>\n",
       "      <th>sepalWidth</th>\n",
       "      <th>species</th>\n",
       "    </tr>\n",
       "  </thead>\n",
       "  <tbody>\n",
       "    <tr>\n",
       "      <th>0</th>\n",
       "      <td>1.4</td>\n",
       "      <td>0.2</td>\n",
       "      <td>5.1</td>\n",
       "      <td>3.5</td>\n",
       "      <td>setosa</td>\n",
       "    </tr>\n",
       "    <tr>\n",
       "      <th>1</th>\n",
       "      <td>1.4</td>\n",
       "      <td>0.2</td>\n",
       "      <td>4.9</td>\n",
       "      <td>3.0</td>\n",
       "      <td>setosa</td>\n",
       "    </tr>\n",
       "    <tr>\n",
       "      <th>2</th>\n",
       "      <td>1.3</td>\n",
       "      <td>0.2</td>\n",
       "      <td>4.7</td>\n",
       "      <td>3.2</td>\n",
       "      <td>setosa</td>\n",
       "    </tr>\n",
       "    <tr>\n",
       "      <th>3</th>\n",
       "      <td>1.5</td>\n",
       "      <td>0.2</td>\n",
       "      <td>4.6</td>\n",
       "      <td>3.1</td>\n",
       "      <td>setosa</td>\n",
       "    </tr>\n",
       "    <tr>\n",
       "      <th>4</th>\n",
       "      <td>1.4</td>\n",
       "      <td>0.2</td>\n",
       "      <td>5.0</td>\n",
       "      <td>3.6</td>\n",
       "      <td>setosa</td>\n",
       "    </tr>\n",
       "  </tbody>\n",
       "</table>\n",
       "</div>"
      ],
      "text/plain": [
       "   petalLength  petalWidth  sepalLength  sepalWidth species\n",
       "0          1.4         0.2          5.1         3.5  setosa\n",
       "1          1.4         0.2          4.9         3.0  setosa\n",
       "2          1.3         0.2          4.7         3.2  setosa\n",
       "3          1.5         0.2          4.6         3.1  setosa\n",
       "4          1.4         0.2          5.0         3.6  setosa"
      ]
     },
     "execution_count": 4,
     "metadata": {},
     "output_type": "execute_result"
    }
   ],
   "source": [
    "\"\"\"test_basic_config\"\"\"\n",
    "df = load_dataset('iris')\n",
    "df.head()\n",
    "w = interact_with(df, show=False)\n",
    "w.settings['encodings'] = [{'encoding': 'x', 'field': 'petalWidth'},\n",
    "                           {'encoding': 'y', 'field': 'petalLength'},\n",
    "                           {'encoding': 'color', 'field': 'species'}]\n",
    "w.plot(show=False)"
   ]
  },
  {
   "cell_type": "code",
   "execution_count": 5,
   "metadata": {
    "ExecuteTime": {
     "end_time": "2016-11-04T22:08:32.493836",
     "start_time": "2016-11-04T22:08:32.466378"
    }
   },
   "outputs": [
    {
     "data": {
      "text/plain": [
       "'test_generates_same_chart_as_altair'"
      ]
     },
     "execution_count": 5,
     "metadata": {},
     "output_type": "execute_result"
    }
   ],
   "source": [
    "\"\"\"test_generates_same_chart_as_altair\"\"\"\n",
    "import altair\n",
    "from altair import Chart\n",
    "\n",
    "c = Chart(df).mark_point().encode(\n",
    "    x='petalWidth', y='petalLength', color='species')\n",
    "\n",
    "assert type(w.chart) is altair.api.Chart\n",
    "assert c.to_dict() == w.chart.to_dict()"
   ]
  },
  {
   "cell_type": "code",
   "execution_count": 7,
   "metadata": {
    "ExecuteTime": {
     "end_time": "2016-11-04T22:08:46.221280",
     "start_time": "2016-11-04T22:08:46.092271"
    }
   },
   "outputs": [
    {
     "data": {
      "text/plain": [
       "'test_bg_color'"
      ]
     },
     "execution_count": 7,
     "metadata": {},
     "output_type": "execute_result"
    }
   ],
   "source": [
    "\"\"\"test_bg_color\"\"\"\n",
    "w = interact_with(df, show=False)\n",
    "w.settings = {'mark': {'mark': 'mark_text', 'applyColorToBackground': True},\n",
    "              'encodings': [{'encoding': 'row', 'field': 'species'},\n",
    "                            {'encoding': 'color', 'field': 'petalLength'},\n",
    "                            {'encoding': 'text', 'field': ' '}]\n",
    "              }\n",
    "w.plot(show=False)\n",
    "c = Chart(df).mark_text(applyColorToBackground=True).encode(\n",
    "    row='species',\n",
    "    color='petalLength',\n",
    "    text=' ')\n",
    "    \n",
    "assert c.to_dict() == w.chart.to_dict()"
   ]
  },
  {
   "cell_type": "code",
   "execution_count": 8,
   "metadata": {
    "ExecuteTime": {
     "end_time": "2016-11-04T22:08:54.488181",
     "start_time": "2016-11-04T22:08:54.363806"
    }
   },
   "outputs": [
    {
     "data": {
      "text/plain": [
       "'test_log'"
      ]
     },
     "execution_count": 8,
     "metadata": {},
     "output_type": "execute_result"
    }
   ],
   "source": [
    "\"\"\"test_log\"\"\"\n",
    "w = interact_with(df, show=False)\n",
    "w.settings['encodings'] = [{'encoding': 'x', 'field': 'petalWidth', 'scale': 'log'},\n",
    "                           {'encoding': 'y', 'field': 'petalLength'},\n",
    "                           {'encoding': 'color', 'field': 'species'}]\n",
    "w.plot(show=False)\n",
    "c = Chart(df).mark_point().encode(\n",
    "    x=altair.X('petalWidth', scale=altair.Scale(type='log')),\n",
    "    y='petalLength', color='species')\n",
    "    \n",
    "assert c.to_dict() == w.chart.to_dict()"
   ]
  },
  {
   "cell_type": "code",
   "execution_count": 9,
   "metadata": {
    "ExecuteTime": {
     "end_time": "2016-11-04T22:09:11.096819",
     "start_time": "2016-11-04T22:09:10.987158"
    }
   },
   "outputs": [
    {
     "data": {
      "text/plain": [
       "'test_update'"
      ]
     },
     "execution_count": 9,
     "metadata": {},
     "output_type": "execute_result"
    }
   ],
   "source": [
    "\"\"\"test_update\"\"\"\n",
    "class Event:\n",
    "    def __init__(self, row, title, value):\n",
    "        self.row = row\n",
    "        self.title = title\n",
    "        self.value = value\n",
    "\n",
    "w = interact_with(df, show=False)\n",
    "w.settings['encodings'] = [{'encoding': 'x', 'field': 'petalWidth', 'scale': 'log'},\n",
    "                           {'encoding': 'y', 'field': 'petalLength'},\n",
    "                           {'encoding': 'color', 'field': 'species'}]\n",
    "old = 'linear'\n",
    "event = {'owner': Event(1, 'scale', old), 'old': old, 'new': 'log'}\n",
    "w._update(event)\n",
    "new_settings = [{'encoding': 'x', 'field': 'petalWidth', 'scale': 'log'},\n",
    "                {'encoding': 'y', 'field': 'petalLength', 'scale': 'log'},\n",
    "                {'encoding': 'color', 'field': 'species'}]\n",
    "\n",
    "assert new_settings == w.settings['encodings']"
   ]
  },
  {
   "cell_type": "code",
   "execution_count": 11,
   "metadata": {
    "ExecuteTime": {
     "end_time": "2016-11-04T22:09:28.883506",
     "start_time": "2016-11-04T22:09:28.731385"
    }
   },
   "outputs": [
    {
     "data": {
      "text/plain": [
       "'test_adding_dimension'"
      ]
     },
     "execution_count": 11,
     "metadata": {},
     "output_type": "execute_result"
    }
   ],
   "source": [
    "\"\"\"test_adding_dimension\"\"\"\n",
    "w = interact_with(df, show=False)\n",
    "w.settings['encodings'] = [{'encoding': 'x', 'field': 'petalWidth'},\n",
    "                           {'encoding': 'y', 'field': 'petalLength'},\n",
    "                           {'encoding': 'color', 'field': 'species'}]\n",
    "w._add_dim(None)\n",
    "w.settings['encodings'][-1]['encoding'] = 'size'\n",
    "w.settings['encodings'][-1]['field'] = 'sepalLength'\n",
    "w.plot(w.settings)\n",
    "\n",
    "c = Chart(df).mark_point().encode(\n",
    "    x='petalWidth', y='petalLength', color='species', size='sepalLength'\n",
    ")\n",
    "\n",
    "assert w.chart.to_dict() == c.to_dict()"
   ]
  },
  {
   "cell_type": "code",
   "execution_count": 12,
   "metadata": {
    "ExecuteTime": {
     "end_time": "2016-11-04T22:09:32.905200",
     "start_time": "2016-11-04T22:09:32.849222"
    }
   },
   "outputs": [
    {
     "data": {
      "text/plain": [
       "'test_ndims'"
      ]
     },
     "execution_count": 12,
     "metadata": {},
     "output_type": "execute_result"
    }
   ],
   "source": [
    "\"\"\"test_ndims\"\"\"\n",
    "w = interact_with(df, ndims=1, show=False)\n",
    "assert len(w.settings['encodings']) == 1"
   ]
  },
  {
   "cell_type": "code",
   "execution_count": null,
   "metadata": {
    "collapsed": true
   },
   "outputs": [],
   "source": []
  }
 ],
 "metadata": {
  "kernelspec": {
   "display_name": "Python 3",
   "language": "python",
   "name": "python3"
  },
  "language_info": {
   "codemirror_mode": {
    "name": "ipython",
    "version": 3
   },
   "file_extension": ".py",
   "mimetype": "text/x-python",
   "name": "python",
   "nbconvert_exporter": "python",
   "pygments_lexer": "ipython3",
   "version": "3.6.3"
  },
  "nav_menu": {},
  "toc": {
   "navigate_menu": true,
   "number_sections": false,
   "sideBar": true,
   "threshold": "2",
   "toc_cell": false,
   "toc_section_display": "block",
   "toc_window_display": false
  }
 },
 "nbformat": 4,
 "nbformat_minor": 1
}
