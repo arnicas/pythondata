{
 "cells": [
  {
   "cell_type": "markdown",
   "metadata": {},
   "source": [
    "# String (Text) Operations<a name=\"_string (text) operations\"></a>"
   ]
  },
  {
   "cell_type": "markdown",
   "metadata": {},
   "source": [
    "# Table of Contents\n",
    "- [ String (Text) Operations](#_string (text) operations) \n",
    "  - [ Fixing Case, Spacing, Etc. on String Columns](#_fixing case, spacing, etc. on string columns) \n",
    "  - [ Search for String Values](#_search for string values) \n",
    "  - [ Split a String Column Into Multiple Columns](#_split a string column into multiple columns) \n",
    "    - [  What if we want to add that to the crimes dataframe?](#_ what if we want to add that to the crimes dataframe?) \n",
    "  - [ Splitting but not making new columns- Just a list.](#_splitting but not making new columns- just a list.) \n"
   ]
  },
  {
   "cell_type": "markdown",
   "metadata": {},
   "source": [
    "You can find documentation here: http://pandas.pydata.org/pandas-docs/stable/text.html"
   ]
  },
  {
   "cell_type": "code",
   "execution_count": null,
   "metadata": {
    "collapsed": true
   },
   "outputs": [],
   "source": [
    "%matplotlib inline\n",
    "\n",
    "import pandas as pd\n",
    "import matplotlib.pyplot as plt\n",
    "import seaborn as sns\n",
    "import numpy as np"
   ]
  },
  {
   "cell_type": "markdown",
   "metadata": {},
   "source": [
    "We can do a lot of cleaning operations using the str functions in pandas."
   ]
  },
  {
   "cell_type": "code",
   "execution_count": 33,
   "metadata": {
    "collapsed": true
   },
   "outputs": [],
   "source": [
    "crimes = pd.read_csv(\"data/chicago_crimes.csv\")"
   ]
  },
  {
   "cell_type": "code",
   "execution_count": 35,
   "metadata": {},
   "outputs": [
    {
     "data": {
      "text/html": [
       "<div>\n",
       "<style>\n",
       "    .dataframe thead tr:only-child th {\n",
       "        text-align: right;\n",
       "    }\n",
       "\n",
       "    .dataframe thead th {\n",
       "        text-align: left;\n",
       "    }\n",
       "\n",
       "    .dataframe tbody tr th {\n",
       "        vertical-align: top;\n",
       "    }\n",
       "</style>\n",
       "<table border=\"1\" class=\"dataframe\">\n",
       "  <thead>\n",
       "    <tr style=\"text-align: right;\">\n",
       "      <th></th>\n",
       "      <th>identification</th>\n",
       "      <th>Case Number</th>\n",
       "      <th>Date-Time</th>\n",
       "      <th>Date</th>\n",
       "      <th>Time</th>\n",
       "      <th>Block</th>\n",
       "      <th>Street</th>\n",
       "      <th>IUCR</th>\n",
       "      <th>Primary Type</th>\n",
       "      <th>Description</th>\n",
       "      <th>...</th>\n",
       "      <th>Ward</th>\n",
       "      <th>Community Area</th>\n",
       "      <th>FBI Code</th>\n",
       "      <th>X Coordinate</th>\n",
       "      <th>Y Coordinate</th>\n",
       "      <th>Year</th>\n",
       "      <th>Updated On</th>\n",
       "      <th>Location</th>\n",
       "      <th>Latitude</th>\n",
       "      <th>Longitude</th>\n",
       "    </tr>\n",
       "  </thead>\n",
       "  <tbody>\n",
       "    <tr>\n",
       "      <th>0</th>\n",
       "      <td>7446859</td>\n",
       "      <td>HS247325</td>\n",
       "      <td>1/1/08 0:01</td>\n",
       "      <td>1/1/08</td>\n",
       "      <td>0:01</td>\n",
       "      <td>004XX E 133RD ST</td>\n",
       "      <td>E 133RD ST</td>\n",
       "      <td>841</td>\n",
       "      <td>THEFT</td>\n",
       "      <td>FINANCIAL ID THEFT:$300 &amp;UNDER</td>\n",
       "      <td>...</td>\n",
       "      <td>9</td>\n",
       "      <td>54</td>\n",
       "      <td>6</td>\n",
       "      <td>NaN</td>\n",
       "      <td>NaN</td>\n",
       "      <td>2008</td>\n",
       "      <td>4/30/10 1:15</td>\n",
       "      <td>NaN</td>\n",
       "      <td>NaN</td>\n",
       "      <td>NaN</td>\n",
       "    </tr>\n",
       "    <tr>\n",
       "      <th>1</th>\n",
       "      <td>6236266</td>\n",
       "      <td>HP323693</td>\n",
       "      <td>1/1/08 0:01</td>\n",
       "      <td>1/1/08</td>\n",
       "      <td>0:01</td>\n",
       "      <td>013XX E 49TH ST</td>\n",
       "      <td>E 49TH ST</td>\n",
       "      <td>840</td>\n",
       "      <td>THEFT</td>\n",
       "      <td>FINANCIAL ID THEFT: OVER $300</td>\n",
       "      <td>...</td>\n",
       "      <td>4</td>\n",
       "      <td>39</td>\n",
       "      <td>6</td>\n",
       "      <td>1186146.0</td>\n",
       "      <td>1872823.0</td>\n",
       "      <td>2008</td>\n",
       "      <td>5/24/08 1:05</td>\n",
       "      <td>(41.80615476732223, -87.59280284925518)</td>\n",
       "      <td>41.806155</td>\n",
       "      <td>-87.592803</td>\n",
       "    </tr>\n",
       "    <tr>\n",
       "      <th>2</th>\n",
       "      <td>7514546</td>\n",
       "      <td>HS317259</td>\n",
       "      <td>1/1/08 0:01</td>\n",
       "      <td>1/1/08</td>\n",
       "      <td>0:01</td>\n",
       "      <td>014XX E 59TH ST</td>\n",
       "      <td>E 59TH ST</td>\n",
       "      <td>840</td>\n",
       "      <td>THEFT</td>\n",
       "      <td>FINANCIAL ID THEFT: OVER $300</td>\n",
       "      <td>...</td>\n",
       "      <td>5</td>\n",
       "      <td>41</td>\n",
       "      <td>6</td>\n",
       "      <td>NaN</td>\n",
       "      <td>NaN</td>\n",
       "      <td>2008</td>\n",
       "      <td>5/24/10 1:12</td>\n",
       "      <td>NaN</td>\n",
       "      <td>NaN</td>\n",
       "      <td>NaN</td>\n",
       "    </tr>\n",
       "  </tbody>\n",
       "</table>\n",
       "<p>3 rows × 25 columns</p>\n",
       "</div>"
      ],
      "text/plain": [
       "   identification Case Number    Date-Time    Date  Time             Block  \\\n",
       "0         7446859    HS247325  1/1/08 0:01  1/1/08  0:01  004XX E 133RD ST   \n",
       "1         6236266    HP323693  1/1/08 0:01  1/1/08  0:01   013XX E 49TH ST   \n",
       "2         7514546    HS317259  1/1/08 0:01  1/1/08  0:01   014XX E 59TH ST   \n",
       "\n",
       "       Street IUCR Primary Type                     Description    ...      \\\n",
       "0  E 133RD ST  841        THEFT  FINANCIAL ID THEFT:$300 &UNDER    ...       \n",
       "1   E 49TH ST  840        THEFT   FINANCIAL ID THEFT: OVER $300    ...       \n",
       "2   E 59TH ST  840        THEFT   FINANCIAL ID THEFT: OVER $300    ...       \n",
       "\n",
       "  Ward  Community Area  FBI Code  X Coordinate  Y Coordinate  Year  \\\n",
       "0    9              54         6           NaN           NaN  2008   \n",
       "1    4              39         6     1186146.0     1872823.0  2008   \n",
       "2    5              41         6           NaN           NaN  2008   \n",
       "\n",
       "     Updated On                                 Location   Latitude  Longitude  \n",
       "0  4/30/10 1:15                                      NaN        NaN        NaN  \n",
       "1  5/24/08 1:05  (41.80615476732223, -87.59280284925518)  41.806155 -87.592803  \n",
       "2  5/24/10 1:12                                      NaN        NaN        NaN  \n",
       "\n",
       "[3 rows x 25 columns]"
      ]
     },
     "execution_count": 35,
     "metadata": {},
     "output_type": "execute_result"
    }
   ],
   "source": [
    "crimes.head(3)"
   ]
  },
  {
   "cell_type": "code",
   "execution_count": 36,
   "metadata": {},
   "outputs": [
    {
     "data": {
      "text/plain": [
       "THEFT              605\n",
       "BATTERY            358\n",
       "CRIMINAL DAMAGE    187\n",
       "Name: Primary Type, dtype: int64"
      ]
     },
     "execution_count": 36,
     "metadata": {},
     "output_type": "execute_result"
    }
   ],
   "source": [
    "crimes['Primary Type'].value_counts().head(3)"
   ]
  },
  {
   "cell_type": "markdown",
   "metadata": {},
   "source": [
    "## Fixing Case, Spacing, Etc. on String Columns<a name=\"_fixing case, spacing, etc. on string columns\"></a>"
   ]
  },
  {
   "cell_type": "markdown",
   "metadata": {},
   "source": [
    "We can lower-case (lower()), upper-case (upper()) or \"Title\" case strings in a column:"
   ]
  },
  {
   "cell_type": "code",
   "execution_count": 37,
   "metadata": {
    "collapsed": true
   },
   "outputs": [],
   "source": [
    "crimes['Primary Type'] = crimes['Primary Type'].str.title()"
   ]
  },
  {
   "cell_type": "code",
   "execution_count": 38,
   "metadata": {},
   "outputs": [
    {
     "data": {
      "text/html": [
       "<div>\n",
       "<style>\n",
       "    .dataframe thead tr:only-child th {\n",
       "        text-align: right;\n",
       "    }\n",
       "\n",
       "    .dataframe thead th {\n",
       "        text-align: left;\n",
       "    }\n",
       "\n",
       "    .dataframe tbody tr th {\n",
       "        vertical-align: top;\n",
       "    }\n",
       "</style>\n",
       "<table border=\"1\" class=\"dataframe\">\n",
       "  <thead>\n",
       "    <tr style=\"text-align: right;\">\n",
       "      <th></th>\n",
       "      <th>identification</th>\n",
       "      <th>Case Number</th>\n",
       "      <th>Date-Time</th>\n",
       "      <th>Date</th>\n",
       "      <th>Time</th>\n",
       "      <th>Block</th>\n",
       "      <th>Street</th>\n",
       "      <th>IUCR</th>\n",
       "      <th>Primary Type</th>\n",
       "      <th>Description</th>\n",
       "      <th>...</th>\n",
       "      <th>Ward</th>\n",
       "      <th>Community Area</th>\n",
       "      <th>FBI Code</th>\n",
       "      <th>X Coordinate</th>\n",
       "      <th>Y Coordinate</th>\n",
       "      <th>Year</th>\n",
       "      <th>Updated On</th>\n",
       "      <th>Location</th>\n",
       "      <th>Latitude</th>\n",
       "      <th>Longitude</th>\n",
       "    </tr>\n",
       "  </thead>\n",
       "  <tbody>\n",
       "    <tr>\n",
       "      <th>0</th>\n",
       "      <td>7446859</td>\n",
       "      <td>HS247325</td>\n",
       "      <td>1/1/08 0:01</td>\n",
       "      <td>1/1/08</td>\n",
       "      <td>0:01</td>\n",
       "      <td>004XX E 133RD ST</td>\n",
       "      <td>E 133RD ST</td>\n",
       "      <td>841</td>\n",
       "      <td>Theft</td>\n",
       "      <td>FINANCIAL ID THEFT:$300 &amp;UNDER</td>\n",
       "      <td>...</td>\n",
       "      <td>9</td>\n",
       "      <td>54</td>\n",
       "      <td>6</td>\n",
       "      <td>NaN</td>\n",
       "      <td>NaN</td>\n",
       "      <td>2008</td>\n",
       "      <td>4/30/10 1:15</td>\n",
       "      <td>NaN</td>\n",
       "      <td>NaN</td>\n",
       "      <td>NaN</td>\n",
       "    </tr>\n",
       "    <tr>\n",
       "      <th>1</th>\n",
       "      <td>6236266</td>\n",
       "      <td>HP323693</td>\n",
       "      <td>1/1/08 0:01</td>\n",
       "      <td>1/1/08</td>\n",
       "      <td>0:01</td>\n",
       "      <td>013XX E 49TH ST</td>\n",
       "      <td>E 49TH ST</td>\n",
       "      <td>840</td>\n",
       "      <td>Theft</td>\n",
       "      <td>FINANCIAL ID THEFT: OVER $300</td>\n",
       "      <td>...</td>\n",
       "      <td>4</td>\n",
       "      <td>39</td>\n",
       "      <td>6</td>\n",
       "      <td>1186146.0</td>\n",
       "      <td>1872823.0</td>\n",
       "      <td>2008</td>\n",
       "      <td>5/24/08 1:05</td>\n",
       "      <td>(41.80615476732223, -87.59280284925518)</td>\n",
       "      <td>41.806155</td>\n",
       "      <td>-87.592803</td>\n",
       "    </tr>\n",
       "    <tr>\n",
       "      <th>2</th>\n",
       "      <td>7514546</td>\n",
       "      <td>HS317259</td>\n",
       "      <td>1/1/08 0:01</td>\n",
       "      <td>1/1/08</td>\n",
       "      <td>0:01</td>\n",
       "      <td>014XX E 59TH ST</td>\n",
       "      <td>E 59TH ST</td>\n",
       "      <td>840</td>\n",
       "      <td>Theft</td>\n",
       "      <td>FINANCIAL ID THEFT: OVER $300</td>\n",
       "      <td>...</td>\n",
       "      <td>5</td>\n",
       "      <td>41</td>\n",
       "      <td>6</td>\n",
       "      <td>NaN</td>\n",
       "      <td>NaN</td>\n",
       "      <td>2008</td>\n",
       "      <td>5/24/10 1:12</td>\n",
       "      <td>NaN</td>\n",
       "      <td>NaN</td>\n",
       "      <td>NaN</td>\n",
       "    </tr>\n",
       "  </tbody>\n",
       "</table>\n",
       "<p>3 rows × 25 columns</p>\n",
       "</div>"
      ],
      "text/plain": [
       "   identification Case Number    Date-Time    Date  Time             Block  \\\n",
       "0         7446859    HS247325  1/1/08 0:01  1/1/08  0:01  004XX E 133RD ST   \n",
       "1         6236266    HP323693  1/1/08 0:01  1/1/08  0:01   013XX E 49TH ST   \n",
       "2         7514546    HS317259  1/1/08 0:01  1/1/08  0:01   014XX E 59TH ST   \n",
       "\n",
       "       Street IUCR Primary Type                     Description    ...      \\\n",
       "0  E 133RD ST  841        Theft  FINANCIAL ID THEFT:$300 &UNDER    ...       \n",
       "1   E 49TH ST  840        Theft   FINANCIAL ID THEFT: OVER $300    ...       \n",
       "2   E 59TH ST  840        Theft   FINANCIAL ID THEFT: OVER $300    ...       \n",
       "\n",
       "  Ward  Community Area  FBI Code  X Coordinate  Y Coordinate  Year  \\\n",
       "0    9              54         6           NaN           NaN  2008   \n",
       "1    4              39         6     1186146.0     1872823.0  2008   \n",
       "2    5              41         6           NaN           NaN  2008   \n",
       "\n",
       "     Updated On                                 Location   Latitude  Longitude  \n",
       "0  4/30/10 1:15                                      NaN        NaN        NaN  \n",
       "1  5/24/08 1:05  (41.80615476732223, -87.59280284925518)  41.806155 -87.592803  \n",
       "2  5/24/10 1:12                                      NaN        NaN        NaN  \n",
       "\n",
       "[3 rows x 25 columns]"
      ]
     },
     "execution_count": 38,
     "metadata": {},
     "output_type": "execute_result"
    }
   ],
   "source": [
    "crimes.head(3)"
   ]
  },
  {
   "cell_type": "code",
   "execution_count": 39,
   "metadata": {
    "collapsed": true
   },
   "outputs": [],
   "source": [
    "crimes['Description'] = crimes['Description'].str.lower()"
   ]
  },
  {
   "cell_type": "code",
   "execution_count": 40,
   "metadata": {},
   "outputs": [
    {
     "data": {
      "text/plain": [
       "0    financial id theft:$300 &under\n",
       "1     financial id theft: over $300\n",
       "2     financial id theft: over $300\n",
       "3     financial id theft: over $300\n",
       "4           harassment by telephone\n",
       "Name: Description, dtype: object"
      ]
     },
     "execution_count": 40,
     "metadata": {},
     "output_type": "execute_result"
    }
   ],
   "source": [
    "crimes['Description'].head()"
   ]
  },
  {
   "cell_type": "markdown",
   "metadata": {},
   "source": [
    "## Search for String Values<a name=\"_search for string values\"></a>"
   ]
  },
  {
   "cell_type": "markdown",
   "metadata": {},
   "source": [
    "We can search for rows where a string is contained in part of the Description, for instance:"
   ]
  },
  {
   "cell_type": "code",
   "execution_count": 41,
   "metadata": {},
   "outputs": [
    {
     "data": {
      "text/plain": [
       "0     True\n",
       "1     True\n",
       "2     True\n",
       "3     True\n",
       "4    False\n",
       "Name: Description, dtype: bool"
      ]
     },
     "execution_count": 41,
     "metadata": {},
     "output_type": "execute_result"
    }
   ],
   "source": [
    "crimes['Description'].str.contains(\"theft\").head()"
   ]
  },
  {
   "cell_type": "markdown",
   "metadata": {},
   "source": [
    "Now let's use this match to subset the crimes dataframe to those matching rows, and look at two columns:"
   ]
  },
  {
   "cell_type": "code",
   "execution_count": 42,
   "metadata": {
    "scrolled": true
   },
   "outputs": [
    {
     "data": {
      "text/html": [
       "<div>\n",
       "<style>\n",
       "    .dataframe thead tr:only-child th {\n",
       "        text-align: right;\n",
       "    }\n",
       "\n",
       "    .dataframe thead th {\n",
       "        text-align: left;\n",
       "    }\n",
       "\n",
       "    .dataframe tbody tr th {\n",
       "        vertical-align: top;\n",
       "    }\n",
       "</style>\n",
       "<table border=\"1\" class=\"dataframe\">\n",
       "  <thead>\n",
       "    <tr style=\"text-align: right;\">\n",
       "      <th></th>\n",
       "      <th>Primary Type</th>\n",
       "      <th>Description</th>\n",
       "    </tr>\n",
       "  </thead>\n",
       "  <tbody>\n",
       "    <tr>\n",
       "      <th>0</th>\n",
       "      <td>Theft</td>\n",
       "      <td>financial id theft:$300 &amp;under</td>\n",
       "    </tr>\n",
       "    <tr>\n",
       "      <th>1</th>\n",
       "      <td>Theft</td>\n",
       "      <td>financial id theft: over $300</td>\n",
       "    </tr>\n",
       "    <tr>\n",
       "      <th>2</th>\n",
       "      <td>Theft</td>\n",
       "      <td>financial id theft: over $300</td>\n",
       "    </tr>\n",
       "    <tr>\n",
       "      <th>3</th>\n",
       "      <td>Theft</td>\n",
       "      <td>financial id theft: over $300</td>\n",
       "    </tr>\n",
       "    <tr>\n",
       "      <th>5</th>\n",
       "      <td>Theft</td>\n",
       "      <td>financial id theft:$300 &amp;under</td>\n",
       "    </tr>\n",
       "    <tr>\n",
       "      <th>7</th>\n",
       "      <td>Theft</td>\n",
       "      <td>financial id theft: over $300</td>\n",
       "    </tr>\n",
       "    <tr>\n",
       "      <th>9</th>\n",
       "      <td>Theft</td>\n",
       "      <td>financial id theft: over $300</td>\n",
       "    </tr>\n",
       "    <tr>\n",
       "      <th>10</th>\n",
       "      <td>Theft</td>\n",
       "      <td>financial id theft: over $300</td>\n",
       "    </tr>\n",
       "    <tr>\n",
       "      <th>12</th>\n",
       "      <td>Theft</td>\n",
       "      <td>financial id theft:$300 &amp;under</td>\n",
       "    </tr>\n",
       "    <tr>\n",
       "      <th>14</th>\n",
       "      <td>Theft</td>\n",
       "      <td>financial id theft: over $300</td>\n",
       "    </tr>\n",
       "    <tr>\n",
       "      <th>19</th>\n",
       "      <td>Theft</td>\n",
       "      <td>financial id theft: over $300</td>\n",
       "    </tr>\n",
       "    <tr>\n",
       "      <th>22</th>\n",
       "      <td>Deceptive Practice</td>\n",
       "      <td>theft of labor/services</td>\n",
       "    </tr>\n",
       "    <tr>\n",
       "      <th>28</th>\n",
       "      <td>Theft</td>\n",
       "      <td>financial id theft: over $300</td>\n",
       "    </tr>\n",
       "    <tr>\n",
       "      <th>30</th>\n",
       "      <td>Theft</td>\n",
       "      <td>financial id theft: over $300</td>\n",
       "    </tr>\n",
       "    <tr>\n",
       "      <th>35</th>\n",
       "      <td>Theft</td>\n",
       "      <td>financial id theft: over $300</td>\n",
       "    </tr>\n",
       "    <tr>\n",
       "      <th>36</th>\n",
       "      <td>Theft</td>\n",
       "      <td>financial id theft: over $300</td>\n",
       "    </tr>\n",
       "    <tr>\n",
       "      <th>37</th>\n",
       "      <td>Theft</td>\n",
       "      <td>financial id theft:$300 &amp;under</td>\n",
       "    </tr>\n",
       "    <tr>\n",
       "      <th>41</th>\n",
       "      <td>Theft</td>\n",
       "      <td>agg: financial id theft</td>\n",
       "    </tr>\n",
       "    <tr>\n",
       "      <th>42</th>\n",
       "      <td>Theft</td>\n",
       "      <td>financial id theft: over $300</td>\n",
       "    </tr>\n",
       "    <tr>\n",
       "      <th>44</th>\n",
       "      <td>Theft</td>\n",
       "      <td>financial id theft: over $300</td>\n",
       "    </tr>\n",
       "    <tr>\n",
       "      <th>45</th>\n",
       "      <td>Theft</td>\n",
       "      <td>financial id theft: over $300</td>\n",
       "    </tr>\n",
       "    <tr>\n",
       "      <th>46</th>\n",
       "      <td>Theft</td>\n",
       "      <td>financial id theft: over $300</td>\n",
       "    </tr>\n",
       "    <tr>\n",
       "      <th>49</th>\n",
       "      <td>Theft</td>\n",
       "      <td>financial id theft: over $300</td>\n",
       "    </tr>\n",
       "    <tr>\n",
       "      <th>50</th>\n",
       "      <td>Theft</td>\n",
       "      <td>financial id theft: over $300</td>\n",
       "    </tr>\n",
       "    <tr>\n",
       "      <th>52</th>\n",
       "      <td>Theft</td>\n",
       "      <td>financial id theft: over $300</td>\n",
       "    </tr>\n",
       "    <tr>\n",
       "      <th>53</th>\n",
       "      <td>Theft</td>\n",
       "      <td>financial id theft:$300 &amp;under</td>\n",
       "    </tr>\n",
       "    <tr>\n",
       "      <th>54</th>\n",
       "      <td>Theft</td>\n",
       "      <td>financial id theft:$300 &amp;under</td>\n",
       "    </tr>\n",
       "    <tr>\n",
       "      <th>56</th>\n",
       "      <td>Theft</td>\n",
       "      <td>financial id theft: over $300</td>\n",
       "    </tr>\n",
       "    <tr>\n",
       "      <th>57</th>\n",
       "      <td>Theft</td>\n",
       "      <td>financial id theft: over $300</td>\n",
       "    </tr>\n",
       "    <tr>\n",
       "      <th>59</th>\n",
       "      <td>Theft</td>\n",
       "      <td>financial id theft: over $300</td>\n",
       "    </tr>\n",
       "    <tr>\n",
       "      <th>...</th>\n",
       "      <td>...</td>\n",
       "      <td>...</td>\n",
       "    </tr>\n",
       "    <tr>\n",
       "      <th>1745</th>\n",
       "      <td>Theft</td>\n",
       "      <td>financial id theft:$300 &amp;under</td>\n",
       "    </tr>\n",
       "    <tr>\n",
       "      <th>1748</th>\n",
       "      <td>Theft</td>\n",
       "      <td>financial id theft: over $300</td>\n",
       "    </tr>\n",
       "    <tr>\n",
       "      <th>1750</th>\n",
       "      <td>Theft</td>\n",
       "      <td>financial id theft: over $300</td>\n",
       "    </tr>\n",
       "    <tr>\n",
       "      <th>1753</th>\n",
       "      <td>Theft</td>\n",
       "      <td>financial id theft:$300 &amp;under</td>\n",
       "    </tr>\n",
       "    <tr>\n",
       "      <th>1756</th>\n",
       "      <td>Theft</td>\n",
       "      <td>financial id theft:$300 &amp;under</td>\n",
       "    </tr>\n",
       "    <tr>\n",
       "      <th>1759</th>\n",
       "      <td>Theft</td>\n",
       "      <td>financial id theft:$300 &amp;under</td>\n",
       "    </tr>\n",
       "    <tr>\n",
       "      <th>1760</th>\n",
       "      <td>Theft</td>\n",
       "      <td>financial id theft:$300 &amp;under</td>\n",
       "    </tr>\n",
       "    <tr>\n",
       "      <th>1764</th>\n",
       "      <td>Theft</td>\n",
       "      <td>financial id theft: over $300</td>\n",
       "    </tr>\n",
       "    <tr>\n",
       "      <th>1766</th>\n",
       "      <td>Theft</td>\n",
       "      <td>financial id theft: over $300</td>\n",
       "    </tr>\n",
       "    <tr>\n",
       "      <th>1770</th>\n",
       "      <td>Theft</td>\n",
       "      <td>agg: financial id theft</td>\n",
       "    </tr>\n",
       "    <tr>\n",
       "      <th>1772</th>\n",
       "      <td>Theft</td>\n",
       "      <td>financial id theft: over $300</td>\n",
       "    </tr>\n",
       "    <tr>\n",
       "      <th>1773</th>\n",
       "      <td>Theft</td>\n",
       "      <td>financial id theft: over $300</td>\n",
       "    </tr>\n",
       "    <tr>\n",
       "      <th>1791</th>\n",
       "      <td>Deceptive Practice</td>\n",
       "      <td>theft of labor/services</td>\n",
       "    </tr>\n",
       "    <tr>\n",
       "      <th>1804</th>\n",
       "      <td>Theft</td>\n",
       "      <td>financial id theft: over $300</td>\n",
       "    </tr>\n",
       "    <tr>\n",
       "      <th>1808</th>\n",
       "      <td>Theft</td>\n",
       "      <td>financial id theft:$300 &amp;under</td>\n",
       "    </tr>\n",
       "    <tr>\n",
       "      <th>1809</th>\n",
       "      <td>Theft</td>\n",
       "      <td>financial id theft: over $300</td>\n",
       "    </tr>\n",
       "    <tr>\n",
       "      <th>1815</th>\n",
       "      <td>Theft</td>\n",
       "      <td>financial id theft: over $300</td>\n",
       "    </tr>\n",
       "    <tr>\n",
       "      <th>1818</th>\n",
       "      <td>Theft</td>\n",
       "      <td>financial id theft: over $300</td>\n",
       "    </tr>\n",
       "    <tr>\n",
       "      <th>1840</th>\n",
       "      <td>Theft</td>\n",
       "      <td>retail theft</td>\n",
       "    </tr>\n",
       "    <tr>\n",
       "      <th>1844</th>\n",
       "      <td>Theft</td>\n",
       "      <td>retail theft</td>\n",
       "    </tr>\n",
       "    <tr>\n",
       "      <th>1865</th>\n",
       "      <td>Theft</td>\n",
       "      <td>retail theft</td>\n",
       "    </tr>\n",
       "    <tr>\n",
       "      <th>1881</th>\n",
       "      <td>Theft</td>\n",
       "      <td>retail theft</td>\n",
       "    </tr>\n",
       "    <tr>\n",
       "      <th>1891</th>\n",
       "      <td>Motor Vehicle Theft</td>\n",
       "      <td>theft/recovery: automobile</td>\n",
       "    </tr>\n",
       "    <tr>\n",
       "      <th>1892</th>\n",
       "      <td>Theft</td>\n",
       "      <td>financial id theft: over $300</td>\n",
       "    </tr>\n",
       "    <tr>\n",
       "      <th>1908</th>\n",
       "      <td>Theft</td>\n",
       "      <td>financial id theft: over $300</td>\n",
       "    </tr>\n",
       "    <tr>\n",
       "      <th>1911</th>\n",
       "      <td>Theft</td>\n",
       "      <td>financial id theft: over $300</td>\n",
       "    </tr>\n",
       "    <tr>\n",
       "      <th>1912</th>\n",
       "      <td>Theft</td>\n",
       "      <td>financial id theft: over $300</td>\n",
       "    </tr>\n",
       "    <tr>\n",
       "      <th>1944</th>\n",
       "      <td>Deceptive Practice</td>\n",
       "      <td>theft of lost/mislaid prop</td>\n",
       "    </tr>\n",
       "    <tr>\n",
       "      <th>1954</th>\n",
       "      <td>Theft</td>\n",
       "      <td>retail theft</td>\n",
       "    </tr>\n",
       "    <tr>\n",
       "      <th>1972</th>\n",
       "      <td>Theft</td>\n",
       "      <td>financial id theft:$300 &amp;under</td>\n",
       "    </tr>\n",
       "  </tbody>\n",
       "</table>\n",
       "<p>382 rows × 2 columns</p>\n",
       "</div>"
      ],
      "text/plain": [
       "             Primary Type                     Description\n",
       "0                   Theft  financial id theft:$300 &under\n",
       "1                   Theft   financial id theft: over $300\n",
       "2                   Theft   financial id theft: over $300\n",
       "3                   Theft   financial id theft: over $300\n",
       "5                   Theft  financial id theft:$300 &under\n",
       "7                   Theft   financial id theft: over $300\n",
       "9                   Theft   financial id theft: over $300\n",
       "10                  Theft   financial id theft: over $300\n",
       "12                  Theft  financial id theft:$300 &under\n",
       "14                  Theft   financial id theft: over $300\n",
       "19                  Theft   financial id theft: over $300\n",
       "22     Deceptive Practice         theft of labor/services\n",
       "28                  Theft   financial id theft: over $300\n",
       "30                  Theft   financial id theft: over $300\n",
       "35                  Theft   financial id theft: over $300\n",
       "36                  Theft   financial id theft: over $300\n",
       "37                  Theft  financial id theft:$300 &under\n",
       "41                  Theft         agg: financial id theft\n",
       "42                  Theft   financial id theft: over $300\n",
       "44                  Theft   financial id theft: over $300\n",
       "45                  Theft   financial id theft: over $300\n",
       "46                  Theft   financial id theft: over $300\n",
       "49                  Theft   financial id theft: over $300\n",
       "50                  Theft   financial id theft: over $300\n",
       "52                  Theft   financial id theft: over $300\n",
       "53                  Theft  financial id theft:$300 &under\n",
       "54                  Theft  financial id theft:$300 &under\n",
       "56                  Theft   financial id theft: over $300\n",
       "57                  Theft   financial id theft: over $300\n",
       "59                  Theft   financial id theft: over $300\n",
       "...                   ...                             ...\n",
       "1745                Theft  financial id theft:$300 &under\n",
       "1748                Theft   financial id theft: over $300\n",
       "1750                Theft   financial id theft: over $300\n",
       "1753                Theft  financial id theft:$300 &under\n",
       "1756                Theft  financial id theft:$300 &under\n",
       "1759                Theft  financial id theft:$300 &under\n",
       "1760                Theft  financial id theft:$300 &under\n",
       "1764                Theft   financial id theft: over $300\n",
       "1766                Theft   financial id theft: over $300\n",
       "1770                Theft         agg: financial id theft\n",
       "1772                Theft   financial id theft: over $300\n",
       "1773                Theft   financial id theft: over $300\n",
       "1791   Deceptive Practice         theft of labor/services\n",
       "1804                Theft   financial id theft: over $300\n",
       "1808                Theft  financial id theft:$300 &under\n",
       "1809                Theft   financial id theft: over $300\n",
       "1815                Theft   financial id theft: over $300\n",
       "1818                Theft   financial id theft: over $300\n",
       "1840                Theft                    retail theft\n",
       "1844                Theft                    retail theft\n",
       "1865                Theft                    retail theft\n",
       "1881                Theft                    retail theft\n",
       "1891  Motor Vehicle Theft      theft/recovery: automobile\n",
       "1892                Theft   financial id theft: over $300\n",
       "1908                Theft   financial id theft: over $300\n",
       "1911                Theft   financial id theft: over $300\n",
       "1912                Theft   financial id theft: over $300\n",
       "1944   Deceptive Practice      theft of lost/mislaid prop\n",
       "1954                Theft                    retail theft\n",
       "1972                Theft  financial id theft:$300 &under\n",
       "\n",
       "[382 rows x 2 columns]"
      ]
     },
     "execution_count": 42,
     "metadata": {},
     "output_type": "execute_result"
    }
   ],
   "source": [
    "crimes_with_theft = crimes[crimes['Description'].str.contains(\"theft\")]   \n",
    "#crimes_with_theft\n",
    "crimes_with_theft[['Primary Type','Description']]"
   ]
  },
  {
   "cell_type": "markdown",
   "metadata": {},
   "source": [
    "Now let's count how many of each theft description type there are, using value_counts():"
   ]
  },
  {
   "cell_type": "code",
   "execution_count": 43,
   "metadata": {},
   "outputs": [
    {
     "data": {
      "text/plain": [
       "financial id theft: over $300       247\n",
       "financial id theft:$300 &under       68\n",
       "retail theft                         24\n",
       "agg: financial id theft              13\n",
       "attempt financial identity theft     10\n",
       "theft of labor/services               9\n",
       "theft/recovery: automobile            8\n",
       "theft of lost/mislaid prop            2\n",
       "theft by lessee,non-veh               1\n",
       "Name: Description, dtype: int64"
      ]
     },
     "execution_count": 43,
     "metadata": {},
     "output_type": "execute_result"
    }
   ],
   "source": [
    "crimes[crimes['Description'].str.contains(\"theft\")]['Description'].value_counts()"
   ]
  },
  {
   "cell_type": "markdown",
   "metadata": {},
   "source": [
    "You can use str functions like `str.match` (same as ==), `str.contains`, `str.startswith`, and `str.endswith`.\n",
    "\n",
    "You can also use regular expressions in searches, which means a more flexible search. This means that some characters are special and need \"escaping\" to be matched explicitly.  That includes \".\", \"+\", \"$\", \"*\"."
   ]
  },
  {
   "cell_type": "code",
   "execution_count": 44,
   "metadata": {},
   "outputs": [
    {
     "data": {
      "text/plain": [
       "financial id theft: over $300     247\n",
       "$300 and under                     82\n",
       "financial id theft:$300 &under     68\n",
       "over $300                          60\n",
       "over $500                           1\n",
       "Name: Description, dtype: int64"
      ]
     },
     "execution_count": 44,
     "metadata": {},
     "output_type": "execute_result"
    }
   ],
   "source": [
    "crimes[crimes['Description'].str.contains('\\$')]['Description'].value_counts()"
   ]
  },
  {
   "cell_type": "markdown",
   "metadata": {},
   "source": [
    "You can read more about Regular Expressions here: https://docs.python.org/3/howto/regex.html\n",
    "\n",
    "And some examples in pandas strings here: http://pandas.pydata.org/pandas-docs/stable/text.html#extracting-substrings (and also for searches)\n"
   ]
  },
  {
   "cell_type": "markdown",
   "metadata": {},
   "source": [
    "## Split a String Column Into Multiple Columns<a name=\"_split a string column into multiple columns\"></a>"
   ]
  },
  {
   "cell_type": "markdown",
   "metadata": {},
   "source": [
    "How can we take a text column and split it by a delimiter, like we can in Excel?  Take the Location column, for instance.  We want to split by the comma, and then remove the parentheses.  We can use \"split\" and the keyword \"expand\" to result in new columns:"
   ]
  },
  {
   "cell_type": "code",
   "execution_count": 45,
   "metadata": {},
   "outputs": [
    {
     "data": {
      "text/plain": [
       "0                                        NaN\n",
       "1    (41.80615476732223, -87.59280284925518)\n",
       "2                                        NaN\n",
       "3     (41.78228592790556, -87.5908189949899)\n",
       "4    (41.76318136897587, -87.58973074990949)\n",
       "Name: Location, dtype: object"
      ]
     },
     "execution_count": 45,
     "metadata": {},
     "output_type": "execute_result"
    }
   ],
   "source": [
    "crimes['Location'].head()"
   ]
  },
  {
   "cell_type": "code",
   "execution_count": 46,
   "metadata": {},
   "outputs": [
    {
     "data": {
      "text/html": [
       "<div>\n",
       "<style>\n",
       "    .dataframe thead tr:only-child th {\n",
       "        text-align: right;\n",
       "    }\n",
       "\n",
       "    .dataframe thead th {\n",
       "        text-align: left;\n",
       "    }\n",
       "\n",
       "    .dataframe tbody tr th {\n",
       "        vertical-align: top;\n",
       "    }\n",
       "</style>\n",
       "<table border=\"1\" class=\"dataframe\">\n",
       "  <thead>\n",
       "    <tr style=\"text-align: right;\">\n",
       "      <th></th>\n",
       "      <th>0</th>\n",
       "      <th>1</th>\n",
       "    </tr>\n",
       "  </thead>\n",
       "  <tbody>\n",
       "    <tr>\n",
       "      <th>0</th>\n",
       "      <td>NaN</td>\n",
       "      <td>None</td>\n",
       "    </tr>\n",
       "    <tr>\n",
       "      <th>1</th>\n",
       "      <td>(41.80615476732223</td>\n",
       "      <td>-87.59280284925518)</td>\n",
       "    </tr>\n",
       "    <tr>\n",
       "      <th>2</th>\n",
       "      <td>NaN</td>\n",
       "      <td>None</td>\n",
       "    </tr>\n",
       "    <tr>\n",
       "      <th>3</th>\n",
       "      <td>(41.78228592790556</td>\n",
       "      <td>-87.5908189949899)</td>\n",
       "    </tr>\n",
       "    <tr>\n",
       "      <th>4</th>\n",
       "      <td>(41.76318136897587</td>\n",
       "      <td>-87.58973074990949)</td>\n",
       "    </tr>\n",
       "  </tbody>\n",
       "</table>\n",
       "</div>"
      ],
      "text/plain": [
       "                    0                     1\n",
       "0                 NaN                  None\n",
       "1  (41.80615476732223   -87.59280284925518)\n",
       "2                 NaN                  None\n",
       "3  (41.78228592790556    -87.5908189949899)\n",
       "4  (41.76318136897587   -87.58973074990949)"
      ]
     },
     "execution_count": 46,
     "metadata": {},
     "output_type": "execute_result"
    }
   ],
   "source": [
    "crimes['Location'].str.split(\",\", expand=True).head()"
   ]
  },
  {
   "cell_type": "code",
   "execution_count": 47,
   "metadata": {
    "collapsed": true
   },
   "outputs": [],
   "source": [
    "lat_lon = crimes['Location'].str.split(\",\", expand=True)"
   ]
  },
  {
   "cell_type": "code",
   "execution_count": 48,
   "metadata": {
    "collapsed": true
   },
   "outputs": [],
   "source": [
    "# take care - the columns are actually named with integers, not strings.\n",
    "lat_lon = lat_lon.rename(index=str, columns={0:\"Lat\", 1:\"Lon\"})"
   ]
  },
  {
   "cell_type": "code",
   "execution_count": null,
   "metadata": {},
   "outputs": [],
   "source": [
    "lat_lon.head()"
   ]
  },
  {
   "cell_type": "code",
   "execution_count": 49,
   "metadata": {
    "collapsed": true
   },
   "outputs": [],
   "source": [
    "lat_lon['Lat'] = lat_lon['Lat'].str.replace(\"(\", \"\")"
   ]
  },
  {
   "cell_type": "code",
   "execution_count": 50,
   "metadata": {
    "collapsed": true
   },
   "outputs": [],
   "source": [
    "lat_lon['Lon'] = lat_lon['Lon'].str.replace(\")\", \"\")"
   ]
  },
  {
   "cell_type": "code",
   "execution_count": 52,
   "metadata": {},
   "outputs": [
    {
     "data": {
      "text/html": [
       "<div>\n",
       "<style>\n",
       "    .dataframe thead tr:only-child th {\n",
       "        text-align: right;\n",
       "    }\n",
       "\n",
       "    .dataframe thead th {\n",
       "        text-align: left;\n",
       "    }\n",
       "\n",
       "    .dataframe tbody tr th {\n",
       "        vertical-align: top;\n",
       "    }\n",
       "</style>\n",
       "<table border=\"1\" class=\"dataframe\">\n",
       "  <thead>\n",
       "    <tr style=\"text-align: right;\">\n",
       "      <th></th>\n",
       "      <th>Lat</th>\n",
       "      <th>Lon</th>\n",
       "    </tr>\n",
       "  </thead>\n",
       "  <tbody>\n",
       "    <tr>\n",
       "      <th>0</th>\n",
       "      <td>NaN</td>\n",
       "      <td>None</td>\n",
       "    </tr>\n",
       "    <tr>\n",
       "      <th>1</th>\n",
       "      <td>41.80615476732223</td>\n",
       "      <td>-87.59280284925518</td>\n",
       "    </tr>\n",
       "    <tr>\n",
       "      <th>2</th>\n",
       "      <td>NaN</td>\n",
       "      <td>None</td>\n",
       "    </tr>\n",
       "    <tr>\n",
       "      <th>3</th>\n",
       "      <td>41.78228592790556</td>\n",
       "      <td>-87.5908189949899</td>\n",
       "    </tr>\n",
       "    <tr>\n",
       "      <th>4</th>\n",
       "      <td>41.76318136897587</td>\n",
       "      <td>-87.58973074990949</td>\n",
       "    </tr>\n",
       "  </tbody>\n",
       "</table>\n",
       "</div>"
      ],
      "text/plain": [
       "                 Lat                  Lon\n",
       "0                NaN                 None\n",
       "1  41.80615476732223   -87.59280284925518\n",
       "2                NaN                 None\n",
       "3  41.78228592790556    -87.5908189949899\n",
       "4  41.76318136897587   -87.58973074990949"
      ]
     },
     "execution_count": 52,
     "metadata": {},
     "output_type": "execute_result"
    }
   ],
   "source": [
    "lat_lon.head()"
   ]
  },
  {
   "cell_type": "markdown",
   "metadata": {},
   "source": [
    "###  What if we want to add that to the crimes dataframe?<a name=\"_ what if we want to add that to the crimes dataframe?\"></a><a name=\"_ what if we want to add that to the crimes dataframe?\"></a>"
   ]
  },
  {
   "cell_type": "markdown",
   "metadata": {},
   "source": [
    "You can just set new columns in the crimes dataframe equal to the ones in this small new dataframe, like this (you can call them different names in crimes, if you wanted):"
   ]
  },
  {
   "cell_type": "code",
   "execution_count": 53,
   "metadata": {},
   "outputs": [
    {
     "data": {
      "text/plain": [
       "pandas.core.series.Series"
      ]
     },
     "execution_count": 53,
     "metadata": {},
     "output_type": "execute_result"
    }
   ],
   "source": [
    "type(lat_lon['Lat'])"
   ]
  },
  {
   "cell_type": "code",
   "execution_count": 54,
   "metadata": {},
   "outputs": [
    {
     "data": {
      "text/plain": [
       "Index(['0', '1', '2', '3', '4', '5', '6', '7', '8', '9',\n",
       "       ...\n",
       "       '1990', '1991', '1992', '1993', '1994', '1995', '1996', '1997', '1998',\n",
       "       '1999'],\n",
       "      dtype='object', length=2000)"
      ]
     },
     "execution_count": 54,
     "metadata": {},
     "output_type": "execute_result"
    }
   ],
   "source": [
    "lat_lon.index"
   ]
  },
  {
   "cell_type": "code",
   "execution_count": 55,
   "metadata": {},
   "outputs": [
    {
     "data": {
      "text/plain": [
       "RangeIndex(start=0, stop=2000, step=1)"
      ]
     },
     "execution_count": 55,
     "metadata": {},
     "output_type": "execute_result"
    }
   ],
   "source": [
    "# Notice this index is ints, not strings. they don't match.\n",
    "crimes.index"
   ]
  },
  {
   "cell_type": "markdown",
   "metadata": {},
   "source": [
    "Because their indices are different, we can't set one equal to the other as columns-- we have to extract the values from the lat_lon and use those (it's just a giant list).  Other methods like pd.concat will also fail."
   ]
  },
  {
   "cell_type": "code",
   "execution_count": 56,
   "metadata": {
    "collapsed": true
   },
   "outputs": [],
   "source": [
    "crimes['Lat'] = lat_lon['Lat'].values"
   ]
  },
  {
   "cell_type": "code",
   "execution_count": 57,
   "metadata": {},
   "outputs": [
    {
     "data": {
      "text/html": [
       "<div>\n",
       "<style>\n",
       "    .dataframe thead tr:only-child th {\n",
       "        text-align: right;\n",
       "    }\n",
       "\n",
       "    .dataframe thead th {\n",
       "        text-align: left;\n",
       "    }\n",
       "\n",
       "    .dataframe tbody tr th {\n",
       "        vertical-align: top;\n",
       "    }\n",
       "</style>\n",
       "<table border=\"1\" class=\"dataframe\">\n",
       "  <thead>\n",
       "    <tr style=\"text-align: right;\">\n",
       "      <th></th>\n",
       "      <th>identification</th>\n",
       "      <th>Case Number</th>\n",
       "      <th>Date-Time</th>\n",
       "      <th>Date</th>\n",
       "      <th>Time</th>\n",
       "      <th>Block</th>\n",
       "      <th>Street</th>\n",
       "      <th>IUCR</th>\n",
       "      <th>Primary Type</th>\n",
       "      <th>Description</th>\n",
       "      <th>...</th>\n",
       "      <th>Community Area</th>\n",
       "      <th>FBI Code</th>\n",
       "      <th>X Coordinate</th>\n",
       "      <th>Y Coordinate</th>\n",
       "      <th>Year</th>\n",
       "      <th>Updated On</th>\n",
       "      <th>Location</th>\n",
       "      <th>Latitude</th>\n",
       "      <th>Longitude</th>\n",
       "      <th>Lat</th>\n",
       "    </tr>\n",
       "  </thead>\n",
       "  <tbody>\n",
       "    <tr>\n",
       "      <th>0</th>\n",
       "      <td>7446859</td>\n",
       "      <td>HS247325</td>\n",
       "      <td>1/1/08 0:01</td>\n",
       "      <td>1/1/08</td>\n",
       "      <td>0:01</td>\n",
       "      <td>004XX E 133RD ST</td>\n",
       "      <td>E 133RD ST</td>\n",
       "      <td>841</td>\n",
       "      <td>Theft</td>\n",
       "      <td>financial id theft:$300 &amp;under</td>\n",
       "      <td>...</td>\n",
       "      <td>54</td>\n",
       "      <td>6</td>\n",
       "      <td>NaN</td>\n",
       "      <td>NaN</td>\n",
       "      <td>2008</td>\n",
       "      <td>4/30/10 1:15</td>\n",
       "      <td>NaN</td>\n",
       "      <td>NaN</td>\n",
       "      <td>NaN</td>\n",
       "      <td>NaN</td>\n",
       "    </tr>\n",
       "    <tr>\n",
       "      <th>1</th>\n",
       "      <td>6236266</td>\n",
       "      <td>HP323693</td>\n",
       "      <td>1/1/08 0:01</td>\n",
       "      <td>1/1/08</td>\n",
       "      <td>0:01</td>\n",
       "      <td>013XX E 49TH ST</td>\n",
       "      <td>E 49TH ST</td>\n",
       "      <td>840</td>\n",
       "      <td>Theft</td>\n",
       "      <td>financial id theft: over $300</td>\n",
       "      <td>...</td>\n",
       "      <td>39</td>\n",
       "      <td>6</td>\n",
       "      <td>1186146.0</td>\n",
       "      <td>1872823.0</td>\n",
       "      <td>2008</td>\n",
       "      <td>5/24/08 1:05</td>\n",
       "      <td>(41.80615476732223, -87.59280284925518)</td>\n",
       "      <td>41.806155</td>\n",
       "      <td>-87.592803</td>\n",
       "      <td>41.80615476732223</td>\n",
       "    </tr>\n",
       "    <tr>\n",
       "      <th>2</th>\n",
       "      <td>7514546</td>\n",
       "      <td>HS317259</td>\n",
       "      <td>1/1/08 0:01</td>\n",
       "      <td>1/1/08</td>\n",
       "      <td>0:01</td>\n",
       "      <td>014XX E 59TH ST</td>\n",
       "      <td>E 59TH ST</td>\n",
       "      <td>840</td>\n",
       "      <td>Theft</td>\n",
       "      <td>financial id theft: over $300</td>\n",
       "      <td>...</td>\n",
       "      <td>41</td>\n",
       "      <td>6</td>\n",
       "      <td>NaN</td>\n",
       "      <td>NaN</td>\n",
       "      <td>2008</td>\n",
       "      <td>5/24/10 1:12</td>\n",
       "      <td>NaN</td>\n",
       "      <td>NaN</td>\n",
       "      <td>NaN</td>\n",
       "      <td>NaN</td>\n",
       "    </tr>\n",
       "    <tr>\n",
       "      <th>3</th>\n",
       "      <td>6422569</td>\n",
       "      <td>HP499242</td>\n",
       "      <td>1/1/08 0:01</td>\n",
       "      <td>1/1/08</td>\n",
       "      <td>0:01</td>\n",
       "      <td>014XX E 62ND ST</td>\n",
       "      <td>E 62ND ST</td>\n",
       "      <td>840</td>\n",
       "      <td>Theft</td>\n",
       "      <td>financial id theft: over $300</td>\n",
       "      <td>...</td>\n",
       "      <td>42</td>\n",
       "      <td>6</td>\n",
       "      <td>1186762.0</td>\n",
       "      <td>1864130.0</td>\n",
       "      <td>2008</td>\n",
       "      <td>8/17/08 1:04</td>\n",
       "      <td>(41.78228592790556, -87.5908189949899)</td>\n",
       "      <td>41.782286</td>\n",
       "      <td>-87.590819</td>\n",
       "      <td>41.78228592790556</td>\n",
       "    </tr>\n",
       "    <tr>\n",
       "      <th>4</th>\n",
       "      <td>6013347</td>\n",
       "      <td>HP118097</td>\n",
       "      <td>1/1/08 0:01</td>\n",
       "      <td>1/1/08</td>\n",
       "      <td>0:01</td>\n",
       "      <td>014XX E 72ND PL</td>\n",
       "      <td>E 72ND PL</td>\n",
       "      <td>2825</td>\n",
       "      <td>Other Offense</td>\n",
       "      <td>harassment by telephone</td>\n",
       "      <td>...</td>\n",
       "      <td>43</td>\n",
       "      <td>26</td>\n",
       "      <td>1187119.0</td>\n",
       "      <td>1857171.0</td>\n",
       "      <td>2008</td>\n",
       "      <td>1/16/08 1:05</td>\n",
       "      <td>(41.76318136897587, -87.58973074990949)</td>\n",
       "      <td>41.763181</td>\n",
       "      <td>-87.589731</td>\n",
       "      <td>41.76318136897587</td>\n",
       "    </tr>\n",
       "  </tbody>\n",
       "</table>\n",
       "<p>5 rows × 26 columns</p>\n",
       "</div>"
      ],
      "text/plain": [
       "   identification Case Number    Date-Time    Date  Time             Block  \\\n",
       "0         7446859    HS247325  1/1/08 0:01  1/1/08  0:01  004XX E 133RD ST   \n",
       "1         6236266    HP323693  1/1/08 0:01  1/1/08  0:01   013XX E 49TH ST   \n",
       "2         7514546    HS317259  1/1/08 0:01  1/1/08  0:01   014XX E 59TH ST   \n",
       "3         6422569    HP499242  1/1/08 0:01  1/1/08  0:01   014XX E 62ND ST   \n",
       "4         6013347    HP118097  1/1/08 0:01  1/1/08  0:01   014XX E 72ND PL   \n",
       "\n",
       "       Street  IUCR   Primary Type                     Description  \\\n",
       "0  E 133RD ST   841          Theft  financial id theft:$300 &under   \n",
       "1   E 49TH ST   840          Theft   financial id theft: over $300   \n",
       "2   E 59TH ST   840          Theft   financial id theft: over $300   \n",
       "3   E 62ND ST   840          Theft   financial id theft: over $300   \n",
       "4   E 72ND PL  2825  Other Offense         harassment by telephone   \n",
       "\n",
       "         ...         Community Area  FBI Code  X Coordinate  Y Coordinate  \\\n",
       "0        ...                     54         6           NaN           NaN   \n",
       "1        ...                     39         6     1186146.0     1872823.0   \n",
       "2        ...                     41         6           NaN           NaN   \n",
       "3        ...                     42         6     1186762.0     1864130.0   \n",
       "4        ...                     43        26     1187119.0     1857171.0   \n",
       "\n",
       "   Year    Updated On                                 Location   Latitude  \\\n",
       "0  2008  4/30/10 1:15                                      NaN        NaN   \n",
       "1  2008  5/24/08 1:05  (41.80615476732223, -87.59280284925518)  41.806155   \n",
       "2  2008  5/24/10 1:12                                      NaN        NaN   \n",
       "3  2008  8/17/08 1:04   (41.78228592790556, -87.5908189949899)  41.782286   \n",
       "4  2008  1/16/08 1:05  (41.76318136897587, -87.58973074990949)  41.763181   \n",
       "\n",
       "   Longitude                Lat  \n",
       "0        NaN                NaN  \n",
       "1 -87.592803  41.80615476732223  \n",
       "2        NaN                NaN  \n",
       "3 -87.590819  41.78228592790556  \n",
       "4 -87.589731  41.76318136897587  \n",
       "\n",
       "[5 rows x 26 columns]"
      ]
     },
     "execution_count": 57,
     "metadata": {},
     "output_type": "execute_result"
    }
   ],
   "source": [
    "crimes.head()"
   ]
  },
  {
   "cell_type": "markdown",
   "metadata": {},
   "source": [
    "## Splitting but not making new columns- Just a list.<a name=\"_splitting but not making new columns- just a list.\"></a>"
   ]
  },
  {
   "cell_type": "markdown",
   "metadata": {},
   "source": [
    "Sometimes it's useful to split up a string into a list, without going making new columns."
   ]
  },
  {
   "cell_type": "markdown",
   "metadata": {},
   "source": [
    "Now the new values are a list of strings."
   ]
  },
  {
   "cell_type": "code",
   "execution_count": 58,
   "metadata": {},
   "outputs": [
    {
     "data": {
      "text/plain": [
       "0                                           NaN\n",
       "1    [(41.80615476732223,  -87.59280284925518)]\n",
       "2                                           NaN\n",
       "3     [(41.78228592790556,  -87.5908189949899)]\n",
       "4    [(41.76318136897587,  -87.58973074990949)]\n",
       "Name: Location, dtype: object"
      ]
     },
     "execution_count": 58,
     "metadata": {},
     "output_type": "execute_result"
    }
   ],
   "source": [
    "crimes['Location'].str.split(\",\").head()"
   ]
  },
  {
   "cell_type": "code",
   "execution_count": 59,
   "metadata": {},
   "outputs": [
    {
     "data": {
      "text/plain": [
       "['(41.80615476732223', ' -87.59280284925518)']"
      ]
     },
     "execution_count": 59,
     "metadata": {},
     "output_type": "execute_result"
    }
   ],
   "source": [
    "crimes['Location'].str.split(\",\")[1]"
   ]
  },
  {
   "cell_type": "code",
   "execution_count": null,
   "metadata": {
    "collapsed": true
   },
   "outputs": [],
   "source": []
  }
 ],
 "metadata": {
  "anaconda-cloud": {},
  "kernelspec": {
   "display_name": "Python 3",
   "language": "python",
   "name": "python3"
  },
  "language_info": {
   "codemirror_mode": {
    "name": "ipython",
    "version": 3
   },
   "file_extension": ".py",
   "mimetype": "text/x-python",
   "name": "python",
   "nbconvert_exporter": "python",
   "pygments_lexer": "ipython3",
   "version": "3.6.1"
  }
 },
 "nbformat": 4,
 "nbformat_minor": 1
}
