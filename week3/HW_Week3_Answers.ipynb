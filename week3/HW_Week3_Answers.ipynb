{
 "cells": [
  {
   "cell_type": "markdown",
   "metadata": {},
   "source": [
    "# HW Week 3 Answers"
   ]
  },
  {
   "cell_type": "code",
   "execution_count": 1,
   "metadata": {
    "collapsed": true
   },
   "outputs": [],
   "source": [
    "%matplotlib inline\n",
    "\n",
    "import pandas as pd\n",
    "import matplotlib.pyplot as plt\n",
    "import seaborn as sns\n",
    "import numpy as np"
   ]
  },
  {
   "cell_type": "code",
   "execution_count": 2,
   "metadata": {
    "collapsed": false
   },
   "outputs": [],
   "source": [
    "weather = pd.read_csv('data/weather_2012.csv', parse_dates=True, index_col='Date/Time')"
   ]
  },
  {
   "cell_type": "code",
   "execution_count": 3,
   "metadata": {
    "collapsed": false
   },
   "outputs": [
    {
     "data": {
      "text/html": [
       "<div>\n",
       "<table border=\"1\" class=\"dataframe\">\n",
       "  <thead>\n",
       "    <tr style=\"text-align: right;\">\n",
       "      <th></th>\n",
       "      <th>Temp (C)</th>\n",
       "      <th>Dew Point Temp (C)</th>\n",
       "      <th>Rel Hum (%)</th>\n",
       "      <th>Wind Spd (km/h)</th>\n",
       "      <th>Visibility (km)</th>\n",
       "      <th>Stn Press (kPa)</th>\n",
       "      <th>Weather</th>\n",
       "    </tr>\n",
       "    <tr>\n",
       "      <th>Date/Time</th>\n",
       "      <th></th>\n",
       "      <th></th>\n",
       "      <th></th>\n",
       "      <th></th>\n",
       "      <th></th>\n",
       "      <th></th>\n",
       "      <th></th>\n",
       "    </tr>\n",
       "  </thead>\n",
       "  <tbody>\n",
       "    <tr>\n",
       "      <th>2012-01-01 00:00:00</th>\n",
       "      <td>-1.8</td>\n",
       "      <td>-3.9</td>\n",
       "      <td>86</td>\n",
       "      <td>4</td>\n",
       "      <td>8.0</td>\n",
       "      <td>101.24</td>\n",
       "      <td>Fog</td>\n",
       "    </tr>\n",
       "    <tr>\n",
       "      <th>2012-01-01 01:00:00</th>\n",
       "      <td>-1.8</td>\n",
       "      <td>-3.7</td>\n",
       "      <td>87</td>\n",
       "      <td>4</td>\n",
       "      <td>8.0</td>\n",
       "      <td>101.24</td>\n",
       "      <td>Fog</td>\n",
       "    </tr>\n",
       "    <tr>\n",
       "      <th>2012-01-01 02:00:00</th>\n",
       "      <td>-1.8</td>\n",
       "      <td>-3.4</td>\n",
       "      <td>89</td>\n",
       "      <td>7</td>\n",
       "      <td>4.0</td>\n",
       "      <td>101.26</td>\n",
       "      <td>Freezing Drizzle,Fog</td>\n",
       "    </tr>\n",
       "    <tr>\n",
       "      <th>2012-01-01 03:00:00</th>\n",
       "      <td>-1.5</td>\n",
       "      <td>-3.2</td>\n",
       "      <td>88</td>\n",
       "      <td>6</td>\n",
       "      <td>4.0</td>\n",
       "      <td>101.27</td>\n",
       "      <td>Freezing Drizzle,Fog</td>\n",
       "    </tr>\n",
       "    <tr>\n",
       "      <th>2012-01-01 04:00:00</th>\n",
       "      <td>-1.5</td>\n",
       "      <td>-3.3</td>\n",
       "      <td>88</td>\n",
       "      <td>7</td>\n",
       "      <td>4.8</td>\n",
       "      <td>101.23</td>\n",
       "      <td>Fog</td>\n",
       "    </tr>\n",
       "  </tbody>\n",
       "</table>\n",
       "</div>"
      ],
      "text/plain": [
       "                     Temp (C)  Dew Point Temp (C)  Rel Hum (%)  \\\n",
       "Date/Time                                                        \n",
       "2012-01-01 00:00:00      -1.8                -3.9           86   \n",
       "2012-01-01 01:00:00      -1.8                -3.7           87   \n",
       "2012-01-01 02:00:00      -1.8                -3.4           89   \n",
       "2012-01-01 03:00:00      -1.5                -3.2           88   \n",
       "2012-01-01 04:00:00      -1.5                -3.3           88   \n",
       "\n",
       "                     Wind Spd (km/h)  Visibility (km)  Stn Press (kPa)  \\\n",
       "Date/Time                                                                \n",
       "2012-01-01 00:00:00                4              8.0           101.24   \n",
       "2012-01-01 01:00:00                4              8.0           101.24   \n",
       "2012-01-01 02:00:00                7              4.0           101.26   \n",
       "2012-01-01 03:00:00                6              4.0           101.27   \n",
       "2012-01-01 04:00:00                7              4.8           101.23   \n",
       "\n",
       "                                  Weather  \n",
       "Date/Time                                  \n",
       "2012-01-01 00:00:00                   Fog  \n",
       "2012-01-01 01:00:00                   Fog  \n",
       "2012-01-01 02:00:00  Freezing Drizzle,Fog  \n",
       "2012-01-01 03:00:00  Freezing Drizzle,Fog  \n",
       "2012-01-01 04:00:00                   Fog  "
      ]
     },
     "execution_count": 3,
     "metadata": {},
     "output_type": "execute_result"
    }
   ],
   "source": [
    "weather.head()"
   ]
  },
  {
   "cell_type": "code",
   "execution_count": 4,
   "metadata": {
    "collapsed": false
   },
   "outputs": [
    {
     "data": {
      "text/html": [
       "<div>\n",
       "<table border=\"1\" class=\"dataframe\">\n",
       "  <thead>\n",
       "    <tr style=\"text-align: right;\">\n",
       "      <th></th>\n",
       "      <th>Temp (C)</th>\n",
       "      <th>Dew Point Temp (C)</th>\n",
       "      <th>Rel Hum (%)</th>\n",
       "      <th>Wind Spd (km/h)</th>\n",
       "      <th>Visibility (km)</th>\n",
       "      <th>Stn Press (kPa)</th>\n",
       "      <th>Weather</th>\n",
       "    </tr>\n",
       "    <tr>\n",
       "      <th>Date/Time</th>\n",
       "      <th></th>\n",
       "      <th></th>\n",
       "      <th></th>\n",
       "      <th></th>\n",
       "      <th></th>\n",
       "      <th></th>\n",
       "      <th></th>\n",
       "    </tr>\n",
       "  </thead>\n",
       "  <tbody>\n",
       "    <tr>\n",
       "      <th>2012-12-31 19:00:00</th>\n",
       "      <td>0.1</td>\n",
       "      <td>-2.7</td>\n",
       "      <td>81</td>\n",
       "      <td>30</td>\n",
       "      <td>9.7</td>\n",
       "      <td>100.13</td>\n",
       "      <td>Snow</td>\n",
       "    </tr>\n",
       "    <tr>\n",
       "      <th>2012-12-31 20:00:00</th>\n",
       "      <td>0.2</td>\n",
       "      <td>-2.4</td>\n",
       "      <td>83</td>\n",
       "      <td>24</td>\n",
       "      <td>9.7</td>\n",
       "      <td>100.03</td>\n",
       "      <td>Snow</td>\n",
       "    </tr>\n",
       "    <tr>\n",
       "      <th>2012-12-31 21:00:00</th>\n",
       "      <td>-0.5</td>\n",
       "      <td>-1.5</td>\n",
       "      <td>93</td>\n",
       "      <td>28</td>\n",
       "      <td>4.8</td>\n",
       "      <td>99.95</td>\n",
       "      <td>Snow</td>\n",
       "    </tr>\n",
       "    <tr>\n",
       "      <th>2012-12-31 22:00:00</th>\n",
       "      <td>-0.2</td>\n",
       "      <td>-1.8</td>\n",
       "      <td>89</td>\n",
       "      <td>28</td>\n",
       "      <td>9.7</td>\n",
       "      <td>99.91</td>\n",
       "      <td>Snow</td>\n",
       "    </tr>\n",
       "    <tr>\n",
       "      <th>2012-12-31 23:00:00</th>\n",
       "      <td>0.0</td>\n",
       "      <td>-2.1</td>\n",
       "      <td>86</td>\n",
       "      <td>30</td>\n",
       "      <td>11.3</td>\n",
       "      <td>99.89</td>\n",
       "      <td>Snow</td>\n",
       "    </tr>\n",
       "  </tbody>\n",
       "</table>\n",
       "</div>"
      ],
      "text/plain": [
       "                     Temp (C)  Dew Point Temp (C)  Rel Hum (%)  \\\n",
       "Date/Time                                                        \n",
       "2012-12-31 19:00:00       0.1                -2.7           81   \n",
       "2012-12-31 20:00:00       0.2                -2.4           83   \n",
       "2012-12-31 21:00:00      -0.5                -1.5           93   \n",
       "2012-12-31 22:00:00      -0.2                -1.8           89   \n",
       "2012-12-31 23:00:00       0.0                -2.1           86   \n",
       "\n",
       "                     Wind Spd (km/h)  Visibility (km)  Stn Press (kPa) Weather  \n",
       "Date/Time                                                                       \n",
       "2012-12-31 19:00:00               30              9.7           100.13    Snow  \n",
       "2012-12-31 20:00:00               24              9.7           100.03    Snow  \n",
       "2012-12-31 21:00:00               28              4.8            99.95    Snow  \n",
       "2012-12-31 22:00:00               28              9.7            99.91    Snow  \n",
       "2012-12-31 23:00:00               30             11.3            99.89    Snow  "
      ]
     },
     "execution_count": 4,
     "metadata": {},
     "output_type": "execute_result"
    }
   ],
   "source": [
    "weather.tail()"
   ]
  },
  {
   "cell_type": "code",
   "execution_count": 6,
   "metadata": {
    "collapsed": false
   },
   "outputs": [
    {
     "data": {
      "text/plain": [
       "Index(['Temp (C)', 'Dew Point Temp (C)', 'Rel Hum (%)', 'Wind Spd (km/h)',\n",
       "       'Visibility (km)', 'Stn Press (kPa)', 'Weather'],\n",
       "      dtype='object')"
      ]
     },
     "execution_count": 6,
     "metadata": {},
     "output_type": "execute_result"
    }
   ],
   "source": [
    "# A copy of the originals in case I mess up\n",
    "original_columns = weather.columns\n",
    "original_columns"
   ]
  },
  {
   "cell_type": "code",
   "execution_count": 7,
   "metadata": {
    "collapsed": false
   },
   "outputs": [],
   "source": [
    "weather = weather.rename(columns={\"Weather\": \"Desc\"})"
   ]
  },
  {
   "cell_type": "code",
   "execution_count": 115,
   "metadata": {
    "collapsed": false
   },
   "outputs": [],
   "source": [
    "#Q1: Rename other columns to be shorter names that are easier to work with."
   ]
  },
  {
   "cell_type": "markdown",
   "metadata": {},
   "source": [
    "**NOTE: A lot of you did this with multiple lines. You can use a dictionary format here, with key:value pairs separated by colons!**"
   ]
  },
  {
   "cell_type": "code",
   "execution_count": 8,
   "metadata": {
    "collapsed": false
   },
   "outputs": [],
   "source": [
    "weather = weather.rename(columns={\"Temp (C)\": \"Temp\", \"Dew Point Temp (C)\": \"Dew Point\", \"Rel Hum (%)\": \"Humidity\", \"Visibility (km)\": \"Visibility\", \"Stn Press (kPa)\":\"Pressure\", \"Wind Spd (km/h)\": \"Wind\"})"
   ]
  },
  {
   "cell_type": "code",
   "execution_count": 10,
   "metadata": {
    "collapsed": false
   },
   "outputs": [
    {
     "data": {
      "text/html": [
       "<div>\n",
       "<table border=\"1\" class=\"dataframe\">\n",
       "  <thead>\n",
       "    <tr style=\"text-align: right;\">\n",
       "      <th></th>\n",
       "      <th>Temp</th>\n",
       "      <th>Dew Point</th>\n",
       "      <th>Humidity</th>\n",
       "      <th>Wind</th>\n",
       "      <th>Visibility</th>\n",
       "      <th>Pressure</th>\n",
       "      <th>Desc</th>\n",
       "    </tr>\n",
       "    <tr>\n",
       "      <th>Date/Time</th>\n",
       "      <th></th>\n",
       "      <th></th>\n",
       "      <th></th>\n",
       "      <th></th>\n",
       "      <th></th>\n",
       "      <th></th>\n",
       "      <th></th>\n",
       "    </tr>\n",
       "  </thead>\n",
       "  <tbody>\n",
       "    <tr>\n",
       "      <th>2012-01-01 00:00:00</th>\n",
       "      <td>-1.8</td>\n",
       "      <td>-3.9</td>\n",
       "      <td>86</td>\n",
       "      <td>4</td>\n",
       "      <td>8.0</td>\n",
       "      <td>101.24</td>\n",
       "      <td>Fog</td>\n",
       "    </tr>\n",
       "    <tr>\n",
       "      <th>2012-01-01 01:00:00</th>\n",
       "      <td>-1.8</td>\n",
       "      <td>-3.7</td>\n",
       "      <td>87</td>\n",
       "      <td>4</td>\n",
       "      <td>8.0</td>\n",
       "      <td>101.24</td>\n",
       "      <td>Fog</td>\n",
       "    </tr>\n",
       "    <tr>\n",
       "      <th>2012-01-01 02:00:00</th>\n",
       "      <td>-1.8</td>\n",
       "      <td>-3.4</td>\n",
       "      <td>89</td>\n",
       "      <td>7</td>\n",
       "      <td>4.0</td>\n",
       "      <td>101.26</td>\n",
       "      <td>Freezing Drizzle,Fog</td>\n",
       "    </tr>\n",
       "    <tr>\n",
       "      <th>2012-01-01 03:00:00</th>\n",
       "      <td>-1.5</td>\n",
       "      <td>-3.2</td>\n",
       "      <td>88</td>\n",
       "      <td>6</td>\n",
       "      <td>4.0</td>\n",
       "      <td>101.27</td>\n",
       "      <td>Freezing Drizzle,Fog</td>\n",
       "    </tr>\n",
       "    <tr>\n",
       "      <th>2012-01-01 04:00:00</th>\n",
       "      <td>-1.5</td>\n",
       "      <td>-3.3</td>\n",
       "      <td>88</td>\n",
       "      <td>7</td>\n",
       "      <td>4.8</td>\n",
       "      <td>101.23</td>\n",
       "      <td>Fog</td>\n",
       "    </tr>\n",
       "  </tbody>\n",
       "</table>\n",
       "</div>"
      ],
      "text/plain": [
       "                     Temp  Dew Point  Humidity  Wind  Visibility  Pressure  \\\n",
       "Date/Time                                                                    \n",
       "2012-01-01 00:00:00  -1.8       -3.9        86     4         8.0    101.24   \n",
       "2012-01-01 01:00:00  -1.8       -3.7        87     4         8.0    101.24   \n",
       "2012-01-01 02:00:00  -1.8       -3.4        89     7         4.0    101.26   \n",
       "2012-01-01 03:00:00  -1.5       -3.2        88     6         4.0    101.27   \n",
       "2012-01-01 04:00:00  -1.5       -3.3        88     7         4.8    101.23   \n",
       "\n",
       "                                     Desc  \n",
       "Date/Time                                  \n",
       "2012-01-01 00:00:00                   Fog  \n",
       "2012-01-01 01:00:00                   Fog  \n",
       "2012-01-01 02:00:00  Freezing Drizzle,Fog  \n",
       "2012-01-01 03:00:00  Freezing Drizzle,Fog  \n",
       "2012-01-01 04:00:00                   Fog  "
      ]
     },
     "execution_count": 10,
     "metadata": {},
     "output_type": "execute_result"
    }
   ],
   "source": [
    "# check it worked\n",
    "weather.head()"
   ]
  },
  {
   "cell_type": "code",
   "execution_count": 21,
   "metadata": {
    "collapsed": true
   },
   "outputs": [],
   "source": [
    "#Q2 Plot the avg temperature by month.  (There are several ways to do this.)"
   ]
  },
  {
   "cell_type": "code",
   "execution_count": 11,
   "metadata": {
    "collapsed": false
   },
   "outputs": [
    {
     "data": {
      "text/plain": [
       "<matplotlib.axes._subplots.AxesSubplot at 0x10c01b208>"
      ]
     },
     "execution_count": 11,
     "metadata": {},
     "output_type": "execute_result"
    },
    {
     "data": {
      "image/png": "[encoded data removed]",
      "text/plain": [
       "<matplotlib.figure.Figure at 0x10c01bcf8>"
      ]
     },
     "metadata": {},
     "output_type": "display_data"
    }
   ],
   "source": [
    "weather['Temp'].groupby(weather.index.month).mean().plot()"
   ]
  },
  {
   "cell_type": "code",
   "execution_count": null,
   "metadata": {
    "collapsed": true
   },
   "outputs": [],
   "source": [
    "# Q3: Find the date and then look up the row for the days with max and min temperatures. (Look back at the Timeseries NB for where I got the max and then looked up the date on the index.)"
   ]
  },
  {
   "cell_type": "markdown",
   "metadata": {},
   "source": [
    "**NOTE: Your goal was to get the value of the index and use it to look up the row.  That can be done either by pasting the date into a .loc, or using the lookup directly inside the brackets for the .loc:**"
   ]
  },
  {
   "cell_type": "code",
   "execution_count": 26,
   "metadata": {
    "collapsed": false
   },
   "outputs": [
    {
     "data": {
      "text/plain": [
       "Timestamp('2012-06-21 15:00:00')"
      ]
     },
     "execution_count": 26,
     "metadata": {},
     "output_type": "execute_result"
    }
   ],
   "source": [
    "weather['Temp'].idxmax()"
   ]
  },
  {
   "cell_type": "code",
   "execution_count": 28,
   "metadata": {
    "collapsed": false
   },
   "outputs": [
    {
     "data": {
      "text/plain": [
       "Temp                         33\n",
       "Dew Point                    19\n",
       "Humidity                     44\n",
       "Wind Spd (km/h)              24\n",
       "Visibility                 24.1\n",
       "Stn Press (kPa)           100.2\n",
       "Desc               Mainly Clear\n",
       "Name: 2012-06-21 15:00:00, dtype: object"
      ]
     },
     "execution_count": 28,
     "metadata": {},
     "output_type": "execute_result"
    }
   ],
   "source": [
    "weather.loc['2012-06-21 15:00:00']"
   ]
  },
  {
   "cell_type": "code",
   "execution_count": 30,
   "metadata": {
    "collapsed": false
   },
   "outputs": [
    {
     "data": {
      "text/plain": [
       "Temp                -23.3\n",
       "Dew Point           -28.5\n",
       "Humidity               62\n",
       "Wind Spd (km/h)         7\n",
       "Visibility           24.1\n",
       "Stn Press (kPa)    102.45\n",
       "Desc                Clear\n",
       "Name: 2012-01-15 08:00:00, dtype: object"
      ]
     },
     "execution_count": 30,
     "metadata": {},
     "output_type": "execute_result"
    }
   ],
   "source": [
    "weather.loc[weather['Temp'].idxmin()]"
   ]
  },
  {
   "cell_type": "code",
   "execution_count": null,
   "metadata": {
    "collapsed": true
   },
   "outputs": [],
   "source": [
    "# Q4: Resample to get the avg values per day.  Make this a new dataframe."
   ]
  },
  {
   "cell_type": "markdown",
   "metadata": {},
   "source": [
    "**NOTE: In class I forgot that I meant you to group all the minute/hours into 24 hour days, not group by day of the month. I didn't take off if you did it with day of the month, but it's silly, as someone pointed out to me when I said it wrong.**\n",
    "\n",
    "**You can either use resample (I was trying to hint this) or groupby(weather.index.day).**"
   ]
  },
  {
   "cell_type": "code",
   "execution_count": 12,
   "metadata": {
    "collapsed": false
   },
   "outputs": [],
   "source": [
    "day = weather.resample(\"24H\").mean()"
   ]
  },
  {
   "cell_type": "code",
   "execution_count": 13,
   "metadata": {
    "collapsed": false
   },
   "outputs": [
    {
     "data": {
      "text/html": [
       "<div>\n",
       "<table border=\"1\" class=\"dataframe\">\n",
       "  <thead>\n",
       "    <tr style=\"text-align: right;\">\n",
       "      <th></th>\n",
       "      <th>Temp</th>\n",
       "      <th>Dew Point</th>\n",
       "      <th>Humidity</th>\n",
       "      <th>Wind</th>\n",
       "      <th>Visibility</th>\n",
       "      <th>Pressure</th>\n",
       "    </tr>\n",
       "    <tr>\n",
       "      <th>Date/Time</th>\n",
       "      <th></th>\n",
       "      <th></th>\n",
       "      <th></th>\n",
       "      <th></th>\n",
       "      <th></th>\n",
       "      <th></th>\n",
       "    </tr>\n",
       "  </thead>\n",
       "  <tbody>\n",
       "    <tr>\n",
       "      <th>2012-01-01</th>\n",
       "      <td>0.629167</td>\n",
       "      <td>-1.450000</td>\n",
       "      <td>86.125000</td>\n",
       "      <td>12.666667</td>\n",
       "      <td>9.862500</td>\n",
       "      <td>100.543750</td>\n",
       "    </tr>\n",
       "    <tr>\n",
       "      <th>2012-01-02</th>\n",
       "      <td>0.041667</td>\n",
       "      <td>-6.200000</td>\n",
       "      <td>63.083333</td>\n",
       "      <td>31.416667</td>\n",
       "      <td>24.425000</td>\n",
       "      <td>99.479583</td>\n",
       "    </tr>\n",
       "    <tr>\n",
       "      <th>2012-01-03</th>\n",
       "      <td>-14.416667</td>\n",
       "      <td>-21.537500</td>\n",
       "      <td>54.791667</td>\n",
       "      <td>22.041667</td>\n",
       "      <td>24.120833</td>\n",
       "      <td>101.226250</td>\n",
       "    </tr>\n",
       "    <tr>\n",
       "      <th>2012-01-04</th>\n",
       "      <td>-13.645833</td>\n",
       "      <td>-19.250000</td>\n",
       "      <td>62.875000</td>\n",
       "      <td>10.500000</td>\n",
       "      <td>19.595833</td>\n",
       "      <td>101.253750</td>\n",
       "    </tr>\n",
       "    <tr>\n",
       "      <th>2012-01-05</th>\n",
       "      <td>-6.750000</td>\n",
       "      <td>-11.416667</td>\n",
       "      <td>70.000000</td>\n",
       "      <td>12.125000</td>\n",
       "      <td>24.362500</td>\n",
       "      <td>100.484583</td>\n",
       "    </tr>\n",
       "  </tbody>\n",
       "</table>\n",
       "</div>"
      ],
      "text/plain": [
       "                 Temp  Dew Point   Humidity       Wind  Visibility    Pressure\n",
       "Date/Time                                                                     \n",
       "2012-01-01   0.629167  -1.450000  86.125000  12.666667    9.862500  100.543750\n",
       "2012-01-02   0.041667  -6.200000  63.083333  31.416667   24.425000   99.479583\n",
       "2012-01-03 -14.416667 -21.537500  54.791667  22.041667   24.120833  101.226250\n",
       "2012-01-04 -13.645833 -19.250000  62.875000  10.500000   19.595833  101.253750\n",
       "2012-01-05  -6.750000 -11.416667  70.000000  12.125000   24.362500  100.484583"
      ]
     },
     "execution_count": 13,
     "metadata": {},
     "output_type": "execute_result"
    }
   ],
   "source": [
    "day.head()"
   ]
  },
  {
   "cell_type": "code",
   "execution_count": 16,
   "metadata": {
    "collapsed": false
   },
   "outputs": [
    {
     "data": {
      "text/html": [
       "<div>\n",
       "<table border=\"1\" class=\"dataframe\">\n",
       "  <thead>\n",
       "    <tr style=\"text-align: right;\">\n",
       "      <th></th>\n",
       "      <th>Temp</th>\n",
       "      <th>Dew Point</th>\n",
       "      <th>Humidity</th>\n",
       "      <th>Wind</th>\n",
       "      <th>Visibility</th>\n",
       "      <th>Pressure</th>\n",
       "    </tr>\n",
       "  </thead>\n",
       "  <tbody>\n",
       "    <tr>\n",
       "      <th>2012-01-01</th>\n",
       "      <td>0.629167</td>\n",
       "      <td>-1.450000</td>\n",
       "      <td>86.125000</td>\n",
       "      <td>12.666667</td>\n",
       "      <td>9.862500</td>\n",
       "      <td>100.543750</td>\n",
       "    </tr>\n",
       "    <tr>\n",
       "      <th>2012-01-02</th>\n",
       "      <td>0.041667</td>\n",
       "      <td>-6.200000</td>\n",
       "      <td>63.083333</td>\n",
       "      <td>31.416667</td>\n",
       "      <td>24.425000</td>\n",
       "      <td>99.479583</td>\n",
       "    </tr>\n",
       "    <tr>\n",
       "      <th>2012-01-03</th>\n",
       "      <td>-14.416667</td>\n",
       "      <td>-21.537500</td>\n",
       "      <td>54.791667</td>\n",
       "      <td>22.041667</td>\n",
       "      <td>24.120833</td>\n",
       "      <td>101.226250</td>\n",
       "    </tr>\n",
       "    <tr>\n",
       "      <th>2012-01-04</th>\n",
       "      <td>-13.645833</td>\n",
       "      <td>-19.250000</td>\n",
       "      <td>62.875000</td>\n",
       "      <td>10.500000</td>\n",
       "      <td>19.595833</td>\n",
       "      <td>101.253750</td>\n",
       "    </tr>\n",
       "    <tr>\n",
       "      <th>2012-01-05</th>\n",
       "      <td>-6.750000</td>\n",
       "      <td>-11.416667</td>\n",
       "      <td>70.000000</td>\n",
       "      <td>12.125000</td>\n",
       "      <td>24.362500</td>\n",
       "      <td>100.484583</td>\n",
       "    </tr>\n",
       "  </tbody>\n",
       "</table>\n",
       "</div>"
      ],
      "text/plain": [
       "                 Temp  Dew Point   Humidity       Wind  Visibility    Pressure\n",
       "2012-01-01   0.629167  -1.450000  86.125000  12.666667    9.862500  100.543750\n",
       "2012-01-02   0.041667  -6.200000  63.083333  31.416667   24.425000   99.479583\n",
       "2012-01-03 -14.416667 -21.537500  54.791667  22.041667   24.120833  101.226250\n",
       "2012-01-04 -13.645833 -19.250000  62.875000  10.500000   19.595833  101.253750\n",
       "2012-01-05  -6.750000 -11.416667  70.000000  12.125000   24.362500  100.484583"
      ]
     },
     "execution_count": 16,
     "metadata": {},
     "output_type": "execute_result"
    }
   ],
   "source": [
    "# Most of you did groupby weather.index.day -- which is day of the month, \n",
    "# not the date.  We really want it combined into the full day of 24H.\n",
    "alsoday = weather.groupby(weather.index.date).mean()\n",
    "alsoday.head()"
   ]
  },
  {
   "cell_type": "code",
   "execution_count": null,
   "metadata": {
    "collapsed": true
   },
   "outputs": [],
   "source": [
    "# Q5: Resample to get the median values per month. Make that a new dataframe."
   ]
  },
  {
   "cell_type": "markdown",
   "metadata": {},
   "source": [
    "**NOTE: Groupby is ok here too.**"
   ]
  },
  {
   "cell_type": "code",
   "execution_count": 42,
   "metadata": {
    "collapsed": false
   },
   "outputs": [],
   "source": [
    "# Notice it's median, not mean.\n",
    "month = weather.resample(\"1M\").median()"
   ]
  },
  {
   "cell_type": "code",
   "execution_count": 43,
   "metadata": {
    "collapsed": false
   },
   "outputs": [
    {
     "data": {
      "text/html": [
       "<div>\n",
       "<table border=\"1\" class=\"dataframe\">\n",
       "  <thead>\n",
       "    <tr style=\"text-align: right;\">\n",
       "      <th></th>\n",
       "      <th>Dew Point</th>\n",
       "      <th>Humidity</th>\n",
       "      <th>Pressure</th>\n",
       "      <th>Temp</th>\n",
       "      <th>Visibility</th>\n",
       "      <th>Wind</th>\n",
       "    </tr>\n",
       "    <tr>\n",
       "      <th>Date/Time</th>\n",
       "      <th></th>\n",
       "      <th></th>\n",
       "      <th></th>\n",
       "      <th></th>\n",
       "      <th></th>\n",
       "      <th></th>\n",
       "    </tr>\n",
       "  </thead>\n",
       "  <tbody>\n",
       "    <tr>\n",
       "      <th>2012-01-31</th>\n",
       "      <td>-12.20</td>\n",
       "      <td>68.0</td>\n",
       "      <td>101.015</td>\n",
       "      <td>-7.05</td>\n",
       "      <td>24.1</td>\n",
       "      <td>17</td>\n",
       "    </tr>\n",
       "    <tr>\n",
       "      <th>2012-02-29</th>\n",
       "      <td>-8.80</td>\n",
       "      <td>69.0</td>\n",
       "      <td>101.140</td>\n",
       "      <td>-4.10</td>\n",
       "      <td>25.0</td>\n",
       "      <td>15</td>\n",
       "    </tr>\n",
       "    <tr>\n",
       "      <th>2012-03-31</th>\n",
       "      <td>-2.50</td>\n",
       "      <td>63.5</td>\n",
       "      <td>101.480</td>\n",
       "      <td>2.60</td>\n",
       "      <td>25.0</td>\n",
       "      <td>13</td>\n",
       "    </tr>\n",
       "    <tr>\n",
       "      <th>2012-04-30</th>\n",
       "      <td>-1.30</td>\n",
       "      <td>55.0</td>\n",
       "      <td>100.770</td>\n",
       "      <td>6.30</td>\n",
       "      <td>25.0</td>\n",
       "      <td>17</td>\n",
       "    </tr>\n",
       "    <tr>\n",
       "      <th>2012-05-31</th>\n",
       "      <td>8.60</td>\n",
       "      <td>63.0</td>\n",
       "      <td>101.210</td>\n",
       "      <td>16.05</td>\n",
       "      <td>25.0</td>\n",
       "      <td>11</td>\n",
       "    </tr>\n",
       "    <tr>\n",
       "      <th>2012-06-30</th>\n",
       "      <td>11.70</td>\n",
       "      <td>62.0</td>\n",
       "      <td>100.785</td>\n",
       "      <td>19.60</td>\n",
       "      <td>25.0</td>\n",
       "      <td>15</td>\n",
       "    </tr>\n",
       "    <tr>\n",
       "      <th>2012-07-31</th>\n",
       "      <td>14.95</td>\n",
       "      <td>62.5</td>\n",
       "      <td>100.835</td>\n",
       "      <td>22.90</td>\n",
       "      <td>25.0</td>\n",
       "      <td>11</td>\n",
       "    </tr>\n",
       "    <tr>\n",
       "      <th>2012-08-31</th>\n",
       "      <td>16.55</td>\n",
       "      <td>68.0</td>\n",
       "      <td>100.840</td>\n",
       "      <td>22.20</td>\n",
       "      <td>25.0</td>\n",
       "      <td>13</td>\n",
       "    </tr>\n",
       "    <tr>\n",
       "      <th>2012-09-30</th>\n",
       "      <td>10.20</td>\n",
       "      <td>73.0</td>\n",
       "      <td>101.150</td>\n",
       "      <td>16.10</td>\n",
       "      <td>25.0</td>\n",
       "      <td>13</td>\n",
       "    </tr>\n",
       "    <tr>\n",
       "      <th>2012-10-31</th>\n",
       "      <td>6.40</td>\n",
       "      <td>78.0</td>\n",
       "      <td>101.000</td>\n",
       "      <td>11.30</td>\n",
       "      <td>25.0</td>\n",
       "      <td>15</td>\n",
       "    </tr>\n",
       "    <tr>\n",
       "      <th>2012-11-30</th>\n",
       "      <td>-4.90</td>\n",
       "      <td>70.0</td>\n",
       "      <td>101.830</td>\n",
       "      <td>1.05</td>\n",
       "      <td>25.0</td>\n",
       "      <td>13</td>\n",
       "    </tr>\n",
       "    <tr>\n",
       "      <th>2012-12-31</th>\n",
       "      <td>-6.00</td>\n",
       "      <td>82.0</td>\n",
       "      <td>101.255</td>\n",
       "      <td>-2.85</td>\n",
       "      <td>24.1</td>\n",
       "      <td>17</td>\n",
       "    </tr>\n",
       "  </tbody>\n",
       "</table>\n",
       "</div>"
      ],
      "text/plain": [
       "            Dew Point  Humidity  Pressure   Temp  Visibility  Wind\n",
       "Date/Time                                                         \n",
       "2012-01-31     -12.20      68.0   101.015  -7.05        24.1    17\n",
       "2012-02-29      -8.80      69.0   101.140  -4.10        25.0    15\n",
       "2012-03-31      -2.50      63.5   101.480   2.60        25.0    13\n",
       "2012-04-30      -1.30      55.0   100.770   6.30        25.0    17\n",
       "2012-05-31       8.60      63.0   101.210  16.05        25.0    11\n",
       "2012-06-30      11.70      62.0   100.785  19.60        25.0    15\n",
       "2012-07-31      14.95      62.5   100.835  22.90        25.0    11\n",
       "2012-08-31      16.55      68.0   100.840  22.20        25.0    13\n",
       "2012-09-30      10.20      73.0   101.150  16.10        25.0    13\n",
       "2012-10-31       6.40      78.0   101.000  11.30        25.0    15\n",
       "2012-11-30      -4.90      70.0   101.830   1.05        25.0    13\n",
       "2012-12-31      -6.00      82.0   101.255  -2.85        24.1    17"
      ]
     },
     "execution_count": 43,
     "metadata": {},
     "output_type": "execute_result"
    }
   ],
   "source": [
    "month"
   ]
  },
  {
   "cell_type": "code",
   "execution_count": 47,
   "metadata": {
    "collapsed": true
   },
   "outputs": [],
   "source": [
    "# Q6: Plot the pressure using the original dataframe weather, and the day and month ones."
   ]
  },
  {
   "cell_type": "markdown",
   "metadata": {},
   "source": [
    "**NOTE: Line plots are better here, because it is timeseries. Also, bar charts take forever with the original data.**"
   ]
  },
  {
   "cell_type": "code",
   "execution_count": 52,
   "metadata": {
    "collapsed": false
   },
   "outputs": [
    {
     "data": {
      "text/plain": [
       "<matplotlib.axes._subplots.AxesSubplot at 0x10de18e10>"
      ]
     },
     "execution_count": 52,
     "metadata": {},
     "output_type": "execute_result"
    },
    {
     "data": {
      "image/png": "[encoded data removed]",
      "text/plain": [
       "<matplotlib.figure.Figure at 0x10de2b7f0>"
      ]
     },
     "metadata": {},
     "output_type": "display_data"
    }
   ],
   "source": [
    "weather['Humidity'].plot()"
   ]
  },
  {
   "cell_type": "code",
   "execution_count": 54,
   "metadata": {
    "collapsed": false
   },
   "outputs": [
    {
     "data": {
      "text/plain": [
       "<matplotlib.axes._subplots.AxesSubplot at 0x10f4ce6a0>"
      ]
     },
     "execution_count": 54,
     "metadata": {},
     "output_type": "execute_result"
    },
    {
     "data": {
      "image/png": "[encoded data removed]",
      "text/plain": [
       "<matplotlib.figure.Figure at 0x10f4df780>"
      ]
     },
     "metadata": {},
     "output_type": "display_data"
    }
   ],
   "source": [
    "day['Humidity'].plot()"
   ]
  },
  {
   "cell_type": "code",
   "execution_count": 53,
   "metadata": {
    "collapsed": false
   },
   "outputs": [
    {
     "data": {
      "text/plain": [
       "<matplotlib.axes._subplots.AxesSubplot at 0x10f3e6828>"
      ]
     },
     "execution_count": 53,
     "metadata": {},
     "output_type": "execute_result"
    },
    {
     "data": {
      "image/png": "[encoded data removed]",
      "text/plain": [
       "<matplotlib.figure.Figure at 0x10f3ed8d0>"
      ]
     },
     "metadata": {},
     "output_type": "display_data"
    }
   ],
   "source": [
    "month['Humidity'].plot()"
   ]
  },
  {
   "cell_type": "code",
   "execution_count": null,
   "metadata": {
    "collapsed": true
   },
   "outputs": [],
   "source": [
    "# Q7: What is the weather description for the day with the wind speed is the highest?"
   ]
  },
  {
   "cell_type": "code",
   "execution_count": 62,
   "metadata": {
    "collapsed": false
   },
   "outputs": [
    {
     "data": {
      "text/plain": [
       "'Mostly Cloudy'"
      ]
     },
     "execution_count": 62,
     "metadata": {},
     "output_type": "execute_result"
    }
   ],
   "source": [
    "weather.loc[weather['Wind'].idxmax()]['Desc']"
   ]
  },
  {
   "cell_type": "code",
   "execution_count": null,
   "metadata": {
    "collapsed": true
   },
   "outputs": [],
   "source": [
    "# Q8: What are the counts of the weather descriptions?"
   ]
  },
  {
   "cell_type": "code",
   "execution_count": 63,
   "metadata": {
    "collapsed": false
   },
   "outputs": [
    {
     "data": {
      "text/plain": [
       "Mainly Clear                               2106\n",
       "Mostly Cloudy                              2069\n",
       "Cloudy                                     1728\n",
       "Clear                                      1326\n",
       "Snow                                        390\n",
       "Rain                                        306\n",
       "Rain Showers                                188\n",
       "Fog                                         150\n",
       "Rain,Fog                                    116\n",
       "Drizzle,Fog                                  80\n",
       "Snow Showers                                 60\n",
       "Drizzle                                      41\n",
       "Snow,Fog                                     37\n",
       "Snow,Blowing Snow                            19\n",
       "Rain,Snow                                    18\n",
       "Thunderstorms,Rain Showers                   16\n",
       "Haze                                         16\n",
       "Drizzle,Snow,Fog                             15\n",
       "Freezing Rain                                14\n",
       "Freezing Drizzle,Snow                        11\n",
       "Freezing Drizzle                              7\n",
       "Snow,Ice Pellets                              6\n",
       "Freezing Drizzle,Fog                          6\n",
       "Snow,Haze                                     5\n",
       "Freezing Fog                                  4\n",
       "Freezing Rain,Fog                             4\n",
       "Rain,Snow,Ice Pellets                         4\n",
       "Moderate Snow                                 4\n",
       "Snow Showers,Fog                              4\n",
       "Rain,Haze                                     3\n",
       "Thunderstorms,Rain Showers,Fog                3\n",
       "Freezing Drizzle,Haze                         3\n",
       "Thunderstorms,Rain                            3\n",
       "Drizzle,Snow                                  2\n",
       "Moderate Snow,Blowing Snow                    2\n",
       "Freezing Rain,Haze                            2\n",
       "Thunderstorms                                 2\n",
       "Rain Showers,Snow Showers                     2\n",
       "Thunderstorms,Heavy Rain Showers              1\n",
       "Snow Pellets                                  1\n",
       "Thunderstorms,Moderate Rain Showers,Fog       1\n",
       "Freezing Rain,Ice Pellets,Fog                 1\n",
       "Thunderstorms,Rain,Fog                        1\n",
       "Freezing Rain,Snow Grains                     1\n",
       "Rain Showers,Fog                              1\n",
       "Moderate Rain,Fog                             1\n",
       "Rain,Ice Pellets                              1\n",
       "Rain,Snow,Fog                                 1\n",
       "Rain,Snow Grains                              1\n",
       "Drizzle,Ice Pellets,Fog                       1\n",
       "Name: Desc, dtype: int64"
      ]
     },
     "execution_count": 63,
     "metadata": {},
     "output_type": "execute_result"
    }
   ],
   "source": [
    "weather['Desc'].value_counts()"
   ]
  },
  {
   "cell_type": "code",
   "execution_count": null,
   "metadata": {
    "collapsed": true
   },
   "outputs": [],
   "source": [
    "# Q9: find the rows that contain \"Snow\" and plot the temperature for those rows using a bar chart"
   ]
  },
  {
   "cell_type": "markdown",
   "metadata": {},
   "source": [
    "**NOTE: Snow is in a lot of descriptions, not just \"Snow\".  You need to use \"contains\" for this one.  This is a bar chart because the days aren't all represented in this data -- summer has no snow, for example.**"
   ]
  },
  {
   "cell_type": "code",
   "execution_count": 81,
   "metadata": {
    "collapsed": false
   },
   "outputs": [
    {
     "data": {
      "text/plain": [
       "<matplotlib.axes._subplots.AxesSubplot at 0x118c29da0>"
      ]
     },
     "execution_count": 81,
     "metadata": {},
     "output_type": "execute_result"
    },
    {
     "data": {
      "image/png": "[encoded data removed]",
      "text/plain": [
       "<matplotlib.figure.Figure at 0x118f19908>"
      ]
     },
     "metadata": {},
     "output_type": "display_data"
    }
   ],
   "source": [
    "weather[weather['Desc'].str.contains(\"Snow\")]['Temp'].plot(kind=\"bar\")"
   ]
  },
  {
   "cell_type": "code",
   "execution_count": null,
   "metadata": {
    "collapsed": true
   },
   "outputs": [],
   "source": [
    "# Q10: Group by the weather description terms and use np.mean as your aggregate. Show the head."
   ]
  },
  {
   "cell_type": "code",
   "execution_count": 119,
   "metadata": {
    "collapsed": false
   },
   "outputs": [
    {
     "data": {
      "text/html": [
       "<div>\n",
       "<table border=\"1\" class=\"dataframe\">\n",
       "  <thead>\n",
       "    <tr style=\"text-align: right;\">\n",
       "      <th></th>\n",
       "      <th>Temp</th>\n",
       "      <th>Dew Point</th>\n",
       "      <th>Humidity</th>\n",
       "      <th>Wind</th>\n",
       "      <th>Visibility</th>\n",
       "      <th>Pressure</th>\n",
       "    </tr>\n",
       "    <tr>\n",
       "      <th>Desc</th>\n",
       "      <th></th>\n",
       "      <th></th>\n",
       "      <th></th>\n",
       "      <th></th>\n",
       "      <th></th>\n",
       "      <th></th>\n",
       "    </tr>\n",
       "  </thead>\n",
       "  <tbody>\n",
       "    <tr>\n",
       "      <th>Clear</th>\n",
       "      <td>6.825716</td>\n",
       "      <td>0.089367</td>\n",
       "      <td>64.497738</td>\n",
       "      <td>10.557315</td>\n",
       "      <td>30.153243</td>\n",
       "      <td>101.587443</td>\n",
       "    </tr>\n",
       "    <tr>\n",
       "      <th>Cloudy</th>\n",
       "      <td>7.970544</td>\n",
       "      <td>2.375810</td>\n",
       "      <td>69.592593</td>\n",
       "      <td>16.127315</td>\n",
       "      <td>26.625752</td>\n",
       "      <td>100.911441</td>\n",
       "    </tr>\n",
       "    <tr>\n",
       "      <th>Drizzle</th>\n",
       "      <td>7.353659</td>\n",
       "      <td>5.504878</td>\n",
       "      <td>88.243902</td>\n",
       "      <td>16.097561</td>\n",
       "      <td>17.931707</td>\n",
       "      <td>100.435366</td>\n",
       "    </tr>\n",
       "    <tr>\n",
       "      <th>Drizzle,Fog</th>\n",
       "      <td>8.067500</td>\n",
       "      <td>7.033750</td>\n",
       "      <td>93.275000</td>\n",
       "      <td>11.862500</td>\n",
       "      <td>5.257500</td>\n",
       "      <td>100.786625</td>\n",
       "    </tr>\n",
       "    <tr>\n",
       "      <th>Drizzle,Ice Pellets,Fog</th>\n",
       "      <td>0.400000</td>\n",
       "      <td>-0.700000</td>\n",
       "      <td>92.000000</td>\n",
       "      <td>20.000000</td>\n",
       "      <td>4.000000</td>\n",
       "      <td>100.790000</td>\n",
       "    </tr>\n",
       "  </tbody>\n",
       "</table>\n",
       "</div>"
      ],
      "text/plain": [
       "                             Temp  Dew Point   Humidity       Wind  \\\n",
       "Desc                                                                 \n",
       "Clear                    6.825716   0.089367  64.497738  10.557315   \n",
       "Cloudy                   7.970544   2.375810  69.592593  16.127315   \n",
       "Drizzle                  7.353659   5.504878  88.243902  16.097561   \n",
       "Drizzle,Fog              8.067500   7.033750  93.275000  11.862500   \n",
       "Drizzle,Ice Pellets,Fog  0.400000  -0.700000  92.000000  20.000000   \n",
       "\n",
       "                         Visibility    Pressure  \n",
       "Desc                                             \n",
       "Clear                     30.153243  101.587443  \n",
       "Cloudy                    26.625752  100.911441  \n",
       "Drizzle                   17.931707  100.435366  \n",
       "Drizzle,Fog                5.257500  100.786625  \n",
       "Drizzle,Ice Pellets,Fog    4.000000  100.790000  "
      ]
     },
     "execution_count": 119,
     "metadata": {},
     "output_type": "execute_result"
    }
   ],
   "source": [
    "weather.groupby(weather['Desc']).aggregate(np.mean).head()"
   ]
  },
  {
   "cell_type": "code",
   "execution_count": null,
   "metadata": {
    "collapsed": true
   },
   "outputs": [],
   "source": [
    "# Q11: Sort the dataframe from Q10 by Temperature Ascending and \n",
    "# plot the top 5 Temperature values as a bar chart."
   ]
  },
  {
   "cell_type": "markdown",
   "metadata": {},
   "source": [
    "**NOTE: I said temp ascending, but for some reason most of you sorted ascending = False. It should be True, which is the default, which is why it's not shown. You do the sort, then you take the top 5 of the dataframe and plot those.**"
   ]
  },
  {
   "cell_type": "code",
   "execution_count": 127,
   "metadata": {
    "collapsed": false
   },
   "outputs": [
    {
     "data": {
      "text/plain": [
       "<matplotlib.axes._subplots.AxesSubplot at 0x11e3cbc88>"
      ]
     },
     "execution_count": 127,
     "metadata": {},
     "output_type": "execute_result"
    },
    {
     "data": {
      "image/png": "[encoded data removed]",
      "text/plain": [
       "<matplotlib.figure.Figure at 0x11e3e8e48>"
      ]
     },
     "metadata": {},
     "output_type": "display_data"
    }
   ],
   "source": [
    "descmeans = weather.groupby(weather['Desc']).aggregate(np.mean)\n",
    "descmeans.sort_values(by=\"Temp\")['Temp'][0:5].plot(kind=\"bar\")"
   ]
  },
  {
   "cell_type": "code",
   "execution_count": null,
   "metadata": {
    "collapsed": true
   },
   "outputs": [],
   "source": [
    "#Q12: Get a list of the unique weather terms that appear in the description column."
   ]
  },
  {
   "cell_type": "code",
   "execution_count": 82,
   "metadata": {
    "collapsed": false
   },
   "outputs": [
    {
     "data": {
      "text/plain": [
       "array(['Fog', 'Freezing Drizzle,Fog', 'Mostly Cloudy', 'Cloudy', 'Rain',\n",
       "       'Rain Showers', 'Mainly Clear', 'Snow Showers', 'Snow', 'Clear',\n",
       "       'Freezing Rain,Fog', 'Freezing Rain', 'Freezing Drizzle',\n",
       "       'Rain,Snow', 'Moderate Snow', 'Freezing Drizzle,Snow',\n",
       "       'Freezing Rain,Snow Grains', 'Snow,Blowing Snow', 'Freezing Fog',\n",
       "       'Haze', 'Rain,Fog', 'Drizzle,Fog', 'Drizzle',\n",
       "       'Freezing Drizzle,Haze', 'Freezing Rain,Haze', 'Snow,Haze',\n",
       "       'Snow,Fog', 'Snow,Ice Pellets', 'Rain,Haze', 'Thunderstorms,Rain',\n",
       "       'Thunderstorms,Rain Showers', 'Thunderstorms,Heavy Rain Showers',\n",
       "       'Thunderstorms,Rain Showers,Fog', 'Thunderstorms',\n",
       "       'Thunderstorms,Rain,Fog', 'Thunderstorms,Moderate Rain Showers,Fog',\n",
       "       'Rain Showers,Fog', 'Rain Showers,Snow Showers', 'Snow Pellets',\n",
       "       'Rain,Snow,Fog', 'Moderate Rain,Fog',\n",
       "       'Freezing Rain,Ice Pellets,Fog', 'Drizzle,Ice Pellets,Fog',\n",
       "       'Drizzle,Snow', 'Rain,Ice Pellets', 'Drizzle,Snow,Fog',\n",
       "       'Rain,Snow Grains', 'Rain,Snow,Ice Pellets', 'Snow Showers,Fog',\n",
       "       'Moderate Snow,Blowing Snow'], dtype=object)"
      ]
     },
     "execution_count": 82,
     "metadata": {},
     "output_type": "execute_result"
    }
   ],
   "source": [
    "weather['Desc'].unique()"
   ]
  },
  {
   "cell_type": "code",
   "execution_count": 84,
   "metadata": {
    "collapsed": true
   },
   "outputs": [],
   "source": [
    "# Q13: Split the Description elements by comma (but don't make multiple columns for them)."
   ]
  },
  {
   "cell_type": "code",
   "execution_count": 86,
   "metadata": {
    "collapsed": false
   },
   "outputs": [],
   "source": [
    "lists = weather['Desc'].str.split(\",\")"
   ]
  },
  {
   "cell_type": "code",
   "execution_count": 110,
   "metadata": {
    "collapsed": true
   },
   "outputs": [],
   "source": [
    "# Q12: Get the values from the split descriptions you just got (hint: values) and figure out \n",
    "# how to make a Counter object to see which ones occur most often. Call most_common on the \n",
    "# Counter.\n",
    "# Another hint: flatten a list of lists by using this magic spell that I look up every time:\n",
    "# [item for sublist in nested_list for item in sublist]\n",
    "# in other words, if nested_list is [[2,3], [32,55], [4]], then\n",
    "# the flat version will be [2,3,32,55,4]"
   ]
  },
  {
   "cell_type": "markdown",
   "metadata": {},
   "source": [
    "**NOTE: You should be familiar with Counter from the Bootcamp or from looking it up if you did not take the Bootcamp because you already knew some Python.  It was also used in week 1, I believe.**"
   ]
  },
  {
   "cell_type": "code",
   "execution_count": 107,
   "metadata": {
    "collapsed": false
   },
   "outputs": [],
   "source": [
    "weather_desc = list(lists.values)"
   ]
  },
  {
   "cell_type": "code",
   "execution_count": 108,
   "metadata": {
    "collapsed": false
   },
   "outputs": [],
   "source": [
    "flat_list = [item for sublist in weather_desc for item in sublist]"
   ]
  },
  {
   "cell_type": "code",
   "execution_count": 109,
   "metadata": {
    "collapsed": false
   },
   "outputs": [
    {
     "data": {
      "text/plain": [
       "['Fog',\n",
       " 'Fog',\n",
       " 'Freezing Drizzle',\n",
       " 'Fog',\n",
       " 'Freezing Drizzle',\n",
       " 'Fog',\n",
       " 'Fog',\n",
       " 'Fog',\n",
       " 'Fog',\n",
       " 'Fog',\n",
       " 'Fog',\n",
       " 'Fog',\n",
       " 'Fog',\n",
       " 'Fog',\n",
       " 'Fog',\n",
       " 'Fog',\n",
       " 'Fog',\n",
       " 'Fog',\n",
       " 'Mostly Cloudy',\n",
       " 'Cloudy',\n",
       " 'Rain',\n",
       " 'Rain',\n",
       " 'Cloudy',\n",
       " 'Cloudy',\n",
       " 'Rain Showers',\n",
       " 'Cloudy',\n",
       " 'Rain Showers',\n",
       " 'Cloudy',\n",
       " 'Mostly Cloudy',\n",
       " 'Mostly Cloudy',\n",
       " 'Mostly Cloudy',\n",
       " 'Mostly Cloudy',\n",
       " 'Mostly Cloudy',\n",
       " 'Mostly Cloudy',\n",
       " 'Mostly Cloudy',\n",
       " 'Mostly Cloudy',\n",
       " 'Mostly Cloudy',\n",
       " 'Mostly Cloudy',\n",
       " 'Mainly Clear',\n",
       " 'Mostly Cloudy',\n",
       " 'Mostly Cloudy',\n",
       " 'Mostly Cloudy',\n",
       " 'Mostly Cloudy',\n",
       " 'Snow Showers',\n",
       " 'Mostly Cloudy',\n",
       " 'Mostly Cloudy',\n",
       " 'Snow Showers',\n",
       " 'Snow Showers',\n",
       " 'Cloudy',\n",
       " 'Snow Showers',\n",
       " 'Snow Showers',\n",
       " 'Cloudy',\n",
       " 'Snow Showers',\n",
       " 'Snow Showers',\n",
       " 'Cloudy',\n",
       " 'Snow Showers',\n",
       " 'Snow Showers',\n",
       " 'Snow',\n",
       " 'Mostly Cloudy',\n",
       " 'Mostly Cloudy',\n",
       " 'Cloudy',\n",
       " 'Mostly Cloudy',\n",
       " 'Mainly Clear',\n",
       " 'Mainly Clear',\n",
       " 'Mainly Clear',\n",
       " 'Mainly Clear',\n",
       " 'Mainly Clear',\n",
       " 'Mainly Clear',\n",
       " 'Mainly Clear',\n",
       " 'Clear',\n",
       " 'Mainly Clear',\n",
       " 'Mostly Cloudy',\n",
       " 'Mostly Cloudy',\n",
       " 'Mostly Cloudy',\n",
       " 'Mostly Cloudy',\n",
       " 'Mainly Clear',\n",
       " 'Mainly Clear',\n",
       " 'Mainly Clear',\n",
       " 'Mainly Clear',\n",
       " 'Mainly Clear',\n",
       " 'Cloudy',\n",
       " 'Cloudy',\n",
       " 'Mostly Cloudy',\n",
       " 'Mostly Cloudy',\n",
       " 'Mostly Cloudy',\n",
       " 'Mostly Cloudy',\n",
       " 'Snow',\n",
       " 'Cloudy',\n",
       " 'Snow',\n",
       " 'Snow',\n",
       " 'Snow',\n",
       " 'Snow',\n",
       " 'Snow',\n",
       " 'Snow',\n",
       " 'Snow',\n",
       " 'Snow',\n",
       " 'Snow',\n",
       " 'Snow',\n",
       " 'Snow',\n",
       " 'Snow',\n",
       " 'Snow',\n",
       " 'Snow',\n",
       " 'Snow',\n",
       " 'Snow',\n",
       " 'Snow',\n",
       " 'Snow',\n",
       " 'Snow',\n",
       " 'Mainly Clear',\n",
       " 'Mainly Clear',\n",
       " 'Mainly Clear',\n",
       " 'Mainly Clear',\n",
       " 'Mainly Clear',\n",
       " 'Mainly Clear',\n",
       " 'Mainly Clear',\n",
       " 'Mainly Clear',\n",
       " 'Mainly Clear',\n",
       " 'Clear',\n",
       " 'Clear',\n",
       " 'Clear',\n",
       " 'Clear',\n",
       " 'Cloudy',\n",
       " 'Cloudy',\n",
       " 'Cloudy',\n",
       " 'Cloudy',\n",
       " 'Cloudy',\n",
       " 'Snow',\n",
       " 'Snow',\n",
       " 'Snow',\n",
       " 'Snow',\n",
       " 'Snow',\n",
       " 'Snow',\n",
       " 'Snow',\n",
       " 'Snow',\n",
       " 'Snow',\n",
       " 'Snow',\n",
       " 'Snow',\n",
       " 'Snow',\n",
       " 'Snow',\n",
       " 'Snow',\n",
       " 'Snow',\n",
       " 'Cloudy',\n",
       " 'Cloudy',\n",
       " 'Cloudy',\n",
       " 'Cloudy',\n",
       " 'Cloudy',\n",
       " 'Cloudy',\n",
       " 'Cloudy',\n",
       " 'Cloudy',\n",
       " 'Cloudy',\n",
       " 'Cloudy',\n",
       " 'Cloudy',\n",
       " 'Cloudy',\n",
       " 'Cloudy',\n",
       " 'Cloudy',\n",
       " 'Freezing Drizzle',\n",
       " 'Fog',\n",
       " 'Freezing Rain',\n",
       " 'Fog',\n",
       " 'Freezing Rain',\n",
       " 'Freezing Drizzle',\n",
       " 'Freezing Drizzle',\n",
       " 'Freezing Rain',\n",
       " 'Snow',\n",
       " 'Snow',\n",
       " 'Snow',\n",
       " 'Snow',\n",
       " 'Snow',\n",
       " 'Snow',\n",
       " 'Snow',\n",
       " 'Snow',\n",
       " 'Fog',\n",
       " 'Snow',\n",
       " 'Cloudy',\n",
       " 'Mostly Cloudy',\n",
       " 'Mostly Cloudy',\n",
       " 'Mainly Clear',\n",
       " 'Mainly Clear',\n",
       " 'Mainly Clear',\n",
       " 'Cloudy',\n",
       " 'Cloudy',\n",
       " 'Snow',\n",
       " 'Snow',\n",
       " 'Snow',\n",
       " 'Snow',\n",
       " 'Snow',\n",
       " 'Cloudy',\n",
       " 'Mostly Cloudy',\n",
       " 'Mostly Cloudy',\n",
       " 'Mostly Cloudy',\n",
       " 'Mainly Clear',\n",
       " 'Mainly Clear',\n",
       " 'Mostly Cloudy',\n",
       " 'Mostly Cloudy',\n",
       " 'Mostly Cloudy',\n",
       " 'Mostly Cloudy',\n",
       " 'Mostly Cloudy',\n",
       " 'Mostly Cloudy',\n",
       " 'Mostly Cloudy',\n",
       " 'Mostly Cloudy',\n",
       " 'Cloudy',\n",
       " 'Cloudy',\n",
       " 'Cloudy',\n",
       " 'Cloudy',\n",
       " 'Mostly Cloudy',\n",
       " 'Snow',\n",
       " 'Snow',\n",
       " 'Snow',\n",
       " 'Snow',\n",
       " 'Cloudy',\n",
       " 'Cloudy',\n",
       " 'Cloudy',\n",
       " 'Mostly Cloudy',\n",
       " 'Mostly Cloudy',\n",
       " 'Mostly Cloudy',\n",
       " 'Mostly Cloudy',\n",
       " 'Mostly Cloudy',\n",
       " 'Mostly Cloudy',\n",
       " 'Mostly Cloudy',\n",
       " 'Mostly Cloudy',\n",
       " 'Cloudy',\n",
       " 'Cloudy',\n",
       " 'Snow',\n",
       " 'Snow',\n",
       " 'Snow',\n",
       " 'Cloudy',\n",
       " 'Rain',\n",
       " 'Snow',\n",
       " 'Snow',\n",
       " 'Snow',\n",
       " 'Cloudy',\n",
       " 'Cloudy',\n",
       " 'Mostly Cloudy',\n",
       " 'Mainly Clear',\n",
       " 'Mostly Cloudy',\n",
       " 'Mostly Cloudy',\n",
       " 'Mainly Clear',\n",
       " 'Mainly Clear',\n",
       " 'Mostly Cloudy',\n",
       " 'Mostly Cloudy',\n",
       " 'Mostly Cloudy',\n",
       " 'Mostly Cloudy',\n",
       " 'Mostly Cloudy',\n",
       " 'Mostly Cloudy',\n",
       " 'Mostly Cloudy',\n",
       " 'Mostly Cloudy',\n",
       " 'Mostly Cloudy',\n",
       " 'Clear',\n",
       " 'Clear',\n",
       " 'Clear',\n",
       " 'Clear',\n",
       " 'Mainly Clear',\n",
       " 'Mainly Clear',\n",
       " 'Mostly Cloudy',\n",
       " 'Mostly Cloudy',\n",
       " 'Mostly Cloudy',\n",
       " 'Cloudy',\n",
       " 'Mostly Cloudy',\n",
       " 'Cloudy',\n",
       " 'Mostly Cloudy',\n",
       " 'Mostly Cloudy',\n",
       " 'Mostly Cloudy',\n",
       " 'Mostly Cloudy',\n",
       " 'Mostly Cloudy',\n",
       " 'Mostly Cloudy',\n",
       " 'Mostly Cloudy',\n",
       " 'Cloudy',\n",
       " 'Cloudy',\n",
       " 'Cloudy',\n",
       " 'Mostly Cloudy',\n",
       " 'Mostly Cloudy',\n",
       " 'Mostly Cloudy',\n",
       " 'Cloudy',\n",
       " 'Cloudy',\n",
       " 'Cloudy',\n",
       " 'Cloudy',\n",
       " 'Cloudy',\n",
       " 'Snow Showers',\n",
       " 'Snow',\n",
       " 'Snow',\n",
       " 'Snow',\n",
       " 'Snow',\n",
       " 'Snow',\n",
       " 'Snow',\n",
       " 'Snow',\n",
       " 'Moderate Snow',\n",
       " 'Moderate Snow',\n",
       " 'Snow',\n",
       " 'Snow',\n",
       " 'Snow',\n",
       " 'Snow',\n",
       " 'Snow',\n",
       " 'Snow',\n",
       " 'Snow',\n",
       " 'Snow',\n",
       " 'Snow',\n",
       " 'Snow',\n",
       " 'Freezing Drizzle',\n",
       " 'Snow',\n",
       " 'Cloudy',\n",
       " 'Cloudy',\n",
       " 'Cloudy',\n",
       " 'Cloudy',\n",
       " 'Freezing Rain',\n",
       " 'Freezing Rain',\n",
       " 'Snow Grains',\n",
       " 'Freezing Drizzle',\n",
       " 'Freezing Rain',\n",
       " 'Snow',\n",
       " 'Snow',\n",
       " 'Snow',\n",
       " 'Snow',\n",
       " 'Snow',\n",
       " 'Snow',\n",
       " 'Snow',\n",
       " 'Snow',\n",
       " 'Snow',\n",
       " 'Snow',\n",
       " 'Blowing Snow',\n",
       " 'Snow',\n",
       " 'Snow',\n",
       " 'Blowing Snow',\n",
       " 'Snow',\n",
       " 'Blowing Snow',\n",
       " 'Snow',\n",
       " 'Snow',\n",
       " 'Blowing Snow',\n",
       " 'Snow',\n",
       " 'Blowing Snow',\n",
       " 'Snow',\n",
       " 'Cloudy',\n",
       " 'Cloudy',\n",
       " 'Mostly Cloudy',\n",
       " 'Mostly Cloudy',\n",
       " 'Cloudy',\n",
       " 'Mostly Cloudy',\n",
       " 'Mostly Cloudy',\n",
       " 'Mostly Cloudy',\n",
       " 'Mainly Clear',\n",
       " 'Mostly Cloudy',\n",
       " 'Mostly Cloudy',\n",
       " 'Mostly Cloudy',\n",
       " 'Mostly Cloudy',\n",
       " 'Mainly Clear',\n",
       " 'Mainly Clear',\n",
       " 'Mainly Clear',\n",
       " 'Mostly Cloudy',\n",
       " 'Mostly Cloudy',\n",
       " 'Mostly Cloudy',\n",
       " 'Cloudy',\n",
       " 'Cloudy',\n",
       " 'Cloudy',\n",
       " 'Cloudy',\n",
       " 'Cloudy',\n",
       " 'Mostly Cloudy',\n",
       " 'Mostly Cloudy',\n",
       " 'Mainly Clear',\n",
       " 'Clear',\n",
       " 'Mainly Clear',\n",
       " 'Mainly Clear',\n",
       " 'Mainly Clear',\n",
       " 'Mainly Clear',\n",
       " 'Mainly Clear',\n",
       " 'Mainly Clear',\n",
       " 'Clear',\n",
       " 'Clear',\n",
       " 'Clear',\n",
       " 'Clear',\n",
       " 'Clear',\n",
       " 'Clear',\n",
       " 'Clear',\n",
       " 'Clear',\n",
       " 'Clear',\n",
       " 'Clear',\n",
       " 'Clear',\n",
       " 'Clear',\n",
       " 'Clear',\n",
       " 'Clear',\n",
       " 'Clear',\n",
       " 'Clear',\n",
       " 'Mainly Clear',\n",
       " 'Mostly Cloudy',\n",
       " 'Cloudy',\n",
       " 'Mostly Cloudy',\n",
       " 'Mostly Cloudy',\n",
       " 'Mostly Cloudy',\n",
       " 'Cloudy',\n",
       " 'Mostly Cloudy',\n",
       " 'Cloudy',\n",
       " 'Cloudy',\n",
       " 'Mostly Cloudy',\n",
       " 'Mainly Clear',\n",
       " 'Mainly Clear',\n",
       " 'Cloudy',\n",
       " 'Cloudy',\n",
       " 'Cloudy',\n",
       " 'Cloudy',\n",
       " 'Cloudy',\n",
       " 'Cloudy',\n",
       " 'Cloudy',\n",
       " 'Cloudy',\n",
       " 'Freezing Drizzle',\n",
       " 'Freezing Drizzle',\n",
       " 'Snow',\n",
       " 'Freezing Drizzle',\n",
       " 'Snow',\n",
       " 'Snow',\n",
       " 'Snow',\n",
       " 'Snow',\n",
       " 'Snow',\n",
       " 'Snow',\n",
       " 'Snow',\n",
       " 'Snow',\n",
       " 'Snow',\n",
       " 'Snow',\n",
       " 'Snow',\n",
       " 'Snow',\n",
       " 'Snow',\n",
       " 'Freezing Drizzle',\n",
       " 'Snow',\n",
       " 'Freezing Rain',\n",
       " 'Freezing Rain',\n",
       " 'Freezing Rain',\n",
       " 'Freezing Rain',\n",
       " 'Fog',\n",
       " 'Fog',\n",
       " 'Mostly Cloudy',\n",
       " 'Mostly Cloudy',\n",
       " 'Mostly Cloudy',\n",
       " 'Snow',\n",
       " 'Snow',\n",
       " 'Mostly Cloudy',\n",
       " 'Mainly Clear',\n",
       " 'Mainly Clear',\n",
       " 'Mainly Clear',\n",
       " 'Mainly Clear',\n",
       " 'Mainly Clear',\n",
       " 'Mainly Clear',\n",
       " 'Mainly Clear',\n",
       " 'Mainly Clear',\n",
       " 'Mainly Clear',\n",
       " 'Mainly Clear',\n",
       " 'Clear',\n",
       " 'Clear',\n",
       " 'Clear',\n",
       " 'Clear',\n",
       " 'Clear',\n",
       " 'Clear',\n",
       " 'Clear',\n",
       " 'Clear',\n",
       " 'Clear',\n",
       " 'Clear',\n",
       " 'Clear',\n",
       " 'Clear',\n",
       " 'Clear',\n",
       " 'Clear',\n",
       " 'Clear',\n",
       " 'Clear',\n",
       " 'Clear',\n",
       " 'Mainly Clear',\n",
       " 'Mostly Cloudy',\n",
       " 'Mostly Cloudy',\n",
       " 'Mostly Cloudy',\n",
       " 'Mostly Cloudy',\n",
       " 'Cloudy',\n",
       " 'Cloudy',\n",
       " 'Cloudy',\n",
       " 'Cloudy',\n",
       " 'Snow',\n",
       " 'Snow',\n",
       " 'Snow',\n",
       " 'Snow',\n",
       " 'Snow',\n",
       " 'Mostly Cloudy',\n",
       " 'Snow',\n",
       " 'Snow',\n",
       " 'Mostly Cloudy',\n",
       " 'Snow',\n",
       " 'Snow',\n",
       " 'Cloudy',\n",
       " 'Mostly Cloudy',\n",
       " 'Mainly Clear',\n",
       " 'Clear',\n",
       " 'Mainly Clear',\n",
       " 'Clear',\n",
       " 'Clear',\n",
       " 'Clear',\n",
       " 'Mainly Clear',\n",
       " 'Mainly Clear',\n",
       " 'Mainly Clear',\n",
       " 'Mainly Clear',\n",
       " 'Mainly Clear',\n",
       " 'Mainly Clear',\n",
       " 'Mainly Clear',\n",
       " 'Mainly Clear',\n",
       " 'Mainly Clear',\n",
       " 'Mostly Cloudy',\n",
       " 'Cloudy',\n",
       " 'Cloudy',\n",
       " 'Cloudy',\n",
       " 'Cloudy',\n",
       " 'Cloudy',\n",
       " 'Cloudy',\n",
       " 'Cloudy',\n",
       " 'Cloudy',\n",
       " 'Cloudy',\n",
       " 'Snow',\n",
       " 'Snow',\n",
       " 'Snow',\n",
       " 'Mostly Cloudy',\n",
       " 'Mainly Clear',\n",
       " 'Clear',\n",
       " 'Clear',\n",
       " 'Clear',\n",
       " 'Clear',\n",
       " 'Clear',\n",
       " 'Clear',\n",
       " 'Clear',\n",
       " 'Clear',\n",
       " 'Clear',\n",
       " 'Mainly Clear',\n",
       " 'Clear',\n",
       " 'Clear',\n",
       " 'Clear',\n",
       " 'Cloudy',\n",
       " 'Mainly Clear',\n",
       " 'Mainly Clear',\n",
       " 'Freezing Fog',\n",
       " 'Mainly Clear',\n",
       " 'Mainly Clear',\n",
       " 'Mostly Cloudy',\n",
       " 'Fog',\n",
       " 'Fog',\n",
       " 'Haze',\n",
       " 'Haze',\n",
       " 'Cloudy',\n",
       " 'Cloudy',\n",
       " 'Cloudy',\n",
       " 'Cloudy',\n",
       " 'Mostly Cloudy',\n",
       " 'Mostly Cloudy',\n",
       " 'Mainly Clear',\n",
       " 'Clear',\n",
       " 'Mostly Cloudy',\n",
       " 'Mainly Clear',\n",
       " 'Mostly Cloudy',\n",
       " 'Mainly Clear',\n",
       " 'Mostly Cloudy',\n",
       " 'Cloudy',\n",
       " 'Cloudy',\n",
       " 'Cloudy',\n",
       " 'Cloudy',\n",
       " 'Mostly Cloudy',\n",
       " 'Mostly Cloudy',\n",
       " 'Mostly Cloudy',\n",
       " 'Mostly Cloudy',\n",
       " 'Cloudy',\n",
       " 'Cloudy',\n",
       " 'Cloudy',\n",
       " 'Rain',\n",
       " 'Rain',\n",
       " 'Cloudy',\n",
       " 'Rain',\n",
       " 'Rain',\n",
       " 'Fog',\n",
       " 'Rain',\n",
       " 'Fog',\n",
       " 'Drizzle',\n",
       " 'Fog',\n",
       " 'Drizzle',\n",
       " 'Cloudy',\n",
       " 'Cloudy',\n",
       " 'Rain',\n",
       " 'Cloudy',\n",
       " 'Rain',\n",
       " 'Rain',\n",
       " 'Cloudy',\n",
       " 'Cloudy',\n",
       " 'Cloudy',\n",
       " 'Cloudy',\n",
       " 'Mostly Cloudy',\n",
       " 'Cloudy',\n",
       " 'Cloudy',\n",
       " 'Cloudy',\n",
       " 'Cloudy',\n",
       " 'Cloudy',\n",
       " 'Rain',\n",
       " 'Snow',\n",
       " 'Cloudy',\n",
       " 'Snow Showers',\n",
       " 'Snow Showers',\n",
       " 'Snow Showers',\n",
       " 'Cloudy',\n",
       " 'Mostly Cloudy',\n",
       " 'Mostly Cloudy',\n",
       " 'Snow Showers',\n",
       " 'Cloudy',\n",
       " 'Mostly Cloudy',\n",
       " 'Mostly Cloudy',\n",
       " 'Cloudy',\n",
       " 'Cloudy',\n",
       " 'Mostly Cloudy',\n",
       " 'Mostly Cloudy',\n",
       " 'Mostly Cloudy',\n",
       " 'Mostly Cloudy',\n",
       " 'Cloudy',\n",
       " 'Mostly Cloudy',\n",
       " 'Mostly Cloudy',\n",
       " 'Mostly Cloudy',\n",
       " 'Mainly Clear',\n",
       " 'Mainly Clear',\n",
       " 'Mainly Clear',\n",
       " 'Mostly Cloudy',\n",
       " 'Mainly Clear',\n",
       " 'Mainly Clear',\n",
       " 'Mostly Cloudy',\n",
       " 'Mostly Cloudy',\n",
       " 'Mostly Cloudy',\n",
       " 'Mostly Cloudy',\n",
       " 'Mostly Cloudy',\n",
       " 'Mostly Cloudy',\n",
       " 'Clear',\n",
       " 'Clear',\n",
       " 'Clear',\n",
       " 'Clear',\n",
       " 'Clear',\n",
       " 'Clear',\n",
       " 'Mainly Clear',\n",
       " 'Clear',\n",
       " 'Mainly Clear',\n",
       " 'Mainly Clear',\n",
       " 'Mainly Clear',\n",
       " 'Mainly Clear',\n",
       " 'Mostly Cloudy',\n",
       " 'Mostly Cloudy',\n",
       " 'Mostly Cloudy',\n",
       " 'Cloudy',\n",
       " 'Cloudy',\n",
       " 'Cloudy',\n",
       " 'Cloudy',\n",
       " 'Snow Showers',\n",
       " 'Snow',\n",
       " 'Snow',\n",
       " 'Snow',\n",
       " 'Snow',\n",
       " 'Snow',\n",
       " 'Snow',\n",
       " 'Snow',\n",
       " 'Snow',\n",
       " 'Snow',\n",
       " 'Snow',\n",
       " 'Freezing Rain',\n",
       " 'Freezing Rain',\n",
       " 'Rain',\n",
       " 'Rain',\n",
       " 'Fog',\n",
       " 'Drizzle',\n",
       " 'Fog',\n",
       " 'Drizzle',\n",
       " 'Fog',\n",
       " 'Drizzle',\n",
       " 'Fog',\n",
       " 'Drizzle',\n",
       " 'Fog',\n",
       " 'Drizzle',\n",
       " 'Fog',\n",
       " 'Freezing Drizzle',\n",
       " 'Fog',\n",
       " 'Snow',\n",
       " 'Snow',\n",
       " 'Snow',\n",
       " 'Cloudy',\n",
       " 'Cloudy',\n",
       " 'Mostly Cloudy',\n",
       " 'Mainly Clear',\n",
       " 'Mainly Clear',\n",
       " 'Snow Showers',\n",
       " 'Mostly Cloudy',\n",
       " 'Mostly Cloudy',\n",
       " 'Mostly Cloudy',\n",
       " 'Mostly Cloudy',\n",
       " 'Mostly Cloudy',\n",
       " 'Mainly Clear',\n",
       " 'Mainly Clear',\n",
       " 'Mostly Cloudy',\n",
       " 'Cloudy',\n",
       " 'Cloudy',\n",
       " 'Mostly Cloudy',\n",
       " 'Cloudy',\n",
       " 'Cloudy',\n",
       " 'Cloudy',\n",
       " 'Cloudy',\n",
       " 'Cloudy',\n",
       " 'Cloudy',\n",
       " 'Snow',\n",
       " 'Snow',\n",
       " 'Mainly Clear',\n",
       " 'Mostly Cloudy',\n",
       " 'Rain',\n",
       " 'Snow',\n",
       " 'Mainly Clear',\n",
       " 'Mainly Clear',\n",
       " 'Mainly Clear',\n",
       " 'Mainly Clear',\n",
       " 'Mainly Clear',\n",
       " 'Mainly Clear',\n",
       " 'Mainly Clear',\n",
       " 'Mainly Clear',\n",
       " 'Mostly Cloudy',\n",
       " 'Cloudy',\n",
       " 'Mostly Cloudy',\n",
       " 'Mainly Clear',\n",
       " 'Mainly Clear',\n",
       " 'Mostly Cloudy',\n",
       " 'Mostly Cloudy',\n",
       " 'Mostly Cloudy',\n",
       " 'Mostly Cloudy',\n",
       " 'Mainly Clear',\n",
       " 'Mainly Clear',\n",
       " 'Mainly Clear',\n",
       " 'Mainly Clear',\n",
       " 'Mainly Clear',\n",
       " 'Mainly Clear',\n",
       " 'Clear',\n",
       " 'Clear',\n",
       " 'Mainly Clear',\n",
       " 'Clear',\n",
       " 'Clear',\n",
       " 'Clear',\n",
       " 'Clear',\n",
       " 'Clear',\n",
       " 'Clear',\n",
       " 'Clear',\n",
       " 'Mainly Clear',\n",
       " 'Mostly Cloudy',\n",
       " 'Mostly Cloudy',\n",
       " 'Mainly Clear',\n",
       " 'Mainly Clear',\n",
       " 'Clear',\n",
       " 'Mainly Clear',\n",
       " 'Mostly Cloudy',\n",
       " 'Mostly Cloudy',\n",
       " 'Mainly Clear',\n",
       " 'Mainly Clear',\n",
       " 'Mainly Clear',\n",
       " 'Mostly Cloudy',\n",
       " 'Mostly Cloudy',\n",
       " 'Mostly Cloudy',\n",
       " 'Mostly Cloudy',\n",
       " 'Cloudy',\n",
       " 'Snow',\n",
       " 'Snow',\n",
       " 'Snow',\n",
       " 'Snow',\n",
       " 'Snow',\n",
       " 'Snow',\n",
       " 'Snow',\n",
       " 'Snow',\n",
       " 'Cloudy',\n",
       " 'Cloudy',\n",
       " 'Snow',\n",
       " 'Snow',\n",
       " 'Snow',\n",
       " 'Snow',\n",
       " 'Snow',\n",
       " 'Snow',\n",
       " 'Snow',\n",
       " 'Snow',\n",
       " 'Snow',\n",
       " 'Cloudy',\n",
       " 'Snow',\n",
       " 'Freezing Drizzle',\n",
       " 'Snow',\n",
       " 'Snow',\n",
       " 'Snow',\n",
       " 'Freezing Drizzle',\n",
       " 'Freezing Rain',\n",
       " 'Freezing Rain',\n",
       " 'Freezing Drizzle',\n",
       " 'Freezing Rain',\n",
       " 'Freezing Rain',\n",
       " 'Cloudy',\n",
       " 'Cloudy',\n",
       " 'Haze',\n",
       " 'Freezing Drizzle',\n",
       " 'Haze',\n",
       " 'Freezing Drizzle',\n",
       " 'Haze',\n",
       " 'Freezing Drizzle',\n",
       " 'Haze',\n",
       " 'Freezing Rain',\n",
       " 'Haze',\n",
       " 'Freezing Rain',\n",
       " 'Haze',\n",
       " 'Haze',\n",
       " 'Snow',\n",
       " 'Haze',\n",
       " 'Snow',\n",
       " 'Haze',\n",
       " 'Snow',\n",
       " 'Haze',\n",
       " 'Snow',\n",
       " 'Haze',\n",
       " 'Snow',\n",
       " 'Haze',\n",
       " 'Snow',\n",
       " 'Snow',\n",
       " 'Snow',\n",
       " 'Mostly Cloudy',\n",
       " 'Snow Showers',\n",
       " 'Snow Showers',\n",
       " 'Snow Showers',\n",
       " 'Snow Showers',\n",
       " 'Snow Showers',\n",
       " 'Snow',\n",
       " 'Snow',\n",
       " 'Snow',\n",
       " 'Mostly Cloudy',\n",
       " 'Mostly Cloudy',\n",
       " 'Mostly Cloudy',\n",
       " 'Mostly Cloudy',\n",
       " 'Mostly Cloudy',\n",
       " 'Mostly Cloudy',\n",
       " 'Mostly Cloudy',\n",
       " 'Mostly Cloudy',\n",
       " 'Mostly Cloudy',\n",
       " 'Mostly Cloudy',\n",
       " 'Mostly Cloudy',\n",
       " 'Snow',\n",
       " 'Snow',\n",
       " 'Mostly Cloudy',\n",
       " 'Mostly Cloudy',\n",
       " 'Mainly Clear',\n",
       " 'Mainly Clear',\n",
       " 'Mainly Clear',\n",
       " 'Mainly Clear',\n",
       " 'Fog',\n",
       " 'Mainly Clear',\n",
       " 'Mostly Cloudy',\n",
       " 'Mostly Cloudy',\n",
       " 'Mostly Cloudy',\n",
       " 'Cloudy',\n",
       " 'Snow',\n",
       " 'Snow',\n",
       " 'Snow',\n",
       " 'Snow',\n",
       " 'Snow',\n",
       " 'Snow',\n",
       " 'Cloudy',\n",
       " 'Snow',\n",
       " 'Snow',\n",
       " 'Mostly Cloudy',\n",
       " 'Mostly Cloudy',\n",
       " 'Cloudy',\n",
       " 'Snow',\n",
       " 'Snow',\n",
       " 'Mostly Cloudy',\n",
       " 'Mostly Cloudy',\n",
       " 'Mostly Cloudy',\n",
       " 'Mainly Clear',\n",
       " 'Mainly Clear',\n",
       " 'Clear',\n",
       " 'Clear',\n",
       " 'Clear',\n",
       " 'Clear',\n",
       " 'Mainly Clear',\n",
       " 'Clear',\n",
       " 'Mainly Clear',\n",
       " 'Mainly Clear',\n",
       " 'Mainly Clear',\n",
       " 'Mainly Clear',\n",
       " 'Clear',\n",
       " 'Clear',\n",
       " 'Clear',\n",
       " 'Clear',\n",
       " 'Clear',\n",
       " 'Clear',\n",
       " 'Clear',\n",
       " 'Clear',\n",
       " 'Clear',\n",
       " 'Clear',\n",
       " 'Clear',\n",
       " 'Clear',\n",
       " 'Clear',\n",
       " 'Clear',\n",
       " 'Clear',\n",
       " 'Clear',\n",
       " 'Clear',\n",
       " 'Clear',\n",
       " 'Freezing Fog',\n",
       " 'Cloudy',\n",
       " 'Mainly Clear',\n",
       " 'Mainly Clear',\n",
       " 'Cloudy',\n",
       " 'Cloudy',\n",
       " 'Cloudy',\n",
       " 'Cloudy',\n",
       " 'Cloudy',\n",
       " 'Cloudy',\n",
       " 'Mostly Cloudy',\n",
       " 'Cloudy',\n",
       " 'Cloudy',\n",
       " 'Cloudy',\n",
       " 'Cloudy',\n",
       " 'Cloudy',\n",
       " 'Snow',\n",
       " 'Cloudy',\n",
       " 'Snow',\n",
       " 'Cloudy',\n",
       " 'Cloudy',\n",
       " 'Mostly Cloudy',\n",
       " 'Mostly Cloudy',\n",
       " 'Cloudy',\n",
       " 'Cloudy',\n",
       " 'Cloudy',\n",
       " 'Cloudy',\n",
       " 'Cloudy',\n",
       " 'Mostly Cloudy',\n",
       " 'Cloudy',\n",
       " 'Cloudy',\n",
       " 'Cloudy',\n",
       " 'Cloudy',\n",
       " 'Cloudy',\n",
       " 'Cloudy',\n",
       " 'Cloudy',\n",
       " 'Mostly Cloudy',\n",
       " 'Mostly Cloudy',\n",
       " 'Cloudy',\n",
       " 'Mostly Cloudy',\n",
       " 'Mostly Cloudy',\n",
       " 'Snow Showers',\n",
       " 'Mostly Cloudy',\n",
       " 'Mainly Clear',\n",
       " 'Mostly Cloudy',\n",
       " 'Mainly Clear',\n",
       " 'Mainly Clear',\n",
       " 'Mainly Clear',\n",
       " 'Mainly Clear',\n",
       " 'Mainly Clear',\n",
       " 'Mainly Clear',\n",
       " 'Clear',\n",
       " 'Clear',\n",
       " 'Clear',\n",
       " 'Clear',\n",
       " 'Clear',\n",
       " 'Clear',\n",
       " 'Clear',\n",
       " 'Clear',\n",
       " 'Clear',\n",
       " 'Clear',\n",
       " 'Clear',\n",
       " 'Clear',\n",
       " 'Clear',\n",
       " 'Clear',\n",
       " 'Clear',\n",
       " 'Clear',\n",
       " 'Clear',\n",
       " 'Mainly Clear',\n",
       " 'Mainly Clear',\n",
       " 'Mainly Clear',\n",
       " 'Mainly Clear',\n",
       " 'Mainly Clear',\n",
       " 'Mainly Clear',\n",
       " 'Clear',\n",
       " 'Clear',\n",
       " 'Mainly Clear',\n",
       " 'Mainly Clear',\n",
       " 'Mainly Clear',\n",
       " 'Mainly Clear',\n",
       " 'Mainly Clear',\n",
       " 'Clear',\n",
       " 'Clear',\n",
       " 'Mainly Clear',\n",
       " 'Mainly Clear',\n",
       " 'Clear',\n",
       " 'Clear',\n",
       " 'Clear',\n",
       " 'Clear',\n",
       " 'Clear',\n",
       " 'Clear',\n",
       " 'Clear',\n",
       " 'Clear',\n",
       " 'Mainly Clear',\n",
       " 'Clear',\n",
       " 'Mainly Clear',\n",
       " 'Mainly Clear',\n",
       " 'Clear',\n",
       " 'Clear',\n",
       " 'Clear',\n",
       " 'Clear',\n",
       " 'Clear',\n",
       " 'Clear',\n",
       " 'Clear',\n",
       " 'Clear',\n",
       " 'Clear',\n",
       " 'Clear',\n",
       " 'Clear',\n",
       " 'Clear',\n",
       " 'Clear',\n",
       " 'Clear',\n",
       " 'Clear',\n",
       " ...]"
      ]
     },
     "execution_count": 109,
     "metadata": {},
     "output_type": "execute_result"
    }
   ],
   "source": [
    "flat_list"
   ]
  },
  {
   "cell_type": "code",
   "execution_count": 112,
   "metadata": {
    "collapsed": false
   },
   "outputs": [],
   "source": [
    "from collections import Counter"
   ]
  },
  {
   "cell_type": "code",
   "execution_count": 113,
   "metadata": {
    "collapsed": true
   },
   "outputs": [],
   "source": [
    "counts = Counter(flat_list)"
   ]
  },
  {
   "cell_type": "code",
   "execution_count": 114,
   "metadata": {
    "collapsed": false
   },
   "outputs": [
    {
     "data": {
      "text/plain": [
       "[('Mainly Clear', 2106),\n",
       " ('Mostly Cloudy', 2069),\n",
       " ('Cloudy', 1728),\n",
       " ('Clear', 1326),\n",
       " ('Snow', 508),\n",
       " ('Rain', 454),\n",
       " ('Fog', 422),\n",
       " ('Rain Showers', 210),\n",
       " ('Drizzle', 139),\n",
       " ('Snow Showers', 66),\n",
       " ('Haze', 29),\n",
       " ('Thunderstorms', 27),\n",
       " ('Freezing Drizzle', 27),\n",
       " ('Freezing Rain', 22),\n",
       " ('Blowing Snow', 21),\n",
       " ('Ice Pellets', 13),\n",
       " ('Moderate Snow', 6),\n",
       " ('Freezing Fog', 4),\n",
       " ('Snow Grains', 2),\n",
       " ('Snow Pellets', 1),\n",
       " ('Heavy Rain Showers', 1),\n",
       " ('Moderate Rain', 1),\n",
       " ('Moderate Rain Showers', 1)]"
      ]
     },
     "execution_count": 114,
     "metadata": {},
     "output_type": "execute_result"
    }
   ],
   "source": [
    "counts.most_common()"
   ]
  },
  {
   "cell_type": "code",
   "execution_count": null,
   "metadata": {
    "collapsed": true
   },
   "outputs": [],
   "source": []
  }
 ],
 "metadata": {
  "anaconda-cloud": {},
  "kernelspec": {
   "display_name": "Python [conda root]",
   "language": "python",
   "name": "conda-root-py"
  },
  "language_info": {
   "codemirror_mode": {
    "name": "ipython",
    "version": 3
   },
   "file_extension": ".py",
   "mimetype": "text/x-python",
   "name": "python",
   "nbconvert_exporter": "python",
   "pygments_lexer": "ipython3",
   "version": "3.5.2"
  }
 },
 "nbformat": 4,
 "nbformat_minor": 1
}
