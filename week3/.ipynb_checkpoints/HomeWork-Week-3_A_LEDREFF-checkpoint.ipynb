{
 "cells": [
  {
   "cell_type": "markdown",
   "metadata": {},
   "source": [
    "# HW Week 3"
   ]
  },
  {
   "cell_type": "code",
   "execution_count": 1,
   "metadata": {
    "collapsed": true
   },
   "outputs": [],
   "source": [
    "%matplotlib inline\n",
    "\n",
    "import pandas as pd\n",
    "import matplotlib.pyplot as plt\n",
    "import seaborn as sns\n",
    "import numpy as np"
   ]
  },
  {
   "cell_type": "code",
   "execution_count": 3,
   "metadata": {},
   "outputs": [],
   "source": [
    "weather = pd.read_csv('./data/weather_2012.csv', parse_dates=True, index_col='Date/Time')"
   ]
  },
  {
   "cell_type": "code",
   "execution_count": 4,
   "metadata": {},
   "outputs": [
    {
     "data": {
      "text/html": [
       "<div>\n",
       "<style>\n",
       "    .dataframe thead tr:only-child th {\n",
       "        text-align: right;\n",
       "    }\n",
       "\n",
       "    .dataframe thead th {\n",
       "        text-align: left;\n",
       "    }\n",
       "\n",
       "    .dataframe tbody tr th {\n",
       "        vertical-align: top;\n",
       "    }\n",
       "</style>\n",
       "<table border=\"1\" class=\"dataframe\">\n",
       "  <thead>\n",
       "    <tr style=\"text-align: right;\">\n",
       "      <th></th>\n",
       "      <th>Temp (C)</th>\n",
       "      <th>Dew Point Temp (C)</th>\n",
       "      <th>Rel Hum (%)</th>\n",
       "      <th>Wind Spd (km/h)</th>\n",
       "      <th>Visibility (km)</th>\n",
       "      <th>Stn Press (kPa)</th>\n",
       "      <th>Weather</th>\n",
       "    </tr>\n",
       "    <tr>\n",
       "      <th>Date/Time</th>\n",
       "      <th></th>\n",
       "      <th></th>\n",
       "      <th></th>\n",
       "      <th></th>\n",
       "      <th></th>\n",
       "      <th></th>\n",
       "      <th></th>\n",
       "    </tr>\n",
       "  </thead>\n",
       "  <tbody>\n",
       "    <tr>\n",
       "      <th>2012-01-01 00:00:00</th>\n",
       "      <td>-1.8</td>\n",
       "      <td>-3.9</td>\n",
       "      <td>86</td>\n",
       "      <td>4</td>\n",
       "      <td>8.0</td>\n",
       "      <td>101.24</td>\n",
       "      <td>Fog</td>\n",
       "    </tr>\n",
       "    <tr>\n",
       "      <th>2012-01-01 01:00:00</th>\n",
       "      <td>-1.8</td>\n",
       "      <td>-3.7</td>\n",
       "      <td>87</td>\n",
       "      <td>4</td>\n",
       "      <td>8.0</td>\n",
       "      <td>101.24</td>\n",
       "      <td>Fog</td>\n",
       "    </tr>\n",
       "    <tr>\n",
       "      <th>2012-01-01 02:00:00</th>\n",
       "      <td>-1.8</td>\n",
       "      <td>-3.4</td>\n",
       "      <td>89</td>\n",
       "      <td>7</td>\n",
       "      <td>4.0</td>\n",
       "      <td>101.26</td>\n",
       "      <td>Freezing Drizzle,Fog</td>\n",
       "    </tr>\n",
       "    <tr>\n",
       "      <th>2012-01-01 03:00:00</th>\n",
       "      <td>-1.5</td>\n",
       "      <td>-3.2</td>\n",
       "      <td>88</td>\n",
       "      <td>6</td>\n",
       "      <td>4.0</td>\n",
       "      <td>101.27</td>\n",
       "      <td>Freezing Drizzle,Fog</td>\n",
       "    </tr>\n",
       "    <tr>\n",
       "      <th>2012-01-01 04:00:00</th>\n",
       "      <td>-1.5</td>\n",
       "      <td>-3.3</td>\n",
       "      <td>88</td>\n",
       "      <td>7</td>\n",
       "      <td>4.8</td>\n",
       "      <td>101.23</td>\n",
       "      <td>Fog</td>\n",
       "    </tr>\n",
       "  </tbody>\n",
       "</table>\n",
       "</div>"
      ],
      "text/plain": [
       "                     Temp (C)  Dew Point Temp (C)  Rel Hum (%)  \\\n",
       "Date/Time                                                        \n",
       "2012-01-01 00:00:00      -1.8                -3.9           86   \n",
       "2012-01-01 01:00:00      -1.8                -3.7           87   \n",
       "2012-01-01 02:00:00      -1.8                -3.4           89   \n",
       "2012-01-01 03:00:00      -1.5                -3.2           88   \n",
       "2012-01-01 04:00:00      -1.5                -3.3           88   \n",
       "\n",
       "                     Wind Spd (km/h)  Visibility (km)  Stn Press (kPa)  \\\n",
       "Date/Time                                                                \n",
       "2012-01-01 00:00:00                4              8.0           101.24   \n",
       "2012-01-01 01:00:00                4              8.0           101.24   \n",
       "2012-01-01 02:00:00                7              4.0           101.26   \n",
       "2012-01-01 03:00:00                6              4.0           101.27   \n",
       "2012-01-01 04:00:00                7              4.8           101.23   \n",
       "\n",
       "                                  Weather  \n",
       "Date/Time                                  \n",
       "2012-01-01 00:00:00                   Fog  \n",
       "2012-01-01 01:00:00                   Fog  \n",
       "2012-01-01 02:00:00  Freezing Drizzle,Fog  \n",
       "2012-01-01 03:00:00  Freezing Drizzle,Fog  \n",
       "2012-01-01 04:00:00                   Fog  "
      ]
     },
     "execution_count": 4,
     "metadata": {},
     "output_type": "execute_result"
    }
   ],
   "source": [
    "weather.head()"
   ]
  },
  {
   "cell_type": "code",
   "execution_count": 5,
   "metadata": {},
   "outputs": [
    {
     "data": {
      "text/html": [
       "<div>\n",
       "<style>\n",
       "    .dataframe thead tr:only-child th {\n",
       "        text-align: right;\n",
       "    }\n",
       "\n",
       "    .dataframe thead th {\n",
       "        text-align: left;\n",
       "    }\n",
       "\n",
       "    .dataframe tbody tr th {\n",
       "        vertical-align: top;\n",
       "    }\n",
       "</style>\n",
       "<table border=\"1\" class=\"dataframe\">\n",
       "  <thead>\n",
       "    <tr style=\"text-align: right;\">\n",
       "      <th></th>\n",
       "      <th>Temp (C)</th>\n",
       "      <th>Dew Point Temp (C)</th>\n",
       "      <th>Rel Hum (%)</th>\n",
       "      <th>Wind Spd (km/h)</th>\n",
       "      <th>Visibility (km)</th>\n",
       "      <th>Stn Press (kPa)</th>\n",
       "      <th>Weather</th>\n",
       "    </tr>\n",
       "    <tr>\n",
       "      <th>Date/Time</th>\n",
       "      <th></th>\n",
       "      <th></th>\n",
       "      <th></th>\n",
       "      <th></th>\n",
       "      <th></th>\n",
       "      <th></th>\n",
       "      <th></th>\n",
       "    </tr>\n",
       "  </thead>\n",
       "  <tbody>\n",
       "    <tr>\n",
       "      <th>2012-12-31 19:00:00</th>\n",
       "      <td>0.1</td>\n",
       "      <td>-2.7</td>\n",
       "      <td>81</td>\n",
       "      <td>30</td>\n",
       "      <td>9.7</td>\n",
       "      <td>100.13</td>\n",
       "      <td>Snow</td>\n",
       "    </tr>\n",
       "    <tr>\n",
       "      <th>2012-12-31 20:00:00</th>\n",
       "      <td>0.2</td>\n",
       "      <td>-2.4</td>\n",
       "      <td>83</td>\n",
       "      <td>24</td>\n",
       "      <td>9.7</td>\n",
       "      <td>100.03</td>\n",
       "      <td>Snow</td>\n",
       "    </tr>\n",
       "    <tr>\n",
       "      <th>2012-12-31 21:00:00</th>\n",
       "      <td>-0.5</td>\n",
       "      <td>-1.5</td>\n",
       "      <td>93</td>\n",
       "      <td>28</td>\n",
       "      <td>4.8</td>\n",
       "      <td>99.95</td>\n",
       "      <td>Snow</td>\n",
       "    </tr>\n",
       "    <tr>\n",
       "      <th>2012-12-31 22:00:00</th>\n",
       "      <td>-0.2</td>\n",
       "      <td>-1.8</td>\n",
       "      <td>89</td>\n",
       "      <td>28</td>\n",
       "      <td>9.7</td>\n",
       "      <td>99.91</td>\n",
       "      <td>Snow</td>\n",
       "    </tr>\n",
       "    <tr>\n",
       "      <th>2012-12-31 23:00:00</th>\n",
       "      <td>0.0</td>\n",
       "      <td>-2.1</td>\n",
       "      <td>86</td>\n",
       "      <td>30</td>\n",
       "      <td>11.3</td>\n",
       "      <td>99.89</td>\n",
       "      <td>Snow</td>\n",
       "    </tr>\n",
       "  </tbody>\n",
       "</table>\n",
       "</div>"
      ],
      "text/plain": [
       "                     Temp (C)  Dew Point Temp (C)  Rel Hum (%)  \\\n",
       "Date/Time                                                        \n",
       "2012-12-31 19:00:00       0.1                -2.7           81   \n",
       "2012-12-31 20:00:00       0.2                -2.4           83   \n",
       "2012-12-31 21:00:00      -0.5                -1.5           93   \n",
       "2012-12-31 22:00:00      -0.2                -1.8           89   \n",
       "2012-12-31 23:00:00       0.0                -2.1           86   \n",
       "\n",
       "                     Wind Spd (km/h)  Visibility (km)  Stn Press (kPa) Weather  \n",
       "Date/Time                                                                       \n",
       "2012-12-31 19:00:00               30              9.7           100.13    Snow  \n",
       "2012-12-31 20:00:00               24              9.7           100.03    Snow  \n",
       "2012-12-31 21:00:00               28              4.8            99.95    Snow  \n",
       "2012-12-31 22:00:00               28              9.7            99.91    Snow  \n",
       "2012-12-31 23:00:00               30             11.3            99.89    Snow  "
      ]
     },
     "execution_count": 5,
     "metadata": {},
     "output_type": "execute_result"
    }
   ],
   "source": [
    "weather.tail()"
   ]
  },
  {
   "cell_type": "markdown",
   "metadata": {},
   "source": [
    "Let's keep track of the original column names with a variable:"
   ]
  },
  {
   "cell_type": "code",
   "execution_count": 6,
   "metadata": {},
   "outputs": [
    {
     "data": {
      "text/plain": [
       "Index(['Temp (C)', 'Dew Point Temp (C)', 'Rel Hum (%)', 'Wind Spd (km/h)',\n",
       "       'Visibility (km)', 'Stn Press (kPa)', 'Weather'],\n",
       "      dtype='object')"
      ]
     },
     "execution_count": 6,
     "metadata": {},
     "output_type": "execute_result"
    }
   ],
   "source": [
    "original_columns = weather.columns\n",
    "original_columns"
   ]
  },
  {
   "cell_type": "code",
   "execution_count": 7,
   "metadata": {
    "collapsed": true
   },
   "outputs": [],
   "source": [
    "# I don't like the column Weather, so renaming it:\n",
    "weather = weather.rename(columns={\"Weather\": \"Desc\"})"
   ]
  },
  {
   "cell_type": "code",
   "execution_count": 8,
   "metadata": {},
   "outputs": [
    {
     "data": {
      "text/html": [
       "<div>\n",
       "<style>\n",
       "    .dataframe thead tr:only-child th {\n",
       "        text-align: right;\n",
       "    }\n",
       "\n",
       "    .dataframe thead th {\n",
       "        text-align: left;\n",
       "    }\n",
       "\n",
       "    .dataframe tbody tr th {\n",
       "        vertical-align: top;\n",
       "    }\n",
       "</style>\n",
       "<table border=\"1\" class=\"dataframe\">\n",
       "  <thead>\n",
       "    <tr style=\"text-align: right;\">\n",
       "      <th></th>\n",
       "      <th>T</th>\n",
       "      <th>DPT</th>\n",
       "      <th>RH</th>\n",
       "      <th>WS</th>\n",
       "      <th>V</th>\n",
       "      <th>SP</th>\n",
       "      <th>Desc</th>\n",
       "    </tr>\n",
       "    <tr>\n",
       "      <th>Date/Time</th>\n",
       "      <th></th>\n",
       "      <th></th>\n",
       "      <th></th>\n",
       "      <th></th>\n",
       "      <th></th>\n",
       "      <th></th>\n",
       "      <th></th>\n",
       "    </tr>\n",
       "  </thead>\n",
       "  <tbody>\n",
       "    <tr>\n",
       "      <th>2012-12-31 19:00:00</th>\n",
       "      <td>0.1</td>\n",
       "      <td>-2.7</td>\n",
       "      <td>81</td>\n",
       "      <td>30</td>\n",
       "      <td>9.7</td>\n",
       "      <td>100.13</td>\n",
       "      <td>Snow</td>\n",
       "    </tr>\n",
       "    <tr>\n",
       "      <th>2012-12-31 20:00:00</th>\n",
       "      <td>0.2</td>\n",
       "      <td>-2.4</td>\n",
       "      <td>83</td>\n",
       "      <td>24</td>\n",
       "      <td>9.7</td>\n",
       "      <td>100.03</td>\n",
       "      <td>Snow</td>\n",
       "    </tr>\n",
       "    <tr>\n",
       "      <th>2012-12-31 21:00:00</th>\n",
       "      <td>-0.5</td>\n",
       "      <td>-1.5</td>\n",
       "      <td>93</td>\n",
       "      <td>28</td>\n",
       "      <td>4.8</td>\n",
       "      <td>99.95</td>\n",
       "      <td>Snow</td>\n",
       "    </tr>\n",
       "    <tr>\n",
       "      <th>2012-12-31 22:00:00</th>\n",
       "      <td>-0.2</td>\n",
       "      <td>-1.8</td>\n",
       "      <td>89</td>\n",
       "      <td>28</td>\n",
       "      <td>9.7</td>\n",
       "      <td>99.91</td>\n",
       "      <td>Snow</td>\n",
       "    </tr>\n",
       "    <tr>\n",
       "      <th>2012-12-31 23:00:00</th>\n",
       "      <td>0.0</td>\n",
       "      <td>-2.1</td>\n",
       "      <td>86</td>\n",
       "      <td>30</td>\n",
       "      <td>11.3</td>\n",
       "      <td>99.89</td>\n",
       "      <td>Snow</td>\n",
       "    </tr>\n",
       "  </tbody>\n",
       "</table>\n",
       "</div>"
      ],
      "text/plain": [
       "                       T  DPT  RH  WS     V      SP  Desc\n",
       "Date/Time                                                \n",
       "2012-12-31 19:00:00  0.1 -2.7  81  30   9.7  100.13  Snow\n",
       "2012-12-31 20:00:00  0.2 -2.4  83  24   9.7  100.03  Snow\n",
       "2012-12-31 21:00:00 -0.5 -1.5  93  28   4.8   99.95  Snow\n",
       "2012-12-31 22:00:00 -0.2 -1.8  89  28   9.7   99.91  Snow\n",
       "2012-12-31 23:00:00  0.0 -2.1  86  30  11.3   99.89  Snow"
      ]
     },
     "execution_count": 8,
     "metadata": {},
     "output_type": "execute_result"
    }
   ],
   "source": [
    "# Q1: Rename other columns to be shorter names that are easier to work with.\n",
    "# Ex; 'Temp (C)' -> Temp  \n",
    "weather = weather.rename(columns={\"Temp (C)\": \"T\" , \"Dew Point Temp (C)\": \"DPT\", \"Rel Hum (%)\" : \"RH\", \"Wind Spd (km/h)\": \"WS\",\"Visibility (km)\" :\"V\", \"Stn Press (kPa)\": \"SP\"})\n",
    "weather.tail()"
   ]
  },
  {
   "cell_type": "code",
   "execution_count": 9,
   "metadata": {},
   "outputs": [
    {
     "data": {
      "text/plain": [
       "<matplotlib.axes._subplots.AxesSubplot at 0x2247e461d30>"
      ]
     },
     "execution_count": 9,
     "metadata": {},
     "output_type": "execute_result"
    },
    {
     "data": {
      "image/png": "[encoded data removed]",
      "text/plain": [
       "<matplotlib.figure.Figure at 0x2247e446240>"
      ]
     },
     "metadata": {},
     "output_type": "display_data"
    }
   ],
   "source": [
    "# Q2 Plot the avg temperature by month.  (There are several ways to do this.)\n",
    "\n",
    "weather['Month']=weather.index.month\n",
    "weathercounts=weather.groupby('Month').aggregate(sum)\n",
    "averagetemp=weathercounts/weather.groupby(\"Month\").count()\n",
    "averagetemp.index = ['Jan', 'Feb', 'Mar', 'Apr', 'May', 'Jun', 'Jul', 'Aug', 'Sep', 'Oct', 'Nov', 'Dec']\n",
    "averagetemp['T'].plot(kind=\"bar\")"
   ]
  },
  {
   "cell_type": "code",
   "execution_count": 10,
   "metadata": {},
   "outputs": [
    {
     "data": {
      "text/plain": [
       "T                  33\n",
       "DPT                19\n",
       "RH                 44\n",
       "WS                 24\n",
       "V                24.1\n",
       "SP              100.2\n",
       "Desc     Mainly Clear\n",
       "Month               6\n",
       "Name: 2012-06-21 15:00:00, dtype: object"
      ]
     },
     "execution_count": 10,
     "metadata": {},
     "output_type": "execute_result"
    }
   ],
   "source": [
    "# Q3: Find the date and then look up the row for the days with max and min temperatures. \n",
    "#Look back at the Timeseries NB for where I got the max and then looked up the date on the index.)\n",
    "\n",
    "datemaxtemp=str(weather['T'].idxmax())\n",
    "weather.loc[datemaxtemp]"
   ]
  },
  {
   "cell_type": "code",
   "execution_count": 11,
   "metadata": {},
   "outputs": [
    {
     "data": {
      "text/plain": [
       "T         -23.3\n",
       "DPT       -28.5\n",
       "RH           62\n",
       "WS            7\n",
       "V          24.1\n",
       "SP       102.45\n",
       "Desc      Clear\n",
       "Month         1\n",
       "Name: 2012-01-15 08:00:00, dtype: object"
      ]
     },
     "execution_count": 11,
     "metadata": {},
     "output_type": "execute_result"
    }
   ],
   "source": [
    "datemintemp=str(weather['T'].idxmin())\n",
    "weather.loc[datemintemp]"
   ]
  },
  {
   "cell_type": "code",
   "execution_count": 12,
   "metadata": {},
   "outputs": [
    {
     "data": {
      "text/html": [
       "<div>\n",
       "<style>\n",
       "    .dataframe thead tr:only-child th {\n",
       "        text-align: right;\n",
       "    }\n",
       "\n",
       "    .dataframe thead th {\n",
       "        text-align: left;\n",
       "    }\n",
       "\n",
       "    .dataframe tbody tr th {\n",
       "        vertical-align: top;\n",
       "    }\n",
       "</style>\n",
       "<table border=\"1\" class=\"dataframe\">\n",
       "  <thead>\n",
       "    <tr style=\"text-align: right;\">\n",
       "      <th></th>\n",
       "      <th>T</th>\n",
       "      <th>DPT</th>\n",
       "      <th>RH</th>\n",
       "      <th>WS</th>\n",
       "      <th>V</th>\n",
       "      <th>SP</th>\n",
       "    </tr>\n",
       "  </thead>\n",
       "  <tbody>\n",
       "    <tr>\n",
       "      <th>Jan</th>\n",
       "      <td>-7.05</td>\n",
       "      <td>-12.20</td>\n",
       "      <td>68.0</td>\n",
       "      <td>17.0</td>\n",
       "      <td>24.1</td>\n",
       "      <td>101.015</td>\n",
       "    </tr>\n",
       "    <tr>\n",
       "      <th>Feb</th>\n",
       "      <td>-4.10</td>\n",
       "      <td>-8.80</td>\n",
       "      <td>69.0</td>\n",
       "      <td>15.0</td>\n",
       "      <td>25.0</td>\n",
       "      <td>101.140</td>\n",
       "    </tr>\n",
       "    <tr>\n",
       "      <th>Mar</th>\n",
       "      <td>2.60</td>\n",
       "      <td>-2.50</td>\n",
       "      <td>63.5</td>\n",
       "      <td>13.0</td>\n",
       "      <td>25.0</td>\n",
       "      <td>101.480</td>\n",
       "    </tr>\n",
       "    <tr>\n",
       "      <th>Apr</th>\n",
       "      <td>6.30</td>\n",
       "      <td>-1.30</td>\n",
       "      <td>55.0</td>\n",
       "      <td>17.0</td>\n",
       "      <td>25.0</td>\n",
       "      <td>100.770</td>\n",
       "    </tr>\n",
       "    <tr>\n",
       "      <th>May</th>\n",
       "      <td>16.05</td>\n",
       "      <td>8.60</td>\n",
       "      <td>63.0</td>\n",
       "      <td>11.0</td>\n",
       "      <td>25.0</td>\n",
       "      <td>101.210</td>\n",
       "    </tr>\n",
       "    <tr>\n",
       "      <th>Jun</th>\n",
       "      <td>19.60</td>\n",
       "      <td>11.70</td>\n",
       "      <td>62.0</td>\n",
       "      <td>15.0</td>\n",
       "      <td>25.0</td>\n",
       "      <td>100.785</td>\n",
       "    </tr>\n",
       "    <tr>\n",
       "      <th>Jul</th>\n",
       "      <td>22.90</td>\n",
       "      <td>14.95</td>\n",
       "      <td>62.5</td>\n",
       "      <td>11.0</td>\n",
       "      <td>25.0</td>\n",
       "      <td>100.835</td>\n",
       "    </tr>\n",
       "    <tr>\n",
       "      <th>Aug</th>\n",
       "      <td>22.20</td>\n",
       "      <td>16.55</td>\n",
       "      <td>68.0</td>\n",
       "      <td>13.0</td>\n",
       "      <td>25.0</td>\n",
       "      <td>100.840</td>\n",
       "    </tr>\n",
       "    <tr>\n",
       "      <th>Sep</th>\n",
       "      <td>16.10</td>\n",
       "      <td>10.20</td>\n",
       "      <td>73.0</td>\n",
       "      <td>13.0</td>\n",
       "      <td>25.0</td>\n",
       "      <td>101.150</td>\n",
       "    </tr>\n",
       "    <tr>\n",
       "      <th>Oct</th>\n",
       "      <td>11.30</td>\n",
       "      <td>6.40</td>\n",
       "      <td>78.0</td>\n",
       "      <td>15.0</td>\n",
       "      <td>25.0</td>\n",
       "      <td>101.000</td>\n",
       "    </tr>\n",
       "    <tr>\n",
       "      <th>Nov</th>\n",
       "      <td>1.05</td>\n",
       "      <td>-4.90</td>\n",
       "      <td>70.0</td>\n",
       "      <td>13.0</td>\n",
       "      <td>25.0</td>\n",
       "      <td>101.830</td>\n",
       "    </tr>\n",
       "    <tr>\n",
       "      <th>Dec</th>\n",
       "      <td>-2.85</td>\n",
       "      <td>-6.00</td>\n",
       "      <td>82.0</td>\n",
       "      <td>17.0</td>\n",
       "      <td>24.1</td>\n",
       "      <td>101.255</td>\n",
       "    </tr>\n",
       "  </tbody>\n",
       "</table>\n",
       "</div>"
      ],
      "text/plain": [
       "         T    DPT    RH    WS     V       SP\n",
       "Jan  -7.05 -12.20  68.0  17.0  24.1  101.015\n",
       "Feb  -4.10  -8.80  69.0  15.0  25.0  101.140\n",
       "Mar   2.60  -2.50  63.5  13.0  25.0  101.480\n",
       "Apr   6.30  -1.30  55.0  17.0  25.0  100.770\n",
       "May  16.05   8.60  63.0  11.0  25.0  101.210\n",
       "Jun  19.60  11.70  62.0  15.0  25.0  100.785\n",
       "Jul  22.90  14.95  62.5  11.0  25.0  100.835\n",
       "Aug  22.20  16.55  68.0  13.0  25.0  100.840\n",
       "Sep  16.10  10.20  73.0  13.0  25.0  101.150\n",
       "Oct  11.30   6.40  78.0  15.0  25.0  101.000\n",
       "Nov   1.05  -4.90  70.0  13.0  25.0  101.830\n",
       "Dec  -2.85  -6.00  82.0  17.0  24.1  101.255"
      ]
     },
     "execution_count": 12,
     "metadata": {},
     "output_type": "execute_result"
    }
   ],
   "source": [
    "# Q4: Get the median values per month. Save that as a new dataframe.\n",
    "# Hint : Use groupby\n",
    "\n",
    "medianspermonth=weather.groupby(['Month']).aggregate(np.median)\n",
    "medianspermonth.index = ['Jan', 'Feb', 'Mar', 'Apr', 'May', 'Jun', 'Jul', 'Aug', 'Sep', 'Oct', 'Nov', 'Dec']\n",
    "medianspermonth"
   ]
  },
  {
   "cell_type": "markdown",
   "metadata": {
    "collapsed": true
   },
   "source": []
  },
  {
   "cell_type": "code",
   "execution_count": 13,
   "metadata": {},
   "outputs": [
    {
     "data": {
      "text/plain": [
       "<matplotlib.axes._subplots.AxesSubplot at 0x2247e446160>"
      ]
     },
     "execution_count": 13,
     "metadata": {},
     "output_type": "execute_result"
    },
    {
     "data": {
      "image/png": "[encoded data removed]",
      "text/plain": [
       "<matplotlib.figure.Figure at 0x2247db11f98>"
      ]
     },
     "metadata": {},
     "output_type": "display_data"
    }
   ],
   "source": [
    "#Q5: Plot the humidity using the original dataframe weather, and then plot the humidity\n",
    "#from  the month one you just made.   \n",
    "\n",
    "weather['RH'].plot()"
   ]
  },
  {
   "cell_type": "code",
   "execution_count": 14,
   "metadata": {},
   "outputs": [
    {
     "data": {
      "text/plain": [
       "<matplotlib.axes._subplots.AxesSubplot at 0x2247e2206d8>"
      ]
     },
     "execution_count": 14,
     "metadata": {},
     "output_type": "execute_result"
    },
    {
     "data": {
      "image/png": "[encoded data removed]",
      "text/plain": [
       "<matplotlib.figure.Figure at 0x2247e246f28>"
      ]
     },
     "metadata": {},
     "output_type": "display_data"
    }
   ],
   "source": [
    "medianspermonth['RH'].plot()"
   ]
  },
  {
   "cell_type": "code",
   "execution_count": 15,
   "metadata": {},
   "outputs": [
    {
     "name": "stdout",
     "output_type": "stream",
     "text": [
      "Weather description for the day and time when the wind speed is the highest is  Mostly Cloudy \n"
     ]
    }
   ],
   "source": [
    "# Q6: What is the weather description (text) for the day and time when the wind speed is the highest?\n",
    "\n",
    "windmax=str(weather['WS'].idxmax())\n",
    "descwindmax=weather.loc[windmax]\n",
    "print('Weather description for the day and time when the wind speed is the highest is  {} '.format(descwindmax[6]))"
   ]
  },
  {
   "cell_type": "code",
   "execution_count": 16,
   "metadata": {},
   "outputs": [
    {
     "data": {
      "text/plain": [
       "Mainly Clear                               2106\n",
       "Mostly Cloudy                              2069\n",
       "Cloudy                                     1728\n",
       "Clear                                      1326\n",
       "Snow                                        390\n",
       "Rain                                        306\n",
       "Rain Showers                                188\n",
       "Fog                                         150\n",
       "Rain,Fog                                    116\n",
       "Drizzle,Fog                                  80\n",
       "Snow Showers                                 60\n",
       "Drizzle                                      41\n",
       "Snow,Fog                                     37\n",
       "Snow,Blowing Snow                            19\n",
       "Rain,Snow                                    18\n",
       "Thunderstorms,Rain Showers                   16\n",
       "Haze                                         16\n",
       "Drizzle,Snow,Fog                             15\n",
       "Freezing Rain                                14\n",
       "Freezing Drizzle,Snow                        11\n",
       "Freezing Drizzle                              7\n",
       "Freezing Drizzle,Fog                          6\n",
       "Snow,Ice Pellets                              6\n",
       "Snow,Haze                                     5\n",
       "Moderate Snow                                 4\n",
       "Freezing Fog                                  4\n",
       "Freezing Rain,Fog                             4\n",
       "Snow Showers,Fog                              4\n",
       "Rain,Snow,Ice Pellets                         4\n",
       "Rain,Haze                                     3\n",
       "Thunderstorms,Rain                            3\n",
       "Thunderstorms,Rain Showers,Fog                3\n",
       "Freezing Drizzle,Haze                         3\n",
       "Thunderstorms                                 2\n",
       "Freezing Rain,Haze                            2\n",
       "Rain Showers,Snow Showers                     2\n",
       "Drizzle,Snow                                  2\n",
       "Moderate Snow,Blowing Snow                    2\n",
       "Rain,Snow Grains                              1\n",
       "Thunderstorms,Moderate Rain Showers,Fog       1\n",
       "Drizzle,Ice Pellets,Fog                       1\n",
       "Rain Showers,Fog                              1\n",
       "Freezing Rain,Ice Pellets,Fog                 1\n",
       "Moderate Rain,Fog                             1\n",
       "Rain,Snow,Fog                                 1\n",
       "Snow Pellets                                  1\n",
       "Rain,Ice Pellets                              1\n",
       "Thunderstorms,Heavy Rain Showers              1\n",
       "Freezing Rain,Snow Grains                     1\n",
       "Thunderstorms,Rain,Fog                        1\n",
       "Name: Desc, dtype: int64"
      ]
     },
     "execution_count": 16,
     "metadata": {},
     "output_type": "execute_result"
    }
   ],
   "source": [
    "# Q7: What are the counts of all the weather descriptions?\n",
    "\n",
    "weather['Desc'].value_counts()"
   ]
  },
  {
   "cell_type": "code",
   "execution_count": 17,
   "metadata": {},
   "outputs": [
    {
     "data": {
      "text/html": [
       "<div>\n",
       "<style>\n",
       "    .dataframe thead tr:only-child th {\n",
       "        text-align: right;\n",
       "    }\n",
       "\n",
       "    .dataframe thead th {\n",
       "        text-align: left;\n",
       "    }\n",
       "\n",
       "    .dataframe tbody tr th {\n",
       "        vertical-align: top;\n",
       "    }\n",
       "</style>\n",
       "<table border=\"1\" class=\"dataframe\">\n",
       "  <thead>\n",
       "    <tr style=\"text-align: right;\">\n",
       "      <th></th>\n",
       "      <th>T</th>\n",
       "      <th>DPT</th>\n",
       "      <th>RH</th>\n",
       "      <th>WS</th>\n",
       "      <th>V</th>\n",
       "      <th>SP</th>\n",
       "      <th>Desc</th>\n",
       "      <th>Month</th>\n",
       "    </tr>\n",
       "    <tr>\n",
       "      <th>Date/Time</th>\n",
       "      <th></th>\n",
       "      <th></th>\n",
       "      <th></th>\n",
       "      <th></th>\n",
       "      <th></th>\n",
       "      <th></th>\n",
       "      <th></th>\n",
       "      <th></th>\n",
       "    </tr>\n",
       "  </thead>\n",
       "  <tbody>\n",
       "    <tr>\n",
       "      <th>2012-01-02 17:00:00</th>\n",
       "      <td>-2.1</td>\n",
       "      <td>-9.5</td>\n",
       "      <td>57</td>\n",
       "      <td>22</td>\n",
       "      <td>25.0</td>\n",
       "      <td>99.66</td>\n",
       "      <td>Snow Showers</td>\n",
       "      <td>1</td>\n",
       "    </tr>\n",
       "    <tr>\n",
       "      <th>2012-01-02 20:00:00</th>\n",
       "      <td>-5.6</td>\n",
       "      <td>-13.4</td>\n",
       "      <td>54</td>\n",
       "      <td>24</td>\n",
       "      <td>25.0</td>\n",
       "      <td>100.07</td>\n",
       "      <td>Snow Showers</td>\n",
       "      <td>1</td>\n",
       "    </tr>\n",
       "    <tr>\n",
       "      <th>2012-01-02 21:00:00</th>\n",
       "      <td>-5.8</td>\n",
       "      <td>-12.8</td>\n",
       "      <td>58</td>\n",
       "      <td>26</td>\n",
       "      <td>25.0</td>\n",
       "      <td>100.15</td>\n",
       "      <td>Snow Showers</td>\n",
       "      <td>1</td>\n",
       "    </tr>\n",
       "    <tr>\n",
       "      <th>2012-01-02 23:00:00</th>\n",
       "      <td>-7.4</td>\n",
       "      <td>-14.1</td>\n",
       "      <td>59</td>\n",
       "      <td>17</td>\n",
       "      <td>19.3</td>\n",
       "      <td>100.27</td>\n",
       "      <td>Snow Showers</td>\n",
       "      <td>1</td>\n",
       "    </tr>\n",
       "    <tr>\n",
       "      <th>2012-01-03 00:00:00</th>\n",
       "      <td>-9.0</td>\n",
       "      <td>-16.0</td>\n",
       "      <td>57</td>\n",
       "      <td>28</td>\n",
       "      <td>25.0</td>\n",
       "      <td>100.35</td>\n",
       "      <td>Snow Showers</td>\n",
       "      <td>1</td>\n",
       "    </tr>\n",
       "  </tbody>\n",
       "</table>\n",
       "</div>"
      ],
      "text/plain": [
       "                       T   DPT  RH  WS     V      SP          Desc  Month\n",
       "Date/Time                                                                \n",
       "2012-01-02 17:00:00 -2.1  -9.5  57  22  25.0   99.66  Snow Showers      1\n",
       "2012-01-02 20:00:00 -5.6 -13.4  54  24  25.0  100.07  Snow Showers      1\n",
       "2012-01-02 21:00:00 -5.8 -12.8  58  26  25.0  100.15  Snow Showers      1\n",
       "2012-01-02 23:00:00 -7.4 -14.1  59  17  19.3  100.27  Snow Showers      1\n",
       "2012-01-03 00:00:00 -9.0 -16.0  57  28  25.0  100.35  Snow Showers      1"
      ]
     },
     "execution_count": 17,
     "metadata": {},
     "output_type": "execute_result"
    }
   ],
   "source": [
    "#Q8: find the rows that contain \"Snow\" and plot the temperature for those rows using a bar chart\n",
    "\n",
    "weathersnow=weather[weather['Desc'].str.contains(\"Snow\")]\n",
    "weathersnow.head()\n"
   ]
  },
  {
   "cell_type": "code",
   "execution_count": 18,
   "metadata": {},
   "outputs": [
    {
     "data": {
      "text/plain": [
       "<matplotlib.axes._subplots.AxesSubplot at 0x2247e2b6668>"
      ]
     },
     "execution_count": 18,
     "metadata": {},
     "output_type": "execute_result"
    },
    {
     "data": {
      "image/png": "[encoded data removed]",
      "text/plain": [
       "<matplotlib.figure.Figure at 0x2247e2809b0>"
      ]
     },
     "metadata": {},
     "output_type": "display_data"
    }
   ],
   "source": [
    "weathersnow['T'].plot(kind=\"bar\")"
   ]
  },
  {
   "cell_type": "code",
   "execution_count": 18,
   "metadata": {},
   "outputs": [
    {
     "data": {
      "text/html": [
       "<div>\n",
       "<style>\n",
       "    .dataframe thead tr:only-child th {\n",
       "        text-align: right;\n",
       "    }\n",
       "\n",
       "    .dataframe thead th {\n",
       "        text-align: left;\n",
       "    }\n",
       "\n",
       "    .dataframe tbody tr th {\n",
       "        vertical-align: top;\n",
       "    }\n",
       "</style>\n",
       "<table border=\"1\" class=\"dataframe\">\n",
       "  <thead>\n",
       "    <tr style=\"text-align: right;\">\n",
       "      <th></th>\n",
       "      <th>T</th>\n",
       "      <th>DPT</th>\n",
       "      <th>RH</th>\n",
       "      <th>WS</th>\n",
       "      <th>V</th>\n",
       "      <th>SP</th>\n",
       "      <th>Month</th>\n",
       "    </tr>\n",
       "    <tr>\n",
       "      <th>Desc</th>\n",
       "      <th></th>\n",
       "      <th></th>\n",
       "      <th></th>\n",
       "      <th></th>\n",
       "      <th></th>\n",
       "      <th></th>\n",
       "      <th></th>\n",
       "    </tr>\n",
       "  </thead>\n",
       "  <tbody>\n",
       "    <tr>\n",
       "      <th>Clear</th>\n",
       "      <td>6.825716</td>\n",
       "      <td>0.089367</td>\n",
       "      <td>64.497738</td>\n",
       "      <td>10.557315</td>\n",
       "      <td>30.153243</td>\n",
       "      <td>101.587443</td>\n",
       "      <td>6.291855</td>\n",
       "    </tr>\n",
       "    <tr>\n",
       "      <th>Cloudy</th>\n",
       "      <td>7.970544</td>\n",
       "      <td>2.375810</td>\n",
       "      <td>69.592593</td>\n",
       "      <td>16.127315</td>\n",
       "      <td>26.625752</td>\n",
       "      <td>100.911441</td>\n",
       "      <td>6.515046</td>\n",
       "    </tr>\n",
       "    <tr>\n",
       "      <th>Drizzle</th>\n",
       "      <td>7.353659</td>\n",
       "      <td>5.504878</td>\n",
       "      <td>88.243902</td>\n",
       "      <td>16.097561</td>\n",
       "      <td>17.931707</td>\n",
       "      <td>100.435366</td>\n",
       "      <td>9.073171</td>\n",
       "    </tr>\n",
       "    <tr>\n",
       "      <th>Drizzle,Fog</th>\n",
       "      <td>8.067500</td>\n",
       "      <td>7.033750</td>\n",
       "      <td>93.275000</td>\n",
       "      <td>11.862500</td>\n",
       "      <td>5.257500</td>\n",
       "      <td>100.786625</td>\n",
       "      <td>6.562500</td>\n",
       "    </tr>\n",
       "    <tr>\n",
       "      <th>Drizzle,Ice Pellets,Fog</th>\n",
       "      <td>0.400000</td>\n",
       "      <td>-0.700000</td>\n",
       "      <td>92.000000</td>\n",
       "      <td>20.000000</td>\n",
       "      <td>4.000000</td>\n",
       "      <td>100.790000</td>\n",
       "      <td>12.000000</td>\n",
       "    </tr>\n",
       "  </tbody>\n",
       "</table>\n",
       "</div>"
      ],
      "text/plain": [
       "                                T       DPT         RH         WS          V  \\\n",
       "Desc                                                                           \n",
       "Clear                    6.825716  0.089367  64.497738  10.557315  30.153243   \n",
       "Cloudy                   7.970544  2.375810  69.592593  16.127315  26.625752   \n",
       "Drizzle                  7.353659  5.504878  88.243902  16.097561  17.931707   \n",
       "Drizzle,Fog              8.067500  7.033750  93.275000  11.862500   5.257500   \n",
       "Drizzle,Ice Pellets,Fog  0.400000 -0.700000  92.000000  20.000000   4.000000   \n",
       "\n",
       "                                 SP      Month  \n",
       "Desc                                            \n",
       "Clear                    101.587443   6.291855  \n",
       "Cloudy                   100.911441   6.515046  \n",
       "Drizzle                  100.435366   9.073171  \n",
       "Drizzle,Fog              100.786625   6.562500  \n",
       "Drizzle,Ice Pellets,Fog  100.790000  12.000000  "
      ]
     },
     "execution_count": 18,
     "metadata": {},
     "output_type": "execute_result"
    }
   ],
   "source": [
    "# Q9: Group by the weather description terms and use np.mean as your aggregate. Show the head.\n",
    "\n",
    "meansbydesc=weather.groupby(['Desc']).aggregate(np.mean).head(10)\n",
    "meansbydesc.head()"
   ]
  },
  {
   "cell_type": "code",
   "execution_count": 19,
   "metadata": {},
   "outputs": [
    {
     "data": {
      "text/plain": [
       "<matplotlib.axes._subplots.AxesSubplot at 0xe7bfcb2ef0>"
      ]
     },
     "execution_count": 19,
     "metadata": {},
     "output_type": "execute_result"
    },
    {
     "data": {
      "image/png": "[encoded data removed]",
      "text/plain": [
       "<matplotlib.figure.Figure at 0xe7bfc5df98>"
      ]
     },
     "metadata": {},
     "output_type": "display_data"
    }
   ],
   "source": [
    "# Q10: Sort the dataframe from Q10 by Temperature Ascending and \n",
    "# plot the top 5 Temperature values as a bar chart.\n",
    "\n",
    "\n",
    "meansbydesc[\"T\"].sort_values(ascending=True).head(5).plot(kind=\"bar\")\n"
   ]
  },
  {
   "cell_type": "code",
   "execution_count": 20,
   "metadata": {},
   "outputs": [
    {
     "data": {
      "text/plain": [
       "Mainly Clear                               2106\n",
       "Mostly Cloudy                              2069\n",
       "Cloudy                                     1728\n",
       "Clear                                      1326\n",
       "Snow                                        390\n",
       "Rain                                        306\n",
       "Rain Showers                                188\n",
       "Fog                                         150\n",
       "Rain,Fog                                    116\n",
       "Drizzle,Fog                                  80\n",
       "Snow Showers                                 60\n",
       "Drizzle                                      41\n",
       "Snow,Fog                                     37\n",
       "Snow,Blowing Snow                            19\n",
       "Rain,Snow                                    18\n",
       "Thunderstorms,Rain Showers                   16\n",
       "Haze                                         16\n",
       "Drizzle,Snow,Fog                             15\n",
       "Freezing Rain                                14\n",
       "Freezing Drizzle,Snow                        11\n",
       "Freezing Drizzle                              7\n",
       "Freezing Drizzle,Fog                          6\n",
       "Snow,Ice Pellets                              6\n",
       "Snow,Haze                                     5\n",
       "Freezing Rain,Fog                             4\n",
       "Freezing Fog                                  4\n",
       "Snow Showers,Fog                              4\n",
       "Rain,Snow,Ice Pellets                         4\n",
       "Moderate Snow                                 4\n",
       "Freezing Drizzle,Haze                         3\n",
       "Thunderstorms,Rain                            3\n",
       "Thunderstorms,Rain Showers,Fog                3\n",
       "Rain,Haze                                     3\n",
       "Rain Showers,Snow Showers                     2\n",
       "Freezing Rain,Haze                            2\n",
       "Drizzle,Snow                                  2\n",
       "Moderate Snow,Blowing Snow                    2\n",
       "Thunderstorms                                 2\n",
       "Snow Pellets                                  1\n",
       "Rain,Snow,Fog                                 1\n",
       "Thunderstorms,Heavy Rain Showers              1\n",
       "Freezing Rain,Ice Pellets,Fog                 1\n",
       "Thunderstorms,Rain,Fog                        1\n",
       "Moderate Rain,Fog                             1\n",
       "Drizzle,Ice Pellets,Fog                       1\n",
       "Thunderstorms,Moderate Rain Showers,Fog       1\n",
       "Freezing Rain,Snow Grains                     1\n",
       "Rain,Ice Pellets                              1\n",
       "Rain Showers,Fog                              1\n",
       "Rain,Snow Grains                              1\n",
       "Name: Desc, dtype: int64"
      ]
     },
     "execution_count": 20,
     "metadata": {},
     "output_type": "execute_result"
    }
   ],
   "source": [
    "# Q11: Get a list of the unique weather terms that appear in the description column.\n",
    "\n",
    "#weather[weather['Desc'].str.contains(\"theft\")]['Description'].value_counts()\n",
    "weather[\"Desc\"].value_counts()\n"
   ]
  },
  {
   "cell_type": "code",
   "execution_count": 21,
   "metadata": {},
   "outputs": [
    {
     "data": {
      "text/plain": [
       "Date/Time\n",
       "2012-01-01 00:00:00                      [Fog]\n",
       "2012-01-01 01:00:00                      [Fog]\n",
       "2012-01-01 02:00:00    [Freezing Drizzle, Fog]\n",
       "2012-01-01 03:00:00    [Freezing Drizzle, Fog]\n",
       "2012-01-01 04:00:00                      [Fog]\n",
       "2012-01-01 05:00:00                      [Fog]\n",
       "2012-01-01 06:00:00                      [Fog]\n",
       "2012-01-01 07:00:00                      [Fog]\n",
       "2012-01-01 08:00:00                      [Fog]\n",
       "2012-01-01 09:00:00                      [Fog]\n",
       "2012-01-01 10:00:00                      [Fog]\n",
       "2012-01-01 11:00:00                      [Fog]\n",
       "2012-01-01 12:00:00                      [Fog]\n",
       "2012-01-01 13:00:00                      [Fog]\n",
       "2012-01-01 14:00:00                      [Fog]\n",
       "2012-01-01 15:00:00                      [Fog]\n",
       "2012-01-01 16:00:00            [Mostly Cloudy]\n",
       "2012-01-01 17:00:00                   [Cloudy]\n",
       "2012-01-01 18:00:00                     [Rain]\n",
       "2012-01-01 19:00:00                     [Rain]\n",
       "2012-01-01 20:00:00                   [Cloudy]\n",
       "2012-01-01 21:00:00                   [Cloudy]\n",
       "2012-01-01 22:00:00             [Rain Showers]\n",
       "2012-01-01 23:00:00                   [Cloudy]\n",
       "2012-01-02 00:00:00             [Rain Showers]\n",
       "2012-01-02 01:00:00                   [Cloudy]\n",
       "2012-01-02 02:00:00            [Mostly Cloudy]\n",
       "2012-01-02 03:00:00            [Mostly Cloudy]\n",
       "2012-01-02 04:00:00            [Mostly Cloudy]\n",
       "2012-01-02 05:00:00            [Mostly Cloudy]\n",
       "                                ...           \n",
       "2012-12-30 18:00:00             [Mainly Clear]\n",
       "2012-12-30 19:00:00             [Mainly Clear]\n",
       "2012-12-30 20:00:00                    [Clear]\n",
       "2012-12-30 21:00:00             [Mainly Clear]\n",
       "2012-12-30 22:00:00             [Mainly Clear]\n",
       "2012-12-30 23:00:00            [Mostly Cloudy]\n",
       "2012-12-31 00:00:00                   [Cloudy]\n",
       "2012-12-31 01:00:00                   [Cloudy]\n",
       "2012-12-31 02:00:00                   [Cloudy]\n",
       "2012-12-31 03:00:00            [Mostly Cloudy]\n",
       "2012-12-31 04:00:00                   [Cloudy]\n",
       "2012-12-31 05:00:00                   [Cloudy]\n",
       "2012-12-31 06:00:00                   [Cloudy]\n",
       "2012-12-31 07:00:00             [Snow Showers]\n",
       "2012-12-31 08:00:00             [Snow Showers]\n",
       "2012-12-31 09:00:00                     [Snow]\n",
       "2012-12-31 10:00:00                [Snow, Fog]\n",
       "2012-12-31 11:00:00                     [Snow]\n",
       "2012-12-31 12:00:00                     [Snow]\n",
       "2012-12-31 13:00:00                     [Snow]\n",
       "2012-12-31 14:00:00                     [Snow]\n",
       "2012-12-31 15:00:00                     [Snow]\n",
       "2012-12-31 16:00:00                     [Snow]\n",
       "2012-12-31 17:00:00                     [Snow]\n",
       "2012-12-31 18:00:00                     [Snow]\n",
       "2012-12-31 19:00:00                     [Snow]\n",
       "2012-12-31 20:00:00                     [Snow]\n",
       "2012-12-31 21:00:00                     [Snow]\n",
       "2012-12-31 22:00:00                     [Snow]\n",
       "2012-12-31 23:00:00                     [Snow]\n",
       "Name: Desc, Length: 8784, dtype: object"
      ]
     },
     "execution_count": 21,
     "metadata": {},
     "output_type": "execute_result"
    }
   ],
   "source": [
    "# Q12: Split the Description elements by comma (but don't make multiple columns for them).\n",
    "\n",
    "splitted_desc=weather['Desc'].str.split(\",\")\n",
    "splitted_desc"
   ]
  },
  {
   "cell_type": "code",
   "execution_count": 22,
   "metadata": {},
   "outputs": [
    {
     "data": {
      "text/plain": [
       "[('Mainly Clear', 2106),\n",
       " ('Mostly Cloudy', 2069),\n",
       " ('Cloudy', 1728),\n",
       " ('Clear', 1326),\n",
       " ('Snow', 508),\n",
       " ('Rain', 454),\n",
       " ('Fog', 422),\n",
       " ('Rain Showers', 210),\n",
       " ('Drizzle', 139),\n",
       " ('Snow Showers', 66),\n",
       " ('Haze', 29),\n",
       " ('Freezing Drizzle', 27),\n",
       " ('Thunderstorms', 27),\n",
       " ('Freezing Rain', 22),\n",
       " ('Blowing Snow', 21),\n",
       " ('Ice Pellets', 13),\n",
       " ('Moderate Snow', 6),\n",
       " ('Freezing Fog', 4),\n",
       " ('Snow Grains', 2),\n",
       " ('Heavy Rain Showers', 1),\n",
       " ('Moderate Rain Showers', 1),\n",
       " ('Snow Pellets', 1),\n",
       " ('Moderate Rain', 1)]"
      ]
     },
     "execution_count": 22,
     "metadata": {},
     "output_type": "execute_result"
    }
   ],
   "source": [
    "# Q13: Get the values from the split descriptions you just got (hint: values) and figure out \n",
    "# how to make a Counter object to see which ones occur most often. Call most_common on the \n",
    "# Counter.\n",
    "\n",
    "# Another hint: flatten a list of lists by using this magic spell that I look up every time:\n",
    "# [item for sublist in nested_list for item in sublist]\n",
    "# in other words, if nested_list is [[2,3], [32,55], [4]], then\n",
    "# the flat version will be [2,3,32,55,4]\n",
    "\n",
    "from collections import Counter\n",
    " \n",
    "splitted_desc_list=splitted_desc.tolist()\n",
    "\n",
    "def flatten(list):\n",
    "\n",
    "    flat=[]\n",
    "\n",
    "    for sublist in list:\n",
    "        for item in sublist:\n",
    "            flat.append(item)\n",
    "\n",
    "    return(flat)        \n",
    "        \n",
    "flatlist=flatten(splitted_desc_list)\n",
    "\n",
    "Counter(flatlist).most_common()"
   ]
  },
  {
   "cell_type": "code",
   "execution_count": null,
   "metadata": {
    "collapsed": true
   },
   "outputs": [],
   "source": []
  },
  {
   "cell_type": "code",
   "execution_count": null,
   "metadata": {
    "collapsed": true
   },
   "outputs": [],
   "source": []
  }
 ],
 "metadata": {
  "anaconda-cloud": {},
  "kernelspec": {
   "display_name": "Python 3",
   "language": "python",
   "name": "python3"
  }
 },
 "nbformat": 4,
 "nbformat_minor": 1
}
