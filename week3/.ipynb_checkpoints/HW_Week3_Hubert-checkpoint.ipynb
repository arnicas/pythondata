{
 "cells": [
  {
   "cell_type": "markdown",
   "metadata": {},
   "source": [
    "# HW Week 3"
   ]
  },
  {
   "cell_type": "code",
   "execution_count": 1,
   "metadata": {
    "collapsed": true
   },
   "outputs": [],
   "source": [
    "%matplotlib inline\n",
    "\n",
    "import pandas as pd\n",
    "import matplotlib.pyplot as plt\n",
    "import seaborn as sns\n",
    "import numpy as np"
   ]
  },
  {
   "cell_type": "code",
   "execution_count": 2,
   "metadata": {
    "collapsed": true
   },
   "outputs": [],
   "source": [
    "weather = pd.read_csv('data/weather_2012.csv', parse_dates=True, index_col='Date/Time')"
   ]
  },
  {
   "cell_type": "code",
   "execution_count": 3,
   "metadata": {},
   "outputs": [
    {
     "data": {
      "text/html": [
       "<div>\n",
       "<style>\n",
       "    .dataframe thead tr:only-child th {\n",
       "        text-align: right;\n",
       "    }\n",
       "\n",
       "    .dataframe thead th {\n",
       "        text-align: left;\n",
       "    }\n",
       "\n",
       "    .dataframe tbody tr th {\n",
       "        vertical-align: top;\n",
       "    }\n",
       "</style>\n",
       "<table border=\"1\" class=\"dataframe\">\n",
       "  <thead>\n",
       "    <tr style=\"text-align: right;\">\n",
       "      <th></th>\n",
       "      <th>Temp (C)</th>\n",
       "      <th>Dew Point Temp (C)</th>\n",
       "      <th>Rel Hum (%)</th>\n",
       "      <th>Wind Spd (km/h)</th>\n",
       "      <th>Visibility (km)</th>\n",
       "      <th>Stn Press (kPa)</th>\n",
       "      <th>Weather</th>\n",
       "    </tr>\n",
       "    <tr>\n",
       "      <th>Date/Time</th>\n",
       "      <th></th>\n",
       "      <th></th>\n",
       "      <th></th>\n",
       "      <th></th>\n",
       "      <th></th>\n",
       "      <th></th>\n",
       "      <th></th>\n",
       "    </tr>\n",
       "  </thead>\n",
       "  <tbody>\n",
       "    <tr>\n",
       "      <th>2012-01-01 00:00:00</th>\n",
       "      <td>-1.8</td>\n",
       "      <td>-3.9</td>\n",
       "      <td>86</td>\n",
       "      <td>4</td>\n",
       "      <td>8.0</td>\n",
       "      <td>101.24</td>\n",
       "      <td>Fog</td>\n",
       "    </tr>\n",
       "    <tr>\n",
       "      <th>2012-01-01 01:00:00</th>\n",
       "      <td>-1.8</td>\n",
       "      <td>-3.7</td>\n",
       "      <td>87</td>\n",
       "      <td>4</td>\n",
       "      <td>8.0</td>\n",
       "      <td>101.24</td>\n",
       "      <td>Fog</td>\n",
       "    </tr>\n",
       "    <tr>\n",
       "      <th>2012-01-01 02:00:00</th>\n",
       "      <td>-1.8</td>\n",
       "      <td>-3.4</td>\n",
       "      <td>89</td>\n",
       "      <td>7</td>\n",
       "      <td>4.0</td>\n",
       "      <td>101.26</td>\n",
       "      <td>Freezing Drizzle,Fog</td>\n",
       "    </tr>\n",
       "    <tr>\n",
       "      <th>2012-01-01 03:00:00</th>\n",
       "      <td>-1.5</td>\n",
       "      <td>-3.2</td>\n",
       "      <td>88</td>\n",
       "      <td>6</td>\n",
       "      <td>4.0</td>\n",
       "      <td>101.27</td>\n",
       "      <td>Freezing Drizzle,Fog</td>\n",
       "    </tr>\n",
       "    <tr>\n",
       "      <th>2012-01-01 04:00:00</th>\n",
       "      <td>-1.5</td>\n",
       "      <td>-3.3</td>\n",
       "      <td>88</td>\n",
       "      <td>7</td>\n",
       "      <td>4.8</td>\n",
       "      <td>101.23</td>\n",
       "      <td>Fog</td>\n",
       "    </tr>\n",
       "  </tbody>\n",
       "</table>\n",
       "</div>"
      ],
      "text/plain": [
       "                     Temp (C)  Dew Point Temp (C)  Rel Hum (%)  \\\n",
       "Date/Time                                                        \n",
       "2012-01-01 00:00:00      -1.8                -3.9           86   \n",
       "2012-01-01 01:00:00      -1.8                -3.7           87   \n",
       "2012-01-01 02:00:00      -1.8                -3.4           89   \n",
       "2012-01-01 03:00:00      -1.5                -3.2           88   \n",
       "2012-01-01 04:00:00      -1.5                -3.3           88   \n",
       "\n",
       "                     Wind Spd (km/h)  Visibility (km)  Stn Press (kPa)  \\\n",
       "Date/Time                                                                \n",
       "2012-01-01 00:00:00                4              8.0           101.24   \n",
       "2012-01-01 01:00:00                4              8.0           101.24   \n",
       "2012-01-01 02:00:00                7              4.0           101.26   \n",
       "2012-01-01 03:00:00                6              4.0           101.27   \n",
       "2012-01-01 04:00:00                7              4.8           101.23   \n",
       "\n",
       "                                  Weather  \n",
       "Date/Time                                  \n",
       "2012-01-01 00:00:00                   Fog  \n",
       "2012-01-01 01:00:00                   Fog  \n",
       "2012-01-01 02:00:00  Freezing Drizzle,Fog  \n",
       "2012-01-01 03:00:00  Freezing Drizzle,Fog  \n",
       "2012-01-01 04:00:00                   Fog  "
      ]
     },
     "execution_count": 3,
     "metadata": {},
     "output_type": "execute_result"
    }
   ],
   "source": [
    "weather.head()"
   ]
  },
  {
   "cell_type": "code",
   "execution_count": 4,
   "metadata": {},
   "outputs": [
    {
     "data": {
      "text/html": [
       "<div>\n",
       "<style>\n",
       "    .dataframe thead tr:only-child th {\n",
       "        text-align: right;\n",
       "    }\n",
       "\n",
       "    .dataframe thead th {\n",
       "        text-align: left;\n",
       "    }\n",
       "\n",
       "    .dataframe tbody tr th {\n",
       "        vertical-align: top;\n",
       "    }\n",
       "</style>\n",
       "<table border=\"1\" class=\"dataframe\">\n",
       "  <thead>\n",
       "    <tr style=\"text-align: right;\">\n",
       "      <th></th>\n",
       "      <th>Temp (C)</th>\n",
       "      <th>Dew Point Temp (C)</th>\n",
       "      <th>Rel Hum (%)</th>\n",
       "      <th>Wind Spd (km/h)</th>\n",
       "      <th>Visibility (km)</th>\n",
       "      <th>Stn Press (kPa)</th>\n",
       "      <th>Weather</th>\n",
       "    </tr>\n",
       "    <tr>\n",
       "      <th>Date/Time</th>\n",
       "      <th></th>\n",
       "      <th></th>\n",
       "      <th></th>\n",
       "      <th></th>\n",
       "      <th></th>\n",
       "      <th></th>\n",
       "      <th></th>\n",
       "    </tr>\n",
       "  </thead>\n",
       "  <tbody>\n",
       "    <tr>\n",
       "      <th>2012-12-31 19:00:00</th>\n",
       "      <td>0.1</td>\n",
       "      <td>-2.7</td>\n",
       "      <td>81</td>\n",
       "      <td>30</td>\n",
       "      <td>9.7</td>\n",
       "      <td>100.13</td>\n",
       "      <td>Snow</td>\n",
       "    </tr>\n",
       "    <tr>\n",
       "      <th>2012-12-31 20:00:00</th>\n",
       "      <td>0.2</td>\n",
       "      <td>-2.4</td>\n",
       "      <td>83</td>\n",
       "      <td>24</td>\n",
       "      <td>9.7</td>\n",
       "      <td>100.03</td>\n",
       "      <td>Snow</td>\n",
       "    </tr>\n",
       "    <tr>\n",
       "      <th>2012-12-31 21:00:00</th>\n",
       "      <td>-0.5</td>\n",
       "      <td>-1.5</td>\n",
       "      <td>93</td>\n",
       "      <td>28</td>\n",
       "      <td>4.8</td>\n",
       "      <td>99.95</td>\n",
       "      <td>Snow</td>\n",
       "    </tr>\n",
       "    <tr>\n",
       "      <th>2012-12-31 22:00:00</th>\n",
       "      <td>-0.2</td>\n",
       "      <td>-1.8</td>\n",
       "      <td>89</td>\n",
       "      <td>28</td>\n",
       "      <td>9.7</td>\n",
       "      <td>99.91</td>\n",
       "      <td>Snow</td>\n",
       "    </tr>\n",
       "    <tr>\n",
       "      <th>2012-12-31 23:00:00</th>\n",
       "      <td>0.0</td>\n",
       "      <td>-2.1</td>\n",
       "      <td>86</td>\n",
       "      <td>30</td>\n",
       "      <td>11.3</td>\n",
       "      <td>99.89</td>\n",
       "      <td>Snow</td>\n",
       "    </tr>\n",
       "  </tbody>\n",
       "</table>\n",
       "</div>"
      ],
      "text/plain": [
       "                     Temp (C)  Dew Point Temp (C)  Rel Hum (%)  \\\n",
       "Date/Time                                                        \n",
       "2012-12-31 19:00:00       0.1                -2.7           81   \n",
       "2012-12-31 20:00:00       0.2                -2.4           83   \n",
       "2012-12-31 21:00:00      -0.5                -1.5           93   \n",
       "2012-12-31 22:00:00      -0.2                -1.8           89   \n",
       "2012-12-31 23:00:00       0.0                -2.1           86   \n",
       "\n",
       "                     Wind Spd (km/h)  Visibility (km)  Stn Press (kPa) Weather  \n",
       "Date/Time                                                                       \n",
       "2012-12-31 19:00:00               30              9.7           100.13    Snow  \n",
       "2012-12-31 20:00:00               24              9.7           100.03    Snow  \n",
       "2012-12-31 21:00:00               28              4.8            99.95    Snow  \n",
       "2012-12-31 22:00:00               28              9.7            99.91    Snow  \n",
       "2012-12-31 23:00:00               30             11.3            99.89    Snow  "
      ]
     },
     "execution_count": 4,
     "metadata": {},
     "output_type": "execute_result"
    }
   ],
   "source": [
    "weather.tail()"
   ]
  },
  {
   "cell_type": "markdown",
   "metadata": {},
   "source": [
    "Let's keep track of the original column names with a variable:"
   ]
  },
  {
   "cell_type": "code",
   "execution_count": 5,
   "metadata": {},
   "outputs": [
    {
     "data": {
      "text/plain": [
       "Index(['Temp (C)', 'Dew Point Temp (C)', 'Rel Hum (%)', 'Wind Spd (km/h)',\n",
       "       'Visibility (km)', 'Stn Press (kPa)', 'Weather'],\n",
       "      dtype='object')"
      ]
     },
     "execution_count": 5,
     "metadata": {},
     "output_type": "execute_result"
    }
   ],
   "source": [
    "original_columns = weather.columns\n",
    "original_columns"
   ]
  },
  {
   "cell_type": "code",
   "execution_count": 6,
   "metadata": {
    "collapsed": true
   },
   "outputs": [],
   "source": [
    "# I don't like the column Weather, so renaming it:\n",
    "weather = weather.rename(columns={\"Weather\": \"Desc\"})"
   ]
  },
  {
   "cell_type": "code",
   "execution_count": 7,
   "metadata": {
    "collapsed": true
   },
   "outputs": [],
   "source": [
    "# Q1: Rename other columns to be shorter names that are easier to work with.\n",
    "# Ex; 'Temp (C)' -> Temp\n",
    "weather = weather.rename(columns={\"Temp (C)\": \"Temp\",\n",
    "                                  \"Dew Point Temp (C)\": \"Dew Point Temp\",\n",
    "                                  \"Rel Hum (%)\": \"Rel Hum\",\n",
    "                                  \"Wind Spd (km/h)\": \"Wind Spd\",\n",
    "                                  \"Visibility (km)\": \"Visibility\",\n",
    "                                  \"Stn Press (kPa)\": \"Stn Press\"})"
   ]
  },
  {
   "cell_type": "code",
   "execution_count": 8,
   "metadata": {},
   "outputs": [
    {
     "data": {
      "text/plain": [
       "<matplotlib.axes._subplots.AxesSubplot at 0x2856d6b85c0>"
      ]
     },
     "execution_count": 8,
     "metadata": {},
     "output_type": "execute_result"
    },
    {
     "data": {
      "image/png": "[encoded data removed]",
      "text/plain": [
       "<matplotlib.figure.Figure at 0x2856d6b8cf8>"
      ]
     },
     "metadata": {},
     "output_type": "display_data"
    }
   ],
   "source": [
    "# Q2 Plot the avg temperature by month.  (There are several ways to do this.)\n",
    "weather['Temp'].groupby(by=weather.index.month).mean().plot(kind='bar')"
   ]
  },
  {
   "cell_type": "code",
   "execution_count": 10,
   "metadata": {},
   "outputs": [
    {
     "name": "stdout",
     "output_type": "stream",
     "text": [
      "Temp                        33\n",
      "Dew Point Temp              19\n",
      "Rel Hum                     44\n",
      "Wind Spd                    24\n",
      "Visibility                24.1\n",
      "Stn Press                100.2\n",
      "Desc              Mainly Clear\n",
      "Name: 2012-06-21 15:00:00, dtype: object\n",
      "Temp               -23.3\n",
      "Dew Point Temp     -28.5\n",
      "Rel Hum               62\n",
      "Wind Spd               7\n",
      "Visibility          24.1\n",
      "Stn Press         102.45\n",
      "Desc               Clear\n",
      "Name: 2012-01-15 08:00:00, dtype: object\n"
     ]
    }
   ],
   "source": [
    "# Q3: Find the date and then look up the row for the days with max and min temperatures. (Look back at the Timeseries NB for where I got the max and then looked up the date on the index.)\n",
    "print (weather.loc[weather[\"Temp\"].argmax()])\n",
    "print (weather.loc[weather[\"Temp\"].argmin()])"
   ]
  },
  {
   "cell_type": "code",
   "execution_count": 11,
   "metadata": {
    "collapsed": true
   },
   "outputs": [],
   "source": [
    "# Q4: Get the median values per month. Save that as a new dataframe.\n",
    "# Hint : Use groupby\n",
    "medians = weather.groupby(by=weather.index.month).median()"
   ]
  },
  {
   "cell_type": "code",
   "execution_count": 12,
   "metadata": {
    "collapsed": true
   },
   "outputs": [],
   "source": [
    "medians = pd.concat([medians.reset_index(drop=True),\n",
    "           pd.Series(['Jan', 'Fev', 'Mar',\n",
    "                      'Apr', 'May', 'Jun',\n",
    "                      'Jul', 'Aug', 'Sep',\n",
    "                      'Oct', 'Nov', 'Dec'],\n",
    "                     name='Month')], axis=1).set_index('Month')"
   ]
  },
  {
   "cell_type": "code",
   "execution_count": 13,
   "metadata": {},
   "outputs": [
    {
     "data": {
      "text/plain": [
       "<matplotlib.axes._subplots.AxesSubplot at 0x2856da06828>"
      ]
     },
     "execution_count": 13,
     "metadata": {},
     "output_type": "execute_result"
    },
    {
     "data": {
      "image/png": "[encoded data removed]",
      "text/plain": [
       "<matplotlib.figure.Figure at 0x2856d9e22b0>"
      ]
     },
     "metadata": {},
     "output_type": "display_data"
    }
   ],
   "source": [
    "# Q5: Plot the humidity using the original dataframe weather, and then plot the humidity\n",
    "# from  the month one you just made.\n",
    "weather[\"Rel Hum\"].plot(kind='line')"
   ]
  },
  {
   "cell_type": "code",
   "execution_count": 14,
   "metadata": {},
   "outputs": [
    {
     "data": {
      "text/plain": [
       "<matplotlib.axes._subplots.AxesSubplot at 0x2856e00b588>"
      ]
     },
     "execution_count": 14,
     "metadata": {},
     "output_type": "execute_result"
    },
    {
     "data": {
      "image/png": "[encoded data removed]",
      "text/plain": [
       "<matplotlib.figure.Figure at 0x2856de92470>"
      ]
     },
     "metadata": {},
     "output_type": "display_data"
    }
   ],
   "source": [
    "medians[\"Rel Hum\"].plot(kind='line')"
   ]
  },
  {
   "cell_type": "code",
   "execution_count": 15,
   "metadata": {},
   "outputs": [
    {
     "data": {
      "text/plain": [
       "'Mostly Cloudy'"
      ]
     },
     "execution_count": 15,
     "metadata": {},
     "output_type": "execute_result"
    }
   ],
   "source": [
    "# Q6: What is the weather description (text) for the day and time when the wind speed is the highest?\n",
    "weather.loc[weather[\"Wind Spd\"].argmax()][\"Desc\"]"
   ]
  },
  {
   "cell_type": "code",
   "execution_count": 16,
   "metadata": {},
   "outputs": [
    {
     "data": {
      "text/plain": [
       "Mainly Clear                               2106\n",
       "Mostly Cloudy                              2069\n",
       "Cloudy                                     1728\n",
       "Clear                                      1326\n",
       "Snow                                        390\n",
       "Rain                                        306\n",
       "Rain Showers                                188\n",
       "Fog                                         150\n",
       "Rain,Fog                                    116\n",
       "Drizzle,Fog                                  80\n",
       "Snow Showers                                 60\n",
       "Drizzle                                      41\n",
       "Snow,Fog                                     37\n",
       "Snow,Blowing Snow                            19\n",
       "Rain,Snow                                    18\n",
       "Thunderstorms,Rain Showers                   16\n",
       "Haze                                         16\n",
       "Drizzle,Snow,Fog                             15\n",
       "Freezing Rain                                14\n",
       "Freezing Drizzle,Snow                        11\n",
       "Freezing Drizzle                              7\n",
       "Freezing Drizzle,Fog                          6\n",
       "Snow,Ice Pellets                              6\n",
       "Snow,Haze                                     5\n",
       "Snow Showers,Fog                              4\n",
       "Moderate Snow                                 4\n",
       "Rain,Snow,Ice Pellets                         4\n",
       "Freezing Rain,Fog                             4\n",
       "Freezing Fog                                  4\n",
       "Freezing Drizzle,Haze                         3\n",
       "Rain,Haze                                     3\n",
       "Thunderstorms,Rain Showers,Fog                3\n",
       "Thunderstorms,Rain                            3\n",
       "Drizzle,Snow                                  2\n",
       "Rain Showers,Snow Showers                     2\n",
       "Moderate Snow,Blowing Snow                    2\n",
       "Thunderstorms                                 2\n",
       "Freezing Rain,Haze                            2\n",
       "Rain,Ice Pellets                              1\n",
       "Rain,Snow Grains                              1\n",
       "Thunderstorms,Moderate Rain Showers,Fog       1\n",
       "Rain,Snow,Fog                                 1\n",
       "Thunderstorms,Rain,Fog                        1\n",
       "Freezing Rain,Ice Pellets,Fog                 1\n",
       "Moderate Rain,Fog                             1\n",
       "Freezing Rain,Snow Grains                     1\n",
       "Rain Showers,Fog                              1\n",
       "Drizzle,Ice Pellets,Fog                       1\n",
       "Snow Pellets                                  1\n",
       "Thunderstorms,Heavy Rain Showers              1\n",
       "Name: Desc, dtype: int64"
      ]
     },
     "execution_count": 16,
     "metadata": {},
     "output_type": "execute_result"
    }
   ],
   "source": [
    "# Q7: What are the counts of all the weather descriptions?\n",
    "weather[\"Desc\"].value_counts()"
   ]
  },
  {
   "cell_type": "code",
   "execution_count": 95,
   "metadata": {},
   "outputs": [
    {
     "data": {
      "text/plain": [
       "<matplotlib.axes._subplots.AxesSubplot at 0x12b3d00d0>"
      ]
     },
     "execution_count": 95,
     "metadata": {},
     "output_type": "execute_result"
    },
    {
     "data": {
      "image/png": "[encoded data removed]",
      "text/plain": [
       "<matplotlib.figure.Figure at 0x12c5e05d0>"
      ]
     },
     "metadata": {},
     "output_type": "display_data"
    }
   ],
   "source": [
    "# Q8: find the rows that contain \"Snow\" and plot the temperature for those rows using a bar chart\n",
    "weather[weather[\"Desc\"] == \"Snow\"][\"Temp\"].plot(kind='bar')"
   ]
  },
  {
   "cell_type": "code",
   "execution_count": 98,
   "metadata": {},
   "outputs": [
    {
     "data": {
      "text/html": [
       "<div>\n",
       "<table border=\"1\" class=\"dataframe\">\n",
       "  <thead>\n",
       "    <tr style=\"text-align: right;\">\n",
       "      <th></th>\n",
       "      <th>Temp</th>\n",
       "      <th>Dew Point Temp</th>\n",
       "      <th>Rel Hum</th>\n",
       "      <th>Wind Spd</th>\n",
       "      <th>Visibility</th>\n",
       "      <th>Stn Press</th>\n",
       "    </tr>\n",
       "    <tr>\n",
       "      <th>Desc</th>\n",
       "      <th></th>\n",
       "      <th></th>\n",
       "      <th></th>\n",
       "      <th></th>\n",
       "      <th></th>\n",
       "      <th></th>\n",
       "    </tr>\n",
       "  </thead>\n",
       "  <tbody>\n",
       "    <tr>\n",
       "      <th>Clear</th>\n",
       "      <td>6.825716</td>\n",
       "      <td>0.089367</td>\n",
       "      <td>64.497738</td>\n",
       "      <td>10.557315</td>\n",
       "      <td>30.153243</td>\n",
       "      <td>101.587443</td>\n",
       "    </tr>\n",
       "    <tr>\n",
       "      <th>Cloudy</th>\n",
       "      <td>7.970544</td>\n",
       "      <td>2.375810</td>\n",
       "      <td>69.592593</td>\n",
       "      <td>16.127315</td>\n",
       "      <td>26.625752</td>\n",
       "      <td>100.911441</td>\n",
       "    </tr>\n",
       "    <tr>\n",
       "      <th>Drizzle</th>\n",
       "      <td>7.353659</td>\n",
       "      <td>5.504878</td>\n",
       "      <td>88.243902</td>\n",
       "      <td>16.097561</td>\n",
       "      <td>17.931707</td>\n",
       "      <td>100.435366</td>\n",
       "    </tr>\n",
       "    <tr>\n",
       "      <th>Drizzle,Fog</th>\n",
       "      <td>8.067500</td>\n",
       "      <td>7.033750</td>\n",
       "      <td>93.275000</td>\n",
       "      <td>11.862500</td>\n",
       "      <td>5.257500</td>\n",
       "      <td>100.786625</td>\n",
       "    </tr>\n",
       "    <tr>\n",
       "      <th>Drizzle,Ice Pellets,Fog</th>\n",
       "      <td>0.400000</td>\n",
       "      <td>-0.700000</td>\n",
       "      <td>92.000000</td>\n",
       "      <td>20.000000</td>\n",
       "      <td>4.000000</td>\n",
       "      <td>100.790000</td>\n",
       "    </tr>\n",
       "  </tbody>\n",
       "</table>\n",
       "</div>"
      ],
      "text/plain": [
       "                             Temp  Dew Point Temp    Rel Hum   Wind Spd  \\\n",
       "Desc                                                                      \n",
       "Clear                    6.825716        0.089367  64.497738  10.557315   \n",
       "Cloudy                   7.970544        2.375810  69.592593  16.127315   \n",
       "Drizzle                  7.353659        5.504878  88.243902  16.097561   \n",
       "Drizzle,Fog              8.067500        7.033750  93.275000  11.862500   \n",
       "Drizzle,Ice Pellets,Fog  0.400000       -0.700000  92.000000  20.000000   \n",
       "\n",
       "                         Visibility   Stn Press  \n",
       "Desc                                             \n",
       "Clear                     30.153243  101.587443  \n",
       "Cloudy                    26.625752  100.911441  \n",
       "Drizzle                   17.931707  100.435366  \n",
       "Drizzle,Fog                5.257500  100.786625  \n",
       "Drizzle,Ice Pellets,Fog    4.000000  100.790000  "
      ]
     },
     "execution_count": 98,
     "metadata": {},
     "output_type": "execute_result"
    }
   ],
   "source": [
    "# Q9: Group by the weather description terms and use np.mean as your aggregate. Show the head.\n",
    "weather.groupby(by=\"Desc\").agg(np.mean).head()"
   ]
  },
  {
   "cell_type": "code",
   "execution_count": 109,
   "metadata": {},
   "outputs": [
    {
     "name": "stderr",
     "output_type": "stream",
     "text": [
      "/Users/baptiste/.virtualenvs/python2_venv/lib/python2.7/site-packages/ipykernel/__main__.py:3: FutureWarning: sort(columns=....) is deprecated, use sort_values(by=.....)\n",
      "  app.launch_new_instance()\n"
     ]
    },
    {
     "data": {
      "text/plain": [
       "<matplotlib.axes._subplots.AxesSubplot at 0x12e132850>"
      ]
     },
     "execution_count": 109,
     "metadata": {},
     "output_type": "execute_result"
    },
    {
     "data": {
      "image/png": "[encoded data removed]",
      "text/plain": [
       "<matplotlib.figure.Figure at 0x12da5cf10>"
      ]
     },
     "metadata": {},
     "output_type": "display_data"
    }
   ],
   "source": [
    "# Q10: Sort the dataframe from Q10 by Temperature Ascending and \n",
    "# plot the top 5 Temperature values as a bar chart.\n",
    "top_5_Temp = weather.groupby(by=\"Desc\").agg(np.mean).sort(columns=\"Temp\")[\"Temp\"].tail()\n",
    "top_5_Temp.plot(kind='bar')"
   ]
  },
  {
   "cell_type": "code",
   "execution_count": 110,
   "metadata": {},
   "outputs": [
    {
     "data": {
      "text/plain": [
       "array(['Fog', 'Freezing Drizzle,Fog', 'Mostly Cloudy', 'Cloudy', 'Rain',\n",
       "       'Rain Showers', 'Mainly Clear', 'Snow Showers', 'Snow', 'Clear',\n",
       "       'Freezing Rain,Fog', 'Freezing Rain', 'Freezing Drizzle',\n",
       "       'Rain,Snow', 'Moderate Snow', 'Freezing Drizzle,Snow',\n",
       "       'Freezing Rain,Snow Grains', 'Snow,Blowing Snow', 'Freezing Fog',\n",
       "       'Haze', 'Rain,Fog', 'Drizzle,Fog', 'Drizzle',\n",
       "       'Freezing Drizzle,Haze', 'Freezing Rain,Haze', 'Snow,Haze',\n",
       "       'Snow,Fog', 'Snow,Ice Pellets', 'Rain,Haze', 'Thunderstorms,Rain',\n",
       "       'Thunderstorms,Rain Showers', 'Thunderstorms,Heavy Rain Showers',\n",
       "       'Thunderstorms,Rain Showers,Fog', 'Thunderstorms',\n",
       "       'Thunderstorms,Rain,Fog', 'Thunderstorms,Moderate Rain Showers,Fog',\n",
       "       'Rain Showers,Fog', 'Rain Showers,Snow Showers', 'Snow Pellets',\n",
       "       'Rain,Snow,Fog', 'Moderate Rain,Fog',\n",
       "       'Freezing Rain,Ice Pellets,Fog', 'Drizzle,Ice Pellets,Fog',\n",
       "       'Drizzle,Snow', 'Rain,Ice Pellets', 'Drizzle,Snow,Fog',\n",
       "       'Rain,Snow Grains', 'Rain,Snow,Ice Pellets', 'Snow Showers,Fog',\n",
       "       'Moderate Snow,Blowing Snow'], dtype=object)"
      ]
     },
     "execution_count": 110,
     "metadata": {},
     "output_type": "execute_result"
    }
   ],
   "source": [
    "# Q11: Get a list of the unique weather terms that appear in the description column.\n",
    "weather[\"Desc\"].unique()"
   ]
  },
  {
   "cell_type": "code",
   "execution_count": 123,
   "metadata": {},
   "outputs": [
    {
     "data": {
      "text/plain": [
       "Date/Time\n",
       "2012-01-01 00:00:00                      [Fog]\n",
       "2012-01-01 01:00:00                      [Fog]\n",
       "2012-01-01 02:00:00    [Freezing Drizzle, Fog]\n",
       "2012-01-01 03:00:00    [Freezing Drizzle, Fog]\n",
       "2012-01-01 04:00:00                      [Fog]\n",
       "2012-01-01 05:00:00                      [Fog]\n",
       "2012-01-01 06:00:00                      [Fog]\n",
       "2012-01-01 07:00:00                      [Fog]\n",
       "2012-01-01 08:00:00                      [Fog]\n",
       "2012-01-01 09:00:00                      [Fog]\n",
       "2012-01-01 10:00:00                      [Fog]\n",
       "2012-01-01 11:00:00                      [Fog]\n",
       "2012-01-01 12:00:00                      [Fog]\n",
       "2012-01-01 13:00:00                      [Fog]\n",
       "2012-01-01 14:00:00                      [Fog]\n",
       "2012-01-01 15:00:00                      [Fog]\n",
       "2012-01-01 16:00:00            [Mostly Cloudy]\n",
       "2012-01-01 17:00:00                   [Cloudy]\n",
       "2012-01-01 18:00:00                     [Rain]\n",
       "2012-01-01 19:00:00                     [Rain]\n",
       "2012-01-01 20:00:00                   [Cloudy]\n",
       "2012-01-01 21:00:00                   [Cloudy]\n",
       "2012-01-01 22:00:00             [Rain Showers]\n",
       "2012-01-01 23:00:00                   [Cloudy]\n",
       "2012-01-02 00:00:00             [Rain Showers]\n",
       "2012-01-02 01:00:00                   [Cloudy]\n",
       "2012-01-02 02:00:00            [Mostly Cloudy]\n",
       "2012-01-02 03:00:00            [Mostly Cloudy]\n",
       "2012-01-02 04:00:00            [Mostly Cloudy]\n",
       "2012-01-02 05:00:00            [Mostly Cloudy]\n",
       "                                ...           \n",
       "2012-12-30 18:00:00             [Mainly Clear]\n",
       "2012-12-30 19:00:00             [Mainly Clear]\n",
       "2012-12-30 20:00:00                    [Clear]\n",
       "2012-12-30 21:00:00             [Mainly Clear]\n",
       "2012-12-30 22:00:00             [Mainly Clear]\n",
       "2012-12-30 23:00:00            [Mostly Cloudy]\n",
       "2012-12-31 00:00:00                   [Cloudy]\n",
       "2012-12-31 01:00:00                   [Cloudy]\n",
       "2012-12-31 02:00:00                   [Cloudy]\n",
       "2012-12-31 03:00:00            [Mostly Cloudy]\n",
       "2012-12-31 04:00:00                   [Cloudy]\n",
       "2012-12-31 05:00:00                   [Cloudy]\n",
       "2012-12-31 06:00:00                   [Cloudy]\n",
       "2012-12-31 07:00:00             [Snow Showers]\n",
       "2012-12-31 08:00:00             [Snow Showers]\n",
       "2012-12-31 09:00:00                     [Snow]\n",
       "2012-12-31 10:00:00                [Snow, Fog]\n",
       "2012-12-31 11:00:00                     [Snow]\n",
       "2012-12-31 12:00:00                     [Snow]\n",
       "2012-12-31 13:00:00                     [Snow]\n",
       "2012-12-31 14:00:00                     [Snow]\n",
       "2012-12-31 15:00:00                     [Snow]\n",
       "2012-12-31 16:00:00                     [Snow]\n",
       "2012-12-31 17:00:00                     [Snow]\n",
       "2012-12-31 18:00:00                     [Snow]\n",
       "2012-12-31 19:00:00                     [Snow]\n",
       "2012-12-31 20:00:00                     [Snow]\n",
       "2012-12-31 21:00:00                     [Snow]\n",
       "2012-12-31 22:00:00                     [Snow]\n",
       "2012-12-31 23:00:00                     [Snow]\n",
       "Name: Desc, dtype: object"
      ]
     },
     "execution_count": 123,
     "metadata": {},
     "output_type": "execute_result"
    }
   ],
   "source": [
    "# Q12: Split the Description elements by comma (but don't make multiple columns for them).\n",
    "weather[\"Desc\"].apply(lambda desc: desc.split(','))"
   ]
  },
  {
   "cell_type": "code",
   "execution_count": 126,
   "metadata": {},
   "outputs": [
    {
     "data": {
      "text/plain": [
       "[('Mainly Clear', 2106),\n",
       " ('Mostly Cloudy', 2069),\n",
       " ('Cloudy', 1728),\n",
       " ('Clear', 1326),\n",
       " ('Snow', 508),\n",
       " ('Rain', 454),\n",
       " ('Fog', 422),\n",
       " ('Rain Showers', 210),\n",
       " ('Drizzle', 139),\n",
       " ('Snow Showers', 66),\n",
       " ('Haze', 29),\n",
       " ('Thunderstorms', 27),\n",
       " ('Freezing Drizzle', 27),\n",
       " ('Freezing Rain', 22),\n",
       " ('Blowing Snow', 21),\n",
       " ('Ice Pellets', 13),\n",
       " ('Moderate Snow', 6),\n",
       " ('Freezing Fog', 4),\n",
       " ('Snow Grains', 2),\n",
       " ('Heavy Rain Showers', 1),\n",
       " ('Moderate Rain Showers', 1),\n",
       " ('Moderate Rain', 1),\n",
       " ('Snow Pellets', 1)]"
      ]
     },
     "execution_count": 126,
     "metadata": {},
     "output_type": "execute_result"
    }
   ],
   "source": [
    "# Q13: Get the values from the split descriptions you just got (hint: values) and figure out \n",
    "# how to make a Counter object to see which ones occur most often. Call most_common on the \n",
    "# Counter.\n",
    "\n",
    "Counter([item for sublist in weather[\"Desc\"].apply(lambda desc: desc.split(',')).values\n",
    "         for item in sublist]).most_common()\n",
    "\n",
    "# Another hint: flatten a list of lists by using this magic spell that I look up every time:\n",
    "# [item for sublist in nested_list for item in sublist]\n",
    "# in other words, if nested_list is [[2,3], [32,55], [4]], then\n",
    "# the flat version will be [2,3,32,55,4]"
   ]
  },
  {
   "cell_type": "markdown",
   "metadata": {},
   "source": [
    "Another hint: flatten a list of lists by using this magic spell that I look up every time:\n",
    "```\n",
    "flatlist = [item for sublist in nested_list for item in sublist]\n",
    "```\n",
    "\n",
    "in other words, if nested_list is [[2,3], [32,55], [4]], then\n",
    "the flat version will be [2,3,32,55,4].  It's flat because it has no lists inside it!"
   ]
  }
 ],
 "metadata": {
  "anaconda-cloud": {},
  "kernelspec": {
   "display_name": "Python 3",
   "language": "python",
   "name": "python3"
  },
  "language_info": {
   "codemirror_mode": {
    "name": "ipython",
    "version": 3
   },
   "file_extension": ".py",
   "mimetype": "text/x-python",
   "name": "python",
   "nbconvert_exporter": "python",
   "pygments_lexer": "ipython3",
   "version": "3.6.3"
  }
 },
 "nbformat": 4,
 "nbformat_minor": 1
}
