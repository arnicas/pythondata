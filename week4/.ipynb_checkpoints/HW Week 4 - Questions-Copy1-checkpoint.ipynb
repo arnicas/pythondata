{
 "cells": [
  {
   "cell_type": "code",
   "execution_count": 59,
   "metadata": {
    "collapsed": true
   },
   "outputs": [],
   "source": [
    "import pandas as pd\n",
    "import matplotlib.pyplot as plt\n",
    "import seaborn as sns\n",
    "import numpy as np\n",
    "import datetime\n",
    "%matplotlib inline\n"
   ]
  },
  {
   "cell_type": "code",
   "execution_count": 60,
   "metadata": {
    "collapsed": true
   },
   "outputs": [],
   "source": [
    "obj_trouves = pd.read_csv('data_week4/objets-trouves-restitution.csv',sep = ';',parse_dates=True, index_col = 'Date')"
   ]
  },
  {
   "cell_type": "code",
   "execution_count": 61,
   "metadata": {},
   "outputs": [
    {
     "data": {
      "text/html": [
       "<div>\n",
       "<style>\n",
       "    .dataframe thead tr:only-child th {\n",
       "        text-align: right;\n",
       "    }\n",
       "\n",
       "    .dataframe thead th {\n",
       "        text-align: left;\n",
       "    }\n",
       "\n",
       "    .dataframe tbody tr th {\n",
       "        vertical-align: top;\n",
       "    }\n",
       "</style>\n",
       "<table border=\"1\" class=\"dataframe\">\n",
       "  <thead>\n",
       "    <tr style=\"text-align: right;\">\n",
       "      <th></th>\n",
       "      <th>Date et heure de restitution</th>\n",
       "      <th>Gare</th>\n",
       "      <th>Code UIC</th>\n",
       "      <th>Nature d'objets</th>\n",
       "      <th>Type d'objets</th>\n",
       "      <th>Type d'enregistrement</th>\n",
       "    </tr>\n",
       "    <tr>\n",
       "      <th>Date</th>\n",
       "      <th></th>\n",
       "      <th></th>\n",
       "      <th></th>\n",
       "      <th></th>\n",
       "      <th></th>\n",
       "      <th></th>\n",
       "    </tr>\n",
       "  </thead>\n",
       "  <tbody>\n",
       "    <tr>\n",
       "      <th>2017-06-20 14:05:25</th>\n",
       "      <td>NaN</td>\n",
       "      <td>Nîmes</td>\n",
       "      <td>87775007.0</td>\n",
       "      <td>Sac de voyage, sac de sport, sac à bandoulière</td>\n",
       "      <td>Bagagerie: sacs, valises, cartables</td>\n",
       "      <td>Objet trouvé</td>\n",
       "    </tr>\n",
       "    <tr>\n",
       "      <th>2017-08-10 15:33:37</th>\n",
       "      <td>2017-08-11T16:13:06+02:00</td>\n",
       "      <td>Boulogne Ville</td>\n",
       "      <td>87317586.0</td>\n",
       "      <td>Téléphone portable</td>\n",
       "      <td>Appareils électroniques, informatiques, appare...</td>\n",
       "      <td>Objet trouvé</td>\n",
       "    </tr>\n",
       "    <tr>\n",
       "      <th>2017-07-03 08:57:43</th>\n",
       "      <td>NaN</td>\n",
       "      <td>Nîmes</td>\n",
       "      <td>87775007.0</td>\n",
       "      <td>Sac à dos</td>\n",
       "      <td>Bagagerie: sacs, valises, cartables</td>\n",
       "      <td>Objet trouvé</td>\n",
       "    </tr>\n",
       "    <tr>\n",
       "      <th>2017-08-11 07:26:05</th>\n",
       "      <td>2017-08-11T16:16:52+02:00</td>\n",
       "      <td>Dijon</td>\n",
       "      <td>87713040.0</td>\n",
       "      <td>Sac à dos</td>\n",
       "      <td>Bagagerie: sacs, valises, cartables</td>\n",
       "      <td>Objet trouvé</td>\n",
       "    </tr>\n",
       "    <tr>\n",
       "      <th>2017-07-11 08:13:04</th>\n",
       "      <td>NaN</td>\n",
       "      <td>Nîmes</td>\n",
       "      <td>87775007.0</td>\n",
       "      <td>Clés, porte-clés</td>\n",
       "      <td>Clés, porte-clés, badge magnétique</td>\n",
       "      <td>Objet trouvé</td>\n",
       "    </tr>\n",
       "  </tbody>\n",
       "</table>\n",
       "</div>"
      ],
      "text/plain": [
       "                    Date et heure de restitution            Gare    Code UIC  \\\n",
       "Date                                                                           \n",
       "2017-06-20 14:05:25                          NaN           Nîmes  87775007.0   \n",
       "2017-08-10 15:33:37    2017-08-11T16:13:06+02:00  Boulogne Ville  87317586.0   \n",
       "2017-07-03 08:57:43                          NaN           Nîmes  87775007.0   \n",
       "2017-08-11 07:26:05    2017-08-11T16:16:52+02:00           Dijon  87713040.0   \n",
       "2017-07-11 08:13:04                          NaN           Nîmes  87775007.0   \n",
       "\n",
       "                                                    Nature d'objets  \\\n",
       "Date                                                                  \n",
       "2017-06-20 14:05:25  Sac de voyage, sac de sport, sac à bandoulière   \n",
       "2017-08-10 15:33:37                              Téléphone portable   \n",
       "2017-07-03 08:57:43                                       Sac à dos   \n",
       "2017-08-11 07:26:05                                       Sac à dos   \n",
       "2017-07-11 08:13:04                                Clés, porte-clés   \n",
       "\n",
       "                                                         Type d'objets  \\\n",
       "Date                                                                     \n",
       "2017-06-20 14:05:25                Bagagerie: sacs, valises, cartables   \n",
       "2017-08-10 15:33:37  Appareils électroniques, informatiques, appare...   \n",
       "2017-07-03 08:57:43                Bagagerie: sacs, valises, cartables   \n",
       "2017-08-11 07:26:05                Bagagerie: sacs, valises, cartables   \n",
       "2017-07-11 08:13:04                 Clés, porte-clés, badge magnétique   \n",
       "\n",
       "                    Type d'enregistrement  \n",
       "Date                                       \n",
       "2017-06-20 14:05:25          Objet trouvé  \n",
       "2017-08-10 15:33:37          Objet trouvé  \n",
       "2017-07-03 08:57:43          Objet trouvé  \n",
       "2017-08-11 07:26:05          Objet trouvé  \n",
       "2017-07-11 08:13:04          Objet trouvé  "
      ]
     },
     "execution_count": 61,
     "metadata": {},
     "output_type": "execute_result"
    }
   ],
   "source": [
    "obj_trouves.head()"
   ]
  },
  {
   "cell_type": "code",
   "execution_count": 62,
   "metadata": {},
   "outputs": [
    {
     "data": {
      "text/plain": [
       "Objet trouvé    388268\n",
       "Name: Type d'enregistrement, dtype: int64"
      ]
     },
     "execution_count": 62,
     "metadata": {},
     "output_type": "execute_result"
    }
   ],
   "source": [
    "obj_trouves['Type d\\'enregistrement'].value_counts()"
   ]
  },
  {
   "cell_type": "code",
   "execution_count": 63,
   "metadata": {
    "collapsed": true
   },
   "outputs": [],
   "source": [
    "# we can delete the column Type d'enregistrement \n",
    "obj_trouves.drop('Type d\\'enregistrement',axis=1, inplace=True)"
   ]
  },
  {
   "cell_type": "code",
   "execution_count": 64,
   "metadata": {},
   "outputs": [
    {
     "data": {
      "text/plain": [
       "Int64Index([ 6,  8,  7,  8,  7,  6,  8,  8,  8,  7,\n",
       "            ...\n",
       "            10, 11, 11, 11, 10, 11, 11, 11, 11, 10],\n",
       "           dtype='int64', name='Date', length=388268)"
      ]
     },
     "execution_count": 64,
     "metadata": {},
     "output_type": "execute_result"
    }
   ],
   "source": [
    "obj_trouves.index.month"
   ]
  },
  {
   "cell_type": "code",
   "execution_count": 65,
   "metadata": {},
   "outputs": [
    {
     "data": {
      "text/html": [
       "<div>\n",
       "<style>\n",
       "    .dataframe thead tr:only-child th {\n",
       "        text-align: right;\n",
       "    }\n",
       "\n",
       "    .dataframe thead th {\n",
       "        text-align: left;\n",
       "    }\n",
       "\n",
       "    .dataframe tbody tr th {\n",
       "        vertical-align: top;\n",
       "    }\n",
       "</style>\n",
       "<table border=\"1\" class=\"dataframe\">\n",
       "  <thead>\n",
       "    <tr style=\"text-align: right;\">\n",
       "      <th></th>\n",
       "      <th>Date et heure de restitution</th>\n",
       "      <th>Gare</th>\n",
       "      <th>Code UIC</th>\n",
       "      <th>Nature d'objets</th>\n",
       "      <th>Type d'objets</th>\n",
       "    </tr>\n",
       "  </thead>\n",
       "  <tbody>\n",
       "    <tr>\n",
       "      <th>2017-06-20</th>\n",
       "      <td>NaN</td>\n",
       "      <td>Nîmes</td>\n",
       "      <td>87775007.0</td>\n",
       "      <td>Sac de voyage, sac de sport, sac à bandoulière</td>\n",
       "      <td>Bagagerie: sacs, valises, cartables</td>\n",
       "    </tr>\n",
       "    <tr>\n",
       "      <th>2017-08-10</th>\n",
       "      <td>2017-08-11T16:13:06+02:00</td>\n",
       "      <td>Boulogne Ville</td>\n",
       "      <td>87317586.0</td>\n",
       "      <td>Téléphone portable</td>\n",
       "      <td>Appareils électroniques, informatiques, appare...</td>\n",
       "    </tr>\n",
       "    <tr>\n",
       "      <th>2017-07-03</th>\n",
       "      <td>NaN</td>\n",
       "      <td>Nîmes</td>\n",
       "      <td>87775007.0</td>\n",
       "      <td>Sac à dos</td>\n",
       "      <td>Bagagerie: sacs, valises, cartables</td>\n",
       "    </tr>\n",
       "    <tr>\n",
       "      <th>2017-08-11</th>\n",
       "      <td>2017-08-11T16:16:52+02:00</td>\n",
       "      <td>Dijon</td>\n",
       "      <td>87713040.0</td>\n",
       "      <td>Sac à dos</td>\n",
       "      <td>Bagagerie: sacs, valises, cartables</td>\n",
       "    </tr>\n",
       "    <tr>\n",
       "      <th>2017-07-11</th>\n",
       "      <td>NaN</td>\n",
       "      <td>Nîmes</td>\n",
       "      <td>87775007.0</td>\n",
       "      <td>Clés, porte-clés</td>\n",
       "      <td>Clés, porte-clés, badge magnétique</td>\n",
       "    </tr>\n",
       "  </tbody>\n",
       "</table>\n",
       "</div>"
      ],
      "text/plain": [
       "           Date et heure de restitution            Gare    Code UIC  \\\n",
       "2017-06-20                          NaN           Nîmes  87775007.0   \n",
       "2017-08-10    2017-08-11T16:13:06+02:00  Boulogne Ville  87317586.0   \n",
       "2017-07-03                          NaN           Nîmes  87775007.0   \n",
       "2017-08-11    2017-08-11T16:16:52+02:00           Dijon  87713040.0   \n",
       "2017-07-11                          NaN           Nîmes  87775007.0   \n",
       "\n",
       "                                           Nature d'objets  \\\n",
       "2017-06-20  Sac de voyage, sac de sport, sac à bandoulière   \n",
       "2017-08-10                              Téléphone portable   \n",
       "2017-07-03                                       Sac à dos   \n",
       "2017-08-11                                       Sac à dos   \n",
       "2017-07-11                                Clés, porte-clés   \n",
       "\n",
       "                                                Type d'objets  \n",
       "2017-06-20                Bagagerie: sacs, valises, cartables  \n",
       "2017-08-10  Appareils électroniques, informatiques, appare...  \n",
       "2017-07-03                Bagagerie: sacs, valises, cartables  \n",
       "2017-08-11                Bagagerie: sacs, valises, cartables  \n",
       "2017-07-11                 Clés, porte-clés, badge magnétique  "
      ]
     },
     "execution_count": 65,
     "metadata": {},
     "output_type": "execute_result"
    }
   ],
   "source": [
    "#Q1: Modify dates in index from 'YYYY-MM-DD HH:MM:SS' format to 'YYYY-MM-DD' format \n",
    "#Ex: 2017-07-03 08:57:43 --> 2017-07-03\n",
    "# Save the result in place(I mean indexes of obj_trouves must be changed)\n",
    "# Be careful to keep DateTimeIndex, you can do obj_trouves.index = pd.to_datetime(obj_trouves.index)\n",
    "\n",
    "obj_trouves.index = obj_trouves.index.date\n",
    "obj_trouves.index = pd.to_datetime(obj_trouves.index,format=\"%Y-%m-%d\")\n",
    "obj_trouves.head()\n"
   ]
  },
  {
   "cell_type": "code",
   "execution_count": 81,
   "metadata": {},
   "outputs": [],
   "source": [
    "#Q2: Pivot obj_trouves to get a new dataframe with hierarchical indexing : Date and station (Gare) (BE CAREFUL OF THE ORDER)\n",
    "# the values are the number of found objects per station for each Date (if at least one object is lost)\n",
    "\n",
    "# Hints:\n",
    "# Use only one column, 'Type d'objets' for example\n",
    "# Use the aggregate function len to count the number of found objects\n",
    "\n",
    "pivoted_date = pd.pivot_table(obj_trouves, index=[obj_trouves.index, \"Gare\"], values=\"Type d\\'objets\", aggfunc=len)\n"
   ]
  },
  {
   "cell_type": "code",
   "execution_count": 82,
   "metadata": {},
   "outputs": [
    {
     "data": {
      "text/html": [
       "<div>\n",
       "<style>\n",
       "    .dataframe thead tr:only-child th {\n",
       "        text-align: right;\n",
       "    }\n",
       "\n",
       "    .dataframe thead th {\n",
       "        text-align: left;\n",
       "    }\n",
       "\n",
       "    .dataframe tbody tr th {\n",
       "        vertical-align: top;\n",
       "    }\n",
       "</style>\n",
       "<table border=\"1\" class=\"dataframe\">\n",
       "  <thead>\n",
       "    <tr style=\"text-align: right;\">\n",
       "      <th></th>\n",
       "      <th></th>\n",
       "      <th>Type d'objets</th>\n",
       "    </tr>\n",
       "    <tr>\n",
       "      <th></th>\n",
       "      <th>Gare</th>\n",
       "      <th></th>\n",
       "    </tr>\n",
       "  </thead>\n",
       "  <tbody>\n",
       "    <tr>\n",
       "      <th rowspan=\"3\" valign=\"top\">2013-05-24</th>\n",
       "      <th>Aéroport Charles de Gaulle 2 TGV</th>\n",
       "      <td>1</td>\n",
       "    </tr>\n",
       "    <tr>\n",
       "      <th>Paris Saint-Lazare</th>\n",
       "      <td>8</td>\n",
       "    </tr>\n",
       "    <tr>\n",
       "      <th>Strasbourg</th>\n",
       "      <td>8</td>\n",
       "    </tr>\n",
       "    <tr>\n",
       "      <th>2013-05-25</th>\n",
       "      <th>Strasbourg</th>\n",
       "      <td>9</td>\n",
       "    </tr>\n",
       "    <tr>\n",
       "      <th>2013-05-26</th>\n",
       "      <th>Strasbourg</th>\n",
       "      <td>2</td>\n",
       "    </tr>\n",
       "  </tbody>\n",
       "</table>\n",
       "</div>"
      ],
      "text/plain": [
       "                                             Type d'objets\n",
       "           Gare                                           \n",
       "2013-05-24 Aéroport Charles de Gaulle 2 TGV              1\n",
       "           Paris Saint-Lazare                            8\n",
       "           Strasbourg                                    8\n",
       "2013-05-25 Strasbourg                                    9\n",
       "2013-05-26 Strasbourg                                    2"
      ]
     },
     "execution_count": 82,
     "metadata": {},
     "output_type": "execute_result"
    }
   ],
   "source": [
    "pivoted_date.head()"
   ]
  },
  {
   "cell_type": "code",
   "execution_count": 92,
   "metadata": {},
   "outputs": [
    {
     "data": {
      "text/html": [
       "<div>\n",
       "<style>\n",
       "    .dataframe thead tr:only-child th {\n",
       "        text-align: right;\n",
       "    }\n",
       "\n",
       "    .dataframe thead th {\n",
       "        text-align: left;\n",
       "    }\n",
       "\n",
       "    .dataframe tbody tr th {\n",
       "        vertical-align: top;\n",
       "    }\n",
       "</style>\n",
       "<table border=\"1\" class=\"dataframe\">\n",
       "  <thead>\n",
       "    <tr style=\"text-align: right;\">\n",
       "      <th></th>\n",
       "      <th></th>\n",
       "      <th>Nb of found objects</th>\n",
       "    </tr>\n",
       "    <tr>\n",
       "      <th></th>\n",
       "      <th>Gare</th>\n",
       "      <th></th>\n",
       "    </tr>\n",
       "  </thead>\n",
       "  <tbody>\n",
       "    <tr>\n",
       "      <th rowspan=\"3\" valign=\"top\">2013-05-24</th>\n",
       "      <th>Aéroport Charles de Gaulle 2 TGV</th>\n",
       "      <td>1</td>\n",
       "    </tr>\n",
       "    <tr>\n",
       "      <th>Paris Saint-Lazare</th>\n",
       "      <td>8</td>\n",
       "    </tr>\n",
       "    <tr>\n",
       "      <th>Strasbourg</th>\n",
       "      <td>8</td>\n",
       "    </tr>\n",
       "    <tr>\n",
       "      <th>2013-05-25</th>\n",
       "      <th>Strasbourg</th>\n",
       "      <td>9</td>\n",
       "    </tr>\n",
       "    <tr>\n",
       "      <th>2013-05-26</th>\n",
       "      <th>Strasbourg</th>\n",
       "      <td>2</td>\n",
       "    </tr>\n",
       "  </tbody>\n",
       "</table>\n",
       "</div>"
      ],
      "text/plain": [
       "                                             Nb of found objects\n",
       "           Gare                                                 \n",
       "2013-05-24 Aéroport Charles de Gaulle 2 TGV                    1\n",
       "           Paris Saint-Lazare                                  8\n",
       "           Strasbourg                                          8\n",
       "2013-05-25 Strasbourg                                          9\n",
       "2013-05-26 Strasbourg                                          2"
      ]
     },
     "execution_count": 92,
     "metadata": {},
     "output_type": "execute_result"
    }
   ],
   "source": [
    "#Q3: Change the name of the column to 'Nb of found objects'\n",
    "pivoted_date = pivoted_date.rename(columns={'Nb of found obects': 'Nb of found objects'})\n",
    "pivoted_date.head()"
   ]
  },
  {
   "cell_type": "code",
   "execution_count": 115,
   "metadata": {},
   "outputs": [
    {
     "data": {
      "text/html": [
       "<div>\n",
       "<style>\n",
       "    .dataframe thead tr:only-child th {\n",
       "        text-align: right;\n",
       "    }\n",
       "\n",
       "    .dataframe thead th {\n",
       "        text-align: left;\n",
       "    }\n",
       "\n",
       "    .dataframe tbody tr th {\n",
       "        vertical-align: top;\n",
       "    }\n",
       "</style>\n",
       "<table border=\"1\" class=\"dataframe\">\n",
       "  <thead>\n",
       "    <tr style=\"text-align: right;\">\n",
       "      <th></th>\n",
       "      <th></th>\n",
       "      <th>Nb of found objects</th>\n",
       "    </tr>\n",
       "    <tr>\n",
       "      <th></th>\n",
       "      <th>Gare</th>\n",
       "      <th></th>\n",
       "    </tr>\n",
       "  </thead>\n",
       "  <tbody>\n",
       "    <tr>\n",
       "      <th>2017-09-26</th>\n",
       "      <th>Paris Gare de Lyon</th>\n",
       "      <td>121</td>\n",
       "    </tr>\n",
       "  </tbody>\n",
       "</table>\n",
       "</div>"
      ],
      "text/plain": [
       "                               Nb of found objects\n",
       "           Gare                                   \n",
       "2017-09-26 Paris Gare de Lyon                  121"
      ]
     },
     "execution_count": 115,
     "metadata": {},
     "output_type": "execute_result"
    }
   ],
   "source": [
    "#Q4: Get the date and the station with the greatest number of found objects (Find this greatest number as well)\n",
    "pivoted_date = pivoted_date.sort_values('Nb of found objects', ascending=False)\n",
    "pivoted_date.head(1)\n",
    "#The date and station with the greatest number of found objects are the 26th september of 2017 in Gare de Lyon"
   ]
  },
  {
   "cell_type": "code",
   "execution_count": 126,
   "metadata": {},
   "outputs": [
    {
     "data": {
      "text/plain": [
       "<matplotlib.axes._subplots.AxesSubplot at 0x299821aa128>"
      ]
     },
     "execution_count": 126,
     "metadata": {},
     "output_type": "execute_result"
    },
    {
     "data": {
      "image/png": "[encoded data removed]",
      "text/plain": [
       "<matplotlib.figure.Figure at 0x299821b9278>"
      ]
     },
     "metadata": {},
     "output_type": "display_data"
    }
   ],
   "source": [
    "#Q5: Print a barplot showing number of found objects per station for the date found in Q4\n",
    "\n",
    "pivoted_date.loc[pivoted_date.index.get_level_values(0) == '2017-09-26'].plot(kind=\"bar\", figsize = (30,30))\n"
   ]
  },
  {
   "cell_type": "code",
   "execution_count": 131,
   "metadata": {
    "collapsed": true
   },
   "outputs": [],
   "source": [
    "# Q6: Create a new dataframe indexed by the type of objects with\n",
    "# one column for the numbers of found objects for each type in 2016\n",
    "obj2 = pd.pivot_table(obj_trouves, index=[obj_trouves.index, \"Gare\"], values=\"Type d\\'objets\", aggfunc=len)\n",
    "\n",
    "\n",
    "obj2 = obj_trouves.loc['2016']\n",
    "obj2 = pd.pivot_table(obj2, index=[\"Type d'objets\"], values=\"Code UIC\", aggfunc=len)"
   ]
  },
  {
   "cell_type": "code",
   "execution_count": 132,
   "metadata": {},
   "outputs": [
    {
     "data": {
      "text/html": [
       "<div>\n",
       "<style>\n",
       "    .dataframe thead tr:only-child th {\n",
       "        text-align: right;\n",
       "    }\n",
       "\n",
       "    .dataframe thead th {\n",
       "        text-align: left;\n",
       "    }\n",
       "\n",
       "    .dataframe tbody tr th {\n",
       "        vertical-align: top;\n",
       "    }\n",
       "</style>\n",
       "<table border=\"1\" class=\"dataframe\">\n",
       "  <thead>\n",
       "    <tr style=\"text-align: right;\">\n",
       "      <th></th>\n",
       "      <th>Code UIC</th>\n",
       "    </tr>\n",
       "    <tr>\n",
       "      <th>Type d'objets</th>\n",
       "      <th></th>\n",
       "    </tr>\n",
       "  </thead>\n",
       "  <tbody>\n",
       "    <tr>\n",
       "      <th>Appareils électroniques, informatiques, appareils photo</th>\n",
       "      <td>13603.0</td>\n",
       "    </tr>\n",
       "    <tr>\n",
       "      <th>Articles d'enfants, de puériculture</th>\n",
       "      <td>1227.0</td>\n",
       "    </tr>\n",
       "    <tr>\n",
       "      <th>Articles de sport, loisirs, camping</th>\n",
       "      <td>1143.0</td>\n",
       "    </tr>\n",
       "    <tr>\n",
       "      <th>Articles médicaux</th>\n",
       "      <td>621.0</td>\n",
       "    </tr>\n",
       "    <tr>\n",
       "      <th>Bagagerie: sacs, valises, cartables</th>\n",
       "      <td>27197.0</td>\n",
       "    </tr>\n",
       "  </tbody>\n",
       "</table>\n",
       "</div>"
      ],
      "text/plain": [
       "                                                    Code UIC\n",
       "Type d'objets                                               \n",
       "Appareils électroniques, informatiques, apparei...   13603.0\n",
       "Articles d'enfants, de puériculture                   1227.0\n",
       "Articles de sport, loisirs, camping                   1143.0\n",
       "Articles médicaux                                      621.0\n",
       "Bagagerie: sacs, valises, cartables                  27197.0"
      ]
     },
     "execution_count": 132,
     "metadata": {},
     "output_type": "execute_result"
    }
   ],
   "source": [
    "obj2.head()"
   ]
  },
  {
   "cell_type": "code",
   "execution_count": null,
   "metadata": {
    "collapsed": true
   },
   "outputs": [],
   "source": [
    "#Q7 Plot a decreasing bar chart of the number of founds objects regarding types from the dataframe made in Q6"
   ]
  },
  {
   "cell_type": "code",
   "execution_count": 7,
   "metadata": {},
   "outputs": [
    {
     "data": {
      "text/html": [
       "<div>\n",
       "<style>\n",
       "    .dataframe thead tr:only-child th {\n",
       "        text-align: right;\n",
       "    }\n",
       "\n",
       "    .dataframe thead th {\n",
       "        text-align: left;\n",
       "    }\n",
       "\n",
       "    .dataframe tbody tr th {\n",
       "        vertical-align: top;\n",
       "    }\n",
       "</style>\n",
       "<table border=\"1\" class=\"dataframe\">\n",
       "  <thead>\n",
       "    <tr style=\"text-align: right;\">\n",
       "      <th></th>\n",
       "      <th>Row ID</th>\n",
       "      <th>Order ID</th>\n",
       "      <th>Order Date</th>\n",
       "      <th>Order Priority</th>\n",
       "      <th>Order Quantity</th>\n",
       "      <th>Sales</th>\n",
       "      <th>Discount</th>\n",
       "      <th>Ship Mode</th>\n",
       "      <th>Unit Price</th>\n",
       "      <th>Shipping Cost</th>\n",
       "      <th>Customer Name</th>\n",
       "      <th>Province</th>\n",
       "      <th>Region</th>\n",
       "      <th>Customer Segment</th>\n",
       "      <th>Product Category</th>\n",
       "      <th>Product Sub-Category</th>\n",
       "      <th>Product Name</th>\n",
       "      <th>Product Container</th>\n",
       "      <th>Product Base Margin</th>\n",
       "      <th>Ship Date</th>\n",
       "    </tr>\n",
       "  </thead>\n",
       "  <tbody>\n",
       "    <tr>\n",
       "      <th>0</th>\n",
       "      <td>1</td>\n",
       "      <td>3</td>\n",
       "      <td>2010-10-13</td>\n",
       "      <td>Low</td>\n",
       "      <td>6</td>\n",
       "      <td>261.5400</td>\n",
       "      <td>0.04</td>\n",
       "      <td>Regular Air</td>\n",
       "      <td>38.94</td>\n",
       "      <td>35.00</td>\n",
       "      <td>Muhammed MacIntyre</td>\n",
       "      <td>Nunavut</td>\n",
       "      <td>Nunavut</td>\n",
       "      <td>Small Business</td>\n",
       "      <td>Office Supplies</td>\n",
       "      <td>Storage &amp; Organization</td>\n",
       "      <td>Eldon Base for stackable storage shelf, platinum</td>\n",
       "      <td>Large Box</td>\n",
       "      <td>0.80</td>\n",
       "      <td>10/20/10</td>\n",
       "    </tr>\n",
       "    <tr>\n",
       "      <th>1</th>\n",
       "      <td>49</td>\n",
       "      <td>293</td>\n",
       "      <td>2012-10-01</td>\n",
       "      <td>High</td>\n",
       "      <td>49</td>\n",
       "      <td>10123.0200</td>\n",
       "      <td>0.07</td>\n",
       "      <td>Delivery Truck</td>\n",
       "      <td>208.16</td>\n",
       "      <td>68.02</td>\n",
       "      <td>Barry French</td>\n",
       "      <td>Nunavut</td>\n",
       "      <td>Nunavut</td>\n",
       "      <td>Consumer</td>\n",
       "      <td>Office Supplies</td>\n",
       "      <td>Appliances</td>\n",
       "      <td>1.7 Cubic Foot Compact \"Cube\" Office Refrigera...</td>\n",
       "      <td>Jumbo Drum</td>\n",
       "      <td>0.58</td>\n",
       "      <td>10/2/12</td>\n",
       "    </tr>\n",
       "    <tr>\n",
       "      <th>2</th>\n",
       "      <td>50</td>\n",
       "      <td>293</td>\n",
       "      <td>2012-10-01</td>\n",
       "      <td>High</td>\n",
       "      <td>27</td>\n",
       "      <td>244.5700</td>\n",
       "      <td>0.01</td>\n",
       "      <td>Regular Air</td>\n",
       "      <td>8.69</td>\n",
       "      <td>2.99</td>\n",
       "      <td>Barry French</td>\n",
       "      <td>Nunavut</td>\n",
       "      <td>Nunavut</td>\n",
       "      <td>Consumer</td>\n",
       "      <td>Office Supplies</td>\n",
       "      <td>Binders and Binder Accessories</td>\n",
       "      <td>Cardinal Slant-D¨ Ring Binder, Heavy Gauge Vinyl</td>\n",
       "      <td>Small Box</td>\n",
       "      <td>0.39</td>\n",
       "      <td>10/3/12</td>\n",
       "    </tr>\n",
       "    <tr>\n",
       "      <th>3</th>\n",
       "      <td>80</td>\n",
       "      <td>483</td>\n",
       "      <td>2011-07-10</td>\n",
       "      <td>High</td>\n",
       "      <td>30</td>\n",
       "      <td>4965.7595</td>\n",
       "      <td>0.08</td>\n",
       "      <td>Regular Air</td>\n",
       "      <td>195.99</td>\n",
       "      <td>3.99</td>\n",
       "      <td>Clay Rozendal</td>\n",
       "      <td>Nunavut</td>\n",
       "      <td>Nunavut</td>\n",
       "      <td>Corporate</td>\n",
       "      <td>Technology</td>\n",
       "      <td>Telephones and Communication</td>\n",
       "      <td>R380</td>\n",
       "      <td>Small Box</td>\n",
       "      <td>0.58</td>\n",
       "      <td>7/12/11</td>\n",
       "    </tr>\n",
       "    <tr>\n",
       "      <th>4</th>\n",
       "      <td>85</td>\n",
       "      <td>515</td>\n",
       "      <td>2010-08-28</td>\n",
       "      <td>Not Specified</td>\n",
       "      <td>19</td>\n",
       "      <td>394.2700</td>\n",
       "      <td>0.08</td>\n",
       "      <td>Regular Air</td>\n",
       "      <td>21.78</td>\n",
       "      <td>5.94</td>\n",
       "      <td>Carlos Soltero</td>\n",
       "      <td>Nunavut</td>\n",
       "      <td>Nunavut</td>\n",
       "      <td>Consumer</td>\n",
       "      <td>Office Supplies</td>\n",
       "      <td>Appliances</td>\n",
       "      <td>Holmes HEPA Air Purifier</td>\n",
       "      <td>Medium Box</td>\n",
       "      <td>0.50</td>\n",
       "      <td>8/30/10</td>\n",
       "    </tr>\n",
       "  </tbody>\n",
       "</table>\n",
       "</div>"
      ],
      "text/plain": [
       "   Row ID  Order ID Order Date Order Priority  Order Quantity       Sales  \\\n",
       "0       1         3 2010-10-13            Low               6    261.5400   \n",
       "1      49       293 2012-10-01           High              49  10123.0200   \n",
       "2      50       293 2012-10-01           High              27    244.5700   \n",
       "3      80       483 2011-07-10           High              30   4965.7595   \n",
       "4      85       515 2010-08-28  Not Specified              19    394.2700   \n",
       "\n",
       "   Discount       Ship Mode  Unit Price  Shipping Cost       Customer Name  \\\n",
       "0      0.04     Regular Air       38.94          35.00  Muhammed MacIntyre   \n",
       "1      0.07  Delivery Truck      208.16          68.02        Barry French   \n",
       "2      0.01     Regular Air        8.69           2.99        Barry French   \n",
       "3      0.08     Regular Air      195.99           3.99       Clay Rozendal   \n",
       "4      0.08     Regular Air       21.78           5.94      Carlos Soltero   \n",
       "\n",
       "  Province   Region Customer Segment Product Category  \\\n",
       "0  Nunavut  Nunavut   Small Business  Office Supplies   \n",
       "1  Nunavut  Nunavut         Consumer  Office Supplies   \n",
       "2  Nunavut  Nunavut         Consumer  Office Supplies   \n",
       "3  Nunavut  Nunavut        Corporate       Technology   \n",
       "4  Nunavut  Nunavut         Consumer  Office Supplies   \n",
       "\n",
       "             Product Sub-Category  \\\n",
       "0          Storage & Organization   \n",
       "1                      Appliances   \n",
       "2  Binders and Binder Accessories   \n",
       "3    Telephones and Communication   \n",
       "4                      Appliances   \n",
       "\n",
       "                                        Product Name Product Container  \\\n",
       "0   Eldon Base for stackable storage shelf, platinum         Large Box   \n",
       "1  1.7 Cubic Foot Compact \"Cube\" Office Refrigera...        Jumbo Drum   \n",
       "2   Cardinal Slant-D¨ Ring Binder, Heavy Gauge Vinyl         Small Box   \n",
       "3                                               R380         Small Box   \n",
       "4                           Holmes HEPA Air Purifier        Medium Box   \n",
       "\n",
       "   Product Base Margin Ship Date  \n",
       "0                 0.80  10/20/10  \n",
       "1                 0.58   10/2/12  \n",
       "2                 0.39   10/3/12  \n",
       "3                 0.58   7/12/11  \n",
       "4                 0.50   8/30/10  "
      ]
     },
     "execution_count": 7,
     "metadata": {},
     "output_type": "execute_result"
    }
   ],
   "source": [
    "stores = pd.read_csv(\"data_week4/SuperstoreSales.csv\", encoding=\"latin1\", parse_dates=[\"Order Date\"])\n",
    "stores.head()"
   ]
  },
  {
   "cell_type": "code",
   "execution_count": 8,
   "metadata": {
    "collapsed": true
   },
   "outputs": [],
   "source": [
    "#Q8: Create a pivot table to analyse sales regarding Customer Segments and product categories  \n",
    "# We are intersted by different indicators : number of sales, median and sum of sales \n",
    "# Hint : use one index, one column, one value and three aggfunc"
   ]
  },
  {
   "cell_type": "code",
   "execution_count": 9,
   "metadata": {
    "collapsed": true
   },
   "outputs": [],
   "source": [
    "#Q9: Plot 3 bar plots, one for each indicator (number of sales, median, sum)\n",
    "# Each graph will have three bars representing product categories for each customer segment "
   ]
  },
  {
   "cell_type": "code",
   "execution_count": null,
   "metadata": {
    "collapsed": true
   },
   "outputs": [],
   "source": []
  }
 ],
 "metadata": {
  "kernelspec": {
   "display_name": "Python 3",
   "language": "python",
   "name": "python3"
  },
  "language_info": {
   "codemirror_mode": {
    "name": "ipython",
    "version": 3
   },
   "file_extension": ".py",
   "mimetype": "text/x-python",
   "name": "python",
   "nbconvert_exporter": "python",
   "pygments_lexer": "ipython3",
   "version": "3.6.3"
  }
 },
 "nbformat": 4,
 "nbformat_minor": 2
}
