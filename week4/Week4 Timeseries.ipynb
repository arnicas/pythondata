{
 "cells": [
  {
   "cell_type": "markdown",
   "metadata": {},
   "source": [
    "# Working with Timeseries and Dates in Pandas<a name=\"_working with timeseries and dates in pandas\"></a>"
   ]
  },
  {
   "cell_type": "markdown",
   "metadata": {},
   "source": [
    "Excellent resources: \n",
    "\n",
    "* pandas docs on timeseries /date functionality: http://pandas.pydata.org/pandas-docs/stable/timeseries.html \n",
    "    \n",
    "* financial data in detail: http://nbviewer.jupyter.org/github/changhiskhan/talks/blob/master/pydata2012/pandas_timeseries.ipynb\n",
    "        "
   ]
  },
  {
   "cell_type": "code",
   "execution_count": 1,
   "metadata": {
    "collapsed": true
   },
   "outputs": [],
   "source": [
    "import pandas as pd\n",
    "import matplotlib.pyplot as plt\n",
    "import seaborn as sns\n",
    "import numpy as np\n",
    "%matplotlib inline\n",
    "\n",
    "import datetime\n",
    "\n"
   ]
  },
  {
   "cell_type": "markdown",
   "metadata": {},
   "source": [
    "## A DateTime Index column<a name=\"_a datetime index column\"></a>"
   ]
  },
  {
   "cell_type": "code",
   "execution_count": 3,
   "metadata": {},
   "outputs": [
    {
     "data": {
      "text/html": [
       "<div>\n",
       "<style>\n",
       "    .dataframe thead tr:only-child th {\n",
       "        text-align: right;\n",
       "    }\n",
       "\n",
       "    .dataframe thead th {\n",
       "        text-align: left;\n",
       "    }\n",
       "\n",
       "    .dataframe tbody tr th {\n",
       "        vertical-align: top;\n",
       "    }\n",
       "</style>\n",
       "<table border=\"1\" class=\"dataframe\">\n",
       "  <thead>\n",
       "    <tr style=\"text-align: right;\">\n",
       "      <th></th>\n",
       "      <th>Open</th>\n",
       "      <th>High</th>\n",
       "      <th>Low</th>\n",
       "      <th>Close</th>\n",
       "      <th>Volume</th>\n",
       "    </tr>\n",
       "    <tr>\n",
       "      <th>Date</th>\n",
       "      <th></th>\n",
       "      <th></th>\n",
       "      <th></th>\n",
       "      <th></th>\n",
       "      <th></th>\n",
       "    </tr>\n",
       "  </thead>\n",
       "  <tbody>\n",
       "    <tr>\n",
       "      <th>2010-01-04</th>\n",
       "      <td>313.16</td>\n",
       "      <td>314.44</td>\n",
       "      <td>311.81</td>\n",
       "      <td>313.06</td>\n",
       "      <td>NaN</td>\n",
       "    </tr>\n",
       "    <tr>\n",
       "      <th>2010-01-05</th>\n",
       "      <td>313.28</td>\n",
       "      <td>313.61</td>\n",
       "      <td>310.46</td>\n",
       "      <td>311.68</td>\n",
       "      <td>NaN</td>\n",
       "    </tr>\n",
       "    <tr>\n",
       "      <th>2010-01-06</th>\n",
       "      <td>312.62</td>\n",
       "      <td>312.62</td>\n",
       "      <td>302.88</td>\n",
       "      <td>303.83</td>\n",
       "      <td>NaN</td>\n",
       "    </tr>\n",
       "    <tr>\n",
       "      <th>2010-01-07</th>\n",
       "      <td>304.40</td>\n",
       "      <td>304.70</td>\n",
       "      <td>296.03</td>\n",
       "      <td>296.75</td>\n",
       "      <td>NaN</td>\n",
       "    </tr>\n",
       "    <tr>\n",
       "      <th>2010-01-08</th>\n",
       "      <td>295.70</td>\n",
       "      <td>301.32</td>\n",
       "      <td>294.26</td>\n",
       "      <td>300.71</td>\n",
       "      <td>NaN</td>\n",
       "    </tr>\n",
       "  </tbody>\n",
       "</table>\n",
       "</div>"
      ],
      "text/plain": [
       "              Open    High     Low   Close  Volume\n",
       "Date                                              \n",
       "2010-01-04  313.16  314.44  311.81  313.06     NaN\n",
       "2010-01-05  313.28  313.61  310.46  311.68     NaN\n",
       "2010-01-06  312.62  312.62  302.88  303.83     NaN\n",
       "2010-01-07  304.40  304.70  296.03  296.75     NaN\n",
       "2010-01-08  295.70  301.32  294.26  300.71     NaN"
      ]
     },
     "execution_count": 3,
     "metadata": {},
     "output_type": "execute_result"
    }
   ],
   "source": [
    "goog = pd.read_csv(\"data_week4/goog.csv\", index_col=\"Date\", parse_dates=True)\n",
    "goog.head()"
   ]
  },
  {
   "cell_type": "markdown",
   "metadata": {},
   "source": [
    "Some functions that work on dates include .day -- get the day of the month:"
   ]
  },
  {
   "cell_type": "code",
   "execution_count": 3,
   "metadata": {},
   "outputs": [
    {
     "data": {
      "text/plain": [
       "Int64Index([ 4,  5,  6,  7,  8, 11, 12, 13, 14, 15,\n",
       "            ...\n",
       "            17, 18, 19, 22, 23, 24, 26, 29, 30, 31],\n",
       "           dtype='int64', name='Date', length=1257)"
      ]
     },
     "execution_count": 3,
     "metadata": {},
     "output_type": "execute_result"
    }
   ],
   "source": [
    "goog.index.day"
   ]
  },
  {
   "cell_type": "markdown",
   "metadata": {},
   "source": [
    "Get the weekday -- what day of the week is it?"
   ]
  },
  {
   "cell_type": "code",
   "execution_count": 6,
   "metadata": {},
   "outputs": [
    {
     "data": {
      "text/plain": [
       "array([datetime.date(2010, 1, 4), datetime.date(2010, 1, 5),\n",
       "       datetime.date(2010, 1, 6), ..., datetime.date(2014, 12, 29),\n",
       "       datetime.date(2014, 12, 30), datetime.date(2014, 12, 31)], dtype=object)"
      ]
     },
     "execution_count": 6,
     "metadata": {},
     "output_type": "execute_result"
    }
   ],
   "source": [
    "#goog.index.weekday\n",
    "#goog.index.weekday_name\n",
    "goog.index.date"
   ]
  },
  {
   "cell_type": "markdown",
   "metadata": {},
   "source": [
    "The days of the week start with 0 for Monday."
   ]
  },
  {
   "cell_type": "markdown",
   "metadata": {},
   "source": [
    "Let's add the day of the week to the dataframe:"
   ]
  },
  {
   "cell_type": "code",
   "execution_count": 7,
   "metadata": {
    "collapsed": true
   },
   "outputs": [],
   "source": [
    "goog['Weekday'] = goog.index.weekday"
   ]
  },
  {
   "cell_type": "code",
   "execution_count": 8,
   "metadata": {},
   "outputs": [
    {
     "data": {
      "text/html": [
       "<div>\n",
       "<style>\n",
       "    .dataframe thead tr:only-child th {\n",
       "        text-align: right;\n",
       "    }\n",
       "\n",
       "    .dataframe thead th {\n",
       "        text-align: left;\n",
       "    }\n",
       "\n",
       "    .dataframe tbody tr th {\n",
       "        vertical-align: top;\n",
       "    }\n",
       "</style>\n",
       "<table border=\"1\" class=\"dataframe\">\n",
       "  <thead>\n",
       "    <tr style=\"text-align: right;\">\n",
       "      <th></th>\n",
       "      <th>Open</th>\n",
       "      <th>High</th>\n",
       "      <th>Low</th>\n",
       "      <th>Close</th>\n",
       "      <th>Volume</th>\n",
       "      <th>Weekday</th>\n",
       "    </tr>\n",
       "    <tr>\n",
       "      <th>Date</th>\n",
       "      <th></th>\n",
       "      <th></th>\n",
       "      <th></th>\n",
       "      <th></th>\n",
       "      <th></th>\n",
       "      <th></th>\n",
       "    </tr>\n",
       "  </thead>\n",
       "  <tbody>\n",
       "    <tr>\n",
       "      <th>2010-01-04</th>\n",
       "      <td>313.16</td>\n",
       "      <td>314.44</td>\n",
       "      <td>311.81</td>\n",
       "      <td>313.06</td>\n",
       "      <td>NaN</td>\n",
       "      <td>0</td>\n",
       "    </tr>\n",
       "    <tr>\n",
       "      <th>2010-01-05</th>\n",
       "      <td>313.28</td>\n",
       "      <td>313.61</td>\n",
       "      <td>310.46</td>\n",
       "      <td>311.68</td>\n",
       "      <td>NaN</td>\n",
       "      <td>1</td>\n",
       "    </tr>\n",
       "    <tr>\n",
       "      <th>2010-01-06</th>\n",
       "      <td>312.62</td>\n",
       "      <td>312.62</td>\n",
       "      <td>302.88</td>\n",
       "      <td>303.83</td>\n",
       "      <td>NaN</td>\n",
       "      <td>2</td>\n",
       "    </tr>\n",
       "    <tr>\n",
       "      <th>2010-01-07</th>\n",
       "      <td>304.40</td>\n",
       "      <td>304.70</td>\n",
       "      <td>296.03</td>\n",
       "      <td>296.75</td>\n",
       "      <td>NaN</td>\n",
       "      <td>3</td>\n",
       "    </tr>\n",
       "    <tr>\n",
       "      <th>2010-01-08</th>\n",
       "      <td>295.70</td>\n",
       "      <td>301.32</td>\n",
       "      <td>294.26</td>\n",
       "      <td>300.71</td>\n",
       "      <td>NaN</td>\n",
       "      <td>4</td>\n",
       "    </tr>\n",
       "  </tbody>\n",
       "</table>\n",
       "</div>"
      ],
      "text/plain": [
       "              Open    High     Low   Close  Volume  Weekday\n",
       "Date                                                       \n",
       "2010-01-04  313.16  314.44  311.81  313.06     NaN        0\n",
       "2010-01-05  313.28  313.61  310.46  311.68     NaN        1\n",
       "2010-01-06  312.62  312.62  302.88  303.83     NaN        2\n",
       "2010-01-07  304.40  304.70  296.03  296.75     NaN        3\n",
       "2010-01-08  295.70  301.32  294.26  300.71     NaN        4"
      ]
     },
     "execution_count": 8,
     "metadata": {},
     "output_type": "execute_result"
    }
   ],
   "source": [
    "goog.head()"
   ]
  },
  {
   "cell_type": "markdown",
   "metadata": {},
   "source": [
    "What do you notice -- It's only weekdays in here, because those are trading days!  No need to do any cleaning, then."
   ]
  },
  {
   "cell_type": "markdown",
   "metadata": {},
   "source": [
    "## A non-index DateTime column<a name=\"_a non-index datetime column\"></a>"
   ]
  },
  {
   "cell_type": "markdown",
   "metadata": {},
   "source": [
    "Let's also duplicate the index column as a regular column, so you see how that works too:"
   ]
  },
  {
   "cell_type": "code",
   "execution_count": 9,
   "metadata": {
    "collapsed": true
   },
   "outputs": [],
   "source": [
    "goog['date copy'] = goog.index"
   ]
  },
  {
   "cell_type": "code",
   "execution_count": 10,
   "metadata": {},
   "outputs": [
    {
     "data": {
      "text/html": [
       "<div>\n",
       "<style>\n",
       "    .dataframe thead tr:only-child th {\n",
       "        text-align: right;\n",
       "    }\n",
       "\n",
       "    .dataframe thead th {\n",
       "        text-align: left;\n",
       "    }\n",
       "\n",
       "    .dataframe tbody tr th {\n",
       "        vertical-align: top;\n",
       "    }\n",
       "</style>\n",
       "<table border=\"1\" class=\"dataframe\">\n",
       "  <thead>\n",
       "    <tr style=\"text-align: right;\">\n",
       "      <th></th>\n",
       "      <th>Open</th>\n",
       "      <th>High</th>\n",
       "      <th>Low</th>\n",
       "      <th>Close</th>\n",
       "      <th>Volume</th>\n",
       "      <th>Weekday</th>\n",
       "      <th>date copy</th>\n",
       "    </tr>\n",
       "    <tr>\n",
       "      <th>Date</th>\n",
       "      <th></th>\n",
       "      <th></th>\n",
       "      <th></th>\n",
       "      <th></th>\n",
       "      <th></th>\n",
       "      <th></th>\n",
       "      <th></th>\n",
       "    </tr>\n",
       "  </thead>\n",
       "  <tbody>\n",
       "    <tr>\n",
       "      <th>2010-01-04</th>\n",
       "      <td>313.16</td>\n",
       "      <td>314.44</td>\n",
       "      <td>311.81</td>\n",
       "      <td>313.06</td>\n",
       "      <td>NaN</td>\n",
       "      <td>0</td>\n",
       "      <td>2010-01-04</td>\n",
       "    </tr>\n",
       "    <tr>\n",
       "      <th>2010-01-05</th>\n",
       "      <td>313.28</td>\n",
       "      <td>313.61</td>\n",
       "      <td>310.46</td>\n",
       "      <td>311.68</td>\n",
       "      <td>NaN</td>\n",
       "      <td>1</td>\n",
       "      <td>2010-01-05</td>\n",
       "    </tr>\n",
       "    <tr>\n",
       "      <th>2010-01-06</th>\n",
       "      <td>312.62</td>\n",
       "      <td>312.62</td>\n",
       "      <td>302.88</td>\n",
       "      <td>303.83</td>\n",
       "      <td>NaN</td>\n",
       "      <td>2</td>\n",
       "      <td>2010-01-06</td>\n",
       "    </tr>\n",
       "    <tr>\n",
       "      <th>2010-01-07</th>\n",
       "      <td>304.40</td>\n",
       "      <td>304.70</td>\n",
       "      <td>296.03</td>\n",
       "      <td>296.75</td>\n",
       "      <td>NaN</td>\n",
       "      <td>3</td>\n",
       "      <td>2010-01-07</td>\n",
       "    </tr>\n",
       "    <tr>\n",
       "      <th>2010-01-08</th>\n",
       "      <td>295.70</td>\n",
       "      <td>301.32</td>\n",
       "      <td>294.26</td>\n",
       "      <td>300.71</td>\n",
       "      <td>NaN</td>\n",
       "      <td>4</td>\n",
       "      <td>2010-01-08</td>\n",
       "    </tr>\n",
       "  </tbody>\n",
       "</table>\n",
       "</div>"
      ],
      "text/plain": [
       "              Open    High     Low   Close  Volume  Weekday  date copy\n",
       "Date                                                                  \n",
       "2010-01-04  313.16  314.44  311.81  313.06     NaN        0 2010-01-04\n",
       "2010-01-05  313.28  313.61  310.46  311.68     NaN        1 2010-01-05\n",
       "2010-01-06  312.62  312.62  302.88  303.83     NaN        2 2010-01-06\n",
       "2010-01-07  304.40  304.70  296.03  296.75     NaN        3 2010-01-07\n",
       "2010-01-08  295.70  301.32  294.26  300.71     NaN        4 2010-01-08"
      ]
     },
     "execution_count": 10,
     "metadata": {},
     "output_type": "execute_result"
    }
   ],
   "source": [
    "goog.head()"
   ]
  },
  {
   "cell_type": "code",
   "execution_count": 11,
   "metadata": {},
   "outputs": [
    {
     "data": {
      "text/plain": [
       "Open                float64\n",
       "High                float64\n",
       "Low                 float64\n",
       "Close               float64\n",
       "Volume              float64\n",
       "Weekday               int64\n",
       "date copy    datetime64[ns]\n",
       "dtype: object"
      ]
     },
     "execution_count": 11,
     "metadata": {},
     "output_type": "execute_result"
    }
   ],
   "source": [
    "goog.dtypes"
   ]
  },
  {
   "cell_type": "code",
   "execution_count": 12,
   "metadata": {},
   "outputs": [
    {
     "data": {
      "text/plain": [
       "Date\n",
       "2010-01-04       Monday\n",
       "2010-01-05      Tuesday\n",
       "2010-01-06    Wednesday\n",
       "2010-01-07     Thursday\n",
       "2010-01-08       Friday\n",
       "Name: date copy, dtype: object"
      ]
     },
     "execution_count": 12,
     "metadata": {},
     "output_type": "execute_result"
    }
   ],
   "source": [
    "# Like str -- you need .dt if you're not dealing with an index datetime obj\n",
    "goog['date copy'].dt.weekday_name.head()"
   ]
  },
  {
   "cell_type": "markdown",
   "metadata": {},
   "source": [
    "For all the time-date components you can access, here is the doc: http://pandas.pydata.org/pandas-docs/stable/timeseries.html#time-date-components"
   ]
  },
  {
   "cell_type": "markdown",
   "metadata": {},
   "source": [
    "## Practice with Groupby, using datetimes<a name=\"_practice with groupby, using datetimes\"></a>"
   ]
  },
  {
   "cell_type": "code",
   "execution_count": 13,
   "metadata": {},
   "outputs": [
    {
     "data": {
      "text/plain": [
       "Int64Index([ 1,  1,  1,  1,  1,  1,  1,  1,  1,  1,\n",
       "            ...\n",
       "            12, 12, 12, 12, 12, 12, 12, 12, 12, 12],\n",
       "           dtype='int64', name='Date', length=1257)"
      ]
     },
     "execution_count": 13,
     "metadata": {},
     "output_type": "execute_result"
    }
   ],
   "source": [
    "goog.index.month"
   ]
  },
  {
   "cell_type": "code",
   "execution_count": 14,
   "metadata": {},
   "outputs": [
    {
     "data": {
      "text/plain": [
       "<matplotlib.axes._subplots.AxesSubplot at 0x1ff8ce9d7f0>"
      ]
     },
     "execution_count": 14,
     "metadata": {},
     "output_type": "execute_result"
    },
    {
     "data": {
      "image/png": "[encoded data removed]",
      "text/plain": [
       "<matplotlib.figure.Figure at 0x1ff8ce5e908>"
      ]
     },
     "metadata": {},
     "output_type": "display_data"
    }
   ],
   "source": [
    "#We can group by months, or weekdays, and plot:\n",
    "    \n",
    "goog.groupby(goog.index.month).aggregate(np.mean)['High'].plot(figsize = (20,10))"
   ]
  },
  {
   "cell_type": "markdown",
   "metadata": {},
   "source": [
    "## Partial String Indexing for Dates<a name=\"_partial string indexing for dates\"></a>"
   ]
  },
  {
   "cell_type": "markdown",
   "metadata": {},
   "source": [
    "You can use strings to partially match against the index.  See more docs here: 1st semester - 30 credits ECTS\n",
    "http://pandas.pydata.org/pandas-docs/stable/timeseries.html#datetimeindex-partial-string-indexing"
   ]
  },
  {
   "cell_type": "code",
   "execution_count": 15,
   "metadata": {},
   "outputs": [
    {
     "data": {
      "text/html": [
       "<div>\n",
       "<style>\n",
       "    .dataframe thead tr:only-child th {\n",
       "        text-align: right;\n",
       "    }\n",
       "\n",
       "    .dataframe thead th {\n",
       "        text-align: left;\n",
       "    }\n",
       "\n",
       "    .dataframe tbody tr th {\n",
       "        vertical-align: top;\n",
       "    }\n",
       "</style>\n",
       "<table border=\"1\" class=\"dataframe\">\n",
       "  <thead>\n",
       "    <tr style=\"text-align: right;\">\n",
       "      <th></th>\n",
       "      <th>Open</th>\n",
       "      <th>High</th>\n",
       "      <th>Low</th>\n",
       "      <th>Close</th>\n",
       "      <th>Volume</th>\n",
       "      <th>Weekday</th>\n",
       "      <th>date copy</th>\n",
       "    </tr>\n",
       "    <tr>\n",
       "      <th>Date</th>\n",
       "      <th></th>\n",
       "      <th></th>\n",
       "      <th></th>\n",
       "      <th></th>\n",
       "      <th></th>\n",
       "      <th></th>\n",
       "      <th></th>\n",
       "    </tr>\n",
       "  </thead>\n",
       "  <tbody>\n",
       "    <tr>\n",
       "      <th>2012-01-03</th>\n",
       "      <td>326.14</td>\n",
       "      <td>333.74</td>\n",
       "      <td>325.86</td>\n",
       "      <td>332.37</td>\n",
       "      <td>NaN</td>\n",
       "      <td>1</td>\n",
       "      <td>2012-01-03</td>\n",
       "    </tr>\n",
       "    <tr>\n",
       "      <th>2012-01-04</th>\n",
       "      <td>332.18</td>\n",
       "      <td>334.79</td>\n",
       "      <td>329.98</td>\n",
       "      <td>333.81</td>\n",
       "      <td>NaN</td>\n",
       "      <td>2</td>\n",
       "      <td>2012-01-04</td>\n",
       "    </tr>\n",
       "    <tr>\n",
       "      <th>2012-01-05</th>\n",
       "      <td>330.73</td>\n",
       "      <td>331.65</td>\n",
       "      <td>327.79</td>\n",
       "      <td>329.18</td>\n",
       "      <td>NaN</td>\n",
       "      <td>3</td>\n",
       "      <td>2012-01-05</td>\n",
       "    </tr>\n",
       "    <tr>\n",
       "      <th>2012-01-06</th>\n",
       "      <td>329.25</td>\n",
       "      <td>329.67</td>\n",
       "      <td>324.57</td>\n",
       "      <td>324.68</td>\n",
       "      <td>NaN</td>\n",
       "      <td>4</td>\n",
       "      <td>2012-01-06</td>\n",
       "    </tr>\n",
       "    <tr>\n",
       "      <th>2012-01-09</th>\n",
       "      <td>322.93</td>\n",
       "      <td>323.18</td>\n",
       "      <td>310.30</td>\n",
       "      <td>310.92</td>\n",
       "      <td>NaN</td>\n",
       "      <td>0</td>\n",
       "      <td>2012-01-09</td>\n",
       "    </tr>\n",
       "    <tr>\n",
       "      <th>2012-01-10</th>\n",
       "      <td>314.56</td>\n",
       "      <td>316.58</td>\n",
       "      <td>308.15</td>\n",
       "      <td>311.26</td>\n",
       "      <td>NaN</td>\n",
       "      <td>1</td>\n",
       "      <td>2012-01-10</td>\n",
       "    </tr>\n",
       "    <tr>\n",
       "      <th>2012-01-11</th>\n",
       "      <td>311.44</td>\n",
       "      <td>314.38</td>\n",
       "      <td>310.25</td>\n",
       "      <td>312.67</td>\n",
       "      <td>NaN</td>\n",
       "      <td>2</td>\n",
       "      <td>2012-01-11</td>\n",
       "    </tr>\n",
       "    <tr>\n",
       "      <th>2012-01-12</th>\n",
       "      <td>315.29</td>\n",
       "      <td>316.13</td>\n",
       "      <td>312.94</td>\n",
       "      <td>314.51</td>\n",
       "      <td>NaN</td>\n",
       "      <td>3</td>\n",
       "      <td>2012-01-12</td>\n",
       "    </tr>\n",
       "    <tr>\n",
       "      <th>2012-01-13</th>\n",
       "      <td>312.82</td>\n",
       "      <td>313.16</td>\n",
       "      <td>310.22</td>\n",
       "      <td>312.18</td>\n",
       "      <td>NaN</td>\n",
       "      <td>4</td>\n",
       "      <td>2012-01-13</td>\n",
       "    </tr>\n",
       "    <tr>\n",
       "      <th>2012-01-17</th>\n",
       "      <td>315.67</td>\n",
       "      <td>315.67</td>\n",
       "      <td>312.53</td>\n",
       "      <td>313.98</td>\n",
       "      <td>NaN</td>\n",
       "      <td>1</td>\n",
       "      <td>2012-01-17</td>\n",
       "    </tr>\n",
       "    <tr>\n",
       "      <th>2012-01-18</th>\n",
       "      <td>313.00</td>\n",
       "      <td>316.68</td>\n",
       "      <td>310.75</td>\n",
       "      <td>316.14</td>\n",
       "      <td>NaN</td>\n",
       "      <td>2</td>\n",
       "      <td>2012-01-18</td>\n",
       "    </tr>\n",
       "    <tr>\n",
       "      <th>2012-01-19</th>\n",
       "      <td>320.17</td>\n",
       "      <td>320.17</td>\n",
       "      <td>315.41</td>\n",
       "      <td>319.47</td>\n",
       "      <td>NaN</td>\n",
       "      <td>3</td>\n",
       "      <td>2012-01-19</td>\n",
       "    </tr>\n",
       "    <tr>\n",
       "      <th>2012-01-20</th>\n",
       "      <td>294.97</td>\n",
       "      <td>295.20</td>\n",
       "      <td>290.56</td>\n",
       "      <td>292.70</td>\n",
       "      <td>NaN</td>\n",
       "      <td>4</td>\n",
       "      <td>2012-01-20</td>\n",
       "    </tr>\n",
       "    <tr>\n",
       "      <th>2012-01-23</th>\n",
       "      <td>292.71</td>\n",
       "      <td>294.04</td>\n",
       "      <td>291.29</td>\n",
       "      <td>292.47</td>\n",
       "      <td>NaN</td>\n",
       "      <td>0</td>\n",
       "      <td>2012-01-23</td>\n",
       "    </tr>\n",
       "    <tr>\n",
       "      <th>2012-01-24</th>\n",
       "      <td>292.87</td>\n",
       "      <td>293.55</td>\n",
       "      <td>288.71</td>\n",
       "      <td>290.17</td>\n",
       "      <td>NaN</td>\n",
       "      <td>1</td>\n",
       "      <td>2012-01-24</td>\n",
       "    </tr>\n",
       "    <tr>\n",
       "      <th>2012-01-25</th>\n",
       "      <td>288.47</td>\n",
       "      <td>289.07</td>\n",
       "      <td>282.91</td>\n",
       "      <td>284.46</td>\n",
       "      <td>NaN</td>\n",
       "      <td>2</td>\n",
       "      <td>2012-01-25</td>\n",
       "    </tr>\n",
       "    <tr>\n",
       "      <th>2012-01-26</th>\n",
       "      <td>285.70</td>\n",
       "      <td>286.95</td>\n",
       "      <td>281.99</td>\n",
       "      <td>283.77</td>\n",
       "      <td>NaN</td>\n",
       "      <td>3</td>\n",
       "      <td>2012-01-26</td>\n",
       "    </tr>\n",
       "    <tr>\n",
       "      <th>2012-01-27</th>\n",
       "      <td>285.10</td>\n",
       "      <td>289.87</td>\n",
       "      <td>284.38</td>\n",
       "      <td>289.70</td>\n",
       "      <td>NaN</td>\n",
       "      <td>4</td>\n",
       "      <td>2012-01-27</td>\n",
       "    </tr>\n",
       "    <tr>\n",
       "      <th>2012-01-30</th>\n",
       "      <td>288.74</td>\n",
       "      <td>289.71</td>\n",
       "      <td>286.41</td>\n",
       "      <td>288.56</td>\n",
       "      <td>NaN</td>\n",
       "      <td>0</td>\n",
       "      <td>2012-01-30</td>\n",
       "    </tr>\n",
       "    <tr>\n",
       "      <th>2012-01-31</th>\n",
       "      <td>291.21</td>\n",
       "      <td>291.71</td>\n",
       "      <td>287.29</td>\n",
       "      <td>289.76</td>\n",
       "      <td>NaN</td>\n",
       "      <td>1</td>\n",
       "      <td>2012-01-31</td>\n",
       "    </tr>\n",
       "  </tbody>\n",
       "</table>\n",
       "</div>"
      ],
      "text/plain": [
       "              Open    High     Low   Close  Volume  Weekday  date copy\n",
       "Date                                                                  \n",
       "2012-01-03  326.14  333.74  325.86  332.37     NaN        1 2012-01-03\n",
       "2012-01-04  332.18  334.79  329.98  333.81     NaN        2 2012-01-04\n",
       "2012-01-05  330.73  331.65  327.79  329.18     NaN        3 2012-01-05\n",
       "2012-01-06  329.25  329.67  324.57  324.68     NaN        4 2012-01-06\n",
       "2012-01-09  322.93  323.18  310.30  310.92     NaN        0 2012-01-09\n",
       "2012-01-10  314.56  316.58  308.15  311.26     NaN        1 2012-01-10\n",
       "2012-01-11  311.44  314.38  310.25  312.67     NaN        2 2012-01-11\n",
       "2012-01-12  315.29  316.13  312.94  314.51     NaN        3 2012-01-12\n",
       "2012-01-13  312.82  313.16  310.22  312.18     NaN        4 2012-01-13\n",
       "2012-01-17  315.67  315.67  312.53  313.98     NaN        1 2012-01-17\n",
       "2012-01-18  313.00  316.68  310.75  316.14     NaN        2 2012-01-18\n",
       "2012-01-19  320.17  320.17  315.41  319.47     NaN        3 2012-01-19\n",
       "2012-01-20  294.97  295.20  290.56  292.70     NaN        4 2012-01-20\n",
       "2012-01-23  292.71  294.04  291.29  292.47     NaN        0 2012-01-23\n",
       "2012-01-24  292.87  293.55  288.71  290.17     NaN        1 2012-01-24\n",
       "2012-01-25  288.47  289.07  282.91  284.46     NaN        2 2012-01-25\n",
       "2012-01-26  285.70  286.95  281.99  283.77     NaN        3 2012-01-26\n",
       "2012-01-27  285.10  289.87  284.38  289.70     NaN        4 2012-01-27\n",
       "2012-01-30  288.74  289.71  286.41  288.56     NaN        0 2012-01-30\n",
       "2012-01-31  291.21  291.71  287.29  289.76     NaN        1 2012-01-31"
      ]
     },
     "execution_count": 15,
     "metadata": {},
     "output_type": "execute_result"
    }
   ],
   "source": [
    "goog.loc['2012-01']  # or shorthand goog['2012-01']"
   ]
  },
  {
   "cell_type": "markdown",
   "metadata": {},
   "source": [
    "Let's use this to slice and plot a part of the data around the max time, which we know is 2014-04-02:"
   ]
  },
  {
   "cell_type": "code",
   "execution_count": 16,
   "metadata": {},
   "outputs": [
    {
     "data": {
      "text/html": [
       "<div>\n",
       "<style>\n",
       "    .dataframe thead tr:only-child th {\n",
       "        text-align: right;\n",
       "    }\n",
       "\n",
       "    .dataframe thead th {\n",
       "        text-align: left;\n",
       "    }\n",
       "\n",
       "    .dataframe tbody tr th {\n",
       "        vertical-align: top;\n",
       "    }\n",
       "</style>\n",
       "<table border=\"1\" class=\"dataframe\">\n",
       "  <thead>\n",
       "    <tr style=\"text-align: right;\">\n",
       "      <th></th>\n",
       "      <th>Open</th>\n",
       "      <th>High</th>\n",
       "      <th>Low</th>\n",
       "      <th>Close</th>\n",
       "      <th>Volume</th>\n",
       "      <th>Weekday</th>\n",
       "      <th>date copy</th>\n",
       "    </tr>\n",
       "    <tr>\n",
       "      <th>Date</th>\n",
       "      <th></th>\n",
       "      <th></th>\n",
       "      <th></th>\n",
       "      <th></th>\n",
       "      <th></th>\n",
       "      <th></th>\n",
       "      <th></th>\n",
       "    </tr>\n",
       "  </thead>\n",
       "  <tbody>\n",
       "    <tr>\n",
       "      <th>2014-03-25</th>\n",
       "      <td>582.42</td>\n",
       "      <td>584.34</td>\n",
       "      <td>572.93</td>\n",
       "      <td>578.78</td>\n",
       "      <td>NaN</td>\n",
       "      <td>1</td>\n",
       "      <td>2014-03-25</td>\n",
       "    </tr>\n",
       "    <tr>\n",
       "      <th>2014-03-26</th>\n",
       "      <td>580.42</td>\n",
       "      <td>585.20</td>\n",
       "      <td>565.18</td>\n",
       "      <td>565.42</td>\n",
       "      <td>NaN</td>\n",
       "      <td>2</td>\n",
       "      <td>2014-03-26</td>\n",
       "    </tr>\n",
       "    <tr>\n",
       "      <th>2014-03-27</th>\n",
       "      <td>564.86</td>\n",
       "      <td>565.40</td>\n",
       "      <td>550.50</td>\n",
       "      <td>556.58</td>\n",
       "      <td>3826676.0</td>\n",
       "      <td>3</td>\n",
       "      <td>2014-03-27</td>\n",
       "    </tr>\n",
       "    <tr>\n",
       "      <th>2014-03-28</th>\n",
       "      <td>558.94</td>\n",
       "      <td>566.03</td>\n",
       "      <td>558.33</td>\n",
       "      <td>559.51</td>\n",
       "      <td>2258918.0</td>\n",
       "      <td>4</td>\n",
       "      <td>2014-03-28</td>\n",
       "    </tr>\n",
       "    <tr>\n",
       "      <th>2014-03-31</th>\n",
       "      <td>564.63</td>\n",
       "      <td>566.93</td>\n",
       "      <td>555.87</td>\n",
       "      <td>556.70</td>\n",
       "      <td>1942277.0</td>\n",
       "      <td>0</td>\n",
       "      <td>2014-03-31</td>\n",
       "    </tr>\n",
       "    <tr>\n",
       "      <th>2014-04-01</th>\n",
       "      <td>559.57</td>\n",
       "      <td>568.18</td>\n",
       "      <td>558.44</td>\n",
       "      <td>566.88</td>\n",
       "      <td>2182626.0</td>\n",
       "      <td>1</td>\n",
       "      <td>2014-04-01</td>\n",
       "    </tr>\n",
       "    <tr>\n",
       "      <th>2014-04-02</th>\n",
       "      <td>282.43</td>\n",
       "      <td>571.83</td>\n",
       "      <td>561.44</td>\n",
       "      <td>566.98</td>\n",
       "      <td>2088804.0</td>\n",
       "      <td>2</td>\n",
       "      <td>2014-04-02</td>\n",
       "    </tr>\n",
       "    <tr>\n",
       "      <th>2014-04-03</th>\n",
       "      <td>569.85</td>\n",
       "      <td>587.28</td>\n",
       "      <td>564.13</td>\n",
       "      <td>569.74</td>\n",
       "      <td>5087530.0</td>\n",
       "      <td>3</td>\n",
       "      <td>2014-04-03</td>\n",
       "    </tr>\n",
       "    <tr>\n",
       "      <th>2014-04-04</th>\n",
       "      <td>574.65</td>\n",
       "      <td>577.77</td>\n",
       "      <td>543.00</td>\n",
       "      <td>543.14</td>\n",
       "      <td>6377658.0</td>\n",
       "      <td>4</td>\n",
       "      <td>2014-04-04</td>\n",
       "    </tr>\n",
       "    <tr>\n",
       "      <th>2014-04-07</th>\n",
       "      <td>540.74</td>\n",
       "      <td>548.48</td>\n",
       "      <td>527.15</td>\n",
       "      <td>538.15</td>\n",
       "      <td>4389569.0</td>\n",
       "      <td>0</td>\n",
       "      <td>2014-04-07</td>\n",
       "    </tr>\n",
       "    <tr>\n",
       "      <th>2014-04-08</th>\n",
       "      <td>542.60</td>\n",
       "      <td>555.00</td>\n",
       "      <td>541.61</td>\n",
       "      <td>554.90</td>\n",
       "      <td>3152406.0</td>\n",
       "      <td>1</td>\n",
       "      <td>2014-04-08</td>\n",
       "    </tr>\n",
       "    <tr>\n",
       "      <th>2014-04-09</th>\n",
       "      <td>559.62</td>\n",
       "      <td>565.37</td>\n",
       "      <td>552.95</td>\n",
       "      <td>564.14</td>\n",
       "      <td>3324742.0</td>\n",
       "      <td>2</td>\n",
       "      <td>2014-04-09</td>\n",
       "    </tr>\n",
       "    <tr>\n",
       "      <th>2014-04-10</th>\n",
       "      <td>565.00</td>\n",
       "      <td>565.00</td>\n",
       "      <td>539.90</td>\n",
       "      <td>540.95</td>\n",
       "      <td>4027743.0</td>\n",
       "      <td>3</td>\n",
       "      <td>2014-04-10</td>\n",
       "    </tr>\n",
       "  </tbody>\n",
       "</table>\n",
       "</div>"
      ],
      "text/plain": [
       "              Open    High     Low   Close     Volume  Weekday  date copy\n",
       "Date                                                                     \n",
       "2014-03-25  582.42  584.34  572.93  578.78        NaN        1 2014-03-25\n",
       "2014-03-26  580.42  585.20  565.18  565.42        NaN        2 2014-03-26\n",
       "2014-03-27  564.86  565.40  550.50  556.58  3826676.0        3 2014-03-27\n",
       "2014-03-28  558.94  566.03  558.33  559.51  2258918.0        4 2014-03-28\n",
       "2014-03-31  564.63  566.93  555.87  556.70  1942277.0        0 2014-03-31\n",
       "2014-04-01  559.57  568.18  558.44  566.88  2182626.0        1 2014-04-01\n",
       "2014-04-02  282.43  571.83  561.44  566.98  2088804.0        2 2014-04-02\n",
       "2014-04-03  569.85  587.28  564.13  569.74  5087530.0        3 2014-04-03\n",
       "2014-04-04  574.65  577.77  543.00  543.14  6377658.0        4 2014-04-04\n",
       "2014-04-07  540.74  548.48  527.15  538.15  4389569.0        0 2014-04-07\n",
       "2014-04-08  542.60  555.00  541.61  554.90  3152406.0        1 2014-04-08\n",
       "2014-04-09  559.62  565.37  552.95  564.14  3324742.0        2 2014-04-09\n",
       "2014-04-10  565.00  565.00  539.90  540.95  4027743.0        3 2014-04-10"
      ]
     },
     "execution_count": 16,
     "metadata": {},
     "output_type": "execute_result"
    }
   ],
   "source": [
    "goog['2014-03-25':'2014-04-10']"
   ]
  },
  {
   "cell_type": "code",
   "execution_count": 17,
   "metadata": {},
   "outputs": [
    {
     "data": {
      "text/plain": [
       "<matplotlib.axes._subplots.AxesSubplot at 0x1ff8ce5eb38>"
      ]
     },
     "execution_count": 17,
     "metadata": {},
     "output_type": "execute_result"
    },
    {
     "data": {
      "image/png": "[encoded data removed]",
      "text/plain": [
       "<matplotlib.figure.Figure at 0x1ff8cec1b70>"
      ]
     },
     "metadata": {},
     "output_type": "display_data"
    }
   ],
   "source": [
    "goog['2014-03-25':'2014-04-10']['High'].plot()"
   ]
  },
  {
   "cell_type": "markdown",
   "metadata": {},
   "source": [
    "## Resampling\n",
    "\n",
    "You can resample indexes https://pandas.pydata.org/pandas-docs/stable/generated/pandas.DataFrame.resample.html"
   ]
  },
  {
   "cell_type": "code",
   "execution_count": 18,
   "metadata": {},
   "outputs": [
    {
     "data": {
      "text/html": [
       "<div>\n",
       "<style>\n",
       "    .dataframe thead tr:only-child th {\n",
       "        text-align: right;\n",
       "    }\n",
       "\n",
       "    .dataframe thead th {\n",
       "        text-align: left;\n",
       "    }\n",
       "\n",
       "    .dataframe tbody tr th {\n",
       "        vertical-align: top;\n",
       "    }\n",
       "</style>\n",
       "<table border=\"1\" class=\"dataframe\">\n",
       "  <thead>\n",
       "    <tr style=\"text-align: right;\">\n",
       "      <th></th>\n",
       "      <th>Open</th>\n",
       "      <th>High</th>\n",
       "      <th>Low</th>\n",
       "      <th>Close</th>\n",
       "      <th>Volume</th>\n",
       "      <th>Weekday</th>\n",
       "    </tr>\n",
       "    <tr>\n",
       "      <th>Date</th>\n",
       "      <th></th>\n",
       "      <th></th>\n",
       "      <th></th>\n",
       "      <th></th>\n",
       "      <th></th>\n",
       "      <th></th>\n",
       "    </tr>\n",
       "  </thead>\n",
       "  <tbody>\n",
       "    <tr>\n",
       "      <th>2010-01-31</th>\n",
       "      <td>290.765789</td>\n",
       "      <td>292.974211</td>\n",
       "      <td>285.837895</td>\n",
       "      <td>289.011053</td>\n",
       "      <td>NaN</td>\n",
       "      <td>2.105263</td>\n",
       "    </tr>\n",
       "    <tr>\n",
       "      <th>2010-02-28</th>\n",
       "      <td>267.414737</td>\n",
       "      <td>269.458947</td>\n",
       "      <td>265.089474</td>\n",
       "      <td>267.178947</td>\n",
       "      <td>NaN</td>\n",
       "      <td>2.105263</td>\n",
       "    </tr>\n",
       "    <tr>\n",
       "      <th>2010-03-31</th>\n",
       "      <td>279.443913</td>\n",
       "      <td>282.456087</td>\n",
       "      <td>277.563913</td>\n",
       "      <td>280.235217</td>\n",
       "      <td>NaN</td>\n",
       "      <td>1.869565</td>\n",
       "    </tr>\n",
       "    <tr>\n",
       "      <th>2010-04-30</th>\n",
       "      <td>278.552000</td>\n",
       "      <td>280.795000</td>\n",
       "      <td>275.798500</td>\n",
       "      <td>277.958500</td>\n",
       "      <td>NaN</td>\n",
       "      <td>2.000000</td>\n",
       "    </tr>\n",
       "    <tr>\n",
       "      <th>2010-05-31</th>\n",
       "      <td>249.909500</td>\n",
       "      <td>252.699500</td>\n",
       "      <td>244.798500</td>\n",
       "      <td>248.417500</td>\n",
       "      <td>NaN</td>\n",
       "      <td>2.000000</td>\n",
       "    </tr>\n",
       "  </tbody>\n",
       "</table>\n",
       "</div>"
      ],
      "text/plain": [
       "                  Open        High         Low       Close  Volume   Weekday\n",
       "Date                                                                        \n",
       "2010-01-31  290.765789  292.974211  285.837895  289.011053     NaN  2.105263\n",
       "2010-02-28  267.414737  269.458947  265.089474  267.178947     NaN  2.105263\n",
       "2010-03-31  279.443913  282.456087  277.563913  280.235217     NaN  1.869565\n",
       "2010-04-30  278.552000  280.795000  275.798500  277.958500     NaN  2.000000\n",
       "2010-05-31  249.909500  252.699500  244.798500  248.417500     NaN  2.000000"
      ]
     },
     "execution_count": 18,
     "metadata": {},
     "output_type": "execute_result"
    }
   ],
   "source": [
    "goog.resample('1M').mean().head()\n",
    "#goog.resample('2M').mean().head()"
   ]
  },
  {
   "cell_type": "markdown",
   "metadata": {},
   "source": [
    "## Using Rolling Windows<a name=\"_using rolling windows\"></a>"
   ]
  },
  {
   "cell_type": "markdown",
   "metadata": {},
   "source": [
    "Suppose you want to smooth out a noisy timeseries plot. You can set a window size over which to smooth, and a function like mean, to calculate over that window.  This is also quite similar to resample.  Usually you can use that."
   ]
  },
  {
   "cell_type": "code",
   "execution_count": 19,
   "metadata": {},
   "outputs": [
    {
     "data": {
      "text/plain": [
       "<matplotlib.axes._subplots.AxesSubplot at 0x1ff8d3e2978>"
      ]
     },
     "execution_count": 19,
     "metadata": {},
     "output_type": "execute_result"
    },
    {
     "data": {
      "image/png": "[encoded data removed]",
      "text/plain": [
       "<matplotlib.figure.Figure at 0x1ff8d8fa860>"
      ]
     },
     "metadata": {},
     "output_type": "display_data"
    }
   ],
   "source": [
    "# You can see a lot of jagged edges in here - that's daily small variation noise.  But the rough curve is clear.\n",
    "goog['High'].plot(figsize=(20,10))"
   ]
  },
  {
   "cell_type": "code",
   "execution_count": 24,
   "metadata": {},
   "outputs": [
    {
     "data": {
      "text/plain": [
       "<matplotlib.axes._subplots.AxesSubplot at 0x1ff8df21860>"
      ]
     },
     "execution_count": 24,
     "metadata": {},
     "output_type": "execute_result"
    },
    {
     "data": {
      "image/png": "[encoded data removed]",
      "text/plain": [
       "<matplotlib.figure.Figure at 0x1ff8dc4a400>"
      ]
     },
     "metadata": {},
     "output_type": "display_data"
    }
   ],
   "source": [
    "# this is a 30 day window.\n",
    "goog['High'].rolling(window=10).mean().plot(figsize=(20,10))"
   ]
  },
  {
   "cell_type": "markdown",
   "metadata": {},
   "source": [
    "## Date Conversions and Formatting<a name=\"_date conversions and formatting\"></a>"
   ]
  },
  {
   "cell_type": "markdown",
   "metadata": {},
   "source": [
    "I downloaded this data from here: http://www.nasdaq.com/symbol/aapl/interactive-chart?timeframe=5d"
   ]
  },
  {
   "cell_type": "code",
   "execution_count": 29,
   "metadata": {
    "collapsed": true
   },
   "outputs": [],
   "source": [
    "apple = pd.read_csv(\"data_week4/apple_jan2017.csv\")"
   ]
  },
  {
   "cell_type": "code",
   "execution_count": 30,
   "metadata": {},
   "outputs": [
    {
     "data": {
      "text/html": [
       "<div>\n",
       "<style>\n",
       "    .dataframe thead tr:only-child th {\n",
       "        text-align: right;\n",
       "    }\n",
       "\n",
       "    .dataframe thead th {\n",
       "        text-align: left;\n",
       "    }\n",
       "\n",
       "    .dataframe tbody tr th {\n",
       "        vertical-align: top;\n",
       "    }\n",
       "</style>\n",
       "<table border=\"1\" class=\"dataframe\">\n",
       "  <thead>\n",
       "    <tr style=\"text-align: right;\">\n",
       "      <th></th>\n",
       "      <th>Date</th>\n",
       "      <th>Open</th>\n",
       "      <th>High</th>\n",
       "      <th>Low</th>\n",
       "      <th>Close</th>\n",
       "      <th>Volume</th>\n",
       "    </tr>\n",
       "  </thead>\n",
       "  <tbody>\n",
       "    <tr>\n",
       "      <th>0</th>\n",
       "      <td>2017-01-23 09-30</td>\n",
       "      <td>119.93</td>\n",
       "      <td>119.93</td>\n",
       "      <td>119.93</td>\n",
       "      <td>119.93</td>\n",
       "      <td>148142.0</td>\n",
       "    </tr>\n",
       "    <tr>\n",
       "      <th>1</th>\n",
       "      <td>2017-01-23 09-31</td>\n",
       "      <td>120.23</td>\n",
       "      <td>120.23</td>\n",
       "      <td>120.23</td>\n",
       "      <td>120.23</td>\n",
       "      <td>1039374.0</td>\n",
       "    </tr>\n",
       "    <tr>\n",
       "      <th>2</th>\n",
       "      <td>2017-01-23 09-32</td>\n",
       "      <td>120.18</td>\n",
       "      <td>120.18</td>\n",
       "      <td>120.18</td>\n",
       "      <td>120.18</td>\n",
       "      <td>250078.0</td>\n",
       "    </tr>\n",
       "    <tr>\n",
       "      <th>3</th>\n",
       "      <td>2017-01-23 09-33</td>\n",
       "      <td>120.27</td>\n",
       "      <td>120.27</td>\n",
       "      <td>120.27</td>\n",
       "      <td>120.27</td>\n",
       "      <td>206714.0</td>\n",
       "    </tr>\n",
       "    <tr>\n",
       "      <th>4</th>\n",
       "      <td>2017-01-23 09-34</td>\n",
       "      <td>120.38</td>\n",
       "      <td>120.38</td>\n",
       "      <td>120.38</td>\n",
       "      <td>120.38</td>\n",
       "      <td>246886.0</td>\n",
       "    </tr>\n",
       "  </tbody>\n",
       "</table>\n",
       "</div>"
      ],
      "text/plain": [
       "               Date    Open    High     Low   Close     Volume\n",
       "0  2017-01-23 09-30  119.93  119.93  119.93  119.93   148142.0\n",
       "1  2017-01-23 09-31  120.23  120.23  120.23  120.23  1039374.0\n",
       "2  2017-01-23 09-32  120.18  120.18  120.18  120.18   250078.0\n",
       "3  2017-01-23 09-33  120.27  120.27  120.27  120.27   206714.0\n",
       "4  2017-01-23 09-34  120.38  120.38  120.38  120.38   246886.0"
      ]
     },
     "execution_count": 30,
     "metadata": {},
     "output_type": "execute_result"
    }
   ],
   "source": [
    "apple.head()"
   ]
  },
  {
   "cell_type": "code",
   "execution_count": 31,
   "metadata": {},
   "outputs": [
    {
     "data": {
      "text/html": [
       "<div>\n",
       "<style>\n",
       "    .dataframe thead tr:only-child th {\n",
       "        text-align: right;\n",
       "    }\n",
       "\n",
       "    .dataframe thead th {\n",
       "        text-align: left;\n",
       "    }\n",
       "\n",
       "    .dataframe tbody tr th {\n",
       "        vertical-align: top;\n",
       "    }\n",
       "</style>\n",
       "<table border=\"1\" class=\"dataframe\">\n",
       "  <thead>\n",
       "    <tr style=\"text-align: right;\">\n",
       "      <th></th>\n",
       "      <th>Date</th>\n",
       "      <th>Open</th>\n",
       "      <th>High</th>\n",
       "      <th>Low</th>\n",
       "      <th>Close</th>\n",
       "      <th>Volume</th>\n",
       "    </tr>\n",
       "  </thead>\n",
       "  <tbody>\n",
       "    <tr>\n",
       "      <th>2090</th>\n",
       "      <td>2017-01-27 19-49</td>\n",
       "      <td>121.49</td>\n",
       "      <td>121.49</td>\n",
       "      <td>121.49</td>\n",
       "      <td>121.49</td>\n",
       "      <td>28.0</td>\n",
       "    </tr>\n",
       "    <tr>\n",
       "      <th>2091</th>\n",
       "      <td>2017-01-27 19-53</td>\n",
       "      <td>121.48</td>\n",
       "      <td>121.48</td>\n",
       "      <td>121.48</td>\n",
       "      <td>121.48</td>\n",
       "      <td>876.0</td>\n",
       "    </tr>\n",
       "    <tr>\n",
       "      <th>2092</th>\n",
       "      <td>2017-01-27 19-56</td>\n",
       "      <td>121.42</td>\n",
       "      <td>121.42</td>\n",
       "      <td>121.42</td>\n",
       "      <td>121.42</td>\n",
       "      <td>976.0</td>\n",
       "    </tr>\n",
       "    <tr>\n",
       "      <th>2093</th>\n",
       "      <td>2017-01-27 19-59</td>\n",
       "      <td>121.55</td>\n",
       "      <td>121.55</td>\n",
       "      <td>121.55</td>\n",
       "      <td>121.55</td>\n",
       "      <td>200.0</td>\n",
       "    </tr>\n",
       "    <tr>\n",
       "      <th>2094</th>\n",
       "      <td>This document was made with Webix library. htt...</td>\n",
       "      <td>NaN</td>\n",
       "      <td>NaN</td>\n",
       "      <td>NaN</td>\n",
       "      <td>NaN</td>\n",
       "      <td>NaN</td>\n",
       "    </tr>\n",
       "  </tbody>\n",
       "</table>\n",
       "</div>"
      ],
      "text/plain": [
       "                                                   Date    Open    High  \\\n",
       "2090                                   2017-01-27 19-49  121.49  121.49   \n",
       "2091                                   2017-01-27 19-53  121.48  121.48   \n",
       "2092                                   2017-01-27 19-56  121.42  121.42   \n",
       "2093                                   2017-01-27 19-59  121.55  121.55   \n",
       "2094  This document was made with Webix library. htt...     NaN     NaN   \n",
       "\n",
       "         Low   Close  Volume  \n",
       "2090  121.49  121.49    28.0  \n",
       "2091  121.48  121.48   876.0  \n",
       "2092  121.42  121.42   976.0  \n",
       "2093  121.55  121.55   200.0  \n",
       "2094     NaN     NaN     NaN  "
      ]
     },
     "execution_count": 31,
     "metadata": {},
     "output_type": "execute_result"
    }
   ],
   "source": [
    "# there's an error at the end... we don't want this row!\n",
    "apple.tail()"
   ]
  },
  {
   "cell_type": "code",
   "execution_count": 32,
   "metadata": {
    "collapsed": true
   },
   "outputs": [],
   "source": [
    "apple = apple.drop(2094)"
   ]
  },
  {
   "cell_type": "code",
   "execution_count": 33,
   "metadata": {},
   "outputs": [
    {
     "data": {
      "text/html": [
       "<div>\n",
       "<style>\n",
       "    .dataframe thead tr:only-child th {\n",
       "        text-align: right;\n",
       "    }\n",
       "\n",
       "    .dataframe thead th {\n",
       "        text-align: left;\n",
       "    }\n",
       "\n",
       "    .dataframe tbody tr th {\n",
       "        vertical-align: top;\n",
       "    }\n",
       "</style>\n",
       "<table border=\"1\" class=\"dataframe\">\n",
       "  <thead>\n",
       "    <tr style=\"text-align: right;\">\n",
       "      <th></th>\n",
       "      <th>Date</th>\n",
       "      <th>Open</th>\n",
       "      <th>High</th>\n",
       "      <th>Low</th>\n",
       "      <th>Close</th>\n",
       "      <th>Volume</th>\n",
       "    </tr>\n",
       "  </thead>\n",
       "  <tbody>\n",
       "    <tr>\n",
       "      <th>2089</th>\n",
       "      <td>2017-01-27 19-46</td>\n",
       "      <td>121.40</td>\n",
       "      <td>121.40</td>\n",
       "      <td>121.40</td>\n",
       "      <td>121.40</td>\n",
       "      <td>708.0</td>\n",
       "    </tr>\n",
       "    <tr>\n",
       "      <th>2090</th>\n",
       "      <td>2017-01-27 19-49</td>\n",
       "      <td>121.49</td>\n",
       "      <td>121.49</td>\n",
       "      <td>121.49</td>\n",
       "      <td>121.49</td>\n",
       "      <td>28.0</td>\n",
       "    </tr>\n",
       "    <tr>\n",
       "      <th>2091</th>\n",
       "      <td>2017-01-27 19-53</td>\n",
       "      <td>121.48</td>\n",
       "      <td>121.48</td>\n",
       "      <td>121.48</td>\n",
       "      <td>121.48</td>\n",
       "      <td>876.0</td>\n",
       "    </tr>\n",
       "    <tr>\n",
       "      <th>2092</th>\n",
       "      <td>2017-01-27 19-56</td>\n",
       "      <td>121.42</td>\n",
       "      <td>121.42</td>\n",
       "      <td>121.42</td>\n",
       "      <td>121.42</td>\n",
       "      <td>976.0</td>\n",
       "    </tr>\n",
       "    <tr>\n",
       "      <th>2093</th>\n",
       "      <td>2017-01-27 19-59</td>\n",
       "      <td>121.55</td>\n",
       "      <td>121.55</td>\n",
       "      <td>121.55</td>\n",
       "      <td>121.55</td>\n",
       "      <td>200.0</td>\n",
       "    </tr>\n",
       "  </tbody>\n",
       "</table>\n",
       "</div>"
      ],
      "text/plain": [
       "                  Date    Open    High     Low   Close  Volume\n",
       "2089  2017-01-27 19-46  121.40  121.40  121.40  121.40   708.0\n",
       "2090  2017-01-27 19-49  121.49  121.49  121.49  121.49    28.0\n",
       "2091  2017-01-27 19-53  121.48  121.48  121.48  121.48   876.0\n",
       "2092  2017-01-27 19-56  121.42  121.42  121.42  121.42   976.0\n",
       "2093  2017-01-27 19-59  121.55  121.55  121.55  121.55   200.0"
      ]
     },
     "execution_count": 33,
     "metadata": {},
     "output_type": "execute_result"
    }
   ],
   "source": [
    "apple.tail()"
   ]
  },
  {
   "cell_type": "code",
   "execution_count": 34,
   "metadata": {},
   "outputs": [
    {
     "data": {
      "text/plain": [
       "Date       object\n",
       "Open      float64\n",
       "High      float64\n",
       "Low       float64\n",
       "Close     float64\n",
       "Volume    float64\n",
       "dtype: object"
      ]
     },
     "execution_count": 34,
     "metadata": {},
     "output_type": "execute_result"
    }
   ],
   "source": [
    "apple.dtypes"
   ]
  },
  {
   "cell_type": "code",
   "execution_count": 35,
   "metadata": {
    "collapsed": true
   },
   "outputs": [],
   "source": [
    "# We have to tell the datetime function how to read the string:\n",
    "apple['Date'] = pd.to_datetime(apple['Date'],format=\"%Y-%m-%d %H-%M\")"
   ]
  },
  {
   "cell_type": "code",
   "execution_count": 36,
   "metadata": {},
   "outputs": [
    {
     "data": {
      "text/plain": [
       "Date      datetime64[ns]\n",
       "Open             float64\n",
       "High             float64\n",
       "Low              float64\n",
       "Close            float64\n",
       "Volume           float64\n",
       "dtype: object"
      ]
     },
     "execution_count": 36,
     "metadata": {},
     "output_type": "execute_result"
    }
   ],
   "source": [
    "apple.dtypes"
   ]
  },
  {
   "cell_type": "code",
   "execution_count": 29,
   "metadata": {},
   "outputs": [
    {
     "data": {
      "text/plain": [
       "0   2017-01-23 09:30:00\n",
       "1   2017-01-23 09:31:00\n",
       "2   2017-01-23 09:32:00\n",
       "3   2017-01-23 09:33:00\n",
       "4   2017-01-23 09:34:00\n",
       "Name: Date, dtype: datetime64[ns]"
      ]
     },
     "execution_count": 29,
     "metadata": {},
     "output_type": "execute_result"
    }
   ],
   "source": [
    "apple['Date'].head()"
   ]
  },
  {
   "cell_type": "markdown",
   "metadata": {},
   "source": [
    "Some info on datetime formats is here: https://docs.python.org/3/library/datetime.html"
   ]
  },
  {
   "cell_type": "code",
   "execution_count": 37,
   "metadata": {
    "collapsed": true
   },
   "outputs": [],
   "source": [
    "apple = apple.set_index('Date')"
   ]
  },
  {
   "cell_type": "code",
   "execution_count": 38,
   "metadata": {},
   "outputs": [
    {
     "data": {
      "text/html": [
       "<div>\n",
       "<style>\n",
       "    .dataframe thead tr:only-child th {\n",
       "        text-align: right;\n",
       "    }\n",
       "\n",
       "    .dataframe thead th {\n",
       "        text-align: left;\n",
       "    }\n",
       "\n",
       "    .dataframe tbody tr th {\n",
       "        vertical-align: top;\n",
       "    }\n",
       "</style>\n",
       "<table border=\"1\" class=\"dataframe\">\n",
       "  <thead>\n",
       "    <tr style=\"text-align: right;\">\n",
       "      <th></th>\n",
       "      <th>Open</th>\n",
       "      <th>High</th>\n",
       "      <th>Low</th>\n",
       "      <th>Close</th>\n",
       "      <th>Volume</th>\n",
       "    </tr>\n",
       "    <tr>\n",
       "      <th>Date</th>\n",
       "      <th></th>\n",
       "      <th></th>\n",
       "      <th></th>\n",
       "      <th></th>\n",
       "      <th></th>\n",
       "    </tr>\n",
       "  </thead>\n",
       "  <tbody>\n",
       "    <tr>\n",
       "      <th>2017-01-23 09:30:00</th>\n",
       "      <td>119.93</td>\n",
       "      <td>119.93</td>\n",
       "      <td>119.93</td>\n",
       "      <td>119.93</td>\n",
       "      <td>148142.0</td>\n",
       "    </tr>\n",
       "    <tr>\n",
       "      <th>2017-01-23 09:31:00</th>\n",
       "      <td>120.23</td>\n",
       "      <td>120.23</td>\n",
       "      <td>120.23</td>\n",
       "      <td>120.23</td>\n",
       "      <td>1039374.0</td>\n",
       "    </tr>\n",
       "    <tr>\n",
       "      <th>2017-01-23 09:32:00</th>\n",
       "      <td>120.18</td>\n",
       "      <td>120.18</td>\n",
       "      <td>120.18</td>\n",
       "      <td>120.18</td>\n",
       "      <td>250078.0</td>\n",
       "    </tr>\n",
       "    <tr>\n",
       "      <th>2017-01-23 09:33:00</th>\n",
       "      <td>120.27</td>\n",
       "      <td>120.27</td>\n",
       "      <td>120.27</td>\n",
       "      <td>120.27</td>\n",
       "      <td>206714.0</td>\n",
       "    </tr>\n",
       "    <tr>\n",
       "      <th>2017-01-23 09:34:00</th>\n",
       "      <td>120.38</td>\n",
       "      <td>120.38</td>\n",
       "      <td>120.38</td>\n",
       "      <td>120.38</td>\n",
       "      <td>246886.0</td>\n",
       "    </tr>\n",
       "  </tbody>\n",
       "</table>\n",
       "</div>"
      ],
      "text/plain": [
       "                       Open    High     Low   Close     Volume\n",
       "Date                                                          \n",
       "2017-01-23 09:30:00  119.93  119.93  119.93  119.93   148142.0\n",
       "2017-01-23 09:31:00  120.23  120.23  120.23  120.23  1039374.0\n",
       "2017-01-23 09:32:00  120.18  120.18  120.18  120.18   250078.0\n",
       "2017-01-23 09:33:00  120.27  120.27  120.27  120.27   206714.0\n",
       "2017-01-23 09:34:00  120.38  120.38  120.38  120.38   246886.0"
      ]
     },
     "execution_count": 38,
     "metadata": {},
     "output_type": "execute_result"
    }
   ],
   "source": [
    "apple.head()"
   ]
  },
  {
   "cell_type": "markdown",
   "metadata": {},
   "source": [
    "We can \"resample\" the data by a time window, and create new time labels if we want.  This acts like a groupby, and uses a mean of the window of 60 minutes.  Why do you think there are NaNs there?"
   ]
  },
  {
   "cell_type": "code",
   "execution_count": 39,
   "metadata": {},
   "outputs": [
    {
     "data": {
      "text/plain": [
       "<matplotlib.axes._subplots.AxesSubplot at 0x1ff8e3f1908>"
      ]
     },
     "execution_count": 39,
     "metadata": {},
     "output_type": "execute_result"
    },
    {
     "data": {
      "image/png": "[encoded data removed]",
      "text/plain": [
       "<matplotlib.figure.Figure at 0x1ff8dfb2668>"
      ]
     },
     "metadata": {},
     "output_type": "display_data"
    }
   ],
   "source": [
    "highs = apple['High'].resample(\"60Min\", label=\"right\").mean() \n",
    "highs.plot(figsize=(20,10))"
   ]
  },
  {
   "cell_type": "code",
   "execution_count": 40,
   "metadata": {},
   "outputs": [
    {
     "data": {
      "text/plain": [
       "<matplotlib.axes._subplots.AxesSubplot at 0x1ff8d478860>"
      ]
     },
     "execution_count": 40,
     "metadata": {},
     "output_type": "execute_result"
    },
    {
     "data": {
      "image/png": "[encoded data removed]",
      "text/plain": [
       "<matplotlib.figure.Figure at 0x1ff8e401ef0>"
      ]
     },
     "metadata": {},
     "output_type": "display_data"
    }
   ],
   "source": [
    "#drop NaNs\n",
    "highs.dropna().plot(figsize = (20,10))"
   ]
  },
  {
   "cell_type": "code",
   "execution_count": null,
   "metadata": {
    "collapsed": true
   },
   "outputs": [],
   "source": []
  }
 ],
 "metadata": {
  "anaconda-cloud": {},
  "kernelspec": {
   "display_name": "Python 3",
   "language": "python",
   "name": "python3"
  },
  "language_info": {
   "codemirror_mode": {
    "name": "ipython",
    "version": 3
   },
   "file_extension": ".py",
   "mimetype": "text/x-python",
   "name": "python",
   "nbconvert_exporter": "python",
   "pygments_lexer": "ipython3",
   "version": "3.6.3"
  }
 },
 "nbformat": 4,
 "nbformat_minor": 1
}
