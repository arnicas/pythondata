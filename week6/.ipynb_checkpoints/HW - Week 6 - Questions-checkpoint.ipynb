{
 "cells": [
  {
   "cell_type": "markdown",
   "metadata": {},
   "source": [
    "# Homework - Week 6\n",
    "# Answers"
   ]
  },
  {
   "cell_type": "code",
   "execution_count": 27,
   "metadata": {
    "collapsed": true
   },
   "outputs": [],
   "source": [
    "%matplotlib inline\n",
    "\n",
    "import matplotlib.pyplot as plt\n",
    "import numpy as np\n",
    "import pandas as pd\n",
    "import seaborn as sns"
   ]
  },
  {
   "cell_type": "code",
   "execution_count": 28,
   "metadata": {
    "collapsed": true
   },
   "outputs": [],
   "source": [
    "import pymysql\n",
    "import json"
   ]
  },
  {
   "cell_type": "code",
   "execution_count": 4,
   "metadata": {
    "collapsed": true
   },
   "outputs": [],
   "source": [
    "server = \"analyst-toolbelt.cn119w37trlg.eu-west-1.rds.amazonaws.com\"\n",
    "username = \"emlyon1\"\n",
    "password = \"student1\""
   ]
  },
  {
   "cell_type": "code",
   "execution_count": 5,
   "metadata": {
    "collapsed": true
   },
   "outputs": [],
   "source": [
    "#Q1: connect to the bdd tweets on the SQL server and show the different tables\n",
    "#Hint \"SHOW tables\" is the sql query to show the tables... "
   ]
  },
  {
   "cell_type": "code",
   "execution_count": 7,
   "metadata": {
    "collapsed": true
   },
   "outputs": [],
   "source": [
    "# We are going to explore the Capgemini database"
   ]
  },
  {
   "cell_type": "code",
   "execution_count": 8,
   "metadata": {},
   "outputs": [
    {
     "data": {
      "text/html": [
       "<div>\n",
       "<style>\n",
       "    .dataframe thead tr:only-child th {\n",
       "        text-align: right;\n",
       "    }\n",
       "\n",
       "    .dataframe thead th {\n",
       "        text-align: left;\n",
       "    }\n",
       "\n",
       "    .dataframe tbody tr th {\n",
       "        vertical-align: top;\n",
       "    }\n",
       "</style>\n",
       "<table border=\"1\" class=\"dataframe\">\n",
       "  <thead>\n",
       "    <tr style=\"text-align: right;\">\n",
       "      <th></th>\n",
       "      <th>date</th>\n",
       "      <th>contributors</th>\n",
       "      <th>coordinates</th>\n",
       "      <th>created_at</th>\n",
       "      <th>entities</th>\n",
       "      <th>extended_entities</th>\n",
       "      <th>favorite_count</th>\n",
       "      <th>favorited</th>\n",
       "      <th>geo</th>\n",
       "      <th>id</th>\n",
       "      <th>...</th>\n",
       "      <th>user</th>\n",
       "      <th>hashtags</th>\n",
       "      <th>tweeter_followers</th>\n",
       "      <th>tweeter_listed</th>\n",
       "      <th>urls_found</th>\n",
       "      <th>name_mentions</th>\n",
       "      <th>tweeter_following</th>\n",
       "      <th>tweeter_desc</th>\n",
       "      <th>tweeter_name</th>\n",
       "      <th>tweeter_id</th>\n",
       "    </tr>\n",
       "  </thead>\n",
       "  <tbody>\n",
       "    <tr>\n",
       "      <th>0</th>\n",
       "      <td>2017-02-24</td>\n",
       "      <td></td>\n",
       "      <td></td>\n",
       "      <td>Fri Feb 24 00:24:06 +0000 2017</td>\n",
       "      <td>{'urls': [{'indices': [90, 113], 'display_url'...</td>\n",
       "      <td>{'media': [{'source_status_id': 82063043931242...</td>\n",
       "      <td>0</td>\n",
       "      <td>False</td>\n",
       "      <td></td>\n",
       "      <td>834921810361630720</td>\n",
       "      <td>...</td>\n",
       "      <td>{'notifications': None, 'followers_count': 518...</td>\n",
       "      <td>CustomerCentricity,MarginErosion,nrf17</td>\n",
       "      <td>5180</td>\n",
       "      <td>3590</td>\n",
       "      <td>http://ow.ly/Avqm307pidP</td>\n",
       "      <td>Capgemini</td>\n",
       "      <td>350</td>\n",
       "      <td>I feel the need to leave the world better than...</td>\n",
       "      <td>andytoronto</td>\n",
       "      <td>79201672</td>\n",
       "    </tr>\n",
       "  </tbody>\n",
       "</table>\n",
       "<p>1 rows × 40 columns</p>\n",
       "</div>"
      ],
      "text/plain": [
       "         date contributors coordinates                      created_at  \\\n",
       "0  2017-02-24                           Fri Feb 24 00:24:06 +0000 2017   \n",
       "\n",
       "                                            entities  \\\n",
       "0  {'urls': [{'indices': [90, 113], 'display_url'...   \n",
       "\n",
       "                                   extended_entities  favorite_count  \\\n",
       "0  {'media': [{'source_status_id': 82063043931242...               0   \n",
       "\n",
       "  favorited geo                  id    ...      \\\n",
       "0     False      834921810361630720    ...       \n",
       "\n",
       "                                                user  \\\n",
       "0  {'notifications': None, 'followers_count': 518...   \n",
       "\n",
       "                                 hashtags tweeter_followers tweeter_listed  \\\n",
       "0  CustomerCentricity,MarginErosion,nrf17              5180           3590   \n",
       "\n",
       "                 urls_found name_mentions tweeter_following  \\\n",
       "0  http://ow.ly/Avqm307pidP     Capgemini               350   \n",
       "\n",
       "                                        tweeter_desc tweeter_name tweeter_id  \n",
       "0  I feel the need to leave the world better than...  andytoronto   79201672  \n",
       "\n",
       "[1 rows x 40 columns]"
      ]
     },
     "execution_count": 8,
     "metadata": {},
     "output_type": "execute_result"
    }
   ],
   "source": [
    "capgemini = pd.read_sql('SELECT * from capgemini',connection)\n",
    "capgemini.head(1)"
   ]
  },
  {
   "cell_type": "code",
   "execution_count": 59,
   "metadata": {
    "collapsed": true
   },
   "outputs": [],
   "source": [
    "#Q2: count how many times each hashtag occurs in table capgemini\n",
    "# Return the result in a dictionnary with keys = hashtags and  values = number of occurences"
   ]
  },
  {
   "cell_type": "code",
   "execution_count": null,
   "metadata": {
    "collapsed": true
   },
   "outputs": [],
   "source": [
    "#Q2 - 1:  Return the column entities as a list of dictionnaries \n",
    "# Hint: To transform a string into a dict, use json.loads(string)\n",
    "#       Here necessary to replace ' by \" in strings before using json.loads()"
   ]
  },
  {
   "cell_type": "code",
   "execution_count": 60,
   "metadata": {
    "collapsed": true
   },
   "outputs": [],
   "source": [
    "#Q2 - 2 : Count how many times each hashtag occurs in table capgemini"
   ]
  },
  {
   "cell_type": "code",
   "execution_count": 13,
   "metadata": {
    "collapsed": true
   },
   "outputs": [],
   "source": [
    "#Q3: Sort the dictionnary found in Q2 (Return a dictionnary too)\n",
    "#Hint: You can use the function sorted()"
   ]
  },
  {
   "cell_type": "code",
   "execution_count": 15,
   "metadata": {
    "collapsed": true
   },
   "outputs": [],
   "source": [
    "#Q4: Plot the ten most used hashtags (decreasingly)"
   ]
  },
  {
   "cell_type": "code",
   "execution_count": 30,
   "metadata": {
    "collapsed": true
   },
   "outputs": [],
   "source": [
    "#Q5: find the languages which are used and the number of tweet in each\n",
    "# Explore the database to find where you can find information about language\n",
    "# or use the twitter documentation https://dev.twitter.com/overview/api/tweets"
   ]
  },
  {
   "cell_type": "code",
   "execution_count": null,
   "metadata": {
    "collapsed": true
   },
   "outputs": [],
   "source": [
    "#Q6: Plot the most used languages (decreasingly)"
   ]
  },
  {
   "cell_type": "code",
   "execution_count": 20,
   "metadata": {
    "collapsed": true
   },
   "outputs": [],
   "source": [
    "import urllib, json"
   ]
  },
  {
   "cell_type": "code",
   "execution_count": 48,
   "metadata": {
    "collapsed": true
   },
   "outputs": [],
   "source": [
    "URL = \"https://data.sncf.com/api/records/1.0/search/?dataset=regularite-mensuelle-ter&rows=1140&sort=date&facet=date&facet=region\""
   ]
  },
  {
   "cell_type": "code",
   "execution_count": 49,
   "metadata": {
    "collapsed": true
   },
   "outputs": [],
   "source": [
    "#Q7: Get a DataFrame similar to the array you can find on the following website\n",
    "# using the URL given to import data\n",
    "# Hint: to transform a list of dict into a dataframe, use pd.DataFrame(list_dicts)\n",
    "\n",
    "# Only the first ten rows are imported"
   ]
  },
  {
   "cell_type": "markdown",
   "metadata": {},
   "source": [
    "https://data.sncf.com/explore/dataset/regularite-mensuelle-ter/table/?disjunctive.region&sort=date"
   ]
  },
  {
   "cell_type": "code",
   "execution_count": null,
   "metadata": {
    "collapsed": true
   },
   "outputs": [],
   "source": []
  }
 ],
 "metadata": {
  "kernelspec": {
   "display_name": "Python 3",
   "language": "python",
   "name": "python3"
  },
  "language_info": {
   "codemirror_mode": {
    "name": "ipython",
    "version": 3
   },
   "file_extension": ".py",
   "mimetype": "text/x-python",
   "name": "python",
   "nbconvert_exporter": "python",
   "pygments_lexer": "ipython3",
   "version": "3.6.3"
  }
 },
 "nbformat": 4,
 "nbformat_minor": 2
}
