{
 "cells": [
  {
   "cell_type": "markdown",
   "metadata": {},
   "source": [
    "# Table of Contents\n",
    "  - [ Using TextRazor for Named Entities (and topics)](#_using textrazor for named entities (and topics)) \n",
    "- [ Twitter API](#_twitter api) \n",
    "  - [ Streaming Data (Watching Incoming Live Tweets) [Search is Smarter, See below]](#_streaming data (watching incoming live tweets) [search is smarter, see below]) \n",
    "  - [  Search for a term and control hit results (Preferred!)](#_ search for a term and control hit results (preferred!)) \n",
    "  - [ Making a DataFrame from JSON or Dict Results\n",
    "](#_making a dataframe from json or dict results\n",
    ") \n"
   ]
  },
  {
   "cell_type": "markdown",
   "metadata": {},
   "source": [
    "## Using TextRazor for Named Entities (and topics)<a name=\"_using textrazor for named entities (and topics)\"></a>"
   ]
  },
  {
   "cell_type": "markdown",
   "metadata": {
    "collapsed": true
   },
   "source": [
    "Here is the site: https://www.textrazor.com/\n",
    "\n",
    "You need to \n",
    "`pip install textrazor`\n",
    "at the command line.\n",
    "\n",
    "We are allowed to use my key for a limited number of queries per day. Don't abuse it.\n",
    "\n",
    "Documentation: https://www.textrazor.com/tutorials"
   ]
  },
  {
   "cell_type": "code",
   "execution_count": 2,
   "metadata": {
    "collapsed": true
   },
   "outputs": [],
   "source": [
    "KEY = \"8a75129de373331abf16cff513ec77d1b0cdc51b4d7d6957d9788d68\""
   ]
  },
  {
   "cell_type": "code",
   "execution_count": 1,
   "metadata": {},
   "outputs": [],
   "source": [
    "import textrazor\n",
    "\n",
    "import nlp_utilities as mytools"
   ]
  },
  {
   "cell_type": "code",
   "execution_count": 3,
   "metadata": {
    "collapsed": true
   },
   "outputs": [],
   "source": [
    "textrazor.api_key = KEY"
   ]
  },
  {
   "cell_type": "code",
   "execution_count": 4,
   "metadata": {
    "collapsed": true
   },
   "outputs": [],
   "source": [
    "client = textrazor.TextRazor(extractors=[\"entities\", \"topics\"])\n",
    "client.set_classifiers([\"textrazor_newscodes\"])"
   ]
  },
  {
   "cell_type": "code",
   "execution_count": 6,
   "metadata": {},
   "outputs": [],
   "source": [
    "files = mytools.get_filenames(\"data/mydata\")"
   ]
  },
  {
   "cell_type": "code",
   "execution_count": 7,
   "metadata": {},
   "outputs": [],
   "source": [
    "texts = mytools.load_texts_as_string(files)"
   ]
  },
  {
   "cell_type": "code",
   "execution_count": 8,
   "metadata": {},
   "outputs": [
    {
     "data": {
      "text/plain": [
       "\"I really am a fan of this place. It has good food and good beer, and also is associated with some good memories here. This place is a great place to come to and watch a game or two. Or in our case, a great place to come to after watching out team win or lose the game. The parking here can be difficult since there is no lot or anything designated for costumer parking. The beer is really good here. I like the lighter beers, such as their regular peach beer, but their other beers and seasonal are awesome too. The food is delish; I always get a hankering for their beer battered fries. Eat it with their jalapeño ranch sauce and it's perfect. That and some loaded chicken nachos are easily split between friends; their portion sizes are fairly huge. It's really an awesome spot to get together with friend, have a pint, enjoy a game and some good food.\""
      ]
     },
     "execution_count": 8,
     "metadata": {},
     "output_type": "execute_result"
    }
   ],
   "source": [
    "texts[files[0]]"
   ]
  },
  {
   "cell_type": "code",
   "execution_count": 9,
   "metadata": {},
   "outputs": [],
   "source": [
    "response = client.analyze(texts[files[0]])"
   ]
  },
  {
   "cell_type": "code",
   "execution_count": 10,
   "metadata": {},
   "outputs": [
    {
     "name": "stdout",
     "output_type": "stream",
     "text": [
      "Pint 0.2001 1.875 ['/measurement_unit/volume_unit', '/food/culinary_measure', '/type/unit', '/time_series/unit']\n",
      "Nachos 0.1544 1.437 ['/food/food', '/food/dish', '/people/person', '/law/inventor', '/people/deceased_person']\n",
      "French fries 0.1403 2.211 ['/food/dish', '/food/food']\n",
      "Jalapeño 0.1167 5.103 ['/food/food', '/biology/organism_classification', '/food/ingredient']\n",
      "Batter (cooking) 0.1053 2.585 ['/food/ingredient']\n",
      "Beer 0.07647 1.291 ['/visual_art/art_subject', '/book/book_subject', '/food/ingredient', '/food/beverage_type', '/film/film_subject', '/internet/website_category', '/food/food']\n",
      "Sauce 0.06616 2.623 ['/food/type_of_dish']\n"
     ]
    }
   ],
   "source": [
    "entities = list(response.entities())\n",
    "entities.sort(key=lambda x: x.relevance_score, reverse=True)\n",
    "seen = set()\n",
    "for entity in entities:\n",
    "    if entity.id not in seen:\n",
    "        print(entity.id, entity.relevance_score, entity.confidence_score, entity.freebase_types)\n",
    "        seen.add(entity.id)"
   ]
  },
  {
   "cell_type": "code",
   "execution_count": 11,
   "metadata": {},
   "outputs": [
    {
     "name": "stdout",
     "output_type": "stream",
     "text": [
      "Foods 0.9698\n",
      "Cuisine 0.9098\n",
      "Cooking 0.8811\n",
      "Food and drink preparation 0.8625\n",
      "Western cuisine 0.8443\n",
      "Food and drink 0.7952\n",
      "North American cuisine 0.6749\n",
      "Convenience foods 0.5715\n",
      "American cuisine 0.5553\n",
      "Cuisine of the Americas 0.5367\n",
      "Fast food 0.4665\n",
      "Fried foods 0.4185\n",
      "Eating behaviors of humans 0.4168\n",
      "Television series 0.413\n",
      "Deep fried foods 0.3876\n",
      "Alcoholic drinks 0.377\n",
      "European cuisine 0.3751\n",
      "Food industry 0.3501\n",
      "Pint 0.3168\n",
      "American television seasons 0.3137\n",
      "The Biggest Loser 0.3087\n",
      "Prepared foods 0.3057\n",
      "Hobbies 0.3046\n",
      "Fitness reality television series 0.3014\n"
     ]
    }
   ],
   "source": [
    "for topic in response.topics():\n",
    "    if topic.score > 0.3:\n",
    "        print(topic.label, topic.score)"
   ]
  },
  {
   "cell_type": "code",
   "execution_count": 12,
   "metadata": {},
   "outputs": [
    {
     "name": "stdout",
     "output_type": "stream",
     "text": [
      "10011000 lifestyle and leisure>public holiday 1\n",
      "04007003 economy, business and finance>consumer goods>food 0.7415\n",
      "04007008 economy, business and finance>consumer goods>beverage 0.5971\n",
      "01021000 arts, culture and entertainment>entertainment (general) 0.5589\n",
      "04014004 economy, business and finance>tourism and leisure>restaurant and catering 0.4112\n",
      "10000000 lifestyle and leisure 0.3949\n",
      "04013002 economy, business and finance>process industry>food 0.3643\n",
      "10003000 lifestyle and leisure>gastronomy 0.3595\n",
      "01016000 arts, culture and entertainment>television 0.3301\n",
      "04007000 economy, business and finance>consumer goods 0.3285\n"
     ]
    }
   ],
   "source": [
    "for category in response.categories():\n",
    "    print(category.category_id, category.label, category.score)"
   ]
  },
  {
   "cell_type": "markdown",
   "metadata": {},
   "source": [
    "# Twitter API<a name=\"_twitter api\"></a><a name=\"_twitter api\"></a>"
   ]
  },
  {
   "cell_type": "markdown",
   "metadata": {},
   "source": [
    "If you want to use twitter's API to collect your own tweets about a subject, here is a good document:\n",
    "\n",
    "http://socialmedia-class.org/twittertutorial.html\n",
    "\n",
    "It requires you to create your own API keys with your own twitter account.\n",
    "\n",
    "Note: You can 'pip install twitter' instead of the setup.py instructions shown there."
   ]
  },
  {
   "cell_type": "code",
   "execution_count": 1,
   "metadata": {},
   "outputs": [],
   "source": [
    "import json\n",
    "import twitter\n",
    "from twitter import Twitter, OAuth, TwitterHTTPError, TwitterStream\n",
    "\n",
    "# Variables that contains the user credentials to access Twitter API\n",
    "# register for these at apps.twitter.com.\n",
    "ACCESS_TOKEN = 'yours here'\n",
    "ACCESS_SECRET = 'yours here'\n",
    "CONSUMER_KEY = 'yours here'\n",
    "CONSUMER_SECRET = 'yours here'\n",
    "\n",
    "oauth = OAuth(ACCESS_TOKEN, ACCESS_SECRET, CONSUMER_KEY, CONSUMER_SECRET)\n"
   ]
  },
  {
   "cell_type": "markdown",
   "metadata": {},
   "source": [
    "## Streaming Data (Watching Incoming Live Tweets) [Search is Smarter, See below]<a name=\"_streaming data (watching incoming live tweets) [search is smarter, see below]\"></a>"
   ]
  },
  {
   "cell_type": "code",
   "execution_count": 14,
   "metadata": {
    "collapsed": true
   },
   "outputs": [],
   "source": [
    "# Initiate the connection to Twitter Streaming API\n",
    "twitter_stream = TwitterStream(auth=oauth)\n",
    "iterator = twitter_stream.statuses.filter(track=\"#bigdata\", language=\"en\")"
   ]
  },
  {
   "cell_type": "code",
   "execution_count": 15,
   "metadata": {},
   "outputs": [],
   "source": [
    "# set a limit because you will be stopped at a certain number\n",
    "tweet_count = 2  # low because it's just to show the data\n",
    "mydata = []\n",
    "for tweet in iterator:\n",
    "    tweet_count -= 1\n",
    "    # Twitter Python Tool wraps the data returned by Twitter \n",
    "    # as a TwitterDictResponse object.\n",
    "    mydata.append(tweet)\n",
    "    if tweet_count <= 0:\n",
    "        break "
   ]
  },
  {
   "cell_type": "code",
   "execution_count": 16,
   "metadata": {},
   "outputs": [
    {
     "data": {
      "text/plain": [
       "[{'contributors': None,\n",
       "  'coordinates': None,\n",
       "  'created_at': 'Tue Mar 14 08:47:48 +0000 2017',\n",
       "  'entities': {'hashtags': [{'indices': [77, 85], 'text': 'bigdata'},\n",
       "    {'indices': [86, 98], 'text': 'datascience'},\n",
       "    {'indices': [99, 115], 'text': 'machinelearning'},\n",
       "    {'indices': [116, 128], 'text': 'advertising'}],\n",
       "   'symbols': [],\n",
       "   'urls': [{'expanded_url': None, 'indices': [130, 130], 'url': ''}],\n",
       "   'user_mentions': [{'id': 799221973922496517,\n",
       "     'id_str': '799221973922496517',\n",
       "     'indices': [3, 15],\n",
       "     'name': 'Andy Driver',\n",
       "     'screen_name': 'Andy_RedCat'}]},\n",
       "  'favorite_count': 0,\n",
       "  'favorited': False,\n",
       "  'filter_level': 'low',\n",
       "  'geo': None,\n",
       "  'id': 841571554702045184,\n",
       "  'id_str': '841571554702045184',\n",
       "  'in_reply_to_screen_name': None,\n",
       "  'in_reply_to_status_id': None,\n",
       "  'in_reply_to_status_id_str': None,\n",
       "  'in_reply_to_user_id': None,\n",
       "  'in_reply_to_user_id_str': None,\n",
       "  'is_quote_status': False,\n",
       "  'lang': 'en',\n",
       "  'place': None,\n",
       "  'retweet_count': 0,\n",
       "  'retweeted': False,\n",
       "  'retweeted_status': {'contributors': None,\n",
       "   'coordinates': None,\n",
       "   'created_at': 'Tue Mar 14 08:45:03 +0000 2017',\n",
       "   'display_text_range': [0, 140],\n",
       "   'entities': {'hashtags': [{'indices': [60, 68], 'text': 'bigdata'},\n",
       "     {'indices': [69, 81], 'text': 'datascience'},\n",
       "     {'indices': [82, 98], 'text': 'machinelearning'},\n",
       "     {'indices': [99, 111], 'text': 'advertising'}],\n",
       "    'symbols': [],\n",
       "    'urls': [{'display_url': 'twitter.com/i/web/status/8…',\n",
       "      'expanded_url': 'https://twitter.com/i/web/status/841570860335013888',\n",
       "      'indices': [113, 136],\n",
       "      'url': 'https://t.co/4n7uhn6m7L'}],\n",
       "    'user_mentions': []},\n",
       "   'extended_tweet': {'display_text_range': [0, 126],\n",
       "    'entities': {'hashtags': [{'indices': [60, 68], 'text': 'bigdata'},\n",
       "      {'indices': [69, 81], 'text': 'datascience'},\n",
       "      {'indices': [82, 98], 'text': 'machinelearning'},\n",
       "      {'indices': [99, 111], 'text': 'advertising'},\n",
       "      {'indices': [112, 126], 'text': 'dataanalytics'}],\n",
       "     'media': [{'display_url': 'pic.twitter.com/BjNUSWDwQa',\n",
       "       'expanded_url': 'https://twitter.com/Andy_RedCat/status/841570860335013888/photo/1',\n",
       "       'id': 841570858208489472,\n",
       "       'id_str': '841570858208489472',\n",
       "       'indices': [127, 150],\n",
       "       'media_url': 'http://pbs.twimg.com/media/C63cPJjWcAA07RL.jpg',\n",
       "       'media_url_https': 'https://pbs.twimg.com/media/C63cPJjWcAA07RL.jpg',\n",
       "       'sizes': {'large': {'h': 668, 'resize': 'fit', 'w': 1356},\n",
       "        'medium': {'h': 591, 'resize': 'fit', 'w': 1200},\n",
       "        'small': {'h': 335, 'resize': 'fit', 'w': 680},\n",
       "        'thumb': {'h': 150, 'resize': 'crop', 'w': 150}},\n",
       "       'type': 'photo',\n",
       "       'url': 'https://t.co/BjNUSWDwQa'}],\n",
       "     'symbols': [],\n",
       "     'urls': [],\n",
       "     'user_mentions': []},\n",
       "    'extended_entities': {'media': [{'display_url': 'pic.twitter.com/BjNUSWDwQa',\n",
       "       'expanded_url': 'https://twitter.com/Andy_RedCat/status/841570860335013888/photo/1',\n",
       "       'id': 841570858208489472,\n",
       "       'id_str': '841570858208489472',\n",
       "       'indices': [127, 150],\n",
       "       'media_url': 'http://pbs.twimg.com/media/C63cPJjWcAA07RL.jpg',\n",
       "       'media_url_https': 'https://pbs.twimg.com/media/C63cPJjWcAA07RL.jpg',\n",
       "       'sizes': {'large': {'h': 668, 'resize': 'fit', 'w': 1356},\n",
       "        'medium': {'h': 591, 'resize': 'fit', 'w': 1200},\n",
       "        'small': {'h': 335, 'resize': 'fit', 'w': 680},\n",
       "        'thumb': {'h': 150, 'resize': 'crop', 'w': 150}},\n",
       "       'type': 'photo',\n",
       "       'url': 'https://t.co/BjNUSWDwQa'}]},\n",
       "    'full_text': 'The future of online advertising is big data and algorithms #bigdata #datascience #machinelearning #advertising #dataanalytics https://t.co/BjNUSWDwQa'},\n",
       "   'favorite_count': 0,\n",
       "   'favorited': False,\n",
       "   'filter_level': 'low',\n",
       "   'geo': None,\n",
       "   'id': 841570860335013888,\n",
       "   'id_str': '841570860335013888',\n",
       "   'in_reply_to_screen_name': None,\n",
       "   'in_reply_to_status_id': None,\n",
       "   'in_reply_to_status_id_str': None,\n",
       "   'in_reply_to_user_id': None,\n",
       "   'in_reply_to_user_id_str': None,\n",
       "   'is_quote_status': False,\n",
       "   'lang': 'en',\n",
       "   'place': None,\n",
       "   'possibly_sensitive': False,\n",
       "   'retweet_count': 3,\n",
       "   'retweeted': False,\n",
       "   'source': '<a href=\"http://bufferapp.com\" rel=\"nofollow\">Buffer</a>',\n",
       "   'text': 'The future of online advertising is big data and algorithms #bigdata #datascience #machinelearning #advertising… https://t.co/4n7uhn6m7L',\n",
       "   'truncated': True,\n",
       "   'user': {'contributors_enabled': False,\n",
       "    'created_at': 'Thu Nov 17 12:05:42 +0000 2016',\n",
       "    'default_profile': False,\n",
       "    'default_profile_image': False,\n",
       "    'description': 'Recruiter specialising in everything #bigdata #datascience Get in touch on 02072657800 or email ard@redcat-digital.com',\n",
       "    'favourites_count': 35,\n",
       "    'follow_request_sent': None,\n",
       "    'followers_count': 148,\n",
       "    'following': None,\n",
       "    'friends_count': 349,\n",
       "    'geo_enabled': True,\n",
       "    'id': 799221973922496517,\n",
       "    'id_str': '799221973922496517',\n",
       "    'is_translator': False,\n",
       "    'lang': 'en',\n",
       "    'listed_count': 149,\n",
       "    'location': 'London, England',\n",
       "    'name': 'Andy Driver',\n",
       "    'notifications': None,\n",
       "    'profile_background_color': '000000',\n",
       "    'profile_background_image_url': 'http://abs.twimg.com/images/themes/theme1/bg.png',\n",
       "    'profile_background_image_url_https': 'https://abs.twimg.com/images/themes/theme1/bg.png',\n",
       "    'profile_background_tile': False,\n",
       "    'profile_image_url': 'http://pbs.twimg.com/profile_images/799222918634991617/spk1tzwa_normal.jpg',\n",
       "    'profile_image_url_https': 'https://pbs.twimg.com/profile_images/799222918634991617/spk1tzwa_normal.jpg',\n",
       "    'profile_link_color': 'FF691F',\n",
       "    'profile_sidebar_border_color': '000000',\n",
       "    'profile_sidebar_fill_color': '000000',\n",
       "    'profile_text_color': '000000',\n",
       "    'profile_use_background_image': False,\n",
       "    'protected': False,\n",
       "    'screen_name': 'Andy_RedCat',\n",
       "    'statuses_count': 589,\n",
       "    'time_zone': 'Pacific Time (US & Canada)',\n",
       "    'url': 'https://uk.linkedin.com/in/021288',\n",
       "    'utc_offset': -25200,\n",
       "    'verified': False}},\n",
       "  'source': '<a href=\"https://twitter.com/alevergara78\" rel=\"nofollow\">realtimeApp_reactjs</a>',\n",
       "  'text': 'RT @Andy_RedCat: The future of online advertising is big data and algorithms #bigdata #datascience #machinelearning #advertising… ',\n",
       "  'timestamp_ms': '1489481268941',\n",
       "  'truncated': False,\n",
       "  'user': {'contributors_enabled': False,\n",
       "   'created_at': 'Wed Jan 13 15:46:14 +0000 2010',\n",
       "   'default_profile': False,\n",
       "   'default_profile_image': False,\n",
       "   'description': 'Any fool can write code that a computer can understand. Good programmers write code that humans can understand. Martin Fowler.\\n#BigData  #machinelearning',\n",
       "   'favourites_count': 1343,\n",
       "   'follow_request_sent': None,\n",
       "   'followers_count': 3939,\n",
       "   'following': None,\n",
       "   'friends_count': 702,\n",
       "   'geo_enabled': True,\n",
       "   'id': 104520454,\n",
       "   'id_str': '104520454',\n",
       "   'is_translator': False,\n",
       "   'lang': 'en',\n",
       "   'listed_count': 3872,\n",
       "   'location': 'Santiago, Chile',\n",
       "   'name': 'alejandro vergara',\n",
       "   'notifications': None,\n",
       "   'profile_background_color': '000000',\n",
       "   'profile_background_image_url': 'http://abs.twimg.com/images/themes/theme1/bg.png',\n",
       "   'profile_background_image_url_https': 'https://abs.twimg.com/images/themes/theme1/bg.png',\n",
       "   'profile_background_tile': False,\n",
       "   'profile_image_url': 'http://pbs.twimg.com/profile_images/477167045772312577/3q1ssMVN_normal.jpeg',\n",
       "   'profile_image_url_https': 'https://pbs.twimg.com/profile_images/477167045772312577/3q1ssMVN_normal.jpeg',\n",
       "   'profile_link_color': '02243B',\n",
       "   'profile_sidebar_border_color': '000000',\n",
       "   'profile_sidebar_fill_color': '000000',\n",
       "   'profile_text_color': '000000',\n",
       "   'profile_use_background_image': False,\n",
       "   'protected': False,\n",
       "   'screen_name': 'alevergara78',\n",
       "   'statuses_count': 179699,\n",
       "   'time_zone': 'Santiago',\n",
       "   'url': 'http://cl.linkedin.com/in/alevergara',\n",
       "   'utc_offset': -10800,\n",
       "   'verified': False}},\n",
       " {'contributors': None,\n",
       "  'coordinates': None,\n",
       "  'created_at': 'Tue Mar 14 08:48:01 +0000 2017',\n",
       "  'entities': {'hashtags': [{'indices': [33, 42], 'text': 'identity'},\n",
       "    {'indices': [99, 115], 'text': 'machinelearning'},\n",
       "    {'indices': [126, 134], 'text': 'bigdata'}],\n",
       "   'symbols': [],\n",
       "   'urls': [{'display_url': 'drumup.io/s/bHFvQv',\n",
       "     'expanded_url': 'https://drumup.io/s/bHFvQv',\n",
       "     'indices': [73, 96],\n",
       "     'url': 'https://t.co/wX0ctRFjBd'}],\n",
       "   'user_mentions': [{'id': 38529724,\n",
       "     'id_str': '38529724',\n",
       "     'indices': [116, 125],\n",
       "     'name': 'BetaNews.com',\n",
       "     'screen_name': 'BetaNews'}]},\n",
       "  'favorite_count': 0,\n",
       "  'favorited': False,\n",
       "  'filter_level': 'low',\n",
       "  'geo': None,\n",
       "  'id': 841571605742407680,\n",
       "  'id_str': '841571605742407680',\n",
       "  'in_reply_to_screen_name': None,\n",
       "  'in_reply_to_status_id': None,\n",
       "  'in_reply_to_status_id_str': None,\n",
       "  'in_reply_to_user_id': None,\n",
       "  'in_reply_to_user_id_str': None,\n",
       "  'is_quote_status': False,\n",
       "  'lang': 'en',\n",
       "  'place': None,\n",
       "  'possibly_sensitive': False,\n",
       "  'retweet_count': 0,\n",
       "  'retweeted': False,\n",
       "  'source': '<a href=\"https://drumup.io\" rel=\"nofollow\">drumup.io</a>',\n",
       "  'text': 'Using machine learning to secure #identity and access management systems https://t.co/wX0ctRFjBd  \\n#machinelearning @betanews #bigdata',\n",
       "  'timestamp_ms': '1489481281110',\n",
       "  'truncated': False,\n",
       "  'user': {'contributors_enabled': False,\n",
       "   'created_at': 'Thu Feb 16 07:06:07 +0000 2017',\n",
       "   'default_profile': True,\n",
       "   'default_profile_image': False,\n",
       "   'description': \"Head of Enterprise Sales at IDfy. To see all the cool HR Analytics stuff we're up to,  @getidfyed\",\n",
       "   'favourites_count': 0,\n",
       "   'follow_request_sent': None,\n",
       "   'followers_count': 25,\n",
       "   'following': None,\n",
       "   'friends_count': 18,\n",
       "   'geo_enabled': False,\n",
       "   'id': 832123878784827392,\n",
       "   'id_str': '832123878784827392',\n",
       "   'is_translator': False,\n",
       "   'lang': 'en',\n",
       "   'listed_count': 0,\n",
       "   'location': 'Bangalore',\n",
       "   'name': 'Viren Vijayashankar',\n",
       "   'notifications': None,\n",
       "   'profile_background_color': 'F5F8FA',\n",
       "   'profile_background_image_url': '',\n",
       "   'profile_background_image_url_https': '',\n",
       "   'profile_background_tile': False,\n",
       "   'profile_image_url': 'http://pbs.twimg.com/profile_images/832606079984902145/jUkJO4yC_normal.jpg',\n",
       "   'profile_image_url_https': 'https://pbs.twimg.com/profile_images/832606079984902145/jUkJO4yC_normal.jpg',\n",
       "   'profile_link_color': '1DA1F2',\n",
       "   'profile_sidebar_border_color': 'C0DEED',\n",
       "   'profile_sidebar_fill_color': 'DDEEF6',\n",
       "   'profile_text_color': '333333',\n",
       "   'profile_use_background_image': True,\n",
       "   'protected': False,\n",
       "   'screen_name': 'faxvogen',\n",
       "   'statuses_count': 76,\n",
       "   'time_zone': None,\n",
       "   'url': 'http://www.IDfy.com',\n",
       "   'utc_offset': None,\n",
       "   'verified': False}}]"
      ]
     },
     "execution_count": 16,
     "metadata": {},
     "output_type": "execute_result"
    }
   ],
   "source": [
    "mydata"
   ]
  },
  {
   "cell_type": "markdown",
   "metadata": {},
   "source": [
    "What's in this data: https://dev.twitter.com/overview/api/tweets\n",
    "\n",
    "Incredibly cool: https://dev.twitter.com/overview/api/entities-in-twitter-objects"
   ]
  },
  {
   "cell_type": "code",
   "execution_count": 17,
   "metadata": {},
   "outputs": [
    {
     "data": {
      "text/plain": [
       "dict_keys(['id', 'in_reply_to_user_id_str', 'in_reply_to_user_id', 'created_at', 'source', 'favorite_count', 'coordinates', 'geo', 'retweeted', 'timestamp_ms', 'place', 'in_reply_to_status_id', 'is_quote_status', 'truncated', 'in_reply_to_screen_name', 'retweeted_status', 'user', 'text', 'filter_level', 'entities', 'id_str', 'lang', 'favorited', 'retweet_count', 'in_reply_to_status_id_str', 'contributors'])"
      ]
     },
     "execution_count": 17,
     "metadata": {},
     "output_type": "execute_result"
    }
   ],
   "source": [
    "mydata[0].keys()"
   ]
  },
  {
   "cell_type": "code",
   "execution_count": 18,
   "metadata": {},
   "outputs": [
    {
     "data": {
      "text/plain": [
       "{'hashtags': [{'indices': [77, 85], 'text': 'bigdata'},\n",
       "  {'indices': [86, 98], 'text': 'datascience'},\n",
       "  {'indices': [99, 115], 'text': 'machinelearning'},\n",
       "  {'indices': [116, 128], 'text': 'advertising'}],\n",
       " 'symbols': [],\n",
       " 'urls': [{'expanded_url': None, 'indices': [130, 130], 'url': ''}],\n",
       " 'user_mentions': [{'id': 799221973922496517,\n",
       "   'id_str': '799221973922496517',\n",
       "   'indices': [3, 15],\n",
       "   'name': 'Andy Driver',\n",
       "   'screen_name': 'Andy_RedCat'}]}"
      ]
     },
     "execution_count": 18,
     "metadata": {},
     "output_type": "execute_result"
    }
   ],
   "source": [
    "mydata[0]['entities']"
   ]
  },
  {
   "cell_type": "code",
   "execution_count": 22,
   "metadata": {},
   "outputs": [
    {
     "data": {
      "text/plain": [
       "[{'indices': [77, 85], 'text': 'bigdata'},\n",
       " {'indices': [86, 98], 'text': 'datascience'},\n",
       " {'indices': [99, 115], 'text': 'machinelearning'},\n",
       " {'indices': [116, 128], 'text': 'advertising'}]"
      ]
     },
     "execution_count": 22,
     "metadata": {},
     "output_type": "execute_result"
    }
   ],
   "source": [
    "mydata[0]['entities']['hashtags']"
   ]
  },
  {
   "cell_type": "code",
   "execution_count": 23,
   "metadata": {},
   "outputs": [
    {
     "data": {
      "text/plain": [
       "'RT @Andy_RedCat: The future of online advertising is big data and algorithms #bigdata #datascience #machinelearning #advertising… '"
      ]
     },
     "execution_count": 23,
     "metadata": {},
     "output_type": "execute_result"
    }
   ],
   "source": [
    "mydata[0]['text']"
   ]
  },
  {
   "cell_type": "code",
   "execution_count": 25,
   "metadata": {},
   "outputs": [
    {
     "data": {
      "text/html": [
       "<div>\n",
       "<table border=\"1\" class=\"dataframe\">\n",
       "  <thead>\n",
       "    <tr style=\"text-align: right;\">\n",
       "      <th></th>\n",
       "      <th>contributors</th>\n",
       "      <th>coordinates</th>\n",
       "      <th>created_at</th>\n",
       "      <th>entities</th>\n",
       "      <th>favorite_count</th>\n",
       "      <th>favorited</th>\n",
       "      <th>filter_level</th>\n",
       "      <th>geo</th>\n",
       "      <th>id</th>\n",
       "      <th>id_str</th>\n",
       "      <th>...</th>\n",
       "      <th>place</th>\n",
       "      <th>possibly_sensitive</th>\n",
       "      <th>retweet_count</th>\n",
       "      <th>retweeted</th>\n",
       "      <th>retweeted_status</th>\n",
       "      <th>source</th>\n",
       "      <th>text</th>\n",
       "      <th>timestamp_ms</th>\n",
       "      <th>truncated</th>\n",
       "      <th>user</th>\n",
       "    </tr>\n",
       "  </thead>\n",
       "  <tbody>\n",
       "    <tr>\n",
       "      <th>0</th>\n",
       "      <td>None</td>\n",
       "      <td>None</td>\n",
       "      <td>Tue Mar 14 08:47:48 +0000 2017</td>\n",
       "      <td>{'urls': [{'indices': [130, 130], 'expanded_ur...</td>\n",
       "      <td>0</td>\n",
       "      <td>False</td>\n",
       "      <td>low</td>\n",
       "      <td>None</td>\n",
       "      <td>841571554702045184</td>\n",
       "      <td>841571554702045184</td>\n",
       "      <td>...</td>\n",
       "      <td>None</td>\n",
       "      <td>NaN</td>\n",
       "      <td>0</td>\n",
       "      <td>False</td>\n",
       "      <td>{'id': 841570860335013888, 'in_reply_to_user_i...</td>\n",
       "      <td>&lt;a href=\"https://twitter.com/alevergara78\" rel...</td>\n",
       "      <td>RT @Andy_RedCat: The future of online advertis...</td>\n",
       "      <td>1489481268941</td>\n",
       "      <td>False</td>\n",
       "      <td>{'default_profile_image': False, 'id': 1045204...</td>\n",
       "    </tr>\n",
       "    <tr>\n",
       "      <th>1</th>\n",
       "      <td>None</td>\n",
       "      <td>None</td>\n",
       "      <td>Tue Mar 14 08:48:01 +0000 2017</td>\n",
       "      <td>{'urls': [{'display_url': 'drumup.io/s/bHFvQv'...</td>\n",
       "      <td>0</td>\n",
       "      <td>False</td>\n",
       "      <td>low</td>\n",
       "      <td>None</td>\n",
       "      <td>841571605742407680</td>\n",
       "      <td>841571605742407680</td>\n",
       "      <td>...</td>\n",
       "      <td>None</td>\n",
       "      <td>False</td>\n",
       "      <td>0</td>\n",
       "      <td>False</td>\n",
       "      <td>NaN</td>\n",
       "      <td>&lt;a href=\"https://drumup.io\" rel=\"nofollow\"&gt;dru...</td>\n",
       "      <td>Using machine learning to secure #identity and...</td>\n",
       "      <td>1489481281110</td>\n",
       "      <td>False</td>\n",
       "      <td>{'default_profile_image': False, 'id': 8321238...</td>\n",
       "    </tr>\n",
       "  </tbody>\n",
       "</table>\n",
       "<p>2 rows × 27 columns</p>\n",
       "</div>"
      ],
      "text/plain": [
       "  contributors coordinates                      created_at  \\\n",
       "0         None        None  Tue Mar 14 08:47:48 +0000 2017   \n",
       "1         None        None  Tue Mar 14 08:48:01 +0000 2017   \n",
       "\n",
       "                                            entities  favorite_count  \\\n",
       "0  {'urls': [{'indices': [130, 130], 'expanded_ur...               0   \n",
       "1  {'urls': [{'display_url': 'drumup.io/s/bHFvQv'...               0   \n",
       "\n",
       "  favorited filter_level   geo                  id              id_str  \\\n",
       "0     False          low  None  841571554702045184  841571554702045184   \n",
       "1     False          low  None  841571605742407680  841571605742407680   \n",
       "\n",
       "                         ...                         place possibly_sensitive  \\\n",
       "0                        ...                          None                NaN   \n",
       "1                        ...                          None              False   \n",
       "\n",
       "  retweet_count retweeted                                   retweeted_status  \\\n",
       "0             0     False  {'id': 841570860335013888, 'in_reply_to_user_i...   \n",
       "1             0     False                                                NaN   \n",
       "\n",
       "                                              source  \\\n",
       "0  <a href=\"https://twitter.com/alevergara78\" rel...   \n",
       "1  <a href=\"https://drumup.io\" rel=\"nofollow\">dru...   \n",
       "\n",
       "                                                text   timestamp_ms truncated  \\\n",
       "0  RT @Andy_RedCat: The future of online advertis...  1489481268941     False   \n",
       "1  Using machine learning to secure #identity and...  1489481281110     False   \n",
       "\n",
       "                                                user  \n",
       "0  {'default_profile_image': False, 'id': 1045204...  \n",
       "1  {'default_profile_image': False, 'id': 8321238...  \n",
       "\n",
       "[2 rows x 27 columns]"
      ]
     },
     "execution_count": 25,
     "metadata": {},
     "output_type": "execute_result"
    }
   ],
   "source": [
    "import pandas as pd\n",
    "pd.DataFrame(mydata)"
   ]
  },
  {
   "cell_type": "markdown",
   "metadata": {
    "collapsed": true
   },
   "source": [
    "##  Search for a term and control hit results (Preferred!)<a name=\"_ search for a term and control hit results (preferred!)\"></a>"
   ]
  },
  {
   "cell_type": "code",
   "execution_count": 26,
   "metadata": {},
   "outputs": [],
   "source": [
    "twitter = Twitter(auth=oauth)\n",
    "nlptweets = twitter.search.tweets(q='#nlp', result_type='recent', lang='en', count=10)"
   ]
  },
  {
   "cell_type": "code",
   "execution_count": 27,
   "metadata": {},
   "outputs": [
    {
     "data": {
      "text/plain": [
       "dict_keys(['search_metadata', 'statuses'])"
      ]
     },
     "execution_count": 27,
     "metadata": {},
     "output_type": "execute_result"
    }
   ],
   "source": [
    "# this query returns a dictionary.  You need to pull out the tweets themselves from 'statuses'\n",
    "nlptweets.keys()"
   ]
  },
  {
   "cell_type": "code",
   "execution_count": 28,
   "metadata": {
    "scrolled": true
   },
   "outputs": [
    {
     "name": "stdout",
     "output_type": "stream",
     "text": [
      "RT @duggystoneshow: #listen to the #confidence #Coach @KeithB_N https://t.co/MjNAtCHnYX #podcast #podfamily #NLP #magic #chatshow https://t…\n",
      "Remembering that actions generally come from a #goodintention really does have benefits! 😊 https://t.co/wIEjeHAaXH #NLP #TopTipTuesday\n",
      "Transhuman consulting is India’s largest #NLP #Training provider consultant in #Mumbai. https://t.co/jQdE8mZDC9 https://t.co/smVfBxrFL0\n",
      "RT @DanielleSerpico: Its here! The next #NLP Training is up! https://t.co/TLS7s1TkAU Early Bird on now! #skills #career #communication\n",
      "RT @DanielleSerpico: I'm so excited! The next #NLP Training is up! https://t.co/TLS7s1TkAU #earlybird #training #skills #Dublin #life https…\n",
      "RT @andi_staub: 10'000 #AI #startups need to learn these lessons\n",
      "\n",
      "#NLP #deeplearning #NeuralNetworks \n",
      "#insurtech #fintech\n",
      "\n",
      "https://t.co/bAe…\n",
      "GREAT OPPORTUNITY TO LEARN FROM AN INTERNATIONAL ENSEMBLE OF HYPNOSIS EXPERTISE https://t.co/piI7JGc2wq #HYPNOSIS #HYPNOTHERAPY #NLP\n",
      "How is your mind running your business? #blog #tuesdaymotivation #nlp https://t.co/yG4TbQq78c\n",
      "RT @BetterBrainsUK: The major advancements in #DeepLearning in 2016  https://t.co/qqgbFI0PW6 #machinelearning #NLP #ArtificialIntelligence…\n",
      "RT @daniturcanu: The major advancements in #DeepLearning in 2016  https://t.co/z1djepawqb #machinelearning #NLP #ArtificialIntelligence #AI\n"
     ]
    }
   ],
   "source": [
    "for tweet in nlptweets['statuses']:\n",
    "    print(tweet['text'])"
   ]
  },
  {
   "cell_type": "markdown",
   "metadata": {},
   "source": [
    "## Making a DataFrame from JSON or Dict Results\n",
    "<a name=\"_making a dataframe from json or dict results\n",
    "\"></a>"
   ]
  },
  {
   "cell_type": "markdown",
   "metadata": {},
   "source": [
    "This is very easy. You can also do a google search for how to handle json, dicts, etc.  We have seen all of them in class so far."
   ]
  },
  {
   "cell_type": "code",
   "execution_count": 29,
   "metadata": {
    "collapsed": true
   },
   "outputs": [],
   "source": [
    "import pandas as pd"
   ]
  },
  {
   "cell_type": "code",
   "execution_count": 32,
   "metadata": {},
   "outputs": [
    {
     "data": {
      "text/html": [
       "<div>\n",
       "<table border=\"1\" class=\"dataframe\">\n",
       "  <thead>\n",
       "    <tr style=\"text-align: right;\">\n",
       "      <th></th>\n",
       "      <th>contributors</th>\n",
       "      <th>coordinates</th>\n",
       "      <th>created_at</th>\n",
       "      <th>entities</th>\n",
       "      <th>extended_entities</th>\n",
       "      <th>favorite_count</th>\n",
       "      <th>favorited</th>\n",
       "      <th>geo</th>\n",
       "      <th>id</th>\n",
       "      <th>id_str</th>\n",
       "      <th>...</th>\n",
       "      <th>metadata</th>\n",
       "      <th>place</th>\n",
       "      <th>possibly_sensitive</th>\n",
       "      <th>retweet_count</th>\n",
       "      <th>retweeted</th>\n",
       "      <th>retweeted_status</th>\n",
       "      <th>source</th>\n",
       "      <th>text</th>\n",
       "      <th>truncated</th>\n",
       "      <th>user</th>\n",
       "    </tr>\n",
       "  </thead>\n",
       "  <tbody>\n",
       "    <tr>\n",
       "      <th>0</th>\n",
       "      <td>None</td>\n",
       "      <td>None</td>\n",
       "      <td>Tue Mar 14 08:46:27 +0000 2017</td>\n",
       "      <td>{'urls': [{'display_url': 'apple.co/2lioqoH', ...</td>\n",
       "      <td>NaN</td>\n",
       "      <td>0</td>\n",
       "      <td>False</td>\n",
       "      <td>None</td>\n",
       "      <td>841571211310178304</td>\n",
       "      <td>841571211310178304</td>\n",
       "      <td>...</td>\n",
       "      <td>{'result_type': 'recent', 'iso_language_code':...</td>\n",
       "      <td>None</td>\n",
       "      <td>False</td>\n",
       "      <td>1</td>\n",
       "      <td>False</td>\n",
       "      <td>{'id': 841544517413134336, 'in_reply_to_user_i...</td>\n",
       "      <td>&lt;a href=\"http://twitter.com/download/iphone\" r...</td>\n",
       "      <td>RT @duggystoneshow: #listen to the #confidence...</td>\n",
       "      <td>False</td>\n",
       "      <td>{'default_profile_image': False, 'id': 3325976...</td>\n",
       "    </tr>\n",
       "    <tr>\n",
       "      <th>1</th>\n",
       "      <td>None</td>\n",
       "      <td>None</td>\n",
       "      <td>Tue Mar 14 08:44:28 +0000 2017</td>\n",
       "      <td>{'urls': [{'display_url': 'goo.gl/nu0zvW', 'ex...</td>\n",
       "      <td>NaN</td>\n",
       "      <td>0</td>\n",
       "      <td>False</td>\n",
       "      <td>None</td>\n",
       "      <td>841570713869901824</td>\n",
       "      <td>841570713869901824</td>\n",
       "      <td>...</td>\n",
       "      <td>{'result_type': 'recent', 'iso_language_code':...</td>\n",
       "      <td>None</td>\n",
       "      <td>False</td>\n",
       "      <td>0</td>\n",
       "      <td>False</td>\n",
       "      <td>NaN</td>\n",
       "      <td>&lt;a href=\"https://about.twitter.com/products/tw...</td>\n",
       "      <td>Remembering that actions generally come from a...</td>\n",
       "      <td>False</td>\n",
       "      <td>{'default_profile_image': False, 'id': 1225396...</td>\n",
       "    </tr>\n",
       "    <tr>\n",
       "      <th>2</th>\n",
       "      <td>None</td>\n",
       "      <td>None</td>\n",
       "      <td>Tue Mar 14 08:43:32 +0000 2017</td>\n",
       "      <td>{'urls': [{'display_url': 'transhumanconsultin...</td>\n",
       "      <td>{'media': [{'id_str': '841570357299503104', 'i...</td>\n",
       "      <td>0</td>\n",
       "      <td>False</td>\n",
       "      <td>None</td>\n",
       "      <td>841570477537611778</td>\n",
       "      <td>841570477537611778</td>\n",
       "      <td>...</td>\n",
       "      <td>{'result_type': 'recent', 'iso_language_code':...</td>\n",
       "      <td>None</td>\n",
       "      <td>False</td>\n",
       "      <td>0</td>\n",
       "      <td>False</td>\n",
       "      <td>NaN</td>\n",
       "      <td>&lt;a href=\"http://twitter.com\" rel=\"nofollow\"&gt;Tw...</td>\n",
       "      <td>Transhuman consulting is India’s largest #NLP ...</td>\n",
       "      <td>False</td>\n",
       "      <td>{'default_profile_image': False, 'id': 7966100...</td>\n",
       "    </tr>\n",
       "    <tr>\n",
       "      <th>3</th>\n",
       "      <td>None</td>\n",
       "      <td>None</td>\n",
       "      <td>Tue Mar 14 08:43:23 +0000 2017</td>\n",
       "      <td>{'urls': [{'display_url': 'eventbrite.ie/e/the...</td>\n",
       "      <td>NaN</td>\n",
       "      <td>0</td>\n",
       "      <td>False</td>\n",
       "      <td>None</td>\n",
       "      <td>841570442410373120</td>\n",
       "      <td>841570442410373120</td>\n",
       "      <td>...</td>\n",
       "      <td>{'result_type': 'recent', 'iso_language_code':...</td>\n",
       "      <td>None</td>\n",
       "      <td>False</td>\n",
       "      <td>0</td>\n",
       "      <td>False</td>\n",
       "      <td>{'id': 841364339927969794, 'in_reply_to_user_i...</td>\n",
       "      <td>&lt;a href=\"http://twitter.com/download/iphone\" r...</td>\n",
       "      <td>RT @DanielleSerpico: Its here! The next #NLP T...</td>\n",
       "      <td>False</td>\n",
       "      <td>{'default_profile_image': False, 'id': 8853768...</td>\n",
       "    </tr>\n",
       "    <tr>\n",
       "      <th>4</th>\n",
       "      <td>None</td>\n",
       "      <td>None</td>\n",
       "      <td>Tue Mar 14 08:43:17 +0000 2017</td>\n",
       "      <td>{'urls': [{'display_url': 'eventbrite.ie/e/the...</td>\n",
       "      <td>NaN</td>\n",
       "      <td>0</td>\n",
       "      <td>False</td>\n",
       "      <td>None</td>\n",
       "      <td>841570416510541824</td>\n",
       "      <td>841570416510541824</td>\n",
       "      <td>...</td>\n",
       "      <td>{'result_type': 'recent', 'iso_language_code':...</td>\n",
       "      <td>None</td>\n",
       "      <td>False</td>\n",
       "      <td>1</td>\n",
       "      <td>False</td>\n",
       "      <td>{'id': 841364903151730688, 'in_reply_to_user_i...</td>\n",
       "      <td>&lt;a href=\"http://twitter.com/download/iphone\" r...</td>\n",
       "      <td>RT @DanielleSerpico: I'm so excited! The next ...</td>\n",
       "      <td>False</td>\n",
       "      <td>{'default_profile_image': False, 'id': 8853768...</td>\n",
       "    </tr>\n",
       "  </tbody>\n",
       "</table>\n",
       "<p>5 rows × 27 columns</p>\n",
       "</div>"
      ],
      "text/plain": [
       "  contributors coordinates                      created_at  \\\n",
       "0         None        None  Tue Mar 14 08:46:27 +0000 2017   \n",
       "1         None        None  Tue Mar 14 08:44:28 +0000 2017   \n",
       "2         None        None  Tue Mar 14 08:43:32 +0000 2017   \n",
       "3         None        None  Tue Mar 14 08:43:23 +0000 2017   \n",
       "4         None        None  Tue Mar 14 08:43:17 +0000 2017   \n",
       "\n",
       "                                            entities  \\\n",
       "0  {'urls': [{'display_url': 'apple.co/2lioqoH', ...   \n",
       "1  {'urls': [{'display_url': 'goo.gl/nu0zvW', 'ex...   \n",
       "2  {'urls': [{'display_url': 'transhumanconsultin...   \n",
       "3  {'urls': [{'display_url': 'eventbrite.ie/e/the...   \n",
       "4  {'urls': [{'display_url': 'eventbrite.ie/e/the...   \n",
       "\n",
       "                                   extended_entities  favorite_count  \\\n",
       "0                                                NaN               0   \n",
       "1                                                NaN               0   \n",
       "2  {'media': [{'id_str': '841570357299503104', 'i...               0   \n",
       "3                                                NaN               0   \n",
       "4                                                NaN               0   \n",
       "\n",
       "  favorited   geo                  id              id_str  \\\n",
       "0     False  None  841571211310178304  841571211310178304   \n",
       "1     False  None  841570713869901824  841570713869901824   \n",
       "2     False  None  841570477537611778  841570477537611778   \n",
       "3     False  None  841570442410373120  841570442410373120   \n",
       "4     False  None  841570416510541824  841570416510541824   \n",
       "\n",
       "                         ...                          \\\n",
       "0                        ...                           \n",
       "1                        ...                           \n",
       "2                        ...                           \n",
       "3                        ...                           \n",
       "4                        ...                           \n",
       "\n",
       "                                            metadata place possibly_sensitive  \\\n",
       "0  {'result_type': 'recent', 'iso_language_code':...  None              False   \n",
       "1  {'result_type': 'recent', 'iso_language_code':...  None              False   \n",
       "2  {'result_type': 'recent', 'iso_language_code':...  None              False   \n",
       "3  {'result_type': 'recent', 'iso_language_code':...  None              False   \n",
       "4  {'result_type': 'recent', 'iso_language_code':...  None              False   \n",
       "\n",
       "  retweet_count retweeted                                   retweeted_status  \\\n",
       "0             1     False  {'id': 841544517413134336, 'in_reply_to_user_i...   \n",
       "1             0     False                                                NaN   \n",
       "2             0     False                                                NaN   \n",
       "3             0     False  {'id': 841364339927969794, 'in_reply_to_user_i...   \n",
       "4             1     False  {'id': 841364903151730688, 'in_reply_to_user_i...   \n",
       "\n",
       "                                              source  \\\n",
       "0  <a href=\"http://twitter.com/download/iphone\" r...   \n",
       "1  <a href=\"https://about.twitter.com/products/tw...   \n",
       "2  <a href=\"http://twitter.com\" rel=\"nofollow\">Tw...   \n",
       "3  <a href=\"http://twitter.com/download/iphone\" r...   \n",
       "4  <a href=\"http://twitter.com/download/iphone\" r...   \n",
       "\n",
       "                                                text truncated  \\\n",
       "0  RT @duggystoneshow: #listen to the #confidence...     False   \n",
       "1  Remembering that actions generally come from a...     False   \n",
       "2  Transhuman consulting is India’s largest #NLP ...     False   \n",
       "3  RT @DanielleSerpico: Its here! The next #NLP T...     False   \n",
       "4  RT @DanielleSerpico: I'm so excited! The next ...     False   \n",
       "\n",
       "                                                user  \n",
       "0  {'default_profile_image': False, 'id': 3325976...  \n",
       "1  {'default_profile_image': False, 'id': 1225396...  \n",
       "2  {'default_profile_image': False, 'id': 7966100...  \n",
       "3  {'default_profile_image': False, 'id': 8853768...  \n",
       "4  {'default_profile_image': False, 'id': 8853768...  \n",
       "\n",
       "[5 rows x 27 columns]"
      ]
     },
     "execution_count": 32,
     "metadata": {},
     "output_type": "execute_result"
    }
   ],
   "source": [
    "df = pd.DataFrame(nlptweets['statuses'])\n",
    "df.head()"
   ]
  },
  {
   "cell_type": "markdown",
   "metadata": {},
   "source": [
    "Ideally, in a good analysis, you would extract items from entities too.  Think about functions to apply to make new columns, or a new dataframe using the same tweet id as index and the entities as columns."
   ]
  },
  {
   "cell_type": "code",
   "execution_count": null,
   "metadata": {
    "collapsed": true
   },
   "outputs": [],
   "source": []
  }
 ],
 "metadata": {
  "anaconda-cloud": {},
  "kernelspec": {
   "display_name": "Python 3",
   "language": "python",
   "name": "python3"
  },
  "language_info": {
   "codemirror_mode": {
    "name": "ipython",
    "version": 3
   },
   "file_extension": ".py",
   "mimetype": "text/x-python",
   "name": "python",
   "nbconvert_exporter": "python",
   "pygments_lexer": "ipython3",
   "version": "3.6.3"
  }
 },
 "nbformat": 4,
 "nbformat_minor": 1
}
