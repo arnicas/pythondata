{
 "cells": [
  {
   "cell_type": "markdown",
   "metadata": {},
   "source": [
    "# Writing and Reading Files in Python\n",
    "\n",
    "There are lots of ways to handle reading and writing files in Python, especially for CSV data.\n",
    "\n",
    "## 0. Join strings"
   ]
  },
  {
   "cell_type": "code",
   "execution_count": 11,
   "metadata": {
    "collapsed": true
   },
   "outputs": [],
   "source": [
    "csvdata = [[2,4,5,12,\"fred\"],[34,43,21,43,\"annie\"], [324,3,43,4,\"jean\"]]"
   ]
  },
  {
   "cell_type": "code",
   "execution_count": 30,
   "metadata": {},
   "outputs": [
    {
     "data": {
      "text/plain": [
       "'fred,annie,howard'"
      ]
     },
     "execution_count": 30,
     "metadata": {},
     "output_type": "execute_result"
    }
   ],
   "source": [
    "# Remember how join works:\n",
    "','.join([\"fred\", \"annie\", \"howard\"])  # creates a string separated by ,"
   ]
  },
  {
   "cell_type": "code",
   "execution_count": 14,
   "metadata": {},
   "outputs": [
    {
     "ename": "TypeError",
     "evalue": "sequence item 0: expected str instance, int found",
     "output_type": "error",
     "traceback": [
      "\u001b[1;31m---------------------------------------------------------------------------\u001b[0m",
      "\u001b[1;31mTypeError\u001b[0m                                 Traceback (most recent call last)",
      "\u001b[1;32m<ipython-input-14-a49489e2688a>\u001b[0m in \u001b[0;36m<module>\u001b[1;34m()\u001b[0m\n\u001b[0;32m      1\u001b[0m \u001b[1;31m# won't work because of the numbers in it!\u001b[0m\u001b[1;33m\u001b[0m\u001b[1;33m\u001b[0m\u001b[0m\n\u001b[1;32m----> 2\u001b[1;33m \u001b[1;34m','\u001b[0m\u001b[1;33m.\u001b[0m\u001b[0mjoin\u001b[0m\u001b[1;33m(\u001b[0m\u001b[0mcsvdata\u001b[0m\u001b[1;33m[\u001b[0m\u001b[1;36m1\u001b[0m\u001b[1;33m]\u001b[0m\u001b[1;33m)\u001b[0m\u001b[1;33m\u001b[0m\u001b[0m\n\u001b[0m",
      "\u001b[1;31mTypeError\u001b[0m: sequence item 0: expected str instance, int found"
     ]
    }
   ],
   "source": [
    "# won't work because of the numbers in it! \n",
    "','.join(csvdata[1])"
   ]
  },
  {
   "cell_type": "code",
   "execution_count": 15,
   "metadata": {},
   "outputs": [
    {
     "data": {
      "text/plain": [
       "'34,43,21,43,annie'"
      ]
     },
     "execution_count": 15,
     "metadata": {},
     "output_type": "execute_result"
    }
   ],
   "source": [
    "# change the type of numbers from int to str \n",
    "row = csvdata[1]\n",
    "','.join([ str(row[0]), str(row[1]), str(row[2]), str(row[3]), str(row[4]) ])"
   ]
  },
  {
   "cell_type": "code",
   "execution_count": 31,
   "metadata": {},
   "outputs": [
    {
     "name": "stdout",
     "output_type": "stream",
     "text": [
      "['324', '3', '43', '4', 'jean']\n"
     ]
    },
    {
     "data": {
      "text/plain": [
       "'324,3,43,4,jean'"
      ]
     },
     "execution_count": 31,
     "metadata": {},
     "output_type": "execute_result"
    }
   ],
   "source": [
    "#or you can make it all strings first:\n",
    "row = [str(item) for item in row]\n",
    "print(row)\n",
    "','.join(row)"
   ]
  },
  {
   "cell_type": "markdown",
   "metadata": {},
   "source": [
    "## 1. Using basic functions of Python\n",
    "\n",
    "\n",
    "**When we open a file for writing, we need to say \"w\" for the write operation. Read is the default (but you can also say 'r' if you prefer when reading.)**\n",
    "\n",
    "*Note*: In Python3, if you have an error with characters it can't read, you can get around it by saying\n",
    "`errors=\"ignore\"` in your file() function.\n",
    "## 1.1. Writing "
   ]
  },
  {
   "cell_type": "code",
   "execution_count": 18,
   "metadata": {},
   "outputs": [
    {
     "name": "stdout",
     "output_type": "stream",
     "text": [
      "['2', '4', '5', '12', 'fred']\n",
      "['34', '43', '21', '43', 'annie']\n",
      "['324', '3', '43', '4', 'jean']\n"
     ]
    }
   ],
   "source": [
    "with open(\"data/myfile.csv\", \"w\", errors=\"ignore\") as handle:\n",
    "    # up here, print your headers to the file:\n",
    "    handle.write(\"Score1,Score2,Score3,Score4,Name\\n\")\n",
    "    for row in csvdata:\n",
    "        # we loop through the data -- but we have to make it a string\n",
    "        # to write it with the plain file write command.\n",
    "        # each string has to end in a \\n -- new line.\n",
    "        #handle.write(\"Some string\")\n",
    "        row = [str(item) for item in row]\n",
    "        print(row)\n",
    "        handle.write(','.join(row) + \"\\n\")"
   ]
  },
  {
   "cell_type": "markdown",
   "metadata": {},
   "source": [
    "**the option \"w\" overwrites the file **"
   ]
  },
  {
   "cell_type": "markdown",
   "metadata": {},
   "source": [
    "### Wrap It In a Function! "
   ]
  },
  {
   "cell_type": "code",
   "execution_count": 38,
   "metadata": {
    "collapsed": true
   },
   "outputs": [],
   "source": [
    "def write_csv(filepath, data, headers):\n",
    "    \"\"\" Takes the path of thefile to write to, data in list, and header string.\"\"\"\n",
    "    with open(filepath, \"w\", errors=\"ignore\") as handle:\n",
    "        # up here, print your headers to the file:\n",
    "        handle.write(headers)\n",
    "        for row in data:\n",
    "            # we loop through the data -- but we have to make it a string\n",
    "            # to write it with the plain file write command.\n",
    "            # each string has to end in a \\n -- new line.\n",
    "            #handle.write(\"Some string\")\n",
    "            row = [str(item) for item in row]\n",
    "            handle.write(','.join(row) + \"\\n\")\n",
    "        print(\"wrote file %s\" % filepath)"
   ]
  },
  {
   "cell_type": "code",
   "execution_count": 39,
   "metadata": {},
   "outputs": [
    {
     "name": "stdout",
     "output_type": "stream",
     "text": [
      "wrote file data/myfile1.csv\n"
     ]
    }
   ],
   "source": [
    "header = \"Score1,Score2,Score3,Score4,Name\\n\"\n",
    "\n",
    "# call the function with the arguments:\n",
    "write_csv(\"data/myfile1.csv\", csvdata, header)"
   ]
  },
  {
   "cell_type": "markdown",
   "metadata": {},
   "source": [
    "## 1.2. Reading"
   ]
  },
  {
   "cell_type": "code",
   "execution_count": 47,
   "metadata": {},
   "outputs": [
    {
     "name": "stdout",
     "output_type": "stream",
     "text": [
      "Score1,Score2,Score3,Score4,Name\n",
      "2,4,5,12,fred\n",
      "34,43,21,43,annie\n",
      "324,3,43,4,jean\n",
      "\n"
     ]
    }
   ],
   "source": [
    "with open(\"data/myfile.csv\",\"r\") as handle:\n",
    "    data = handle.read()\n",
    "    print(data)\n",
    "\n",
    "# This method returns a string, which is not convenient to manage data"
   ]
  },
  {
   "cell_type": "markdown",
   "metadata": {},
   "source": [
    "## 2. Using the CSV Module\n",
    "\n",
    "docs: https://docs.python.org/3.6/library/csv.html\n",
    "\n",
    "## 2.1. Reading"
   ]
  },
  {
   "cell_type": "code",
   "execution_count": 49,
   "metadata": {},
   "outputs": [
    {
     "name": "stdout",
     "output_type": "stream",
     "text": [
      "raw row looks like this: ['Score1', 'Score2', 'Score3', 'Score4', 'Name']\n",
      "Prettier Score1, Score2, Score3, Score4, Name\n",
      "raw row looks like this: ['2', '4', '5', '12', 'fred']\n",
      "Prettier 2, 4, 5, 12, fred\n",
      "raw row looks like this: ['34', '43', '21', '43', 'annie']\n",
      "Prettier 34, 43, 21, 43, annie\n",
      "raw row looks like this: ['324', '3', '43', '4', 'jean']\n",
      "Prettier 324, 3, 43, 4, jean\n"
     ]
    }
   ],
   "source": [
    "# reading a csv file using csv -- notice, no 'w', so 'r' is assumed:\n",
    "\n",
    "import csv\n",
    "\n",
    "with open('data/myfile.csv', 'r', errors='ignore') as csvfile:\n",
    "    spamreader = csv.reader(csvfile, delimiter=',')\n",
    "    for row in spamreader:\n",
    "        print(\"raw row looks like this:\", row)\n",
    "        # make it prettier with:\n",
    "        print(\"Prettier\", ', '.join(row))"
   ]
  },
  {
   "cell_type": "markdown",
   "metadata": {},
   "source": [
    "## 2.2. Writing"
   ]
  },
  {
   "cell_type": "code",
   "execution_count": 50,
   "metadata": {
    "collapsed": true
   },
   "outputs": [],
   "source": [
    "# Writing with it:\n",
    "\n",
    "with open('data/myfile3.csv', 'w', newline='\\n') as csvfile:\n",
    "    spamwriter = csv.writer(csvfile, delimiter=',')\n",
    "    for row in csvdata:\n",
    "        spamwriter.writerow(row)"
   ]
  },
  {
   "cell_type": "code",
   "execution_count": 56,
   "metadata": {},
   "outputs": [
    {
     "name": "stderr",
     "output_type": "stream",
     "text": [
      "La syntaxe de la commande n'est pas correcte.\n"
     ]
    }
   ],
   "source": [
    "# unix, probably won't work on windows - you can go find the file and look at it.\n",
    "!cat data/myfile3.csv"
   ]
  },
  {
   "cell_type": "markdown",
   "metadata": {},
   "source": [
    "## 2.3. CSV Dict files\n",
    "\n",
    "If your first row has labels in it, you can return a dictionary using the CSV DictReader."
   ]
  },
  {
   "cell_type": "code",
   "execution_count": 64,
   "metadata": {},
   "outputs": [
    {
     "name": "stdout",
     "output_type": "stream",
     "text": [
      "the raw dictionary OrderedDict([('Score1', '2'), ('Score2', '4'), ('Score3', '5'), ('Score4', '12'), ('Name', 'fred')])\n",
      "2 4 fred\n",
      "the raw dictionary OrderedDict([('Score1', '34'), ('Score2', '43'), ('Score3', '21'), ('Score4', '43'), ('Name', 'annie')])\n",
      "34 43 annie\n",
      "the raw dictionary OrderedDict([('Score1', '324'), ('Score2', '3'), ('Score3', '43'), ('Score4', '4'), ('Name', 'jean')])\n",
      "324 3 jean\n"
     ]
    }
   ],
   "source": [
    "import csv\n",
    "\n",
    "mydata = []\n",
    "with open('data/myfile.csv', errors='ignore') as csvfile:\n",
    "    reader = csv.DictReader(csvfile)\n",
    "    for row in reader:\n",
    "        print(\"the raw dictionary\", row)\n",
    "        # accessing certain columns:\n",
    "        print(row['Score1'], row['Score2'], row['Name'])\n",
    "        mydata.append(row)"
   ]
  },
  {
   "cell_type": "markdown",
   "metadata": {},
   "source": [
    "Likewise, you can write dictionary data out as a csv using the DictWriter.  Up above, we collected the rows into a list called mydata."
   ]
  },
  {
   "cell_type": "code",
   "execution_count": 76,
   "metadata": {},
   "outputs": [
    {
     "data": {
      "text/plain": [
       "[OrderedDict([('Score1', '2'),\n",
       "              ('Score2', '4'),\n",
       "              ('Score3', '5'),\n",
       "              ('Score4', '12'),\n",
       "              ('Name', 'fred')]),\n",
       " OrderedDict([('Score1', '34'),\n",
       "              ('Score2', '43'),\n",
       "              ('Score3', '21'),\n",
       "              ('Score4', '43'),\n",
       "              ('Name', 'annie')]),\n",
       " OrderedDict([('Score1', '324'),\n",
       "              ('Score2', '3'),\n",
       "              ('Score3', '43'),\n",
       "              ('Score4', '4'),\n",
       "              ('Name', 'jean')])]"
      ]
     },
     "execution_count": 76,
     "metadata": {},
     "output_type": "execute_result"
    }
   ],
   "source": [
    "mydata"
   ]
  },
  {
   "cell_type": "code",
   "execution_count": 66,
   "metadata": {},
   "outputs": [
    {
     "data": {
      "text/plain": [
       "odict_keys(['Score1', 'Score2', 'Score3', 'Score4', 'Name'])"
      ]
     },
     "execution_count": 66,
     "metadata": {},
     "output_type": "execute_result"
    }
   ],
   "source": [
    "# These are the column headers for the data file.  Remember there is no order here.\n",
    "mydata[0].keys()"
   ]
  },
  {
   "cell_type": "code",
   "execution_count": 14,
   "metadata": {
    "collapsed": true
   },
   "outputs": [],
   "source": [
    "# we can set the delimiter between fields to whatever we want, including tab - \\t\n",
    "# Notice you have kind of random order on the fields. That's because we just got the keys from the first item,\n",
    "# and didn't specify the order. if you say the order, it's controlled.\n",
    "\n",
    "with open('data/myfile3.csv', 'w', errors='ignore') as csvfile:\n",
    "    writer = csv.DictWriter(csvfile, delimiter='\\t', fieldnames=list(mydata[0].keys()))\n",
    "    writer.writeheader()\n",
    "    for row in mydata:\n",
    "        # accessing certain columns:\n",
    "        writer.writerow(row)"
   ]
  },
  {
   "cell_type": "code",
   "execution_count": 15,
   "metadata": {},
   "outputs": [
    {
     "name": "stdout",
     "output_type": "stream",
     "text": [
      "Name\tScore2\tScore4\tScore1\tScore3\r",
      "\r\n",
      "fred\t4\t12\t2\t5\r",
      "\r\n",
      "annie\t43\t43\t34\t21\r",
      "\r\n",
      "jean\t3\t4\t324\t43\r",
      "\r\n"
     ]
    }
   ],
   "source": [
    "!cat data/myfile3.csv"
   ]
  },
  {
   "cell_type": "code",
   "execution_count": 62,
   "metadata": {
    "collapsed": true
   },
   "outputs": [],
   "source": [
    "# Here we specify the field order and it controls how it gets written out.\n",
    "\n",
    "with open('data/myfile4.csv', 'w', errors='ignore') as csvfile:\n",
    "    writer = csv.DictWriter(csvfile, delimiter='\\t', fieldnames=['Name', 'Score1', 'Score2', 'Score3', 'Score4'])\n",
    "    writer.writeheader()\n",
    "    for row in mydata:\n",
    "        # accessing certain columns:\n",
    "        writer.writerow(row)"
   ]
  },
  {
   "cell_type": "code",
   "execution_count": 61,
   "metadata": {},
   "outputs": [
    {
     "name": "stdout",
     "output_type": "stream",
     "text": [
      "Name\tScore1\tScore2\tScore3\tScore4\r",
      "\r\n",
      "fred\t2\t4\t5\t12\r",
      "\r\n",
      "annie\t34\t43\t21\t43\r",
      "\r\n",
      "jean\t324\t3\t43\t4\r",
      "\r\n"
     ]
    }
   ],
   "source": [
    "!cat data/myfile4.csv"
   ]
  },
  {
   "cell_type": "markdown",
   "metadata": {
    "collapsed": true
   },
   "source": [
    "## 3. Using the pandas library \n",
    "### 3.1. Reading\n",
    "\n",
    "http://pandas.pydata.org/pandas-docs/stable/generated/pandas.read_csv.html"
   ]
  },
  {
   "cell_type": "code",
   "execution_count": 1,
   "metadata": {
    "collapsed": true
   },
   "outputs": [],
   "source": [
    "#import the library pandas\n",
    "\n",
    "import pandas as pd \n",
    "\n",
    "# Chargement CSV\n",
    "data_path = \"./data/goog.csv\"\n",
    "data = pd.read_csv(data_path, delimiter=',',header = 0)\n",
    "\n",
    "# header = 0 indicates the first row is headers, it's the default value\n",
    "# if no headers, put header = None \n",
    "# to look at the different args you can pass in this function, read the doc"
   ]
  },
  {
   "cell_type": "code",
   "execution_count": 2,
   "metadata": {},
   "outputs": [
    {
     "data": {
      "text/html": [
       "<div>\n",
       "<style>\n",
       "    .dataframe thead tr:only-child th {\n",
       "        text-align: right;\n",
       "    }\n",
       "\n",
       "    .dataframe thead th {\n",
       "        text-align: left;\n",
       "    }\n",
       "\n",
       "    .dataframe tbody tr th {\n",
       "        vertical-align: top;\n",
       "    }\n",
       "</style>\n",
       "<table border=\"1\" class=\"dataframe\">\n",
       "  <thead>\n",
       "    <tr style=\"text-align: right;\">\n",
       "      <th></th>\n",
       "      <th>Date</th>\n",
       "      <th>Open</th>\n",
       "      <th>High</th>\n",
       "      <th>Low</th>\n",
       "      <th>Close</th>\n",
       "      <th>Volume</th>\n",
       "    </tr>\n",
       "  </thead>\n",
       "  <tbody>\n",
       "    <tr>\n",
       "      <th>0</th>\n",
       "      <td>2010-01-04</td>\n",
       "      <td>313.16</td>\n",
       "      <td>314.44</td>\n",
       "      <td>311.81</td>\n",
       "      <td>313.06</td>\n",
       "      <td>NaN</td>\n",
       "    </tr>\n",
       "    <tr>\n",
       "      <th>1</th>\n",
       "      <td>2010-01-05</td>\n",
       "      <td>313.28</td>\n",
       "      <td>313.61</td>\n",
       "      <td>310.46</td>\n",
       "      <td>311.68</td>\n",
       "      <td>NaN</td>\n",
       "    </tr>\n",
       "    <tr>\n",
       "      <th>2</th>\n",
       "      <td>2010-01-06</td>\n",
       "      <td>312.62</td>\n",
       "      <td>312.62</td>\n",
       "      <td>302.88</td>\n",
       "      <td>303.83</td>\n",
       "      <td>NaN</td>\n",
       "    </tr>\n",
       "    <tr>\n",
       "      <th>3</th>\n",
       "      <td>2010-01-07</td>\n",
       "      <td>304.40</td>\n",
       "      <td>304.70</td>\n",
       "      <td>296.03</td>\n",
       "      <td>296.75</td>\n",
       "      <td>NaN</td>\n",
       "    </tr>\n",
       "    <tr>\n",
       "      <th>4</th>\n",
       "      <td>2010-01-08</td>\n",
       "      <td>295.70</td>\n",
       "      <td>301.32</td>\n",
       "      <td>294.26</td>\n",
       "      <td>300.71</td>\n",
       "      <td>NaN</td>\n",
       "    </tr>\n",
       "  </tbody>\n",
       "</table>\n",
       "</div>"
      ],
      "text/plain": [
       "         Date    Open    High     Low   Close  Volume\n",
       "0  2010-01-04  313.16  314.44  311.81  313.06     NaN\n",
       "1  2010-01-05  313.28  313.61  310.46  311.68     NaN\n",
       "2  2010-01-06  312.62  312.62  302.88  303.83     NaN\n",
       "3  2010-01-07  304.40  304.70  296.03  296.75     NaN\n",
       "4  2010-01-08  295.70  301.32  294.26  300.71     NaN"
      ]
     },
     "execution_count": 2,
     "metadata": {},
     "output_type": "execute_result"
    }
   ],
   "source": [
    "# data is a pandas DataFrame \n",
    "data.head()\n",
    "#.head() prints only the five first rows of the DataFrame"
   ]
  },
  {
   "cell_type": "code",
   "execution_count": 3,
   "metadata": {},
   "outputs": [
    {
     "name": "stdout",
     "output_type": "stream",
     "text": [
      "Index(['Date', 'Open', 'High', 'Low', 'Close', 'Volume'], dtype='object')\n",
      "\n",
      "\n",
      "313.28\n",
      "\n",
      "\n",
      "Date      2010-01-04\n",
      "Open          313.16\n",
      "High          314.44\n",
      "Low           311.81\n",
      "Close         313.06\n",
      "Volume           NaN\n",
      "Name: 0, dtype: object\n",
      "\n",
      "\n",
      "1    310.46\n",
      "2    302.88\n",
      "3    296.03\n",
      "4    294.26\n",
      "Name: Low, dtype: float64\n",
      "\n",
      "\n"
     ]
    },
    {
     "data": {
      "text/plain": [
       "0    2010-01-04\n",
       "1    2010-01-05\n",
       "2    2010-01-06\n",
       "3    2010-01-07\n",
       "4    2010-01-08\n",
       "Name: Date, dtype: object"
      ]
     },
     "execution_count": 3,
     "metadata": {},
     "output_type": "execute_result"
    }
   ],
   "source": [
    "# manage a pandas dataFrame\n",
    "\n",
    "print(data.columns)\n",
    "print('\\n')\n",
    "print(data.iloc[1,1])\n",
    "print(\"\\n\")\n",
    "print(data.iloc[0,:])\n",
    "print(\"\\n\")\n",
    "print(data.iloc[1:5,3])\n",
    "print(\"\\n\")\n",
    "data['Date'].head()"
   ]
  },
  {
   "cell_type": "markdown",
   "metadata": {},
   "source": [
    "##### ** The week 2 is about pandas DataFrames and how to use them **\n",
    "\n",
    "### 3.2. Writing \n",
    "\n",
    "http://pandas.pydata.org/pandas-docs/stable/generated/pandas.DataFrame.to_csv.html"
   ]
  },
  {
   "cell_type": "code",
   "execution_count": 5,
   "metadata": {
    "collapsed": true
   },
   "outputs": [],
   "source": [
    "data.to_csv('./data/myfile5.csv', sep = ',')\n",
    "\n",
    "#sep and delimiter are equivalent\n",
    "# see the doc for other arguments"
   ]
  },
  {
   "cell_type": "markdown",
   "metadata": {},
   "source": [
    "** The function overwrites the file**"
   ]
  },
  {
   "cell_type": "code",
   "execution_count": null,
   "metadata": {
    "collapsed": true
   },
   "outputs": [],
   "source": []
  }
 ],
 "metadata": {
  "anaconda-cloud": {},
  "kernelspec": {
   "display_name": "Python 3",
   "language": "python",
   "name": "python3"
  },
  "language_info": {
   "codemirror_mode": {
    "name": "ipython",
    "version": 3
   },
   "file_extension": ".py",
   "mimetype": "text/x-python",
   "name": "python",
   "nbconvert_exporter": "python",
   "pygments_lexer": "ipython3",
   "version": "3.6.1"
  }
 },
 "nbformat": 4,
 "nbformat_minor": 1
}
