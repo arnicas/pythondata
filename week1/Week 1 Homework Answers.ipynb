{
 "cells": [
  {
   "cell_type": "markdown",
   "metadata": {},
   "source": [
    "# Week 1: Homework Answers"
   ]
  },
  {
   "cell_type": "markdown",
   "metadata": {
    "collapsed": true
   },
   "source": [
    "### Homework Question 1:\n",
    "\n",
    "\n",
    "Write the function called \"get_lowest\", and make it similar to get_highest. \n",
    "It should take the same arguments, the data set and the column number. \n",
    "Show it working with the column index for Low.\n",
    "\n",
    "Hint: set the initial value of your variable to float(\"inf\"), which is infinity.\n",
    "\n",
    "Your answer to q1:----------------------\n",
    "    "
   ]
  },
  {
   "cell_type": "code",
   "execution_count": null,
   "metadata": {
    "collapsed": true
   },
   "outputs": [],
   "source": [
    "# fix this so it does as required above\n",
    "def get_lowest(data,column):\n",
    "    lowest = float(\"inf\")\n",
    "    for row in data:\n",
    "        vals = row.split(\",\")\n",
    "        if float(vals[column]) < lowest:\n",
    "            lowest = float(vals[column])\n",
    "    return lowest"
   ]
  },
  {
   "cell_type": "markdown",
   "metadata": {
    "collapsed": true
   },
   "source": [
    "*Now we check the result for the column Low*"
   ]
  },
  {
   "cell_type": "code",
   "execution_count": null,
   "metadata": {
    "collapsed": true
   },
   "outputs": [],
   "source": [
    "def read_data(filename):\n",
    "    # Function takes file path, and returns a list of the rows of the data\n",
    "    data = []\n",
    "    with open(filename, errors=\"ignore\") as file:\n",
    "        for row in file:\n",
    "            data.append(row)\n",
    "    return data"
   ]
  },
  {
   "cell_type": "code",
   "execution_count": null,
   "metadata": {
    "collapsed": true
   },
   "outputs": [],
   "source": [
    "mydata = read_data(\"data/goog.csv\")\n",
    "mydata = mydata[1:]"
   ]
  },
  {
   "cell_type": "code",
   "execution_count": null,
   "metadata": {},
   "outputs": [],
   "source": [
    "get_lowest(mydata, 3)"
   ]
  },
  {
   "cell_type": "markdown",
   "metadata": {},
   "source": [
    "**Be aware that the function is made for a dataset obtained using Python basic functions and not ones from CSV or Pandas libraries**"
   ]
  },
  {
   "cell_type": "markdown",
   "metadata": {},
   "source": [
    "### Homework Question 2:\n",
    "\n",
    "\n",
    "Now write a function that calculates the difference between the day's open and close stock price, and return it. Name your function \"get_difference\". It should take as argument a row of the dataset.  Hint: A row means mydata[3] (or any other index), for instance!"
   ]
  },
  {
   "cell_type": "code",
   "execution_count": null,
   "metadata": {
    "collapsed": true
   },
   "outputs": [],
   "source": [
    "def get_difference(row):\n",
    "    vals = row.split(\",\")\n",
    "    return (float(vals[4])-float(vals[1]))"
   ]
  },
  {
   "cell_type": "code",
   "execution_count": null,
   "metadata": {},
   "outputs": [],
   "source": [
    "get_difference(mydata[3])"
   ]
  },
  {
   "cell_type": "markdown",
   "metadata": {},
   "source": [
    "## Homework Question 3\n",
    "\n",
    "You need to use tuples for this one.\n",
    "\n",
    "Rewrite your get_lowest function to return a tuple with the date of the lowest, as well as the closing value on that date. Name your function \"get_lowest_with_date\". It should take 2 arguments, the dataset and the column number for the lowest.\n",
    "\n",
    "\n",
    "Your answer to q3:------------------------"
   ]
  },
  {
   "cell_type": "code",
   "execution_count": null,
   "metadata": {
    "collapsed": true
   },
   "outputs": [],
   "source": []
  },
  {
   "cell_type": "code",
   "execution_count": null,
   "metadata": {
    "collapsed": true
   },
   "outputs": [],
   "source": [
    "def get_lowest_with_date(data, column):\n",
    "    lowest = float(\"inf\")\n",
    "    for row in data:\n",
    "        vals = row.split(\",\")\n",
    "        if float(vals[column]) < lowest:\n",
    "            lowest = float(vals[column])\n",
    "    return (vals[0],float(vals[4]),lowest)"
   ]
  },
  {
   "cell_type": "code",
   "execution_count": null,
   "metadata": {},
   "outputs": [],
   "source": [
    "get_lowest_with_date(mydata, 3)"
   ]
  },
  {
   "cell_type": "markdown",
   "metadata": {},
   "source": [
    "## Homework 4\n",
    "\n",
    "Write a function called \"get_volume_data\" that takes the data dictionary and returns a new dictionary of just the dates and closing volume values, if it's there.\n",
    "\n",
    "\n",
    "Your answer to q4:-------------------------\n",
    "    "
   ]
  },
  {
   "cell_type": "code",
   "execution_count": null,
   "metadata": {
    "collapsed": true
   },
   "outputs": [],
   "source": [
    "def get_volume_data(dictionary):\n",
    "    newdict = {}\n",
    "    for key,value in dictdata.items():\n",
    "        if len(value) == 5:\n",
    "            newdict[key] = float(value[4])\n",
    "    return newdict"
   ]
  },
  {
   "cell_type": "markdown",
   "metadata": {},
   "source": [
    "*Let's check the result*"
   ]
  },
  {
   "cell_type": "code",
   "execution_count": null,
   "metadata": {
    "collapsed": true
   },
   "outputs": [],
   "source": [
    "# use it to make the data dictionnary \n",
    "def make_dict(data):\n",
    "    mydict = {}\n",
    "    for row in data:\n",
    "        vals = row.split(',')\n",
    "        vals = [val.strip() for val in vals]\n",
    "        floats = [float(val) for val in vals[1:] if val != '']\n",
    "        mydict[vals[0]] = floats\n",
    "    return mydict"
   ]
  },
  {
   "cell_type": "code",
   "execution_count": null,
   "metadata": {
    "collapsed": true
   },
   "outputs": [],
   "source": [
    "dictdata = make_dict(mydata)"
   ]
  },
  {
   "cell_type": "code",
   "execution_count": null,
   "metadata": {},
   "outputs": [],
   "source": [
    "#show it running -- this should execute without an error:\n",
    "volumedict = get_volume_data(dictdata)"
   ]
  },
  {
   "cell_type": "code",
   "execution_count": null,
   "metadata": {},
   "outputs": [],
   "source": [
    "# this should also execute without error and show an item from the dict:\n",
    "list(volumedict.items())[0]"
   ]
  },
  {
   "cell_type": "code",
   "execution_count": null,
   "metadata": {
    "collapsed": true
   },
   "outputs": [],
   "source": []
  }
 ],
 "metadata": {
  "kernelspec": {
   "display_name": "Python 3",
   "language": "python",
   "name": "python3"
  },
  "language_info": {
   "codemirror_mode": {
    "name": "ipython",
    "version": 3
   },
   "file_extension": ".py",
   "mimetype": "text/x-python",
   "name": "python",
   "nbconvert_exporter": "python",
   "pygments_lexer": "ipython3",
   "version": "3.6.1"
  }
 },
 "nbformat": 4,
 "nbformat_minor": 1
}
