{
 "cells": [
  {
   "cell_type": "markdown",
   "metadata": {},
   "source": [
    "# Writing and Reading Files in Python\n",
    "\n",
    "There are lots of ways to handle reading and writing files in Python, especially for CSV data. \n",
    "\n",
    "You already know the method using Python basic functions and you are going to find out two more, using two different libraries : CSV and Pandas. \n",
    "\n",
    "## 0. Join strings"
   ]
  },
  {
   "cell_type": "code",
   "execution_count": null,
   "metadata": {
    "collapsed": true
   },
   "outputs": [],
   "source": [
    "csvdata = [[2,4,5,12,\"fred\"],[34,43,21,43,\"annie\"], [324,3,43,4,\"jean\"]]"
   ]
  },
  {
   "cell_type": "code",
   "execution_count": null,
   "metadata": {},
   "outputs": [],
   "source": [
    "# Remember how join works:\n",
    "','.join([\"fred\", \"annie\", \"howard\"])  # creates a string separated by ,"
   ]
  },
  {
   "cell_type": "code",
   "execution_count": null,
   "metadata": {},
   "outputs": [],
   "source": [
    "# won't work because of the numbers in it! \n",
    "','.join(csvdata[1])"
   ]
  },
  {
   "cell_type": "code",
   "execution_count": null,
   "metadata": {},
   "outputs": [],
   "source": [
    "# change the type of numbers from int to str \n",
    "row = csvdata[1]\n",
    "','.join([ str(row[0]), str(row[1]), str(row[2]), str(row[3]), str(row[4]) ])"
   ]
  },
  {
   "cell_type": "code",
   "execution_count": null,
   "metadata": {},
   "outputs": [],
   "source": [
    "#or you can make it all strings first:\n",
    "row = [str(item) for item in row]\n",
    "print(row)\n",
    "','.join(row)"
   ]
  },
  {
   "cell_type": "markdown",
   "metadata": {},
   "source": [
    "## 1. Using basic functions of Python\n",
    "\n",
    "\n",
    "**When we open a file for writing, we need to say \"w\" for the write operation. Read is the default (but you can also say 'r' if you prefer when reading.)**\n",
    "\n",
    "*Note*: In Python3, if you have an error with characters it can't read, you can get around it by saying\n",
    "`errors=\"ignore\"` in your file() function.\n",
    "## 1.1. Writing "
   ]
  },
  {
   "cell_type": "code",
   "execution_count": null,
   "metadata": {},
   "outputs": [],
   "source": [
    "with open(\"data/myfile.csv\", \"w\", errors=\"ignore\") as handle:\n",
    "    # up here, print your headers to the file:\n",
    "    handle.write(\"Score1,Score2,Score3,Score4,Name\\n\")\n",
    "    for row in csvdata:\n",
    "        # we loop through the data -- but we have to make it a string\n",
    "        # to write it with the plain file write command.\n",
    "        # each string has to end in a \\n -- new line.\n",
    "        #handle.write(\"Some string\")\n",
    "        row = [str(item) for item in row]\n",
    "        print(row)\n",
    "        handle.write(','.join(row) + \"\\n\")"
   ]
  },
  {
   "cell_type": "markdown",
   "metadata": {},
   "source": [
    "**the option \"w\" overwrites the file **"
   ]
  },
  {
   "cell_type": "markdown",
   "metadata": {},
   "source": [
    "### Wrap It In a Function! "
   ]
  },
  {
   "cell_type": "code",
   "execution_count": null,
   "metadata": {
    "collapsed": true
   },
   "outputs": [],
   "source": [
    "def write_csv(filepath, data, headers):\n",
    "    \"\"\" Takes the path of thefile to write to, data in list, and header string.\"\"\"\n",
    "    with open(filepath, \"w\", errors=\"ignore\") as handle:\n",
    "        # up here, print your headers to the file:\n",
    "        handle.write(headers)\n",
    "        for row in data:\n",
    "            # we loop through the data -- but we have to make it a string\n",
    "            # to write it with the plain file write command.\n",
    "            # each string has to end in a \\n -- new line.\n",
    "            #handle.write(\"Some string\")\n",
    "            row = [str(item) for item in row]\n",
    "            handle.write(','.join(row) + \"\\n\")\n",
    "        print(\"wrote file %s\" % filepath)"
   ]
  },
  {
   "cell_type": "code",
   "execution_count": null,
   "metadata": {},
   "outputs": [],
   "source": [
    "header = \"Score1,Score2,Score3,Score4,Name\\n\"\n",
    "\n",
    "# call the function with the arguments:\n",
    "write_csv(\"data/myfile1.csv\", csvdata, header)"
   ]
  },
  {
   "cell_type": "markdown",
   "metadata": {},
   "source": [
    "## 1.2. Reading"
   ]
  },
  {
   "cell_type": "code",
   "execution_count": null,
   "metadata": {},
   "outputs": [],
   "source": [
    "with open(\"data/myfile.csv\",\"r\") as handle:\n",
    "    data = handle.read()\n",
    "    print(data)\n",
    "\n",
    "# This method returns a string, which is not convenient to manage data"
   ]
  },
  {
   "cell_type": "markdown",
   "metadata": {},
   "source": [
    "## 2. Using the CSV Module\n",
    "\n",
    "docs: https://docs.python.org/3.6/library/csv.html\n",
    "\n",
    "## 2.1. Reading"
   ]
  },
  {
   "cell_type": "code",
   "execution_count": null,
   "metadata": {},
   "outputs": [],
   "source": [
    "# reading a csv file using csv -- notice, no 'w', so 'r' is assumed:\n",
    "\n",
    "import csv\n",
    "\n",
    "with open('data/myfile.csv', 'r', errors='ignore') as csvfile:\n",
    "    spamreader = csv.reader(csvfile, delimiter=',')\n",
    "    for row in spamreader:\n",
    "        print(\"raw row looks like this:\", row)\n",
    "        # make it prettier with:\n",
    "        print(\"Prettier\", ', '.join(row))"
   ]
  },
  {
   "cell_type": "markdown",
   "metadata": {},
   "source": [
    "## 2.2. Writing"
   ]
  },
  {
   "cell_type": "code",
   "execution_count": null,
   "metadata": {
    "collapsed": true
   },
   "outputs": [],
   "source": [
    "# Writing with it:\n",
    "\n",
    "with open('data/myfile3.csv', 'w', newline='\\n') as csvfile:\n",
    "    spamwriter = csv.writer(csvfile, delimiter=',')\n",
    "    for row in csvdata:\n",
    "        spamwriter.writerow(row)"
   ]
  },
  {
   "cell_type": "code",
   "execution_count": null,
   "metadata": {},
   "outputs": [],
   "source": [
    "# unix, probably won't work on windows - you can go find the file and look at it.\n",
    "!cat data/myfile3.csv"
   ]
  },
  {
   "cell_type": "markdown",
   "metadata": {},
   "source": [
    "## 2.3. CSV Dict files\n",
    "\n",
    "If your first row has labels in it, you can return a dictionary using the CSV DictReader."
   ]
  },
  {
   "cell_type": "code",
   "execution_count": null,
   "metadata": {
    "scrolled": true
   },
   "outputs": [],
   "source": [
    "import csv\n",
    "\n",
    "mydata = []\n",
    "with open('data/myfile.csv', errors='ignore') as csvfile:\n",
    "    reader = csv.DictReader(csvfile)\n",
    "    for row in reader:\n",
    "        print(\"the raw dictionary\", row)\n",
    "        # accessing certain columns:\n",
    "        print(row['Score1'], row['Score2'], row['Name'])\n",
    "        mydata.append(row)"
   ]
  },
  {
   "cell_type": "markdown",
   "metadata": {},
   "source": [
    "Likewise, you can write dictionary data out as a csv using the DictWriter.  Up above, we collected the rows into a list called mydata."
   ]
  },
  {
   "cell_type": "code",
   "execution_count": null,
   "metadata": {},
   "outputs": [],
   "source": [
    "mydata"
   ]
  },
  {
   "cell_type": "code",
   "execution_count": null,
   "metadata": {},
   "outputs": [],
   "source": [
    "# These are the column headers for the data file.  Remember there is no order here.\n",
    "mydata[0].keys()"
   ]
  },
  {
   "cell_type": "code",
   "execution_count": null,
   "metadata": {
    "collapsed": true
   },
   "outputs": [],
   "source": [
    "# we can set the delimiter between fields to whatever we want, including tab - \\t\n",
    "# Notice you have kind of random order on the fields. That's because we just got the keys from the first item,\n",
    "# and didn't specify the order. if you say the order, it's controlled.\n",
    "\n",
    "with open('data/myfile3.csv', 'w', errors='ignore') as csvfile:\n",
    "    writer = csv.DictWriter(csvfile, delimiter='\\t', fieldnames=list(mydata[0].keys()))\n",
    "    writer.writeheader()\n",
    "    for row in mydata:\n",
    "        # accessing certain columns:\n",
    "        writer.writerow(row)"
   ]
  },
  {
   "cell_type": "code",
   "execution_count": null,
   "metadata": {},
   "outputs": [],
   "source": [
    "!cat data/myfile3.csv"
   ]
  },
  {
   "cell_type": "code",
   "execution_count": null,
   "metadata": {
    "collapsed": true
   },
   "outputs": [],
   "source": [
    "# Here we specify the field order and it controls how it gets written out.\n",
    "\n",
    "with open('data/myfile4.csv', 'w', errors='ignore') as csvfile:\n",
    "    writer = csv.DictWriter(csvfile, delimiter='\\t', fieldnames=['Name', 'Score1', 'Score2', 'Score3', 'Score4'])\n",
    "    writer.writeheader()\n",
    "    for row in mydata:\n",
    "        # accessing certain columns:\n",
    "        writer.writerow(row)"
   ]
  },
  {
   "cell_type": "code",
   "execution_count": null,
   "metadata": {},
   "outputs": [],
   "source": [
    "!cat data/myfile4.csv"
   ]
  },
  {
   "cell_type": "markdown",
   "metadata": {
    "collapsed": true
   },
   "source": [
    "## 3. Using the pandas library \n",
    "### 3.1. Reading\n",
    "\n",
    "http://pandas.pydata.org/pandas-docs/stable/generated/pandas.read_csv.html"
   ]
  },
  {
   "cell_type": "code",
   "execution_count": null,
   "metadata": {
    "collapsed": true
   },
   "outputs": [],
   "source": [
    "#import the library pandas\n",
    "\n",
    "import pandas as pd \n",
    "\n",
    "# Chargement CSV\n",
    "data_path = \"./data/goog.csv\"\n",
    "data = pd.read_csv(data_path, delimiter=',',header = 0)\n",
    "\n",
    "# header = 0 indicates the first row is headers, it's the default value\n",
    "# if no headers, put header = None \n",
    "# to look at the different args you can pass in this function, read the doc"
   ]
  },
  {
   "cell_type": "code",
   "execution_count": null,
   "metadata": {},
   "outputs": [],
   "source": [
    "# data is a pandas DataFrame \n",
    "data.head()\n",
    "#.head() prints only the five first rows of the DataFrame"
   ]
  },
  {
   "cell_type": "code",
   "execution_count": null,
   "metadata": {},
   "outputs": [],
   "source": [
    "# manage a pandas dataFrame\n",
    "\n",
    "print(data.columns)\n",
    "print('\\n')\n",
    "print(data.iloc[1,1])\n",
    "print(\"\\n\")\n",
    "print(data.iloc[0,:])\n",
    "print(\"\\n\")\n",
    "print(data.iloc[1:5,3])\n",
    "print(\"\\n\")\n",
    "data['Date'].head()"
   ]
  },
  {
   "cell_type": "markdown",
   "metadata": {},
   "source": [
    "##### ** The week 2 is about pandas DataFrames and how to use them **\n",
    "\n",
    "### 3.2. Writing \n",
    "\n",
    "http://pandas.pydata.org/pandas-docs/stable/generated/pandas.DataFrame.to_csv.html"
   ]
  },
  {
   "cell_type": "code",
   "execution_count": null,
   "metadata": {
    "collapsed": true
   },
   "outputs": [],
   "source": [
    "data.to_csv('./data/myfile5.csv', sep = ',')\n",
    "\n",
    "#sep and delimiter are equivalent\n",
    "# see the doc for other arguments"
   ]
  },
  {
   "cell_type": "markdown",
   "metadata": {},
   "source": [
    "** The function overwrites the file**"
   ]
  },
  {
   "cell_type": "code",
   "execution_count": null,
   "metadata": {},
   "outputs": [],
   "source": [
    "cat ./data/myfile5.csv"
   ]
  },
  {
   "cell_type": "code",
   "execution_count": null,
   "metadata": {
    "collapsed": true
   },
   "outputs": [],
   "source": []
  }
 ],
 "metadata": {
  "anaconda-cloud": {},
  "kernelspec": {
   "display_name": "Python 3",
   "language": "python",
   "name": "python3"
  },
  "language_info": {
   "codemirror_mode": {
    "name": "ipython",
    "version": 3
   },
   "file_extension": ".py",
   "mimetype": "text/x-python",
   "name": "python",
   "nbconvert_exporter": "python",
   "pygments_lexer": "ipython3",
   "version": "3.6.1"
  }
 },
 "nbformat": 4,
 "nbformat_minor": 1
}
