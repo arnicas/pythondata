{
 "cells": [
  {
   "cell_type": "markdown",
   "metadata": {},
   "source": [
    "# Writing and Reading Files in Python\n",
    "\n",
    "There are lots of ways to handle reading and writing files in Python, especially for CSV data.\n",
    "\n",
    "*Note*: In Python3, if you have an error with characters it can't read, you can get around it by saying\n",
    "\n",
    "`errors=\"ignore\"` in your file() function.\n",
    "\n",
    "Remember pandas will do it for you with the .read_csv and .write_csv functions, too."
   ]
  },
  {
   "cell_type": "code",
   "execution_count": 1,
   "metadata": {
    "collapsed": false
   },
   "outputs": [],
   "source": [
    "csvdata = [[2,4,5,12,\"fred\"],[34,43,21,43,\"annie\"], [324,3,43,4,\"jean\"]]"
   ]
  },
  {
   "cell_type": "code",
   "execution_count": 3,
   "metadata": {
    "collapsed": false
   },
   "outputs": [],
   "source": [
    "# Remember how join works:"
   ]
  },
  {
   "cell_type": "code",
   "execution_count": 4,
   "metadata": {
    "collapsed": false
   },
   "outputs": [
    {
     "data": {
      "text/plain": [
       "'fred,annie,howard'"
      ]
     },
     "execution_count": 4,
     "metadata": {},
     "output_type": "execute_result"
    }
   ],
   "source": [
    "','.join([\"fred\", \"annie\", \"howard\"])  # creates a string separated by ,"
   ]
  },
  {
   "cell_type": "code",
   "execution_count": 5,
   "metadata": {
    "collapsed": false
   },
   "outputs": [
    {
     "ename": "TypeError",
     "evalue": "sequence item 0: expected str instance, int found",
     "output_type": "error",
     "traceback": [
      "\u001b[0;31m---------------------------------------------------------------------------\u001b[0m",
      "\u001b[0;31mTypeError\u001b[0m                                 Traceback (most recent call last)",
      "\u001b[0;32m<ipython-input-5-a49489e2688a>\u001b[0m in \u001b[0;36m<module>\u001b[0;34m()\u001b[0m\n\u001b[1;32m      1\u001b[0m \u001b[0;31m# won't work because of the numbers in it!\u001b[0m\u001b[0;34m\u001b[0m\u001b[0;34m\u001b[0m\u001b[0m\n\u001b[0;32m----> 2\u001b[0;31m \u001b[0;34m','\u001b[0m\u001b[0;34m.\u001b[0m\u001b[0mjoin\u001b[0m\u001b[0;34m(\u001b[0m\u001b[0mcsvdata\u001b[0m\u001b[0;34m[\u001b[0m\u001b[0;36m1\u001b[0m\u001b[0;34m]\u001b[0m\u001b[0;34m)\u001b[0m\u001b[0;34m\u001b[0m\u001b[0m\n\u001b[0m",
      "\u001b[0;31mTypeError\u001b[0m: sequence item 0: expected str instance, int found"
     ]
    }
   ],
   "source": [
    "# won't work because of the numbers in it!\n",
    "','.join(csvdata[1])"
   ]
  },
  {
   "cell_type": "code",
   "execution_count": 6,
   "metadata": {
    "collapsed": false
   },
   "outputs": [
    {
     "data": {
      "text/plain": [
       "'34,43,21,43,annie'"
      ]
     },
     "execution_count": 6,
     "metadata": {},
     "output_type": "execute_result"
    }
   ],
   "source": [
    "row = csvdata[1]\n",
    "','.join([ str(row[0]), str(row[1]), str(row[2]), str(row[3]), str(row[4]) ])"
   ]
  },
  {
   "cell_type": "code",
   "execution_count": 7,
   "metadata": {
    "collapsed": false
   },
   "outputs": [
    {
     "data": {
      "text/plain": [
       "['34', '43', '21', '43', 'annie']"
      ]
     },
     "execution_count": 7,
     "metadata": {},
     "output_type": "execute_result"
    }
   ],
   "source": [
    "#or you can make it all strings first:\n",
    "\n",
    "row = [str(item) for item in row]\n",
    "row"
   ]
  },
  {
   "cell_type": "markdown",
   "metadata": {},
   "source": [
    "**When we open a file for writing, we need to say \"w\" for the write operation. Read is the default (but you can also say 'r' if you prefer when reading.)**"
   ]
  },
  {
   "cell_type": "code",
   "execution_count": 64,
   "metadata": {
    "collapsed": false
   },
   "outputs": [
    {
     "name": "stdout",
     "output_type": "stream",
     "text": [
      "['2', '4', '5', '12', 'fred']\n",
      "['34', '43', '21', '43', 'annie']\n",
      "['324', '3', '43', '4', 'jean']\n"
     ]
    }
   ],
   "source": [
    "with open(\"data/myfile.csv\", \"w\", errors=\"ignore\") as handle:\n",
    "    # up here, print your headers to the file:\n",
    "    handle.write(\"Score1,Score2,Score3,Score4,Name\\n\")\n",
    "    for row in csvdata:\n",
    "        # we loop through the data -- but we have to make it a string\n",
    "        # to write it with the plain file write command.\n",
    "        # each string has to end in a \\n -- new line.\n",
    "        #handle.write(\"Some string\")\n",
    "        row = [str(item) for item in row]\n",
    "        print(row)\n",
    "        handle.write(','.join(row) + \"\\n\")"
   ]
  },
  {
   "cell_type": "markdown",
   "metadata": {},
   "source": [
    "## Wrap It In a Function! "
   ]
  },
  {
   "cell_type": "code",
   "execution_count": 2,
   "metadata": {
    "collapsed": true
   },
   "outputs": [],
   "source": [
    "def write_csv(filename, data, headers):\n",
    "    \"\"\" Takes file to write to, data in list, and header string.\"\"\"\n",
    "    with open(filename, \"w\", errors=\"ignore\") as handle:\n",
    "        # up here, print your headers to the file:\n",
    "        handle.write(headers)\n",
    "        for row in data:\n",
    "            # we loop through the data -- but we have to make it a string\n",
    "            # to write it with the plain file write command.\n",
    "            # each string has to end in a \\n -- new line.\n",
    "            #handle.write(\"Some string\")\n",
    "            row = [str(item) for item in row]\n",
    "            handle.write(','.join(row) + \"\\n\")\n",
    "        print(\"wrote file %s\" % filename)"
   ]
  },
  {
   "cell_type": "code",
   "execution_count": 4,
   "metadata": {
    "collapsed": false
   },
   "outputs": [
    {
     "name": "stdout",
     "output_type": "stream",
     "text": [
      "wrote file myfile1.csv\n"
     ]
    }
   ],
   "source": [
    "header = \"Score1,Score2,Score3,Score4,Name\\n\"\n",
    "\n",
    "# call the function with the arguments:\n",
    "write_csv(\"myfile1.csv\", csvdata, header)"
   ]
  },
  {
   "cell_type": "markdown",
   "metadata": {},
   "source": [
    "## Using the CSV Module"
   ]
  },
  {
   "cell_type": "markdown",
   "metadata": {},
   "source": [
    "docs: https://docs.python.org/3.6/library/csv.html"
   ]
  },
  {
   "cell_type": "code",
   "execution_count": 7,
   "metadata": {
    "collapsed": false
   },
   "outputs": [
    {
     "name": "stdout",
     "output_type": "stream",
     "text": [
      "raw row looks like this: ['Score1', 'Score2', 'Score3', 'Score4', 'Name']\n",
      "Prettier Score1, Score2, Score3, Score4, Name\n",
      "raw row looks like this: ['2', '4', '5', '12', 'fred']\n",
      "Prettier 2, 4, 5, 12, fred\n",
      "raw row looks like this: ['34', '43', '21', '43', 'annie']\n",
      "Prettier 34, 43, 21, 43, annie\n",
      "raw row looks like this: ['324', '3', '43', '4', 'jean']\n",
      "Prettier 324, 3, 43, 4, jean\n"
     ]
    }
   ],
   "source": [
    "# reading a csv file using csv -- notice, no 'w', so 'r' is assumed:\n",
    "\n",
    "import csv\n",
    "with open('data/myfile.csv', 'r', errors='ignore') as csvfile:\n",
    "    spamreader = csv.reader(csvfile, delimiter=',')\n",
    "    for row in spamreader:\n",
    "        print(\"raw row looks like this:\", row)\n",
    "        # make it prettier with:\n",
    "        print(\"Prettier\", ', '.join(row))"
   ]
  },
  {
   "cell_type": "code",
   "execution_count": 10,
   "metadata": {
    "collapsed": false
   },
   "outputs": [],
   "source": [
    "# Writing with it:\n",
    "\n",
    "with open('data/myfile3.csv', 'w', newline='\\n') as csvfile:\n",
    "    spamwriter = csv.writer(csvfile, delimiter=',')\n",
    "    for row in csvdata:\n",
    "        spamwriter.writerow(row)"
   ]
  },
  {
   "cell_type": "code",
   "execution_count": 11,
   "metadata": {
    "collapsed": false
   },
   "outputs": [
    {
     "name": "stdout",
     "output_type": "stream",
     "text": [
      "2,4,5,12,fred\r",
      "\r\n",
      "34,43,21,43,annie\r",
      "\r\n",
      "324,3,43,4,jean\r",
      "\r\n"
     ]
    }
   ],
   "source": [
    "# unix, probably won't work on windows - you can go find the file and look at it.\n",
    "!cat data/myfile3.csv"
   ]
  },
  {
   "cell_type": "markdown",
   "metadata": {},
   "source": [
    "## CSV Dict files"
   ]
  },
  {
   "cell_type": "markdown",
   "metadata": {},
   "source": [
    "If your first row has labels in it, you can return a dictionary using the CSV DictReader."
   ]
  },
  {
   "cell_type": "code",
   "execution_count": 12,
   "metadata": {
    "collapsed": false
   },
   "outputs": [
    {
     "name": "stdout",
     "output_type": "stream",
     "text": [
      "the raw dictionary {'Name': 'fred', 'Score2': '4', 'Score4': '12', 'Score1': '2', 'Score3': '5'}\n",
      "2 4 fred\n",
      "the raw dictionary {'Name': 'annie', 'Score2': '43', 'Score4': '43', 'Score1': '34', 'Score3': '21'}\n",
      "34 43 annie\n",
      "the raw dictionary {'Name': 'jean', 'Score2': '3', 'Score4': '4', 'Score1': '324', 'Score3': '43'}\n",
      "324 3 jean\n"
     ]
    }
   ],
   "source": [
    "import csv\n",
    "\n",
    "mydata = []\n",
    "with open('data/myfile.csv', errors='ignore') as csvfile:\n",
    "    reader = csv.DictReader(csvfile)\n",
    "    for row in reader:\n",
    "        print(\"the raw dictionary\", row)\n",
    "        # accessing certain columns:\n",
    "        print(row['Score1'], row['Score2'], row['Name'])\n",
    "        mydata.append(row)"
   ]
  },
  {
   "cell_type": "markdown",
   "metadata": {},
   "source": [
    "Likewise, you can write dictionary data out as a csv using the DictWriter.  Up above, we collected the rows into a list called mydata."
   ]
  },
  {
   "cell_type": "code",
   "execution_count": 13,
   "metadata": {
    "collapsed": false
   },
   "outputs": [
    {
     "data": {
      "text/plain": [
       "[{'Name': 'fred', 'Score1': '2', 'Score2': '4', 'Score3': '5', 'Score4': '12'},\n",
       " {'Name': 'annie',\n",
       "  'Score1': '34',\n",
       "  'Score2': '43',\n",
       "  'Score3': '21',\n",
       "  'Score4': '43'},\n",
       " {'Name': 'jean',\n",
       "  'Score1': '324',\n",
       "  'Score2': '3',\n",
       "  'Score3': '43',\n",
       "  'Score4': '4'}]"
      ]
     },
     "execution_count": 13,
     "metadata": {},
     "output_type": "execute_result"
    }
   ],
   "source": [
    "mydata"
   ]
  },
  {
   "cell_type": "code",
   "execution_count": 52,
   "metadata": {
    "collapsed": false
   },
   "outputs": [
    {
     "data": {
      "text/plain": [
       "dict_keys(['Score2', 'Score4', 'Score3', 'Score1', 'Name'])"
      ]
     },
     "execution_count": 52,
     "metadata": {},
     "output_type": "execute_result"
    }
   ],
   "source": [
    "# These are the column headers for the data file.  Remember there is no order here.\n",
    "mydata[0].keys()"
   ]
  },
  {
   "cell_type": "code",
   "execution_count": 14,
   "metadata": {
    "collapsed": false
   },
   "outputs": [],
   "source": [
    "# we can set the delimiter between fields to whatever we want, including tab - \\t\n",
    "# Notice you have kind of random order on the fields. That's because we just got the keys from the first item,\n",
    "# and didn't specify the order. if you say the order, it's controlled.\n",
    "\n",
    "with open('data/myfile3.csv', 'w', errors='ignore') as csvfile:\n",
    "    writer = csv.DictWriter(csvfile, delimiter='\\t', fieldnames=list(mydata[0].keys()))\n",
    "    writer.writeheader()\n",
    "    for row in mydata:\n",
    "        # accessing certain columns:\n",
    "        writer.writerow(row)"
   ]
  },
  {
   "cell_type": "code",
   "execution_count": 15,
   "metadata": {
    "collapsed": false
   },
   "outputs": [
    {
     "name": "stdout",
     "output_type": "stream",
     "text": [
      "Name\tScore2\tScore4\tScore1\tScore3\r",
      "\r\n",
      "fred\t4\t12\t2\t5\r",
      "\r\n",
      "annie\t43\t43\t34\t21\r",
      "\r\n",
      "jean\t3\t4\t324\t43\r",
      "\r\n"
     ]
    }
   ],
   "source": [
    "!cat data/myfile3.csv"
   ]
  },
  {
   "cell_type": "code",
   "execution_count": 62,
   "metadata": {
    "collapsed": true
   },
   "outputs": [],
   "source": [
    "# Here we specify the field order and it controls how it gets written out.\n",
    "\n",
    "with open('data/myfile4.csv', 'w', errors='ignore') as csvfile:\n",
    "    writer = csv.DictWriter(csvfile, delimiter='\\t', fieldnames=['Name', 'Score1', 'Score2', 'Score3', 'Score4'])\n",
    "    writer.writeheader()\n",
    "    for row in mydata:\n",
    "        # accessing certain columns:\n",
    "        writer.writerow(row)"
   ]
  },
  {
   "cell_type": "code",
   "execution_count": 61,
   "metadata": {
    "collapsed": false
   },
   "outputs": [
    {
     "name": "stdout",
     "output_type": "stream",
     "text": [
      "Name\tScore1\tScore2\tScore3\tScore4\r",
      "\r\n",
      "fred\t2\t4\t5\t12\r",
      "\r\n",
      "annie\t34\t43\t21\t43\r",
      "\r\n",
      "jean\t324\t3\t43\t4\r",
      "\r\n"
     ]
    }
   ],
   "source": [
    "!cat data/myfile4.csv"
   ]
  },
  {
   "cell_type": "code",
   "execution_count": null,
   "metadata": {
    "collapsed": true
   },
   "outputs": [],
   "source": []
  }
 ],
 "metadata": {
  "anaconda-cloud": {},
  "kernelspec": {
   "display_name": "Python [conda env:pandasnlp]",
   "language": "python",
   "name": "conda-env-pandasnlp-py"
  },
  "language_info": {
   "codemirror_mode": {
    "name": "ipython",
    "version": 3
   },
   "file_extension": ".py",
   "mimetype": "text/x-python",
   "name": "python",
   "nbconvert_exporter": "python",
   "pygments_lexer": "ipython3",
   "version": "3.5.2"
  }
 },
 "nbformat": 4,
 "nbformat_minor": 1
}
