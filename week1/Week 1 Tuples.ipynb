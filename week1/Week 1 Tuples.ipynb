{
 "cells": [
  {
   "cell_type": "markdown",
   "metadata": {},
   "source": [
    "## Tuples\n",
    "\n",
    "### Let's Return the Date, too\n",
    "\n",
    "\n",
    "We didn't talk about \"tuples\" in the bootcamp, but they are like short lists. We use parentheses to indicate them: (item1, item2) or (item1, item2, item3), etc. We can use a tuple to return the date too, along with the value! We index the values the same way we do with lists, 0 for the first item and 1 for the second, etc.\n",
    "\n",
    "Please read this on tuples: https://www.tutorialspoint.com/python/python_tuples.htm . \n",
    "\n",
    "[Note that it was written in Python 2 -- the difference is in the print statement. In Python 3, we use `print(thing)`, in Python 2, `print thing`. ]\n",
    "\n",
    "\n",
    "Then read the chapter in Trinket, to remind yourself of the dictionaries .items() and .keys() as well, which return tuples: https://books.trinket.io/pfe/10-tuples.html\n",
    "\n",
    "    \n",
    "    "
   ]
  },
  {
   "cell_type": "code",
   "execution_count": null,
   "metadata": {
    "collapsed": true
   },
   "outputs": [],
   "source": [
    "# First we have to reload our data into the mydata variable\n",
    "def read_data(filename):\n",
    "    # Function takes file path, and returns a list of the rows of the data\n",
    "    data = []\n",
    "    with open(filename, errors=\"ignore\") as file:\n",
    "        for row in file:\n",
    "            data.append(row)\n",
    "    return data\n",
    "\n",
    "mydata = read_data(\"data/goog.csv\")"
   ]
  },
  {
   "cell_type": "code",
   "execution_count": null,
   "metadata": {
    "collapsed": true
   },
   "outputs": [],
   "source": [
    "def get_highest_with_date(data, column):\n",
    "#print(\"my column number is\", column)\n",
    "# take a list of rows and a column number, then return a tuple pair\n",
    "    highest = (0,0)\n",
    "    for row in data[1:]:   # why do we start with 1 and not 0?  Check the file for a tip...\n",
    "        vals = row.split(\",\")\n",
    "        # remember these are the cols: 'Date,Open,High,Low,Close,Volume\\n'\n",
    "        if float(vals[column]) > highest[1]:\n",
    "            #print(\"my row is now\", row)\n",
    "            #print(highest)\n",
    "            # we check the value in the second element using highest[1].\n",
    "            # then we assign the tuple to highest, using parens.  vals[0] is the date!\n",
    "            highest = (vals[0], float(vals[column]))\n",
    "            #print(\"after assignment:\", highest)\n",
    "    # now we return the tuple\n",
    "    return highest"
   ]
  },
  {
   "cell_type": "code",
   "execution_count": null,
   "metadata": {},
   "outputs": [],
   "source": [
    "mydata[2:5]"
   ]
  },
  {
   "cell_type": "code",
   "execution_count": null,
   "metadata": {},
   "outputs": [],
   "source": [
    "get_highest_with_date(mydata, 1)"
   ]
  },
  {
   "cell_type": "code",
   "execution_count": null,
   "metadata": {},
   "outputs": [],
   "source": [
    "get_highest_with_date(mydata, 3) # using the 4th column instead..."
   ]
  },
  {
   "cell_type": "markdown",
   "metadata": {},
   "source": [
    "If we want to use the results from the function, we must save to a variable or variables:"
   ]
  },
  {
   "cell_type": "code",
   "execution_count": null,
   "metadata": {
    "collapsed": true
   },
   "outputs": [],
   "source": [
    "date, value = get_highest_with_date(mydata, 1)"
   ]
  },
  {
   "cell_type": "code",
   "execution_count": null,
   "metadata": {},
   "outputs": [],
   "source": [
    "print(\"The date of the highest value was {}\".format(date)) \n",
    "print(\"The highest value was {}\".format(value))"
   ]
  },
  {
   "cell_type": "markdown",
   "metadata": {},
   "source": [
    "You can also save them into a single variable, but the resulting variable will still be a tuple, because we created it when we did this: `highest = (vals[0], float(vals[column]))`.  Those parentheses mean tuple with 2 items!\n",
    "    "
   ]
  },
  {
   "cell_type": "code",
   "execution_count": null,
   "metadata": {},
   "outputs": [],
   "source": [
    "results = get_highest_with_date(mydata, 1)\n",
    "type(results)"
   ]
  },
  {
   "cell_type": "code",
   "execution_count": null,
   "metadata": {},
   "outputs": [],
   "source": [
    "print(results[0])"
   ]
  },
  {
   "cell_type": "code",
   "execution_count": null,
   "metadata": {},
   "outputs": [],
   "source": [
    "print(results[1])"
   ]
  },
  {
   "cell_type": "markdown",
   "metadata": {},
   "source": [
    "The quiz in week 1 has stuff on tuples.  Make sure you understand them and that you did the reading."
   ]
  },
  {
   "cell_type": "code",
   "execution_count": null,
   "metadata": {
    "collapsed": true
   },
   "outputs": [],
   "source": []
  }
 ],
 "metadata": {
  "anaconda-cloud": {},
  "kernelspec": {
   "display_name": "Python 3",
   "language": "python",
   "name": "python3"
  },
  "language_info": {
   "codemirror_mode": {
    "name": "ipython",
    "version": 3
   },
   "file_extension": ".py",
   "mimetype": "text/x-python",
   "name": "python",
   "nbconvert_exporter": "python",
   "pygments_lexer": "ipython3",
   "version": "3.6.1"
  }
 },
 "nbformat": 4,
 "nbformat_minor": 1
}
