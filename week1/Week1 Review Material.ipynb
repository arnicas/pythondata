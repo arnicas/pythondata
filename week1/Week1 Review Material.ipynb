{
 "cells": [
  {
   "cell_type": "markdown",
   "metadata": {},
   "source": [
    "# Week1: CSV Data Analysis Review"
   ]
  },
  {
   "cell_type": "markdown",
   "metadata": {},
   "source": [
    "At the end of the Python bootcamp, you were analysing csv files.  This is the first step for most data analysis.\n",
    "\n",
    "In this lesson, we will add a few more tools to your concepts, including tuples. Then we will briefly introduce the basic tool for data analysis of multi-column datasets in Python, the pandas library.\n",
    "\n",
    "First...\n",
    "\n",
    "In order to read a file into the notebook, you need to know the **relative path from the current directory of the csv**. If you are using MacOS or Linux, you can see what files you have in the current directory by using \"ls\":"
   ]
  },
  {
   "cell_type": "code",
   "execution_count": null,
   "metadata": {
    "collapsed": true
   },
   "outputs": [],
   "source": [
    "ls"
   ]
  },
  {
   "cell_type": "markdown",
   "metadata": {},
   "source": [
    "To see which files/folders are above in the tree view:"
   ]
  },
  {
   "cell_type": "code",
   "execution_count": null,
   "metadata": {
    "collapsed": true
   },
   "outputs": [],
   "source": [
    "ls .."
   ]
  },
  {
   "cell_type": "markdown",
   "metadata": {},
   "source": [
    "To see which files/folders are below in the tree view in a specific folder, for example in data:"
   ]
  },
  {
   "cell_type": "code",
   "execution_count": null,
   "metadata": {
    "collapsed": true
   },
   "outputs": [],
   "source": [
    "ls data"
   ]
  },
  {
   "cell_type": "markdown",
   "metadata": {},
   "source": [
    "Then find the path to the csv you want to read.\n",
    "Here the path is: \"data/goog.csv\" "
   ]
  },
  {
   "cell_type": "code",
   "execution_count": null,
   "metadata": {
    "collapsed": true
   },
   "outputs": [],
   "source": [
    "with open(\"data/goog.csv\", errors=\"ignore\") as file:\n",
    "    rowCounter = 0\n",
    "    for row in file:\n",
    "        print(row)\n",
    "        rowCounter += 1  # add one to the counter for each row"
   ]
  },
  {
   "cell_type": "code",
   "execution_count": null,
   "metadata": {
    "collapsed": true
   },
   "outputs": [],
   "source": [
    "print(\"There are\", rowCounter, \"rows in this data.\")"
   ]
  },
  {
   "cell_type": "code",
   "execution_count": null,
   "metadata": {
    "collapsed": true,
    "scrolled": true
   },
   "outputs": [],
   "source": [
    "!head data/goog.csv"
   ]
  },
  {
   "cell_type": "markdown",
   "metadata": {},
   "source": [
    "What are some things we might want to know about this stock data?\n",
    "Maybe:\n",
    "    \n",
    "* highest value\n",
    "* lowest value\n",
    "* largest volume\n",
    "* biggest difference in a single day (high-low)\n",
    "\n",
    "You've done some of those things in the bootcamp when you looked for longest and shortest names.  We didn't save the data when we read it in.  We need to assign it to a variable.  I'll make a function to read and return that value."
   ]
  },
  {
   "cell_type": "code",
   "execution_count": null,
   "metadata": {
    "collapsed": true
   },
   "outputs": [],
   "source": [
    "def read_data(filename):\n",
    "    # Function takes file path, and returns a list of the rows of the data\n",
    "    data = []\n",
    "    with open(filename, errors=\"ignore\") as file:\n",
    "        for row in file:\n",
    "            data.append(row)\n",
    "    return data"
   ]
  },
  {
   "cell_type": "code",
   "execution_count": null,
   "metadata": {
    "collapsed": true
   },
   "outputs": [],
   "source": [
    "mydata = read_data(\"data/goog.csv\")"
   ]
  },
  {
   "cell_type": "code",
   "execution_count": null,
   "metadata": {
    "collapsed": true
   },
   "outputs": [],
   "source": [
    "len(mydata)"
   ]
  },
  {
   "cell_type": "code",
   "execution_count": null,
   "metadata": {
    "collapsed": true
   },
   "outputs": [],
   "source": [
    "# Let's get rid of the first row using a slice operation to skip the first item\n",
    "mydata = mydata[1:]"
   ]
  },
  {
   "cell_type": "code",
   "execution_count": null,
   "metadata": {},
   "outputs": [],
   "source": [
    "mydata[0]"
   ]
  },
  {
   "cell_type": "code",
   "execution_count": null,
   "metadata": {
    "collapsed": true
   },
   "outputs": [],
   "source": [
    "len(mydata)"
   ]
  },
  {
   "cell_type": "markdown",
   "metadata": {},
   "source": [
    "Now let's make a function to find the highest value.  The question is which value do we check?  Let's just look at the High value.  But to make this general, let's just pass in the index of the column we want to check.  That way it's easy to check other columns!\n"
   ]
  },
  {
   "cell_type": "code",
   "execution_count": null,
   "metadata": {
    "collapsed": true
   },
   "outputs": [],
   "source": [
    "def get_highest(data, column):\n",
    "    highest = 0\n",
    "    for row in data:\n",
    "        # we have to split it up by the comma, to use the column index:\n",
    "        vals = row.split(\",\")\n",
    "        print(vals)\n",
    "        if vals[column] > highest:\n",
    "            highest = vals[column]\n",
    "    return highest"
   ]
  },
  {
   "cell_type": "code",
   "execution_count": null,
   "metadata": {
    "collapsed": true
   },
   "outputs": [],
   "source": [
    "get_highest(mydata,2)"
   ]
  },
  {
   "cell_type": "markdown",
   "metadata": {},
   "source": [
    "The errors says it's a type error.  Remember, we read in text data.  We have to convert it to numbers to compare them!  There are decimals in stock data, so we want to make them floats."
   ]
  },
  {
   "cell_type": "code",
   "execution_count": null,
   "metadata": {
    "collapsed": true
   },
   "outputs": [],
   "source": [
    "def get_highest(data, column):\n",
    "    highest = 0\n",
    "    for row in data:\n",
    "        vals = row.split(\",\")\n",
    "        if float(vals[column]) > highest:\n",
    "            highest = float(vals[column])\n",
    "    return highest"
   ]
  },
  {
   "cell_type": "code",
   "execution_count": null,
   "metadata": {
    "collapsed": true
   },
   "outputs": [],
   "source": [
    "get_highest(mydata, 1)"
   ]
  },
  {
   "cell_type": "markdown",
   "metadata": {},
   "source": [
    "## Dictionaries Again\n",
    "\n",
    "We did dictionaries at the end of the Python Bootcamp.  Let's review a little bit.  If we wanted to store each row in a dictionary using the date as the key, we could do it like this:"
   ]
  },
  {
   "cell_type": "code",
   "execution_count": null,
   "metadata": {
    "collapsed": true
   },
   "outputs": [],
   "source": [
    "def make_dict(data):\n",
    "    mydict = {}\n",
    "    for row in data:\n",
    "        vals = row.split(',')\n",
    "        mydict[vals[0]] = vals[1:]\n",
    "    return mydict"
   ]
  },
  {
   "cell_type": "code",
   "execution_count": null,
   "metadata": {
    "collapsed": true
   },
   "outputs": [],
   "source": [
    "dictdata = make_dict(mydata)"
   ]
  },
  {
   "cell_type": "code",
   "execution_count": null,
   "metadata": {
    "collapsed": true
   },
   "outputs": [],
   "source": [
    "dictdata.keys()"
   ]
  },
  {
   "cell_type": "code",
   "execution_count": null,
   "metadata": {
    "collapsed": true
   },
   "outputs": [],
   "source": [
    "dictdata.values()"
   ]
  },
  {
   "cell_type": "markdown",
   "metadata": {},
   "source": [
    "Notice there is a bad \"\\n\" character in here. Also, notice that some of the lists don't have all the same number of elements.  Volume is missing from a bunch of dates. Let's use \"strip\" to clean the \"\\n\" up and also do a bunch of list comprehensions to clean and change the data to numbers:"
   ]
  },
  {
   "cell_type": "code",
   "execution_count": null,
   "metadata": {
    "collapsed": true
   },
   "outputs": [],
   "source": [
    "def make_dict(data):\n",
    "    mydict = {}\n",
    "    for row in data:\n",
    "        vals = row.split(',')\n",
    "        # this is a list comprehension that applies strip to remove whitespace chars including\n",
    "        # \\n from each value in the vals list, then reassigns the result to vals, overwriting\n",
    "        # the previous messy list.\n",
    "        vals = [val.strip() for val in vals]\n",
    "        # another list comprehension -- now we turn everything into a floating point number,\n",
    "        # except for the first value, which is the date string and except for the empty strings.\n",
    "        # There is an if-test to rule out the '' empty strings!\n",
    "        floats = [float(val) for val in vals[1:] if val != '']\n",
    "        # now we save the floats list to the dictionary using the date, the first item, as key\n",
    "        mydict[vals[0]] = floats\n",
    "    return mydict"
   ]
  },
  {
   "cell_type": "code",
   "execution_count": null,
   "metadata": {},
   "outputs": [],
   "source": [
    "dictdata = make_dict(mydata)"
   ]
  },
  {
   "cell_type": "code",
   "execution_count": null,
   "metadata": {},
   "outputs": [],
   "source": [
    "dictdata.values()"
   ]
  },
  {
   "cell_type": "markdown",
   "metadata": {},
   "source": [
    "Notice the results are a list of lists, but the type is a dict_values.  That means using indexing to access or slice values won't work:"
   ]
  },
  {
   "cell_type": "code",
   "execution_count": null,
   "metadata": {
    "collapsed": true
   },
   "outputs": [],
   "source": [
    "dictdata.values()[0]"
   ]
  },
  {
   "cell_type": "markdown",
   "metadata": {},
   "source": [
    "But we can convert to a list easily and then do it:"
   ]
  },
  {
   "cell_type": "code",
   "execution_count": null,
   "metadata": {
    "collapsed": true
   },
   "outputs": [],
   "source": [
    "list(dictdata.values())[0]"
   ]
  },
  {
   "cell_type": "markdown",
   "metadata": {},
   "source": [
    "How would we find which dates have closing volume and which don't? We can check the length of the lists in each key."
   ]
  },
  {
   "cell_type": "code",
   "execution_count": null,
   "metadata": {},
   "outputs": [],
   "source": [
    "for key, value in dictdata.items():\n",
    "    if len(value) == 5:\n",
    "        print(\"Date {} has volume of {}\".format(key, value[4]))"
   ]
  },
  {
   "cell_type": "markdown",
   "metadata": {},
   "source": [
    "Remember that dictionaries aren't ordered. But our data is inherently ordered by date.  Luckily, there is a special type of dictionary called OrderedDict that will retain order for us.  It lives in the collections library, just like the useful Counter does.  The documentation is here: https://docs.python.org/3/library/collections.html#collections.OrderedDict"
   ]
  },
  {
   "cell_type": "code",
   "execution_count": null,
   "metadata": {
    "collapsed": true
   },
   "outputs": [],
   "source": [
    "from collections import OrderedDict"
   ]
  },
  {
   "cell_type": "code",
   "execution_count": null,
   "metadata": {
    "collapsed": true
   },
   "outputs": [],
   "source": [
    "# We create one using a sorted version of the dict we made, sorting by the first value in items, \n",
    "# which is the date:\n",
    "ordereddata = OrderedDict(sorted(dictdata.items(), key=lambda x: x[0]))"
   ]
  },
  {
   "cell_type": "code",
   "execution_count": null,
   "metadata": {
    "collapsed": true
   },
   "outputs": [],
   "source": [
    "type(ordereddata)"
   ]
  },
  {
   "cell_type": "code",
   "execution_count": null,
   "metadata": {
    "collapsed": true
   },
   "outputs": [],
   "source": [
    "#Now we can verify that the keys are in order:\n",
    "ordereddata.items()"
   ]
  },
  {
   "cell_type": "markdown",
   "metadata": {},
   "source": [
    "That means that the data is too... so we can get all the values for the low and high and make charts if we want.  The basic charting tools in Python are Matplotlib, which is not very easy to use.  We will not do complex things with it.  Seaborn is a tool that improves your charting options a bit, and makes things look better.  As soon as you import it, it improves your chart style, without having to do anything!  You want to use these 3 lines all the time:"
   ]
  },
  {
   "cell_type": "code",
   "execution_count": null,
   "metadata": {
    "collapsed": true
   },
   "outputs": [],
   "source": [
    "import matplotlib.pyplot as plt\n",
    "import seaborn\n",
    "# the following line means \"put my charts inside the notebook, instead of somewhere else.\"\n",
    "%matplotlib inline"
   ]
  },
  {
   "cell_type": "code",
   "execution_count": null,
   "metadata": {
    "collapsed": true
   },
   "outputs": [],
   "source": [
    "highs = [val[1][1] for val in list(ordereddata.items())]"
   ]
  },
  {
   "cell_type": "code",
   "execution_count": null,
   "metadata": {
    "collapsed": true
   },
   "outputs": [],
   "source": [
    "list(ordereddata.items())"
   ]
  },
  {
   "cell_type": "code",
   "execution_count": null,
   "metadata": {
    "collapsed": true
   },
   "outputs": [],
   "source": [
    "highs"
   ]
  },
  {
   "cell_type": "code",
   "execution_count": null,
   "metadata": {
    "collapsed": true
   },
   "outputs": [],
   "source": [
    "plt.plot(highs)"
   ]
  },
  {
   "cell_type": "markdown",
   "metadata": {},
   "source": [
    "**Now open the *Writing and Reading Files in Python* notebook to learn more about how to deal with csv in Python **"
   ]
  },
  {
   "cell_type": "code",
   "execution_count": null,
   "metadata": {
    "collapsed": true
   },
   "outputs": [],
   "source": []
  }
 ],
 "metadata": {
  "anaconda-cloud": {},
  "kernelspec": {
   "display_name": "Python 3",
   "language": "python",
   "name": "python3"
  },
  "language_info": {
   "codemirror_mode": {
    "name": "ipython",
    "version": 3
   },
   "file_extension": ".py",
   "mimetype": "text/x-python",
   "name": "python",
   "nbconvert_exporter": "python",
   "pygments_lexer": "ipython3",
   "version": "3.6.1"
  }
 },
 "nbformat": 4,
 "nbformat_minor": 1
}
