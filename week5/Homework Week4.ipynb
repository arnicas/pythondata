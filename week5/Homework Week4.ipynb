{
 "cells": [
  {
   "cell_type": "markdown",
   "metadata": {},
   "source": [
    "# Homework Week4"
   ]
  },
  {
   "cell_type": "markdown",
   "metadata": {},
   "source": [
    "1. Use the pandas web DataReader to get some data from the same period (Jan 1, 2016 to Dec 31, 2016) for 3 stocks of interest to you. \n",
    "2. Save them into a sqlite database on your own machine. (Tip: If you connect to a database that's not there, it will create it. You can then write to it.)\n",
    "3. Query from the database to get all their Close values from Jun 1 to Aug 31.\n",
    "4. Put all of the Closing Values together into the same dataframe (using merge or join or append or whatever you need).  Make the date the index.\n",
    "5. Plot them all on a line chart.\n",
    "6. How would you make this data long/tidy (if you didn't already?) Unpivot it.  Make it 3 columns - date, stock, value.\n",
    "7. Make a pivot table now with the max, min, and mean of each stock. Rows are stocks."
   ]
  },
  {
   "cell_type": "markdown",
   "metadata": {},
   "source": [
    "Your imports:\n",
    "\n",
    "Insert cell(s) here to do your stuff! "
   ]
  },
  {
   "cell_type": "markdown",
   "metadata": {},
   "source": [
    "Question 1:  Use the pandas web DataReader to get some data from the same period (Jan 1, 2016 to Dec 31, 2016) for 3 stocks of interest to you. \n",
    "\n",
    "Insert your cells here:"
   ]
  },
  {
   "cell_type": "markdown",
   "metadata": {},
   "source": [
    "Question 2: Save them into a sqlite database on your own machine. (Tip: If you connect to a database that's not there, it will create it. You can then write to it.)"
   ]
  },
  {
   "cell_type": "markdown",
   "metadata": {},
   "source": [
    "Question 3: Query from the database to get all their Close values from Jun 1 to Aug 31."
   ]
  },
  {
   "cell_type": "markdown",
   "metadata": {},
   "source": [
    "Question 4: Put all of the Closing Values together into the same dataframe (using merge or join or append or whatever you need).  Make the date the index."
   ]
  },
  {
   "cell_type": "markdown",
   "metadata": {},
   "source": [
    "Question 5: Plot them all on a line chart."
   ]
  },
  {
   "cell_type": "markdown",
   "metadata": {},
   "source": [
    "Question 6: How would you make this data long/tidy (if you didn't already?) Unpivot it."
   ]
  },
  {
   "cell_type": "markdown",
   "metadata": {},
   "source": [
    "Question 7: Make a pivot table now with the max, min, and mean of each stock. Rows are stocks. (It will be very small.)"
   ]
  },
  {
   "cell_type": "code",
   "execution_count": null,
   "metadata": {
    "collapsed": true
   },
   "outputs": [],
   "source": []
  }
 ],
 "metadata": {
  "anaconda-cloud": {},
  "kernelspec": {
   "display_name": "Python [default]",
   "language": "python",
   "name": "python3"
  },
  "language_info": {
   "codemirror_mode": {
    "name": "ipython",
    "version": 3
   },
   "file_extension": ".py",
   "mimetype": "text/x-python",
   "name": "python",
   "nbconvert_exporter": "python",
   "pygments_lexer": "ipython3",
   "version": "3.5.2"
  }
 },
 "nbformat": 4,
 "nbformat_minor": 1
}
